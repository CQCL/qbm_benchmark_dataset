{
 "cells": [
  {
   "cell_type": "code",
   "execution_count": 1,
   "id": "1eb5cd13-bf0a-456a-be13-cad5f0fa939c",
   "metadata": {},
   "outputs": [],
   "source": [
    "import quimb as qu\n",
    "import joblib\n",
    "import numpy as np"
   ]
  },
  {
   "cell_type": "code",
   "execution_count": 2,
   "id": "cd64b2c3-7a73-4c25-8073-07c3c104e568",
   "metadata": {},
   "outputs": [],
   "source": [
    "# define number of sites == number of qubits (each site is a 2-level system)\n",
    "n = 4"
   ]
  },
  {
   "cell_type": "code",
   "execution_count": 3,
   "id": "cc5cda23-514c-42ef-8863-2d2bc00f9eb7",
   "metadata": {},
   "outputs": [],
   "source": [
    "def h_single_site(n, k):\n",
    "    dims = (2,) * n\n",
    "    def gen_term(i):\n",
    "        return qu.ikron(qu.pauli(k), dims, [i])\n",
    "    return sum(map(gen_term, range(0, n)))    \n",
    "\n",
    "def h_two_sites(n, k):\n",
    "    dims = (2,) * n\n",
    "    def gen_term(i):\n",
    "        return qu.ikron(qu.pauli(k), dims, [i, i+1])\n",
    "    return sum(map(gen_term, range(0, n-1)))\n",
    "\n",
    "def h_two_sites_j2(n, k):\n",
    "    dims = (2,) * n\n",
    "    def gen_term(i):\n",
    "        return  qu.ikron(qu.pauli(k), dims, [i, i+2])\n",
    "    return sum(map(gen_term, range(0, n-2)))"
   ]
  },
  {
   "cell_type": "markdown",
   "id": "9828b7d7-ed9a-4ed1-9d34-1dd56b04cb3d",
   "metadata": {},
   "source": [
    "Label 0 (1D transversefield Ising model):\n",
    "- $H = \\sum_{n=1}^{N-1} Z_n Z_{n+1} + 2 \\sum_{n=1}^{N} X_n$\n",
    "\n",
    "Label 1 (1D Heisenberg model):\n",
    "- $H = \\sum_{n=1}^{N-1} (X_n X_{n+1} +  Y_n Y_{n+1} + Z_n Z_{n+1}) + 2 \\sum_{n=1}^{N} Z_n$  \n",
    "\n",
    "Label 3 (J1-J2 model):\n",
    "- $H = \\sum_{n=1}^{N-1} (X_n X_{n+1} +  Y_n Y_{n+1} + Z_n Z_{n+1}) + 3 \\sum_{n=1}^{N-2} (X_n X_{n+2} +  Y_n Y_{n+2} + Z_n Z_{n+2}) $"
   ]
  },
  {
   "cell_type": "code",
   "execution_count": 4,
   "id": "6ceaec82-cc8b-412e-9d2f-28a46968995b",
   "metadata": {},
   "outputs": [],
   "source": [
    "def Hamiltonian_terms(n, label):\n",
    "    h_terms = []\n",
    "    \n",
    "    if label == 0:\n",
    "        h_terms.append(h_two_sites(n, \"Z\"))\n",
    "        h_terms.append(h_single_site(n, \"X\"))\n",
    "    if label == 1:\n",
    "        h_terms.append(h_two_sites(n, \"X\") + h_two_sites(n, \"Y\") + h_two_sites(n, \"Z\"))\n",
    "        h_terms.append(h_single_site(n, \"Z\"))\n",
    "    if label == 2:\n",
    "        pass  # to be implemented\n",
    "    if label == 3:\n",
    "        h_terms.append(h_two_sites(n, \"X\") + h_two_sites(n, \"Y\") + h_two_sites(n, \"Z\"))\n",
    "        h_terms.append(h_two_sites_j2(n, \"X\") + h_two_sites_j2(n, \"Y\") + h_two_sites_j2(n, \"Z\"))\n",
    "    if label == 4:\n",
    "        pass  # to be implemented\n",
    "    if label == 5:\n",
    "        pass  # to be implemented\n",
    "\n",
    "    return h_terms"
   ]
  },
  {
   "cell_type": "markdown",
   "id": "37eb0135-d96c-469f-9a7a-3ccfbd3f81d5",
   "metadata": {},
   "source": [
    "It is defined as a function that returns a list of Hamiltonian terms so that it can be weighted by any coefficient you like.  \n",
    "Note that the Hamiltonian is defined by the Pauli operator, not the spin operator."
   ]
  },
  {
   "cell_type": "markdown",
   "id": "f78af7d5-1e1b-497c-ad65-efef0528f96d",
   "metadata": {},
   "source": [
    "## Sanity Check"
   ]
  },
  {
   "cell_type": "markdown",
   "id": "841e72c2-5748-4777-8668-532da53c6101",
   "metadata": {
    "tags": []
   },
   "source": [
    "### Label 0 (1D transversefield Ising model)"
   ]
  },
  {
   "cell_type": "code",
   "execution_count": 5,
   "id": "99eab812-8e42-4027-b987-204a3713df7f",
   "metadata": {},
   "outputs": [
    {
     "name": "stdout",
     "output_type": "stream",
     "text": [
      "-8.37679863685036\n",
      "[[ 0.16887+0.j]\n",
      " [-0.21149+0.j]\n",
      " [-0.26883+0.j]\n",
      " [ 0.20489+0.j]\n",
      " [-0.26883+0.j]\n",
      " [ 0.35732+0.j]\n",
      " [ 0.26045+0.j]\n",
      " [-0.21149+0.j]\n",
      " [-0.21149+0.j]\n",
      " [ 0.26045+0.j]\n",
      " [ 0.35732+0.j]\n",
      " [-0.26883+0.j]\n",
      " [ 0.20489+0.j]\n",
      " [-0.26883+0.j]\n",
      " [-0.21149+0.j]\n",
      " [ 0.16887+0.j]]\n"
     ]
    }
   ],
   "source": [
    "h_terms = Hamiltonian_terms(n, label=0)\n",
    "h = h_terms[0] + 2*h_terms[1]  # same coefficients as the paper\n",
    "\n",
    "eigen_values, eigen_vectors = qu.eigh(h)\n",
    "print(eigen_values[0])\n",
    "print(eigen_vectors[:, [0]].round(5))"
   ]
  },
  {
   "cell_type": "code",
   "execution_count": 6,
   "id": "170c064a-bde9-400a-b1a3-7a5196060391",
   "metadata": {},
   "outputs": [
    {
     "name": "stdout",
     "output_type": "stream",
     "text": [
      "-8.376798636850356\n",
      "[[-0.03704-0.16476j]\n",
      " [ 0.04639+0.20634j]\n",
      " [ 0.05897+0.26228j]\n",
      " [-0.04494-0.1999j ]\n",
      " [ 0.05897+0.26228j]\n",
      " [-0.07838-0.34862j]\n",
      " [-0.05713-0.2541j ]\n",
      " [ 0.04639+0.20634j]\n",
      " [ 0.04639+0.20634j]\n",
      " [-0.05713-0.2541j ]\n",
      " [-0.07838-0.34862j]\n",
      " [ 0.05897+0.26228j]\n",
      " [-0.04494-0.1999j ]\n",
      " [ 0.05897+0.26228j]\n",
      " [ 0.04639+0.20634j]\n",
      " [-0.03704-0.16476j]]\n"
     ]
    }
   ],
   "source": [
    "ref = joblib.load(f\"../VQE-generated-dataset/data/ground_state/{str(n).zfill(2)}qubit/label0.jb\")\n",
    "print(ref[\"ground_energy\"])\n",
    "print(ref[\"ground_state\"].round(5).reshape(-1, 1))"
   ]
  },
  {
   "cell_type": "code",
   "execution_count": 7,
   "id": "83ba9350-fa1a-472b-8de9-c9d1218d4e76",
   "metadata": {},
   "outputs": [
    {
     "data": {
      "text/plain": [
       "1.0000000000000002"
      ]
     },
     "execution_count": 7,
     "metadata": {},
     "output_type": "execute_result"
    }
   ],
   "source": [
    "qu.fidelity(eigen_vectors[:, 0], ref[\"ground_state\"])"
   ]
  },
  {
   "cell_type": "markdown",
   "id": "ee058997-4de0-41fe-a124-386ad727631c",
   "metadata": {},
   "source": [
    "### Label 1 (1D Heisenberg model)"
   ]
  },
  {
   "cell_type": "code",
   "execution_count": 8,
   "id": "1061e420-b55d-456d-a97d-1893765b47aa",
   "metadata": {},
   "outputs": [
    {
     "name": "stdout",
     "output_type": "stream",
     "text": [
      "-7.828427124746192\n",
      "[[ 0.     +0.j]\n",
      " [ 0.     +0.j]\n",
      " [ 0.     +0.j]\n",
      " [ 0.     +0.j]\n",
      " [ 0.     +0.j]\n",
      " [-0.     +0.j]\n",
      " [ 0.     +0.j]\n",
      " [-0.2706 +0.j]\n",
      " [ 0.     +0.j]\n",
      " [ 0.     +0.j]\n",
      " [-0.     +0.j]\n",
      " [ 0.65328+0.j]\n",
      " [ 0.     +0.j]\n",
      " [-0.65328+0.j]\n",
      " [ 0.2706 +0.j]\n",
      " [ 0.     +0.j]]\n"
     ]
    }
   ],
   "source": [
    "h_terms = Hamiltonian_terms(n, label=1)\n",
    "h = h_terms[0] + 2*h_terms[1]  # same coefficients as the paper\n",
    "\n",
    "eigen_values, eigen_vectors = qu.eigh(h)\n",
    "print(eigen_values[0])\n",
    "print(eigen_vectors[:, [0]].round(5))"
   ]
  },
  {
   "cell_type": "code",
   "execution_count": 9,
   "id": "ada01b8f-43f9-41f9-97d8-b23ca252c74a",
   "metadata": {},
   "outputs": [
    {
     "name": "stdout",
     "output_type": "stream",
     "text": [
      "-7.828427124746191\n",
      "[[ 0.     +0.j]\n",
      " [ 0.     +0.j]\n",
      " [ 0.     +0.j]\n",
      " [-0.     +0.j]\n",
      " [ 0.     +0.j]\n",
      " [-0.     +0.j]\n",
      " [ 0.     +0.j]\n",
      " [-0.2706 +0.j]\n",
      " [ 0.     +0.j]\n",
      " [ 0.     +0.j]\n",
      " [-0.     +0.j]\n",
      " [ 0.65328+0.j]\n",
      " [ 0.     +0.j]\n",
      " [-0.65328+0.j]\n",
      " [ 0.2706 +0.j]\n",
      " [ 0.     +0.j]]\n"
     ]
    }
   ],
   "source": [
    "ref = joblib.load(f\"../VQE-generated-dataset/data/ground_state/{str(n).zfill(2)}qubit/label1.jb\")\n",
    "print(ref[\"ground_energy\"])\n",
    "print(ref[\"ground_state\"].round(5).reshape(-1, 1))"
   ]
  },
  {
   "cell_type": "code",
   "execution_count": 10,
   "id": "9a267615-b6ef-4512-8de5-da9cdb2ae280",
   "metadata": {},
   "outputs": [
    {
     "data": {
      "text/plain": [
       "1.0000000000000004"
      ]
     },
     "execution_count": 10,
     "metadata": {},
     "output_type": "execute_result"
    }
   ],
   "source": [
    "qu.fidelity(eigen_vectors[:, 0], ref[\"ground_state\"])"
   ]
  },
  {
   "cell_type": "markdown",
   "id": "2dafd249-91c5-479d-bf6d-1cc10daef9ca",
   "metadata": {},
   "source": [
    "### Label 3 (J1-J2 model)"
   ]
  },
  {
   "cell_type": "code",
   "execution_count": 11,
   "id": "2845071b-2699-4d57-8868-da9a8e0d4dd8",
   "metadata": {},
   "outputs": [
    {
     "name": "stdout",
     "output_type": "stream",
     "text": [
      "-18.16515138991169\n",
      "[[ 0.     +0.j]\n",
      " [ 0.     +0.j]\n",
      " [-0.     +0.j]\n",
      " [ 0.47034+0.j]\n",
      " [ 0.     +0.j]\n",
      " [ 0.0548 +0.j]\n",
      " [-0.52514+0.j]\n",
      " [-0.     +0.j]\n",
      " [ 0.     +0.j]\n",
      " [-0.52514+0.j]\n",
      " [ 0.0548 +0.j]\n",
      " [-0.     +0.j]\n",
      " [ 0.47034+0.j]\n",
      " [ 0.     +0.j]\n",
      " [ 0.     +0.j]\n",
      " [ 0.     +0.j]]\n"
     ]
    }
   ],
   "source": [
    "h_terms = Hamiltonian_terms(n, label=3)\n",
    "h = h_terms[0] + 3*h_terms[1]  # same coefficients as the paper\n",
    "\n",
    "eigen_values, eigen_vectors = qu.eigh(h)\n",
    "print(eigen_values[0])\n",
    "print(eigen_vectors[:, [0]].round(5))"
   ]
  },
  {
   "cell_type": "code",
   "execution_count": 12,
   "id": "ae279c8f-1416-4bc6-86be-9fd1b0dc4efd",
   "metadata": {},
   "outputs": [
    {
     "name": "stdout",
     "output_type": "stream",
     "text": [
      "-18.165151389911674\n",
      "[[ 0.     +0.j]\n",
      " [ 0.     +0.j]\n",
      " [ 0.     +0.j]\n",
      " [ 0.47034+0.j]\n",
      " [-0.     +0.j]\n",
      " [ 0.0548 +0.j]\n",
      " [-0.52514+0.j]\n",
      " [ 0.     +0.j]\n",
      " [-0.     +0.j]\n",
      " [-0.52514+0.j]\n",
      " [ 0.0548 +0.j]\n",
      " [-0.     +0.j]\n",
      " [ 0.47034+0.j]\n",
      " [-0.     +0.j]\n",
      " [-0.     +0.j]\n",
      " [ 0.     +0.j]]\n"
     ]
    }
   ],
   "source": [
    "ref = joblib.load(f\"../VQE-generated-dataset/data/ground_state/{str(n).zfill(2)}qubit/label3.jb\")\n",
    "print(ref[\"ground_energy\"])\n",
    "print(ref[\"ground_state\"].round(5).reshape(-1, 1))"
   ]
  },
  {
   "cell_type": "code",
   "execution_count": 13,
   "id": "bf0c5637-fbe0-4eb3-9818-d03e37a2707b",
   "metadata": {},
   "outputs": [
    {
     "data": {
      "text/plain": [
       "1.0"
      ]
     },
     "execution_count": 13,
     "metadata": {},
     "output_type": "execute_result"
    }
   ],
   "source": [
    "qu.fidelity(eigen_vectors[:, 0], ref[\"ground_state\"])"
   ]
  }
 ],
 "metadata": {
  "kernelspec": {
   "display_name": "qc",
   "language": "python",
   "name": "qc"
  },
  "language_info": {
   "codemirror_mode": {
    "name": "ipython",
    "version": 3
   },
   "file_extension": ".py",
   "mimetype": "text/x-python",
   "name": "python",
   "nbconvert_exporter": "python",
   "pygments_lexer": "ipython3",
   "version": "3.9.10"
  }
 },
 "nbformat": 4,
 "nbformat_minor": 5
}
