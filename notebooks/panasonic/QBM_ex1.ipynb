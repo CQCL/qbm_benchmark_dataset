{
 "cells": [
  {
   "cell_type": "markdown",
   "id": "06f94f04-9bcf-432a-a2f2-98965095fed9",
   "metadata": {},
   "source": [
    "# VQE-generated Quantum Circuit Dataset for Machine Learning (A. Nakayama, et al., 2023)"
   ]
  },
  {
   "cell_type": "markdown",
   "id": "d143012f-10fe-4128-b97a-2f45203bb562",
   "metadata": {},
   "source": [
    "このノートブックは上記論文で提案されている量子回路データセットの1つをQBMで再現するものである。  \n",
    "This notebook reproduces one of the quantum circuit data sets proposed in the above paper by QBM."
   ]
  },
  {
   "cell_type": "markdown",
   "id": "6cd0a209-3022-4c87-b3d1-87203d3ccd8c",
   "metadata": {},
   "source": [
    "---"
   ]
  },
  {
   "cell_type": "markdown",
   "id": "97afe912-b86b-4e87-ad9a-09e6df324769",
   "metadata": {},
   "source": [
    "## Setup"
   ]
  },
  {
   "cell_type": "code",
   "execution_count": 1,
   "id": "1eb5cd13-bf0a-456a-be13-cad5f0fa939c",
   "metadata": {},
   "outputs": [],
   "source": [
    "import quimb as qu\n",
    "import matplotlib.pyplot as plt\n",
    "import joblib\n",
    "import numpy as np\n",
    "from tqdm import tqdm\n",
    "from quimb.tensor import circuit\n",
    "\n",
    "from qiskit import Aer\n",
    "from qiskit.circuit import QuantumCircuit"
   ]
  },
  {
   "cell_type": "code",
   "execution_count": 2,
   "id": "cd64b2c3-7a73-4c25-8073-07c3c104e568",
   "metadata": {},
   "outputs": [],
   "source": [
    "# define number of sites == number of qubits (each site is a 2-level system)\n",
    "n = 8"
   ]
  },
  {
   "cell_type": "markdown",
   "id": "841e72c2-5748-4777-8668-532da53c6101",
   "metadata": {},
   "source": [
    "## Target state"
   ]
  },
  {
   "cell_type": "markdown",
   "id": "9828b7d7-ed9a-4ed1-9d34-1dd56b04cb3d",
   "metadata": {},
   "source": [
    "ここでは、論文中のlabel 0のハミルトニアンを対象とする。  \n",
    "Here, we will focus on the Hamiltonian of label 0 in the paper.  \n",
    "$\\sum_{n=1}^{N-1} Z_n Z_{n+1} + 2 \\sum_{n=1}^{N} X_n$ (1D transverse-field Ising model)"
   ]
  },
  {
   "cell_type": "code",
   "execution_count": 3,
   "id": "170c064a-bde9-400a-b1a3-7a5196060391",
   "metadata": {},
   "outputs": [
    {
     "data": {
      "text/plain": [
       "{'ground_energy': -16.88514149320815,\n",
       " 'ground_state': array([-0.02532165+0.j,  0.03165327+0.j,  0.0405503 +0.j, -0.0308588 +0.j,\n",
       "         0.03935861+0.j, -0.0522599 +0.j, -0.03831016+0.j,  0.03106473+0.j,\n",
       "         0.03964066+0.j, -0.04871257+0.j, -0.06736265+0.j,  0.0505935 +0.j,\n",
       "        -0.03739069+0.j,  0.04895714+0.j,  0.03889204+0.j, -0.03098128+0.j,\n",
       "         0.03964066+0.j, -0.04983024+0.j, -0.06239904+0.j,  0.04771403+0.j,\n",
       "        -0.06544119+0.j,  0.08721343+0.j,  0.06280657+0.j, -0.05117069+0.j,\n",
       "        -0.03767198+0.j,  0.04652767+0.j,  0.06313219+0.j, -0.04760395+0.j,\n",
       "         0.03797767+0.j, -0.04997331+0.j, -0.03876997+0.j,  0.03106473+0.j,\n",
       "         0.03935861+0.j, -0.04909998+0.j, -0.06338813+0.j,  0.04815476+0.j,\n",
       "        -0.06011404+0.j,  0.07969651+0.j,  0.05881827+0.j, -0.04760395+0.j,\n",
       "        -0.06544119+0.j,  0.08029561+0.j,  0.11162211+0.j, -0.0837344 +0.j,\n",
       "         0.06085663+0.j, -0.0795603 +0.j, -0.06362204+0.j,  0.0505935 +0.j,\n",
       "        -0.03739069+0.j,  0.04691597+0.j,  0.0591609 +0.j, -0.04516501+0.j,\n",
       "         0.06085663+0.j, -0.08099994+0.j, -0.05865843+0.j,  0.04771403+0.j,\n",
       "         0.03797767+0.j, -0.04681339+0.j, -0.06396372+0.j,  0.04815476+0.j,\n",
       "        -0.03757144+0.j,  0.04934945+0.j,  0.03859458+0.j, -0.0308588 +0.j,\n",
       "         0.0405503 +0.j, -0.05072858+0.j, -0.06480519+0.j,  0.04934945+0.j,\n",
       "        -0.06338813+0.j,  0.08421464+0.j,  0.0615851 +0.j, -0.04997331+0.j,\n",
       "        -0.06239904+0.j,  0.07672913+0.j,  0.10587505+0.j, -0.0795603 +0.j,\n",
       "         0.0591609 +0.j, -0.07751071+0.j, -0.06141391+0.j,  0.04895714+0.j,\n",
       "        -0.06736265+0.j,  0.08472674+0.j,  0.10587505+0.j, -0.08099994+0.j,\n",
       "         0.11162211+0.j, -0.1488201 +0.j, -0.10699006+0.j,  0.08721343+0.j,\n",
       "         0.06313219+0.j, -0.07802167+0.j, -0.10563887+0.j,  0.07969651+0.j,\n",
       "        -0.06396372+0.j,  0.08421464+0.j,  0.0651795 +0.j, -0.0522599 +0.j,\n",
       "        -0.03831016+0.j,  0.04782585+0.j,  0.0615851 +0.j, -0.04681339+0.j,\n",
       "         0.05881827+0.j, -0.07802167+0.j, -0.05744983+0.j,  0.04652767+0.j,\n",
       "         0.06280657+0.j, -0.07710606+0.j, -0.10699006+0.j,  0.08029561+0.j,\n",
       "        -0.05865843+0.j,  0.07672913+0.j,  0.06121865+0.j, -0.04871257+0.j,\n",
       "         0.03889204+0.j, -0.0488362 +0.j, -0.06141391+0.j,  0.04691597+0.j,\n",
       "        -0.06362204+0.j,  0.08472674+0.j,  0.06121865+0.j, -0.04983024+0.j,\n",
       "        -0.03876997+0.j,  0.04782585+0.j,  0.0651795 +0.j, -0.04909998+0.j,\n",
       "         0.03859458+0.j, -0.05072858+0.j, -0.03955637+0.j,  0.03165327+0.j,\n",
       "         0.03165327+0.j, -0.03955637+0.j, -0.05072858+0.j,  0.03859458+0.j,\n",
       "        -0.04909998+0.j,  0.0651795 +0.j,  0.04782585+0.j, -0.03876997+0.j,\n",
       "        -0.04983024+0.j,  0.06121865+0.j,  0.08472674+0.j, -0.06362204+0.j,\n",
       "         0.04691597+0.j, -0.06141391+0.j, -0.0488362 +0.j,  0.03889204+0.j,\n",
       "        -0.04871257+0.j,  0.06121865+0.j,  0.07672913+0.j, -0.05865843+0.j,\n",
       "         0.08029561+0.j, -0.10699006+0.j, -0.07710606+0.j,  0.06280657+0.j,\n",
       "         0.04652767+0.j, -0.05744983+0.j, -0.07802167+0.j,  0.05881827+0.j,\n",
       "        -0.04681339+0.j,  0.0615851 +0.j,  0.04782585+0.j, -0.03831016+0.j,\n",
       "        -0.0522599 +0.j,  0.0651795 +0.j,  0.08421464+0.j, -0.06396372+0.j,\n",
       "         0.07969651+0.j, -0.10563887+0.j, -0.07802167+0.j,  0.06313219+0.j,\n",
       "         0.08721343+0.j, -0.10699006+0.j, -0.1488201 +0.j,  0.11162211+0.j,\n",
       "        -0.08099994+0.j,  0.10587505+0.j,  0.08472674+0.j, -0.06736265+0.j,\n",
       "         0.04895714+0.j, -0.06141391+0.j, -0.07751071+0.j,  0.0591609 +0.j,\n",
       "        -0.0795603 +0.j,  0.10587505+0.j,  0.07672913+0.j, -0.06239904+0.j,\n",
       "        -0.04997331+0.j,  0.0615851 +0.j,  0.08421464+0.j, -0.06338813+0.j,\n",
       "         0.04934945+0.j, -0.06480519+0.j, -0.05072858+0.j,  0.0405503 +0.j,\n",
       "        -0.0308588 +0.j,  0.03859458+0.j,  0.04934945+0.j, -0.03757144+0.j,\n",
       "         0.04815476+0.j, -0.06396372+0.j, -0.04681339+0.j,  0.03797767+0.j,\n",
       "         0.04771403+0.j, -0.05865843+0.j, -0.08099994+0.j,  0.06085663+0.j,\n",
       "        -0.04516501+0.j,  0.0591609 +0.j,  0.04691597+0.j, -0.03739069+0.j,\n",
       "         0.0505935 +0.j, -0.06362204+0.j, -0.0795603 +0.j,  0.06085663+0.j,\n",
       "        -0.0837344 +0.j,  0.11162211+0.j,  0.08029561+0.j, -0.06544119+0.j,\n",
       "        -0.04760395+0.j,  0.05881827+0.j,  0.07969651+0.j, -0.06011404+0.j,\n",
       "         0.04815476+0.j, -0.06338813+0.j, -0.04909998+0.j,  0.03935861+0.j,\n",
       "         0.03106473+0.j, -0.03876997+0.j, -0.04997331+0.j,  0.03797767+0.j,\n",
       "        -0.04760395+0.j,  0.06313219+0.j,  0.04652767+0.j, -0.03767198+0.j,\n",
       "        -0.05117069+0.j,  0.06280657+0.j,  0.08721343+0.j, -0.06544119+0.j,\n",
       "         0.04771403+0.j, -0.06239904+0.j, -0.04983024+0.j,  0.03964066+0.j,\n",
       "        -0.03098128+0.j,  0.03889204+0.j,  0.04895714+0.j, -0.03739069+0.j,\n",
       "         0.0505935 +0.j, -0.06736265+0.j, -0.04871257+0.j,  0.03964066+0.j,\n",
       "         0.03106473+0.j, -0.03831016+0.j, -0.0522599 +0.j,  0.03935861+0.j,\n",
       "        -0.0308588 +0.j,  0.0405503 +0.j,  0.03165327+0.j, -0.02532165+0.j])}"
      ]
     },
     "execution_count": 3,
     "metadata": {},
     "output_type": "execute_result"
    }
   ],
   "source": [
    "joblib.load(f\"../VQE-generated-dataset/data/ground_state/{str(n).zfill(2)}qubit/label0.jb\")"
   ]
  },
  {
   "cell_type": "code",
   "execution_count": 4,
   "id": "0cfe144a-8106-4c0b-bc67-5a8bafb92702",
   "metadata": {},
   "outputs": [
    {
     "data": {
      "text/plain": [
       "[[-0.025322+0.j]\n",
       " [ 0.031653+0.j]\n",
       " [ 0.04055 +0.j]\n",
       " [-0.030859+0.j]\n",
       " [ 0.039359+0.j]\n",
       " [-0.05226 +0.j]\n",
       " [-0.03831 +0.j]\n",
       " [ 0.031065+0.j]\n",
       " [ 0.039641+0.j]\n",
       " [-0.048713+0.j]\n",
       " [-0.067363+0.j]\n",
       " [ 0.050594+0.j]\n",
       " [-0.037391+0.j]\n",
       " [ 0.048957+0.j]\n",
       " [ 0.038892+0.j]\n",
       " [-0.030981+0.j]\n",
       " [ 0.039641+0.j]\n",
       " [-0.04983 +0.j]\n",
       " [-0.062399+0.j]\n",
       " [ 0.047714+0.j]\n",
       " [-0.065441+0.j]\n",
       " [ 0.087213+0.j]\n",
       " [ 0.062807+0.j]\n",
       " [-0.051171+0.j]\n",
       " [-0.037672+0.j]\n",
       " [ 0.046528+0.j]\n",
       " [ 0.063132+0.j]\n",
       " [-0.047604+0.j]\n",
       " [ 0.037978+0.j]\n",
       " [-0.049973+0.j]\n",
       " [-0.03877 +0.j]\n",
       " [ 0.031065+0.j]\n",
       " [ 0.039359+0.j]\n",
       " [-0.0491  +0.j]\n",
       " [-0.063388+0.j]\n",
       " [ 0.048155+0.j]\n",
       " [-0.060114+0.j]\n",
       " [ 0.079697+0.j]\n",
       " [ 0.058818+0.j]\n",
       " [-0.047604+0.j]\n",
       " [-0.065441+0.j]\n",
       " [ 0.080296+0.j]\n",
       " [ 0.111622+0.j]\n",
       " [-0.083734+0.j]\n",
       " [ 0.060857+0.j]\n",
       " [-0.07956 +0.j]\n",
       " [-0.063622+0.j]\n",
       " [ 0.050594+0.j]\n",
       " [-0.037391+0.j]\n",
       " [ 0.046916+0.j]\n",
       " [ 0.059161+0.j]\n",
       " [-0.045165+0.j]\n",
       " [ 0.060857+0.j]\n",
       " [-0.081   +0.j]\n",
       " [-0.058658+0.j]\n",
       " [ 0.047714+0.j]\n",
       " [ 0.037978+0.j]\n",
       " [-0.046813+0.j]\n",
       " [-0.063964+0.j]\n",
       " [ 0.048155+0.j]\n",
       " [-0.037571+0.j]\n",
       " [ 0.049349+0.j]\n",
       " [ 0.038595+0.j]\n",
       " [-0.030859+0.j]\n",
       " [ 0.04055 +0.j]\n",
       " [-0.050729+0.j]\n",
       " [-0.064805+0.j]\n",
       " [ 0.049349+0.j]\n",
       " [-0.063388+0.j]\n",
       " [ 0.084215+0.j]\n",
       " [ 0.061585+0.j]\n",
       " [-0.049973+0.j]\n",
       " [-0.062399+0.j]\n",
       " [ 0.076729+0.j]\n",
       " [ 0.105875+0.j]\n",
       " [-0.07956 +0.j]\n",
       " [ 0.059161+0.j]\n",
       " [-0.077511+0.j]\n",
       " [-0.061414+0.j]\n",
       " [ 0.048957+0.j]\n",
       " [-0.067363+0.j]\n",
       " [ 0.084727+0.j]\n",
       " [ 0.105875+0.j]\n",
       " [-0.081   +0.j]\n",
       " [ 0.111622+0.j]\n",
       " [-0.14882 +0.j]\n",
       " [-0.10699 +0.j]\n",
       " [ 0.087213+0.j]\n",
       " [ 0.063132+0.j]\n",
       " [-0.078022+0.j]\n",
       " [-0.105639+0.j]\n",
       " [ 0.079697+0.j]\n",
       " [-0.063964+0.j]\n",
       " [ 0.084215+0.j]\n",
       " [ 0.065179+0.j]\n",
       " [-0.05226 +0.j]\n",
       " [-0.03831 +0.j]\n",
       " [ 0.047826+0.j]\n",
       " [ 0.061585+0.j]\n",
       " [-0.046813+0.j]\n",
       " [ 0.058818+0.j]\n",
       " [-0.078022+0.j]\n",
       " [-0.05745 +0.j]\n",
       " [ 0.046528+0.j]\n",
       " [ 0.062807+0.j]\n",
       " [-0.077106+0.j]\n",
       " [-0.10699 +0.j]\n",
       " [ 0.080296+0.j]\n",
       " [-0.058658+0.j]\n",
       " [ 0.076729+0.j]\n",
       " [ 0.061219+0.j]\n",
       " [-0.048713+0.j]\n",
       " [ 0.038892+0.j]\n",
       " [-0.048836+0.j]\n",
       " [-0.061414+0.j]\n",
       " [ 0.046916+0.j]\n",
       " [-0.063622+0.j]\n",
       " [ 0.084727+0.j]\n",
       " [ 0.061219+0.j]\n",
       " [-0.04983 +0.j]\n",
       " [-0.03877 +0.j]\n",
       " [ 0.047826+0.j]\n",
       " [ 0.065179+0.j]\n",
       " [-0.0491  +0.j]\n",
       " [ 0.038595+0.j]\n",
       " [-0.050729+0.j]\n",
       " [-0.039556+0.j]\n",
       " [ 0.031653+0.j]\n",
       " [ 0.031653+0.j]\n",
       " [-0.039556+0.j]\n",
       " [-0.050729+0.j]\n",
       " [ 0.038595+0.j]\n",
       " [-0.0491  +0.j]\n",
       " [ 0.065179+0.j]\n",
       " [ 0.047826+0.j]\n",
       " [-0.03877 +0.j]\n",
       " [-0.04983 +0.j]\n",
       " [ 0.061219+0.j]\n",
       " [ 0.084727+0.j]\n",
       " [-0.063622+0.j]\n",
       " [ 0.046916+0.j]\n",
       " [-0.061414+0.j]\n",
       " [-0.048836+0.j]\n",
       " [ 0.038892+0.j]\n",
       " [-0.048713+0.j]\n",
       " [ 0.061219+0.j]\n",
       " [ 0.076729+0.j]\n",
       " [-0.058658+0.j]\n",
       " [ 0.080296+0.j]\n",
       " [-0.10699 +0.j]\n",
       " [-0.077106+0.j]\n",
       " [ 0.062807+0.j]\n",
       " [ 0.046528+0.j]\n",
       " [-0.05745 +0.j]\n",
       " [-0.078022+0.j]\n",
       " [ 0.058818+0.j]\n",
       " [-0.046813+0.j]\n",
       " [ 0.061585+0.j]\n",
       " [ 0.047826+0.j]\n",
       " [-0.03831 +0.j]\n",
       " [-0.05226 +0.j]\n",
       " [ 0.065179+0.j]\n",
       " [ 0.084215+0.j]\n",
       " [-0.063964+0.j]\n",
       " [ 0.079697+0.j]\n",
       " [-0.105639+0.j]\n",
       " [-0.078022+0.j]\n",
       " [ 0.063132+0.j]\n",
       " [ 0.087213+0.j]\n",
       " [-0.10699 +0.j]\n",
       " [-0.14882 +0.j]\n",
       " [ 0.111622+0.j]\n",
       " [-0.081   +0.j]\n",
       " [ 0.105875+0.j]\n",
       " [ 0.084727+0.j]\n",
       " [-0.067363+0.j]\n",
       " [ 0.048957+0.j]\n",
       " [-0.061414+0.j]\n",
       " [-0.077511+0.j]\n",
       " [ 0.059161+0.j]\n",
       " [-0.07956 +0.j]\n",
       " [ 0.105875+0.j]\n",
       " [ 0.076729+0.j]\n",
       " [-0.062399+0.j]\n",
       " [-0.049973+0.j]\n",
       " [ 0.061585+0.j]\n",
       " [ 0.084215+0.j]\n",
       " [-0.063388+0.j]\n",
       " [ 0.049349+0.j]\n",
       " [-0.064805+0.j]\n",
       " [-0.050729+0.j]\n",
       " [ 0.04055 +0.j]\n",
       " [-0.030859+0.j]\n",
       " [ 0.038595+0.j]\n",
       " [ 0.049349+0.j]\n",
       " [-0.037571+0.j]\n",
       " [ 0.048155+0.j]\n",
       " [-0.063964+0.j]\n",
       " [-0.046813+0.j]\n",
       " [ 0.037978+0.j]\n",
       " [ 0.047714+0.j]\n",
       " [-0.058658+0.j]\n",
       " [-0.081   +0.j]\n",
       " [ 0.060857+0.j]\n",
       " [-0.045165+0.j]\n",
       " [ 0.059161+0.j]\n",
       " [ 0.046916+0.j]\n",
       " [-0.037391+0.j]\n",
       " [ 0.050594+0.j]\n",
       " [-0.063622+0.j]\n",
       " [-0.07956 +0.j]\n",
       " [ 0.060857+0.j]\n",
       " [-0.083734+0.j]\n",
       " [ 0.111622+0.j]\n",
       " [ 0.080296+0.j]\n",
       " [-0.065441+0.j]\n",
       " [-0.047604+0.j]\n",
       " [ 0.058818+0.j]\n",
       " [ 0.079697+0.j]\n",
       " [-0.060114+0.j]\n",
       " [ 0.048155+0.j]\n",
       " [-0.063388+0.j]\n",
       " [-0.0491  +0.j]\n",
       " [ 0.039359+0.j]\n",
       " [ 0.031065+0.j]\n",
       " [-0.03877 +0.j]\n",
       " [-0.049973+0.j]\n",
       " [ 0.037978+0.j]\n",
       " [-0.047604+0.j]\n",
       " [ 0.063132+0.j]\n",
       " [ 0.046528+0.j]\n",
       " [-0.037672+0.j]\n",
       " [-0.051171+0.j]\n",
       " [ 0.062807+0.j]\n",
       " [ 0.087213+0.j]\n",
       " [-0.065441+0.j]\n",
       " [ 0.047714+0.j]\n",
       " [-0.062399+0.j]\n",
       " [-0.04983 +0.j]\n",
       " [ 0.039641+0.j]\n",
       " [-0.030981+0.j]\n",
       " [ 0.038892+0.j]\n",
       " [ 0.048957+0.j]\n",
       " [-0.037391+0.j]\n",
       " [ 0.050594+0.j]\n",
       " [-0.067363+0.j]\n",
       " [-0.048713+0.j]\n",
       " [ 0.039641+0.j]\n",
       " [ 0.031065+0.j]\n",
       " [-0.03831 +0.j]\n",
       " [-0.05226 +0.j]\n",
       " [ 0.039359+0.j]\n",
       " [-0.030859+0.j]\n",
       " [ 0.04055 +0.j]\n",
       " [ 0.031653+0.j]\n",
       " [-0.025322+0.j]]"
      ]
     },
     "execution_count": 4,
     "metadata": {},
     "output_type": "execute_result"
    }
   ],
   "source": [
    "ground_state = qu.qarray(joblib.load(f\"../VQE-generated-dataset/data/ground_state/{str(n).zfill(2)}qubit/label0.jb\")[\"ground_state\"].reshape(-1, 1))\n",
    "ground_state"
   ]
  },
  {
   "cell_type": "markdown",
   "id": "cd1d6792-7bd3-48e9-a6cc-1b57bbb77f66",
   "metadata": {},
   "source": [
    "上記のハミルトニアンの基底状態を別途計算し、一致することを確認する。  \n",
    "Calculate the ground state of the Hamiltonian above separately and check for agreement."
   ]
  },
  {
   "cell_type": "code",
   "execution_count": 5,
   "id": "af3624b1-343c-410c-a14d-23e4e7a5b7be",
   "metadata": {},
   "outputs": [],
   "source": [
    "target_jz = 4  # not 1, because this is the coefficients of spin operators, not pauli operators\n",
    "target_bx = -4  # not 2, because this is the negative coefficients of spin operators, not pauli operators"
   ]
  },
  {
   "cell_type": "code",
   "execution_count": 6,
   "id": "0b5fd038-58b1-49e4-bc48-19065dc7e988",
   "metadata": {},
   "outputs": [],
   "source": [
    "# create the Hamiltonian of the TFIM\n",
    "target_tfim = qu.ham_ising(n, target_jz, target_bx)"
   ]
  },
  {
   "cell_type": "code",
   "execution_count": 7,
   "id": "79ded4c5-d107-4794-95f3-a83e320a46bf",
   "metadata": {},
   "outputs": [
    {
     "name": "stdout",
     "output_type": "stream",
     "text": [
      "-16.88514149320817\n",
      "[[-0.025322]\n",
      " [ 0.031653]\n",
      " [ 0.04055 ]\n",
      " [-0.030859]\n",
      " [ 0.039359]\n",
      " [-0.05226 ]\n",
      " [-0.03831 ]\n",
      " [ 0.031065]\n",
      " [ 0.039641]\n",
      " [-0.048713]\n",
      " [-0.067363]\n",
      " [ 0.050594]\n",
      " [-0.037391]\n",
      " [ 0.048957]\n",
      " [ 0.038892]\n",
      " [-0.030981]\n",
      " [ 0.039641]\n",
      " [-0.04983 ]\n",
      " [-0.062399]\n",
      " [ 0.047714]\n",
      " [-0.065441]\n",
      " [ 0.087213]\n",
      " [ 0.062807]\n",
      " [-0.051171]\n",
      " [-0.037672]\n",
      " [ 0.046528]\n",
      " [ 0.063132]\n",
      " [-0.047604]\n",
      " [ 0.037978]\n",
      " [-0.049973]\n",
      " [-0.03877 ]\n",
      " [ 0.031065]\n",
      " [ 0.039359]\n",
      " [-0.0491  ]\n",
      " [-0.063388]\n",
      " [ 0.048155]\n",
      " [-0.060114]\n",
      " [ 0.079697]\n",
      " [ 0.058818]\n",
      " [-0.047604]\n",
      " [-0.065441]\n",
      " [ 0.080296]\n",
      " [ 0.111622]\n",
      " [-0.083734]\n",
      " [ 0.060857]\n",
      " [-0.07956 ]\n",
      " [-0.063622]\n",
      " [ 0.050594]\n",
      " [-0.037391]\n",
      " [ 0.046916]\n",
      " [ 0.059161]\n",
      " [-0.045165]\n",
      " [ 0.060857]\n",
      " [-0.081   ]\n",
      " [-0.058658]\n",
      " [ 0.047714]\n",
      " [ 0.037978]\n",
      " [-0.046813]\n",
      " [-0.063964]\n",
      " [ 0.048155]\n",
      " [-0.037571]\n",
      " [ 0.049349]\n",
      " [ 0.038595]\n",
      " [-0.030859]\n",
      " [ 0.04055 ]\n",
      " [-0.050729]\n",
      " [-0.064805]\n",
      " [ 0.049349]\n",
      " [-0.063388]\n",
      " [ 0.084215]\n",
      " [ 0.061585]\n",
      " [-0.049973]\n",
      " [-0.062399]\n",
      " [ 0.076729]\n",
      " [ 0.105875]\n",
      " [-0.07956 ]\n",
      " [ 0.059161]\n",
      " [-0.077511]\n",
      " [-0.061414]\n",
      " [ 0.048957]\n",
      " [-0.067363]\n",
      " [ 0.084727]\n",
      " [ 0.105875]\n",
      " [-0.081   ]\n",
      " [ 0.111622]\n",
      " [-0.14882 ]\n",
      " [-0.10699 ]\n",
      " [ 0.087213]\n",
      " [ 0.063132]\n",
      " [-0.078022]\n",
      " [-0.105639]\n",
      " [ 0.079697]\n",
      " [-0.063964]\n",
      " [ 0.084215]\n",
      " [ 0.065179]\n",
      " [-0.05226 ]\n",
      " [-0.03831 ]\n",
      " [ 0.047826]\n",
      " [ 0.061585]\n",
      " [-0.046813]\n",
      " [ 0.058818]\n",
      " [-0.078022]\n",
      " [-0.05745 ]\n",
      " [ 0.046528]\n",
      " [ 0.062807]\n",
      " [-0.077106]\n",
      " [-0.10699 ]\n",
      " [ 0.080296]\n",
      " [-0.058658]\n",
      " [ 0.076729]\n",
      " [ 0.061219]\n",
      " [-0.048713]\n",
      " [ 0.038892]\n",
      " [-0.048836]\n",
      " [-0.061414]\n",
      " [ 0.046916]\n",
      " [-0.063622]\n",
      " [ 0.084727]\n",
      " [ 0.061219]\n",
      " [-0.04983 ]\n",
      " [-0.03877 ]\n",
      " [ 0.047826]\n",
      " [ 0.065179]\n",
      " [-0.0491  ]\n",
      " [ 0.038595]\n",
      " [-0.050729]\n",
      " [-0.039556]\n",
      " [ 0.031653]\n",
      " [ 0.031653]\n",
      " [-0.039556]\n",
      " [-0.050729]\n",
      " [ 0.038595]\n",
      " [-0.0491  ]\n",
      " [ 0.065179]\n",
      " [ 0.047826]\n",
      " [-0.03877 ]\n",
      " [-0.04983 ]\n",
      " [ 0.061219]\n",
      " [ 0.084727]\n",
      " [-0.063622]\n",
      " [ 0.046916]\n",
      " [-0.061414]\n",
      " [-0.048836]\n",
      " [ 0.038892]\n",
      " [-0.048713]\n",
      " [ 0.061219]\n",
      " [ 0.076729]\n",
      " [-0.058658]\n",
      " [ 0.080296]\n",
      " [-0.10699 ]\n",
      " [-0.077106]\n",
      " [ 0.062807]\n",
      " [ 0.046528]\n",
      " [-0.05745 ]\n",
      " [-0.078022]\n",
      " [ 0.058818]\n",
      " [-0.046813]\n",
      " [ 0.061585]\n",
      " [ 0.047826]\n",
      " [-0.03831 ]\n",
      " [-0.05226 ]\n",
      " [ 0.065179]\n",
      " [ 0.084215]\n",
      " [-0.063964]\n",
      " [ 0.079697]\n",
      " [-0.105639]\n",
      " [-0.078022]\n",
      " [ 0.063132]\n",
      " [ 0.087213]\n",
      " [-0.10699 ]\n",
      " [-0.14882 ]\n",
      " [ 0.111622]\n",
      " [-0.081   ]\n",
      " [ 0.105875]\n",
      " [ 0.084727]\n",
      " [-0.067363]\n",
      " [ 0.048957]\n",
      " [-0.061414]\n",
      " [-0.077511]\n",
      " [ 0.059161]\n",
      " [-0.07956 ]\n",
      " [ 0.105875]\n",
      " [ 0.076729]\n",
      " [-0.062399]\n",
      " [-0.049973]\n",
      " [ 0.061585]\n",
      " [ 0.084215]\n",
      " [-0.063388]\n",
      " [ 0.049349]\n",
      " [-0.064805]\n",
      " [-0.050729]\n",
      " [ 0.04055 ]\n",
      " [-0.030859]\n",
      " [ 0.038595]\n",
      " [ 0.049349]\n",
      " [-0.037571]\n",
      " [ 0.048155]\n",
      " [-0.063964]\n",
      " [-0.046813]\n",
      " [ 0.037978]\n",
      " [ 0.047714]\n",
      " [-0.058658]\n",
      " [-0.081   ]\n",
      " [ 0.060857]\n",
      " [-0.045165]\n",
      " [ 0.059161]\n",
      " [ 0.046916]\n",
      " [-0.037391]\n",
      " [ 0.050594]\n",
      " [-0.063622]\n",
      " [-0.07956 ]\n",
      " [ 0.060857]\n",
      " [-0.083734]\n",
      " [ 0.111622]\n",
      " [ 0.080296]\n",
      " [-0.065441]\n",
      " [-0.047604]\n",
      " [ 0.058818]\n",
      " [ 0.079697]\n",
      " [-0.060114]\n",
      " [ 0.048155]\n",
      " [-0.063388]\n",
      " [-0.0491  ]\n",
      " [ 0.039359]\n",
      " [ 0.031065]\n",
      " [-0.03877 ]\n",
      " [-0.049973]\n",
      " [ 0.037978]\n",
      " [-0.047604]\n",
      " [ 0.063132]\n",
      " [ 0.046528]\n",
      " [-0.037672]\n",
      " [-0.051171]\n",
      " [ 0.062807]\n",
      " [ 0.087213]\n",
      " [-0.065441]\n",
      " [ 0.047714]\n",
      " [-0.062399]\n",
      " [-0.04983 ]\n",
      " [ 0.039641]\n",
      " [-0.030981]\n",
      " [ 0.038892]\n",
      " [ 0.048957]\n",
      " [-0.037391]\n",
      " [ 0.050594]\n",
      " [-0.067363]\n",
      " [-0.048713]\n",
      " [ 0.039641]\n",
      " [ 0.031065]\n",
      " [-0.03831 ]\n",
      " [-0.05226 ]\n",
      " [ 0.039359]\n",
      " [-0.030859]\n",
      " [ 0.04055 ]\n",
      " [ 0.031653]\n",
      " [-0.025322]]\n"
     ]
    }
   ],
   "source": [
    "# the first eigenvector\n",
    "eigen_values, eigen_vectors = qu.eigh(target_tfim)\n",
    "print(eigen_values[0])\n",
    "print(eigen_vectors[:, [0]])"
   ]
  },
  {
   "cell_type": "markdown",
   "id": "dbe9a485-687f-4502-b879-9e58ae0bef06",
   "metadata": {},
   "source": [
    "固有値、固有ベクトルが一致している。  \n",
    "今回は、この状態の密度行列を学習対象とする。  \n",
    "Both eigenvalues and eigenvectors are equal.  \n",
    "In this notebook, the density matrix of this state is the target."
   ]
  },
  {
   "cell_type": "code",
   "execution_count": 8,
   "id": "b6cc1ee0-45d6-46c4-a6b2-9329c66dc8a8",
   "metadata": {},
   "outputs": [],
   "source": [
    "target_eta = ground_state @ ground_state.H"
   ]
  },
  {
   "cell_type": "code",
   "execution_count": 9,
   "id": "c6ecbe98-11de-4fb5-bede-3d59d37958ed",
   "metadata": {},
   "outputs": [],
   "source": [
    "target_probs = qu.eigvalsh(target_eta)"
   ]
  },
  {
   "cell_type": "code",
   "execution_count": 10,
   "id": "5307cf38-c3fa-4d56-927a-2bd2001edc62",
   "metadata": {},
   "outputs": [
    {
     "data": {
      "image/png": "[encoded data removed]",
      "text/plain": [
       "<Figure size 640x480 with 1 Axes>"
      ]
     },
     "metadata": {},
     "output_type": "display_data"
    }
   ],
   "source": [
    "_ = plt.plot(target_probs, '.')\n",
    "_ = plt.ylabel(\"Target probability\")\n",
    "_ = plt.xlabel(\"Quantum spin configuration\")"
   ]
  },
  {
   "cell_type": "markdown",
   "id": "c3e6ea13-4891-467b-b504-6094a0990ddf",
   "metadata": {},
   "source": [
    "純粋状態なので、1点以外で確率は0である。  \n",
    "Since this is a pure state, the probability is zero except for one point."
   ]
  },
  {
   "cell_type": "markdown",
   "id": "1f1cbc62-d2d8-4de5-823b-3bd2344d00fa",
   "metadata": {},
   "source": [
    "## QBM definition"
   ]
  },
  {
   "cell_type": "code",
   "execution_count": 11,
   "id": "fce93911-63aa-4c46-83bf-0e42c8db7e76",
   "metadata": {},
   "outputs": [],
   "source": [
    "rng = np.random.default_rng(seed=1)"
   ]
  },
  {
   "cell_type": "code",
   "execution_count": 12,
   "id": "9075d067-8c9e-4fdb-a717-2aaf948f4b10",
   "metadata": {},
   "outputs": [
    {
     "name": "stdout",
     "output_type": "stream",
     "text": [
      "Spin interaction: 0.346\n",
      "Field value: 0.822\n"
     ]
    }
   ],
   "source": [
    "# parameters to learn. Set initial values at random\n",
    "jz = rng.normal()\n",
    "bx = rng.normal()\n",
    "print(f\"Spin interaction: {jz:.3f}\")\n",
    "print(f\"Field value: {bx:.3f}\")"
   ]
  },
  {
   "cell_type": "code",
   "execution_count": 13,
   "id": "e44bef9c-d4b7-4325-bbac-9f21df46c76b",
   "metadata": {},
   "outputs": [],
   "source": [
    "qbm_tfim = qu.ham_ising(n, jz, bx)"
   ]
  },
  {
   "cell_type": "code",
   "execution_count": 14,
   "id": "d50b07bb-33fa-4eee-be97-98654d3384f4",
   "metadata": {},
   "outputs": [],
   "source": [
    "rho_qbm = qu.thermal_state(qbm_tfim, -1.0)"
   ]
  },
  {
   "cell_type": "code",
   "execution_count": 15,
   "id": "e71cb7ca-5fbb-48c6-9ca5-cd9357272a47",
   "metadata": {},
   "outputs": [
    {
     "data": {
      "image/png": "[encoded data removed]",
      "text/plain": [
       "<Figure size 640x480 with 2 Axes>"
      ]
     },
     "metadata": {},
     "output_type": "display_data"
    }
   ],
   "source": [
    "_ = plt.imshow(rho_qbm, interpolation='nearest')\n",
    "_ = plt.colorbar()"
   ]
  },
  {
   "cell_type": "code",
   "execution_count": 16,
   "id": "b36aaa98-a319-4b6c-af08-f7f5bca64870",
   "metadata": {},
   "outputs": [
    {
     "data": {
      "image/png": "[encoded data removed]",
      "text/plain": [
       "<Figure size 640x480 with 1 Axes>"
      ]
     },
     "metadata": {},
     "output_type": "display_data"
    }
   ],
   "source": [
    "rho_probs = qu.eigvalsh(rho_qbm)\n",
    "_ = plt.plot(rho_probs,'or')\n",
    "_ = plt.ylabel(\"QBM probability\")\n",
    "_ = plt.xlabel(\"Quantum spin configuration\")"
   ]
  },
  {
   "cell_type": "markdown",
   "id": "113358ec-bfd6-4003-a7c7-82a01dd547d0",
   "metadata": {},
   "source": [
    "## Quantum relative entropy and its gradients"
   ]
  },
  {
   "cell_type": "code",
   "execution_count": 17,
   "id": "1a379168-3d27-4c0b-8ea7-297185a048d5",
   "metadata": {},
   "outputs": [],
   "source": [
    "# function to compute the quantum relative entropy between the target density and the QBM\n",
    "def qre(eta, h_qbm):\n",
    "    \"\"\"Quantum relative entropy\n",
    "\n",
    "    Args:\n",
    "        eta (Any): Target density matrix\n",
    "        h_qbm (Any): Hamiltonian of the QBM\n",
    "    \"\"\"\n",
    "    # h = qu.entropy(eta) # do not use because it has log2 inside\n",
    "    evals = qu.eigvalsh(eta).clip(1e-300)\n",
    "    h = np.sum(evals * np.log(evals))\n",
    "    # use log base e all the way\n",
    "    evals = qu.eigvalsh(h_qbm).clip(1e-300)\n",
    "    z = np.sum(np.exp(evals))\n",
    "    eta_stat = qu.expec(eta, h_qbm)\n",
    "    return h-eta_stat+qu.log(z)"
   ]
  },
  {
   "cell_type": "code",
   "execution_count": 18,
   "id": "6950de73-a229-4927-8883-ff34719e3fc0",
   "metadata": {},
   "outputs": [
    {
     "data": {
      "text/plain": [
       "3.4035956289116083"
      ]
     },
     "execution_count": 18,
     "metadata": {},
     "output_type": "execute_result"
    }
   ],
   "source": [
    "qre(target_eta, qbm_tfim)"
   ]
  },
  {
   "cell_type": "code",
   "execution_count": 19,
   "id": "cec7a744-ab2b-4e26-a023-beed81ed835f",
   "metadata": {},
   "outputs": [],
   "source": [
    "# function to create h0 for the TFIM: this is the two-site term\n",
    "def h_two_sites(n):\n",
    "    dims = (2,) * n\n",
    "    two_site_term = qu.kron(qu.spin_operator('z'), qu.spin_operator('z'))\n",
    "    def gen_term(i):\n",
    "        return qu.ikron(two_site_term, dims, [i, i + 1])\n",
    "    return sum(map(gen_term, range(0,n-1)))\n",
    "\n",
    "\n",
    "# function to create h1 for the TFIM: this is the transverse-fiels term (put the minus sign in front)\n",
    "def h_single_site(n):\n",
    "    dims = (2,) * n\n",
    "    single_site_term = qu.spin_operator('x')\n",
    "    def gen_term(i):\n",
    "        return qu.ikron(single_site_term, dims, [i])\n",
    "    return -sum(map(gen_term, range(0,n)))"
   ]
  },
  {
   "cell_type": "code",
   "execution_count": 20,
   "id": "99eab812-8e42-4027-b987-204a3713df7f",
   "metadata": {},
   "outputs": [],
   "source": [
    "h0 = h_two_sites(n)\n",
    "h1 = h_single_site(n)"
   ]
  },
  {
   "cell_type": "code",
   "execution_count": 21,
   "id": "20e829f8-7a4f-4b8a-b185-dcc6fcd161df",
   "metadata": {},
   "outputs": [
    {
     "data": {
      "text/plain": [
       "True"
      ]
     },
     "execution_count": 21,
     "metadata": {},
     "output_type": "execute_result"
    }
   ],
   "source": [
    "h = jz * h0 + bx * h1\n",
    "np.allclose(qbm_tfim, h)"
   ]
  },
  {
   "cell_type": "markdown",
   "id": "54c5837a-c6a9-4eae-bd29-6d5b816508bc",
   "metadata": {},
   "source": [
    "## Training of the QBM"
   ]
  },
  {
   "cell_type": "code",
   "execution_count": 22,
   "id": "b7b1cedc-7d4c-4d30-92da-f29b0996d355",
   "metadata": {},
   "outputs": [],
   "source": [
    "# learning rate\n",
    "gamma = 0.2\n",
    "# number of epochs\n",
    "epochs = 500"
   ]
  },
  {
   "cell_type": "code",
   "execution_count": 23,
   "id": "2cc5c1b9-e67b-4858-98e6-3e832ebb155f",
   "metadata": {},
   "outputs": [],
   "source": [
    "def compute_grads(hi, eta, rho):\n",
    "    \"\"\"Compute gradients given a list of hamiltonian terms (operators)\n",
    "\n",
    "    Args:\n",
    "        hi (List, Tuple): A list of hamiltonian terms\n",
    "        eta (Any): The target density matrix\n",
    "        rho (Any): The QBM density matrix\n",
    "\n",
    "    Returns:\n",
    "        np.ndarray: The array of the gradients\n",
    "    \"\"\"\n",
    "    grads = []\n",
    "    for h in hi:\n",
    "        rho_expect = qu.expec(rho, h).real\n",
    "        eta_expect = qu.expec(eta, h).real\n",
    "        grads.append(rho_expect-eta_expect)\n",
    "    return np.array(grads)"
   ]
  },
  {
   "cell_type": "code",
   "execution_count": 24,
   "id": "ab120030-5c48-46ec-8c7d-50f988effb53",
   "metadata": {},
   "outputs": [],
   "source": [
    "# gradient descent!\n",
    "def update_params(params, grads, gamma):\n",
    "    return params - gamma * grads"
   ]
  },
  {
   "cell_type": "code",
   "execution_count": 25,
   "id": "0804252b-8253-44ee-bb5a-21e8ce51b3cb",
   "metadata": {},
   "outputs": [],
   "source": [
    "new_params = [jz, bx]"
   ]
  },
  {
   "cell_type": "code",
   "execution_count": 26,
   "id": "44bff53b-423e-428f-bf5b-39169e9f80ec",
   "metadata": {},
   "outputs": [
    {
     "name": "stdout",
     "output_type": "stream",
     "text": [
      "Quantum relative entropy: 3.4035956289116074\n",
      "Max abs gradient: 2.222677910889761\n",
      "Quantum relative entropy: 0.9500329837493791\n",
      "Max abs gradient: 0.341467259021002\n",
      "Quantum relative entropy: 0.6559084691195949\n",
      "Max abs gradient: 0.2594276653239126\n",
      "Quantum relative entropy: 0.5102029542032334\n",
      "Max abs gradient: 0.20649350665654903\n",
      "Quantum relative entropy: 0.41942282259745056\n",
      "Max abs gradient: 0.16912516437726755\n",
      "Quantum relative entropy: 0.3571207757785615\n",
      "Max abs gradient: 0.14186368914522307\n",
      "Quantum relative entropy: 0.3116853469320411\n",
      "Max abs gradient: 0.12149961157348482\n",
      "Quantum relative entropy: 0.27705044267460366\n",
      "Max abs gradient: 0.10594358582095914\n",
      "Quantum relative entropy: 0.24973467745087774\n",
      "Max abs gradient: 0.09379775748739072\n",
      "Quantum relative entropy: 0.22760505939885434\n",
      "Max abs gradient: 0.08411527437899186\n",
      "Quantum relative entropy: 0.209285574654281\n",
      "Max abs gradient: 0.07624691512730458\n",
      "Quantum relative entropy: 0.1938499032650718\n",
      "Max abs gradient: 0.06974099162153635\n",
      "Quantum relative entropy: 0.18065173190537465\n",
      "Max abs gradient: 0.06427799692732944\n",
      "Quantum relative entropy: 0.16922623023820904\n",
      "Max abs gradient: 0.059627909090208986\n",
      "Quantum relative entropy: 0.15923032506143642\n",
      "Max abs gradient: 0.05562215106936391\n",
      "Quantum relative entropy: 0.15040510615790836\n",
      "Max abs gradient: 0.05213500354390854\n",
      "Quantum relative entropy: 0.1425513699180847\n",
      "Max abs gradient: 0.04907113258584955\n",
      "Quantum relative entropy: 0.1355132420072529\n",
      "Max abs gradient: 0.046357102721628185\n",
      "Quantum relative entropy: 0.1291669264663895\n",
      "Max abs gradient: 0.04393551516385519\n",
      "Quantum relative entropy: 0.12341279973603392\n",
      "Max abs gradient: 0.04176089704885111\n",
      "Quantum relative entropy: 0.11816974217856568\n",
      "Max abs gradient: 0.0397967746370097\n",
      "Quantum relative entropy: 0.11337100001756895\n",
      "Max abs gradient: 0.0380135584657848\n",
      "Quantum relative entropy: 0.1089611152104375\n",
      "Max abs gradient: 0.036386993322496786\n",
      "Quantum relative entropy: 0.1048936141032506\n",
      "Max abs gradient: 0.03489700668946644\n",
      "Quantum relative entropy: 0.10112924409653701\n",
      "Max abs gradient: 0.03352684218266505\n",
      "Quantum relative entropy: 0.09763461203029777\n",
      "Max abs gradient: 0.03226239953098131\n",
      "Quantum relative entropy: 0.09438112107424601\n",
      "Max abs gradient: 0.031091726142134624\n",
      "Quantum relative entropy: 0.09134413221011783\n",
      "Max abs gradient: 0.03000462126732384\n",
      "Quantum relative entropy: 0.08850229663945086\n",
      "Max abs gradient: 0.02899232476147179\n",
      "Quantum relative entropy: 0.08583701965739365\n",
      "Max abs gradient: 0.02804727008680763\n",
      "Quantum relative entropy: 0.08333202663639838\n",
      "Max abs gradient: 0.02716288660032201\n",
      "Quantum relative entropy: 0.08097300904304205\n",
      "Max abs gradient: 0.02633344001083865\n",
      "Quantum relative entropy: 0.07874733371744114\n",
      "Max abs gradient: 0.025553902663725814\n",
      "Quantum relative entropy: 0.07664380255389602\n",
      "Max abs gradient: 0.024819847331362332\n",
      "Quantum relative entropy: 0.0746524526344281\n",
      "Max abs gradient: 0.024127359674426474\n",
      "Quantum relative entropy: 0.0727643890562284\n",
      "Max abs gradient: 0.0234729656442218\n",
      "Quantum relative entropy: 0.07097164435112546\n",
      "Max abs gradient: 0.02285357092529494\n",
      "Quantum relative entropy: 0.06926705967404345\n",
      "Max abs gradient: 0.022266410144815285\n",
      "Quantum relative entropy: 0.06764418390427451\n",
      "Max abs gradient: 0.0217090040538796\n",
      "Quantum relative entropy: 0.06609718757777827\n",
      "Max abs gradient: 0.021179123253924403\n",
      "Quantum relative entropy: 0.06462078915434688\n",
      "Max abs gradient: 0.020674757326635318\n",
      "Quantum relative entropy: 0.06321019159740615\n",
      "Max abs gradient: 0.020194088448251213\n",
      "Quantum relative entropy: 0.06186102761578738\n",
      "Max abs gradient: 0.019735468744023377\n",
      "Quantum relative entropy: 0.060569312209558746\n",
      "Max abs gradient: 0.019297400776758844\n",
      "Quantum relative entropy: 0.05933140140688309\n",
      "Max abs gradient: 0.018878520673356103\n",
      "Quantum relative entropy: 0.05814395626088498\n",
      "Max abs gradient: 0.018477583481191995\n",
      "Quantum relative entropy: 0.05700391134202221\n",
      "Max abs gradient: 0.018093450417016488\n",
      "Quantum relative entropy: 0.05590844707802489\n",
      "Max abs gradient: 0.01772507772817694\n",
      "Quantum relative entropy: 0.054854965403038136\n",
      "Max abs gradient: 0.01737150693259315\n",
      "Quantum relative entropy: 0.05384106826188528\n",
      "Max abs gradient: 0.017031856241831456\n"
     ]
    }
   ],
   "source": [
    "# stop when gradient is smaller than epsilon, at the final number of epochs\n",
    "eps = 1e-6\n",
    "# keep track of loss and gradients\n",
    "qre_hist = []\n",
    "grad_hist = []\n",
    "for i in range(epochs):\n",
    "    # create qbm hamiltonians\n",
    "    qbm_tfim = new_params[0] * h0 + new_params[1] * h1\n",
    "    qbm_tfim = qbm_tfim.real\n",
    "    qre_hist.append(qre(target_eta, qbm_tfim))\n",
    "    # create qbm state\n",
    "    rho = qu.thermal_state(qbm_tfim, -1.0)\n",
    "    # grad and update\n",
    "    grads = compute_grads([h0,h1], target_eta, rho)\n",
    "    grad_hist.append(np.abs(grads))\n",
    "    new_params = update_params(new_params, grads, gamma)\n",
    "    # print diagnostic\n",
    "    if (i % 10)==0:\n",
    "        print(f\"Quantum relative entropy: {qre_hist[-1]}\")\n",
    "        print(f\"Max abs gradient: {np.max(grad_hist[-1])}\")\n",
    "    if np.max(grad_hist[-1]) < eps:\n",
    "        print(f\"Max gradient smaller than precision\")\n",
    "        break"
   ]
  },
  {
   "cell_type": "markdown",
   "id": "35c872a4-c95e-4d1b-ae5d-2e68f4913bb7",
   "metadata": {},
   "source": [
    "## Plots of diagnostic quantities"
   ]
  },
  {
   "cell_type": "code",
   "execution_count": 27,
   "id": "6b939c57-6041-46d5-bc31-502036838084",
   "metadata": {},
   "outputs": [
    {
     "data": {
      "text/plain": [
       "Text(0, 0.5, 'quantum relative entropy')"
      ]
     },
     "execution_count": 27,
     "metadata": {},
     "output_type": "execute_result"
    },
    {
     "data": {
      "image/png": "[encoded data removed]",
      "text/plain": [
       "<Figure size 640x480 with 1 Axes>"
      ]
     },
     "metadata": {},
     "output_type": "display_data"
    }
   ],
   "source": [
    "fig, ax = plt.subplots()\n",
    "ax.plot(qre_hist)\n",
    "ax.set_xlabel(\"epoch number\")\n",
    "ax.set_ylabel(\"quantum relative entropy\")"
   ]
  },
  {
   "cell_type": "code",
   "execution_count": 28,
   "id": "7fbf1cea-7de3-40f0-8fa2-1a77a32af60a",
   "metadata": {},
   "outputs": [
    {
     "data": {
      "text/plain": [
       "Text(0, 0.5, 'Max. of gradients')"
      ]
     },
     "execution_count": 28,
     "metadata": {},
     "output_type": "execute_result"
    },
    {
     "data": {
      "image/png": "[encoded data removed]",
      "text/plain": [
       "<Figure size 640x480 with 1 Axes>"
      ]
     },
     "metadata": {},
     "output_type": "display_data"
    }
   ],
   "source": [
    "fig, ax = plt.subplots()\n",
    "ax.plot(np.max(grad_hist,axis=1))\n",
    "ax.set_xlabel(\"epoch number\")\n",
    "ax.set_ylabel(\"Max. of gradients\")"
   ]
  },
  {
   "cell_type": "markdown",
   "id": "1d2c67d7-0dd8-44d9-87a1-818882f9efc2",
   "metadata": {},
   "source": [
    "KLダイバージェンスや勾配の最大値は0に収束している。  \n",
    "The relative entropy and the maximum values of gradient are converging toward zero."
   ]
  },
  {
   "cell_type": "markdown",
   "id": "4d8d2d15-d67c-4a16-a4d0-3fc4b2b0025b",
   "metadata": {},
   "source": [
    "## Compare the final parameters with the target parameters."
   ]
  },
  {
   "cell_type": "code",
   "execution_count": 29,
   "id": "93406975-f488-47e6-8373-45ad555e56b0",
   "metadata": {},
   "outputs": [],
   "source": [
    "qbm_tfim = new_params[0] * h0 + new_params[1] * h1\n",
    "qbm_tfim = qbm_tfim.real\n",
    "rho_qbm = qu.thermal_state(qbm_tfim, -1.0)"
   ]
  },
  {
   "cell_type": "code",
   "execution_count": 30,
   "id": "c7fec71a-e7c1-462e-97af-87b21d81c07a",
   "metadata": {},
   "outputs": [
    {
     "name": "stdout",
     "output_type": "stream",
     "text": [
      "Trained QBM parameters:\n",
      " Jz=5.906159683092585 Bx=-6.3242163851678646\n"
     ]
    }
   ],
   "source": [
    "qbm_jz, qbm_bx = -new_params\n",
    "print(f\"Trained QBM parameters:\\n Jz={qbm_jz} Bx={qbm_bx}\")"
   ]
  },
  {
   "cell_type": "code",
   "execution_count": 31,
   "id": "fd05189e-0296-4bae-a0b5-d6c51f768ad3",
   "metadata": {},
   "outputs": [
    {
     "data": {
      "image/png": "[encoded data removed]",
      "text/plain": [
       "<Figure size 640x480 with 1 Axes>"
      ]
     },
     "metadata": {},
     "output_type": "display_data"
    }
   ],
   "source": [
    "rho_probs = qu.eigvalsh(rho_qbm)\n",
    "_ = plt.plot(target_probs,'ob')\n",
    "_ = plt.plot(rho_probs,'xr')\n",
    "_ = plt.ylabel(\"Probabilities\")\n",
    "_ = plt.xlabel(\"Quantum spin configuration\")\n",
    "_ = plt.legend([\"Target\",\"QBM\"])"
   ]
  },
  {
   "cell_type": "markdown",
   "id": "2239604c-6cee-4e73-9d2a-c2fcf6e1e683",
   "metadata": {},
   "source": [
    "QBMで学習された状態と、ターゲット状態およびVQEで生成された量子回路と比較する。  \n",
    "Compare the state learned in the QBM with the target state and the quantum circuit generated in the VQE."
   ]
  },
  {
   "cell_type": "code",
   "execution_count": 32,
   "id": "7a37f0c0-d732-4192-9910-e670d4a6daf4",
   "metadata": {},
   "outputs": [],
   "source": [
    "circ = QuantumCircuit.from_qasm_file(f\"../VQE-generated-dataset/data/qasm/{str(n).zfill(2)}qubit/label0/label0_ansatz0_00.qasm\")\n",
    "backend = Aer.get_backend('statevector_simulator')\n",
    "job = backend.run(circ)\n",
    "result = job.result()\n",
    "outputstate = result.get_statevector(circ)"
   ]
  },
  {
   "cell_type": "code",
   "execution_count": 33,
   "id": "2a8030dc-24bb-45d7-9b7f-7c0a49c66b51",
   "metadata": {},
   "outputs": [],
   "source": [
    "vqe_state = qu.qarray(np.array(outputstate).reshape(-1, 1))"
   ]
  },
  {
   "cell_type": "code",
   "execution_count": 34,
   "id": "c794e1e3-a875-4f35-bdd0-5330a755a021",
   "metadata": {},
   "outputs": [
    {
     "name": "stdout",
     "output_type": "stream",
     "text": [
      "0.9767850578880367\n",
      "0.9766725276793211\n",
      "0.9997150424313644\n"
     ]
    }
   ],
   "source": [
    "print(qu.fidelity(rho_qbm, target_eta))\n",
    "print(qu.fidelity(rho_qbm, vqe_state))\n",
    "print(qu.fidelity(target_eta, vqe_state))"
   ]
  },
  {
   "cell_type": "markdown",
   "id": "b4b77fab-1935-4e21-911f-1b896780562c",
   "metadata": {},
   "source": [
    "学習の結果、ほぼ同じ量子状態となっている。  \n",
    "この例では、VQEで生成された量子回路の方が、ターゲットの状態に近い。  \n",
    "The learning results in nearly identical quantum states.  \n",
    "In this case, the quantum circuit generated by VQE is closer to the target state. "
   ]
  }
 ],
 "metadata": {
  "kernelspec": {
   "display_name": "qc",
   "language": "python",
   "name": "qc"
  },
  "language_info": {
   "codemirror_mode": {
    "name": "ipython",
    "version": 3
   },
   "file_extension": ".py",
   "mimetype": "text/x-python",
   "name": "python",
   "nbconvert_exporter": "python",
   "pygments_lexer": "ipython3",
   "version": "3.9.10"
  }
 },
 "nbformat": 4,
 "nbformat_minor": 5
}
