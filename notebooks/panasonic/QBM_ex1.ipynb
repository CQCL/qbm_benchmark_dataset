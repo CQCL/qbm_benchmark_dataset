{
 "cells": [
  {
   "attachments": {},
   "cell_type": "markdown",
   "id": "d143012f-10fe-4128-b97a-2f45203bb562",
   "metadata": {},
   "source": [
    "このノートブックは上記論文で提案されている量子回路データセットの1つをQBMで再現するものである。  \n",
    "This notebook reproduces one of the quantum circuit data sets proposed in the above paper by QBM."
   ]
  },
  {
   "attachments": {},
   "cell_type": "markdown",
   "id": "6cd0a209-3022-4c87-b3d1-87203d3ccd8c",
   "metadata": {},
   "source": [
    "---"
   ]
  },
  {
   "attachments": {},
   "cell_type": "markdown",
   "id": "97afe912-b86b-4e87-ad9a-09e6df324769",
   "metadata": {},
   "source": [
    "## Setup"
   ]
  },
  {
   "cell_type": "code",
   "execution_count": 1,
   "id": "1eb5cd13-bf0a-456a-be13-cad5f0fa939c",
   "metadata": {},
   "outputs": [
    {
     "name": "stderr",
     "output_type": "stream",
     "text": [
      "OMP: Info #276: omp_set_nested routine deprecated, please use omp_set_max_active_levels instead.\n"
     ]
    }
   ],
   "source": [
    "import quimb as qu\n",
    "import matplotlib.pyplot as plt\n",
    "import joblib\n",
    "import numpy as np\n",
    "from tqdm import tqdm\n",
    "from quimb.tensor import circuit\n",
    "\n",
    "from qiskit import Aer\n",
    "from qiskit.circuit import QuantumCircuit"
   ]
  },
  {
   "cell_type": "code",
   "execution_count": 2,
   "id": "cd64b2c3-7a73-4c25-8073-07c3c104e568",
   "metadata": {},
   "outputs": [],
   "source": [
    "# define number of sites == number of qubits (each site is a 2-level system)\n",
    "n = 8"
   ]
  },
  {
   "cell_type": "code",
   "execution_count": 4,
   "id": "334004e4",
   "metadata": {},
   "outputs": [],
   "source": [
    "vqe_data_folder = \"../../../VQE-generated-dataset/data\""
   ]
  },
  {
   "attachments": {},
   "cell_type": "markdown",
   "id": "841e72c2-5748-4777-8668-532da53c6101",
   "metadata": {},
   "source": [
    "## Target state"
   ]
  },
  {
   "attachments": {},
   "cell_type": "markdown",
   "id": "9828b7d7-ed9a-4ed1-9d34-1dd56b04cb3d",
   "metadata": {},
   "source": [
    "ここでは、論文中のlabel 0のハミルトニアンを対象とする。  \n",
    "Here, we will focus on the Hamiltonian of label 0 in the paper.  \n",
    "$\\sum_{n=1}^{N-1} Z_n Z_{n+1} + 2 \\sum_{n=1}^{N} X_n$ (1D transverse-field Ising model)"
   ]
  },
  {
   "cell_type": "code",
   "execution_count": 5,
   "id": "170c064a-bde9-400a-b1a3-7a5196060391",
   "metadata": {},
   "outputs": [
    {
     "data": {
      "text/plain": [
       "{'ground_energy': -16.88514149320815,\n",
       " 'ground_state': array([-0.02532165+0.j,  0.03165327+0.j,  0.0405503 +0.j, -0.0308588 +0.j,\n",
       "         0.03935861+0.j, -0.0522599 +0.j, -0.03831016+0.j,  0.03106473+0.j,\n",
       "         0.03964066+0.j, -0.04871257+0.j, -0.06736265+0.j,  0.0505935 +0.j,\n",
       "        -0.03739069+0.j,  0.04895714+0.j,  0.03889204+0.j, -0.03098128+0.j,\n",
       "         0.03964066+0.j, -0.04983024+0.j, -0.06239904+0.j,  0.04771403+0.j,\n",
       "        -0.06544119+0.j,  0.08721343+0.j,  0.06280657+0.j, -0.05117069+0.j,\n",
       "        -0.03767198+0.j,  0.04652767+0.j,  0.06313219+0.j, -0.04760395+0.j,\n",
       "         0.03797767+0.j, -0.04997331+0.j, -0.03876997+0.j,  0.03106473+0.j,\n",
       "         0.03935861+0.j, -0.04909998+0.j, -0.06338813+0.j,  0.04815476+0.j,\n",
       "        -0.06011404+0.j,  0.07969651+0.j,  0.05881827+0.j, -0.04760395+0.j,\n",
       "        -0.06544119+0.j,  0.08029561+0.j,  0.11162211+0.j, -0.0837344 +0.j,\n",
       "         0.06085663+0.j, -0.0795603 +0.j, -0.06362204+0.j,  0.0505935 +0.j,\n",
       "        -0.03739069+0.j,  0.04691597+0.j,  0.0591609 +0.j, -0.04516501+0.j,\n",
       "         0.06085663+0.j, -0.08099994+0.j, -0.05865843+0.j,  0.04771403+0.j,\n",
       "         0.03797767+0.j, -0.04681339+0.j, -0.06396372+0.j,  0.04815476+0.j,\n",
       "        -0.03757144+0.j,  0.04934945+0.j,  0.03859458+0.j, -0.0308588 +0.j,\n",
       "         0.0405503 +0.j, -0.05072858+0.j, -0.06480519+0.j,  0.04934945+0.j,\n",
       "        -0.06338813+0.j,  0.08421464+0.j,  0.0615851 +0.j, -0.04997331+0.j,\n",
       "        -0.06239904+0.j,  0.07672913+0.j,  0.10587505+0.j, -0.0795603 +0.j,\n",
       "         0.0591609 +0.j, -0.07751071+0.j, -0.06141391+0.j,  0.04895714+0.j,\n",
       "        -0.06736265+0.j,  0.08472674+0.j,  0.10587505+0.j, -0.08099994+0.j,\n",
       "         0.11162211+0.j, -0.1488201 +0.j, -0.10699006+0.j,  0.08721343+0.j,\n",
       "         0.06313219+0.j, -0.07802167+0.j, -0.10563887+0.j,  0.07969651+0.j,\n",
       "        -0.06396372+0.j,  0.08421464+0.j,  0.0651795 +0.j, -0.0522599 +0.j,\n",
       "        -0.03831016+0.j,  0.04782585+0.j,  0.0615851 +0.j, -0.04681339+0.j,\n",
       "         0.05881827+0.j, -0.07802167+0.j, -0.05744983+0.j,  0.04652767+0.j,\n",
       "         0.06280657+0.j, -0.07710606+0.j, -0.10699006+0.j,  0.08029561+0.j,\n",
       "        -0.05865843+0.j,  0.07672913+0.j,  0.06121865+0.j, -0.04871257+0.j,\n",
       "         0.03889204+0.j, -0.0488362 +0.j, -0.06141391+0.j,  0.04691597+0.j,\n",
       "        -0.06362204+0.j,  0.08472674+0.j,  0.06121865+0.j, -0.04983024+0.j,\n",
       "        -0.03876997+0.j,  0.04782585+0.j,  0.0651795 +0.j, -0.04909998+0.j,\n",
       "         0.03859458+0.j, -0.05072858+0.j, -0.03955637+0.j,  0.03165327+0.j,\n",
       "         0.03165327+0.j, -0.03955637+0.j, -0.05072858+0.j,  0.03859458+0.j,\n",
       "        -0.04909998+0.j,  0.0651795 +0.j,  0.04782585+0.j, -0.03876997+0.j,\n",
       "        -0.04983024+0.j,  0.06121865+0.j,  0.08472674+0.j, -0.06362204+0.j,\n",
       "         0.04691597+0.j, -0.06141391+0.j, -0.0488362 +0.j,  0.03889204+0.j,\n",
       "        -0.04871257+0.j,  0.06121865+0.j,  0.07672913+0.j, -0.05865843+0.j,\n",
       "         0.08029561+0.j, -0.10699006+0.j, -0.07710606+0.j,  0.06280657+0.j,\n",
       "         0.04652767+0.j, -0.05744983+0.j, -0.07802167+0.j,  0.05881827+0.j,\n",
       "        -0.04681339+0.j,  0.0615851 +0.j,  0.04782585+0.j, -0.03831016+0.j,\n",
       "        -0.0522599 +0.j,  0.0651795 +0.j,  0.08421464+0.j, -0.06396372+0.j,\n",
       "         0.07969651+0.j, -0.10563887+0.j, -0.07802167+0.j,  0.06313219+0.j,\n",
       "         0.08721343+0.j, -0.10699006+0.j, -0.1488201 +0.j,  0.11162211+0.j,\n",
       "        -0.08099994+0.j,  0.10587505+0.j,  0.08472674+0.j, -0.06736265+0.j,\n",
       "         0.04895714+0.j, -0.06141391+0.j, -0.07751071+0.j,  0.0591609 +0.j,\n",
       "        -0.0795603 +0.j,  0.10587505+0.j,  0.07672913+0.j, -0.06239904+0.j,\n",
       "        -0.04997331+0.j,  0.0615851 +0.j,  0.08421464+0.j, -0.06338813+0.j,\n",
       "         0.04934945+0.j, -0.06480519+0.j, -0.05072858+0.j,  0.0405503 +0.j,\n",
       "        -0.0308588 +0.j,  0.03859458+0.j,  0.04934945+0.j, -0.03757144+0.j,\n",
       "         0.04815476+0.j, -0.06396372+0.j, -0.04681339+0.j,  0.03797767+0.j,\n",
       "         0.04771403+0.j, -0.05865843+0.j, -0.08099994+0.j,  0.06085663+0.j,\n",
       "        -0.04516501+0.j,  0.0591609 +0.j,  0.04691597+0.j, -0.03739069+0.j,\n",
       "         0.0505935 +0.j, -0.06362204+0.j, -0.0795603 +0.j,  0.06085663+0.j,\n",
       "        -0.0837344 +0.j,  0.11162211+0.j,  0.08029561+0.j, -0.06544119+0.j,\n",
       "        -0.04760395+0.j,  0.05881827+0.j,  0.07969651+0.j, -0.06011404+0.j,\n",
       "         0.04815476+0.j, -0.06338813+0.j, -0.04909998+0.j,  0.03935861+0.j,\n",
       "         0.03106473+0.j, -0.03876997+0.j, -0.04997331+0.j,  0.03797767+0.j,\n",
       "        -0.04760395+0.j,  0.06313219+0.j,  0.04652767+0.j, -0.03767198+0.j,\n",
       "        -0.05117069+0.j,  0.06280657+0.j,  0.08721343+0.j, -0.06544119+0.j,\n",
       "         0.04771403+0.j, -0.06239904+0.j, -0.04983024+0.j,  0.03964066+0.j,\n",
       "        -0.03098128+0.j,  0.03889204+0.j,  0.04895714+0.j, -0.03739069+0.j,\n",
       "         0.0505935 +0.j, -0.06736265+0.j, -0.04871257+0.j,  0.03964066+0.j,\n",
       "         0.03106473+0.j, -0.03831016+0.j, -0.0522599 +0.j,  0.03935861+0.j,\n",
       "        -0.0308588 +0.j,  0.0405503 +0.j,  0.03165327+0.j, -0.02532165+0.j])}"
      ]
     },
     "execution_count": 5,
     "metadata": {},
     "output_type": "execute_result"
    }
   ],
   "source": [
    "joblib.load(f\"{vqe_data_folder}/ground_state/{str(n).zfill(2)}qubit/label0.jb\")"
   ]
  },
  {
   "cell_type": "code",
   "execution_count": 6,
   "id": "0cfe144a-8106-4c0b-bc67-5a8bafb92702",
   "metadata": {},
   "outputs": [
    {
     "data": {
      "text/plain": [
       "[[-0.025322+0.j]\n",
       " [ 0.031653+0.j]\n",
       " [ 0.04055 +0.j]\n",
       " [-0.030859+0.j]\n",
       " [ 0.039359+0.j]\n",
       " [-0.05226 +0.j]\n",
       " [-0.03831 +0.j]\n",
       " [ 0.031065+0.j]\n",
       " [ 0.039641+0.j]\n",
       " [-0.048713+0.j]\n",
       " [-0.067363+0.j]\n",
       " [ 0.050594+0.j]\n",
       " [-0.037391+0.j]\n",
       " [ 0.048957+0.j]\n",
       " [ 0.038892+0.j]\n",
       " [-0.030981+0.j]\n",
       " [ 0.039641+0.j]\n",
       " [-0.04983 +0.j]\n",
       " [-0.062399+0.j]\n",
       " [ 0.047714+0.j]\n",
       " [-0.065441+0.j]\n",
       " [ 0.087213+0.j]\n",
       " [ 0.062807+0.j]\n",
       " [-0.051171+0.j]\n",
       " [-0.037672+0.j]\n",
       " [ 0.046528+0.j]\n",
       " [ 0.063132+0.j]\n",
       " [-0.047604+0.j]\n",
       " [ 0.037978+0.j]\n",
       " [-0.049973+0.j]\n",
       " [-0.03877 +0.j]\n",
       " [ 0.031065+0.j]\n",
       " [ 0.039359+0.j]\n",
       " [-0.0491  +0.j]\n",
       " [-0.063388+0.j]\n",
       " [ 0.048155+0.j]\n",
       " [-0.060114+0.j]\n",
       " [ 0.079697+0.j]\n",
       " [ 0.058818+0.j]\n",
       " [-0.047604+0.j]\n",
       " [-0.065441+0.j]\n",
       " [ 0.080296+0.j]\n",
       " [ 0.111622+0.j]\n",
       " [-0.083734+0.j]\n",
       " [ 0.060857+0.j]\n",
       " [-0.07956 +0.j]\n",
       " [-0.063622+0.j]\n",
       " [ 0.050594+0.j]\n",
       " [-0.037391+0.j]\n",
       " [ 0.046916+0.j]\n",
       " [ 0.059161+0.j]\n",
       " [-0.045165+0.j]\n",
       " [ 0.060857+0.j]\n",
       " [-0.081   +0.j]\n",
       " [-0.058658+0.j]\n",
       " [ 0.047714+0.j]\n",
       " [ 0.037978+0.j]\n",
       " [-0.046813+0.j]\n",
       " [-0.063964+0.j]\n",
       " [ 0.048155+0.j]\n",
       " [-0.037571+0.j]\n",
       " [ 0.049349+0.j]\n",
       " [ 0.038595+0.j]\n",
       " [-0.030859+0.j]\n",
       " [ 0.04055 +0.j]\n",
       " [-0.050729+0.j]\n",
       " [-0.064805+0.j]\n",
       " [ 0.049349+0.j]\n",
       " [-0.063388+0.j]\n",
       " [ 0.084215+0.j]\n",
       " [ 0.061585+0.j]\n",
       " [-0.049973+0.j]\n",
       " [-0.062399+0.j]\n",
       " [ 0.076729+0.j]\n",
       " [ 0.105875+0.j]\n",
       " [-0.07956 +0.j]\n",
       " [ 0.059161+0.j]\n",
       " [-0.077511+0.j]\n",
       " [-0.061414+0.j]\n",
       " [ 0.048957+0.j]\n",
       " [-0.067363+0.j]\n",
       " [ 0.084727+0.j]\n",
       " [ 0.105875+0.j]\n",
       " [-0.081   +0.j]\n",
       " [ 0.111622+0.j]\n",
       " [-0.14882 +0.j]\n",
       " [-0.10699 +0.j]\n",
       " [ 0.087213+0.j]\n",
       " [ 0.063132+0.j]\n",
       " [-0.078022+0.j]\n",
       " [-0.105639+0.j]\n",
       " [ 0.079697+0.j]\n",
       " [-0.063964+0.j]\n",
       " [ 0.084215+0.j]\n",
       " [ 0.065179+0.j]\n",
       " [-0.05226 +0.j]\n",
       " [-0.03831 +0.j]\n",
       " [ 0.047826+0.j]\n",
       " [ 0.061585+0.j]\n",
       " [-0.046813+0.j]\n",
       " [ 0.058818+0.j]\n",
       " [-0.078022+0.j]\n",
       " [-0.05745 +0.j]\n",
       " [ 0.046528+0.j]\n",
       " [ 0.062807+0.j]\n",
       " [-0.077106+0.j]\n",
       " [-0.10699 +0.j]\n",
       " [ 0.080296+0.j]\n",
       " [-0.058658+0.j]\n",
       " [ 0.076729+0.j]\n",
       " [ 0.061219+0.j]\n",
       " [-0.048713+0.j]\n",
       " [ 0.038892+0.j]\n",
       " [-0.048836+0.j]\n",
       " [-0.061414+0.j]\n",
       " [ 0.046916+0.j]\n",
       " [-0.063622+0.j]\n",
       " [ 0.084727+0.j]\n",
       " [ 0.061219+0.j]\n",
       " [-0.04983 +0.j]\n",
       " [-0.03877 +0.j]\n",
       " [ 0.047826+0.j]\n",
       " [ 0.065179+0.j]\n",
       " [-0.0491  +0.j]\n",
       " [ 0.038595+0.j]\n",
       " [-0.050729+0.j]\n",
       " [-0.039556+0.j]\n",
       " [ 0.031653+0.j]\n",
       " [ 0.031653+0.j]\n",
       " [-0.039556+0.j]\n",
       " [-0.050729+0.j]\n",
       " [ 0.038595+0.j]\n",
       " [-0.0491  +0.j]\n",
       " [ 0.065179+0.j]\n",
       " [ 0.047826+0.j]\n",
       " [-0.03877 +0.j]\n",
       " [-0.04983 +0.j]\n",
       " [ 0.061219+0.j]\n",
       " [ 0.084727+0.j]\n",
       " [-0.063622+0.j]\n",
       " [ 0.046916+0.j]\n",
       " [-0.061414+0.j]\n",
       " [-0.048836+0.j]\n",
       " [ 0.038892+0.j]\n",
       " [-0.048713+0.j]\n",
       " [ 0.061219+0.j]\n",
       " [ 0.076729+0.j]\n",
       " [-0.058658+0.j]\n",
       " [ 0.080296+0.j]\n",
       " [-0.10699 +0.j]\n",
       " [-0.077106+0.j]\n",
       " [ 0.062807+0.j]\n",
       " [ 0.046528+0.j]\n",
       " [-0.05745 +0.j]\n",
       " [-0.078022+0.j]\n",
       " [ 0.058818+0.j]\n",
       " [-0.046813+0.j]\n",
       " [ 0.061585+0.j]\n",
       " [ 0.047826+0.j]\n",
       " [-0.03831 +0.j]\n",
       " [-0.05226 +0.j]\n",
       " [ 0.065179+0.j]\n",
       " [ 0.084215+0.j]\n",
       " [-0.063964+0.j]\n",
       " [ 0.079697+0.j]\n",
       " [-0.105639+0.j]\n",
       " [-0.078022+0.j]\n",
       " [ 0.063132+0.j]\n",
       " [ 0.087213+0.j]\n",
       " [-0.10699 +0.j]\n",
       " [-0.14882 +0.j]\n",
       " [ 0.111622+0.j]\n",
       " [-0.081   +0.j]\n",
       " [ 0.105875+0.j]\n",
       " [ 0.084727+0.j]\n",
       " [-0.067363+0.j]\n",
       " [ 0.048957+0.j]\n",
       " [-0.061414+0.j]\n",
       " [-0.077511+0.j]\n",
       " [ 0.059161+0.j]\n",
       " [-0.07956 +0.j]\n",
       " [ 0.105875+0.j]\n",
       " [ 0.076729+0.j]\n",
       " [-0.062399+0.j]\n",
       " [-0.049973+0.j]\n",
       " [ 0.061585+0.j]\n",
       " [ 0.084215+0.j]\n",
       " [-0.063388+0.j]\n",
       " [ 0.049349+0.j]\n",
       " [-0.064805+0.j]\n",
       " [-0.050729+0.j]\n",
       " [ 0.04055 +0.j]\n",
       " [-0.030859+0.j]\n",
       " [ 0.038595+0.j]\n",
       " [ 0.049349+0.j]\n",
       " [-0.037571+0.j]\n",
       " [ 0.048155+0.j]\n",
       " [-0.063964+0.j]\n",
       " [-0.046813+0.j]\n",
       " [ 0.037978+0.j]\n",
       " [ 0.047714+0.j]\n",
       " [-0.058658+0.j]\n",
       " [-0.081   +0.j]\n",
       " [ 0.060857+0.j]\n",
       " [-0.045165+0.j]\n",
       " [ 0.059161+0.j]\n",
       " [ 0.046916+0.j]\n",
       " [-0.037391+0.j]\n",
       " [ 0.050594+0.j]\n",
       " [-0.063622+0.j]\n",
       " [-0.07956 +0.j]\n",
       " [ 0.060857+0.j]\n",
       " [-0.083734+0.j]\n",
       " [ 0.111622+0.j]\n",
       " [ 0.080296+0.j]\n",
       " [-0.065441+0.j]\n",
       " [-0.047604+0.j]\n",
       " [ 0.058818+0.j]\n",
       " [ 0.079697+0.j]\n",
       " [-0.060114+0.j]\n",
       " [ 0.048155+0.j]\n",
       " [-0.063388+0.j]\n",
       " [-0.0491  +0.j]\n",
       " [ 0.039359+0.j]\n",
       " [ 0.031065+0.j]\n",
       " [-0.03877 +0.j]\n",
       " [-0.049973+0.j]\n",
       " [ 0.037978+0.j]\n",
       " [-0.047604+0.j]\n",
       " [ 0.063132+0.j]\n",
       " [ 0.046528+0.j]\n",
       " [-0.037672+0.j]\n",
       " [-0.051171+0.j]\n",
       " [ 0.062807+0.j]\n",
       " [ 0.087213+0.j]\n",
       " [-0.065441+0.j]\n",
       " [ 0.047714+0.j]\n",
       " [-0.062399+0.j]\n",
       " [-0.04983 +0.j]\n",
       " [ 0.039641+0.j]\n",
       " [-0.030981+0.j]\n",
       " [ 0.038892+0.j]\n",
       " [ 0.048957+0.j]\n",
       " [-0.037391+0.j]\n",
       " [ 0.050594+0.j]\n",
       " [-0.067363+0.j]\n",
       " [-0.048713+0.j]\n",
       " [ 0.039641+0.j]\n",
       " [ 0.031065+0.j]\n",
       " [-0.03831 +0.j]\n",
       " [-0.05226 +0.j]\n",
       " [ 0.039359+0.j]\n",
       " [-0.030859+0.j]\n",
       " [ 0.04055 +0.j]\n",
       " [ 0.031653+0.j]\n",
       " [-0.025322+0.j]]"
      ]
     },
     "execution_count": 6,
     "metadata": {},
     "output_type": "execute_result"
    }
   ],
   "source": [
    "ground_state = qu.qarray(joblib.load(f\"{vqe_data_folder}/ground_state/{str(n).zfill(2)}qubit/label0.jb\")[\"ground_state\"].reshape(-1, 1))\n",
    "ground_state"
   ]
  },
  {
   "attachments": {},
   "cell_type": "markdown",
   "id": "cd1d6792-7bd3-48e9-a6cc-1b57bbb77f66",
   "metadata": {},
   "source": [
    "上記のハミルトニアンの基底状態を別途計算し、一致することを確認する。  \n",
    "Calculate the ground state of the Hamiltonian above separately and check for agreement."
   ]
  },
  {
   "cell_type": "code",
   "execution_count": 7,
   "id": "af3624b1-343c-410c-a14d-23e4e7a5b7be",
   "metadata": {},
   "outputs": [],
   "source": [
    "target_jz = 4  # not 1, because this is the coefficients of spin operators, not pauli operators\n",
    "target_bx = -4  # not 2, because this is the negative coefficients of spin operators, not pauli operators"
   ]
  },
  {
   "cell_type": "code",
   "execution_count": 8,
   "id": "0b5fd038-58b1-49e4-bc48-19065dc7e988",
   "metadata": {},
   "outputs": [],
   "source": [
    "# create the Hamiltonian of the TFIM\n",
    "target_tfim = qu.ham_ising(n, target_jz, target_bx)"
   ]
  },
  {
   "cell_type": "code",
   "execution_count": 9,
   "id": "79ded4c5-d107-4794-95f3-a83e320a46bf",
   "metadata": {},
   "outputs": [
    {
     "name": "stdout",
     "output_type": "stream",
     "text": [
      "-16.885141493208163\n",
      "[[-0.025322]\n",
      " [ 0.031653]\n",
      " [ 0.04055 ]\n",
      " [-0.030859]\n",
      " [ 0.039359]\n",
      " [-0.05226 ]\n",
      " [-0.03831 ]\n",
      " [ 0.031065]\n",
      " [ 0.039641]\n",
      " [-0.048713]\n",
      " [-0.067363]\n",
      " [ 0.050594]\n",
      " [-0.037391]\n",
      " [ 0.048957]\n",
      " [ 0.038892]\n",
      " [-0.030981]\n",
      " [ 0.039641]\n",
      " [-0.04983 ]\n",
      " [-0.062399]\n",
      " [ 0.047714]\n",
      " [-0.065441]\n",
      " [ 0.087213]\n",
      " [ 0.062807]\n",
      " [-0.051171]\n",
      " [-0.037672]\n",
      " [ 0.046528]\n",
      " [ 0.063132]\n",
      " [-0.047604]\n",
      " [ 0.037978]\n",
      " [-0.049973]\n",
      " [-0.03877 ]\n",
      " [ 0.031065]\n",
      " [ 0.039359]\n",
      " [-0.0491  ]\n",
      " [-0.063388]\n",
      " [ 0.048155]\n",
      " [-0.060114]\n",
      " [ 0.079697]\n",
      " [ 0.058818]\n",
      " [-0.047604]\n",
      " [-0.065441]\n",
      " [ 0.080296]\n",
      " [ 0.111622]\n",
      " [-0.083734]\n",
      " [ 0.060857]\n",
      " [-0.07956 ]\n",
      " [-0.063622]\n",
      " [ 0.050594]\n",
      " [-0.037391]\n",
      " [ 0.046916]\n",
      " [ 0.059161]\n",
      " [-0.045165]\n",
      " [ 0.060857]\n",
      " [-0.081   ]\n",
      " [-0.058658]\n",
      " [ 0.047714]\n",
      " [ 0.037978]\n",
      " [-0.046813]\n",
      " [-0.063964]\n",
      " [ 0.048155]\n",
      " [-0.037571]\n",
      " [ 0.049349]\n",
      " [ 0.038595]\n",
      " [-0.030859]\n",
      " [ 0.04055 ]\n",
      " [-0.050729]\n",
      " [-0.064805]\n",
      " [ 0.049349]\n",
      " [-0.063388]\n",
      " [ 0.084215]\n",
      " [ 0.061585]\n",
      " [-0.049973]\n",
      " [-0.062399]\n",
      " [ 0.076729]\n",
      " [ 0.105875]\n",
      " [-0.07956 ]\n",
      " [ 0.059161]\n",
      " [-0.077511]\n",
      " [-0.061414]\n",
      " [ 0.048957]\n",
      " [-0.067363]\n",
      " [ 0.084727]\n",
      " [ 0.105875]\n",
      " [-0.081   ]\n",
      " [ 0.111622]\n",
      " [-0.14882 ]\n",
      " [-0.10699 ]\n",
      " [ 0.087213]\n",
      " [ 0.063132]\n",
      " [-0.078022]\n",
      " [-0.105639]\n",
      " [ 0.079697]\n",
      " [-0.063964]\n",
      " [ 0.084215]\n",
      " [ 0.065179]\n",
      " [-0.05226 ]\n",
      " [-0.03831 ]\n",
      " [ 0.047826]\n",
      " [ 0.061585]\n",
      " [-0.046813]\n",
      " [ 0.058818]\n",
      " [-0.078022]\n",
      " [-0.05745 ]\n",
      " [ 0.046528]\n",
      " [ 0.062807]\n",
      " [-0.077106]\n",
      " [-0.10699 ]\n",
      " [ 0.080296]\n",
      " [-0.058658]\n",
      " [ 0.076729]\n",
      " [ 0.061219]\n",
      " [-0.048713]\n",
      " [ 0.038892]\n",
      " [-0.048836]\n",
      " [-0.061414]\n",
      " [ 0.046916]\n",
      " [-0.063622]\n",
      " [ 0.084727]\n",
      " [ 0.061219]\n",
      " [-0.04983 ]\n",
      " [-0.03877 ]\n",
      " [ 0.047826]\n",
      " [ 0.065179]\n",
      " [-0.0491  ]\n",
      " [ 0.038595]\n",
      " [-0.050729]\n",
      " [-0.039556]\n",
      " [ 0.031653]\n",
      " [ 0.031653]\n",
      " [-0.039556]\n",
      " [-0.050729]\n",
      " [ 0.038595]\n",
      " [-0.0491  ]\n",
      " [ 0.065179]\n",
      " [ 0.047826]\n",
      " [-0.03877 ]\n",
      " [-0.04983 ]\n",
      " [ 0.061219]\n",
      " [ 0.084727]\n",
      " [-0.063622]\n",
      " [ 0.046916]\n",
      " [-0.061414]\n",
      " [-0.048836]\n",
      " [ 0.038892]\n",
      " [-0.048713]\n",
      " [ 0.061219]\n",
      " [ 0.076729]\n",
      " [-0.058658]\n",
      " [ 0.080296]\n",
      " [-0.10699 ]\n",
      " [-0.077106]\n",
      " [ 0.062807]\n",
      " [ 0.046528]\n",
      " [-0.05745 ]\n",
      " [-0.078022]\n",
      " [ 0.058818]\n",
      " [-0.046813]\n",
      " [ 0.061585]\n",
      " [ 0.047826]\n",
      " [-0.03831 ]\n",
      " [-0.05226 ]\n",
      " [ 0.065179]\n",
      " [ 0.084215]\n",
      " [-0.063964]\n",
      " [ 0.079697]\n",
      " [-0.105639]\n",
      " [-0.078022]\n",
      " [ 0.063132]\n",
      " [ 0.087213]\n",
      " [-0.10699 ]\n",
      " [-0.14882 ]\n",
      " [ 0.111622]\n",
      " [-0.081   ]\n",
      " [ 0.105875]\n",
      " [ 0.084727]\n",
      " [-0.067363]\n",
      " [ 0.048957]\n",
      " [-0.061414]\n",
      " [-0.077511]\n",
      " [ 0.059161]\n",
      " [-0.07956 ]\n",
      " [ 0.105875]\n",
      " [ 0.076729]\n",
      " [-0.062399]\n",
      " [-0.049973]\n",
      " [ 0.061585]\n",
      " [ 0.084215]\n",
      " [-0.063388]\n",
      " [ 0.049349]\n",
      " [-0.064805]\n",
      " [-0.050729]\n",
      " [ 0.04055 ]\n",
      " [-0.030859]\n",
      " [ 0.038595]\n",
      " [ 0.049349]\n",
      " [-0.037571]\n",
      " [ 0.048155]\n",
      " [-0.063964]\n",
      " [-0.046813]\n",
      " [ 0.037978]\n",
      " [ 0.047714]\n",
      " [-0.058658]\n",
      " [-0.081   ]\n",
      " [ 0.060857]\n",
      " [-0.045165]\n",
      " [ 0.059161]\n",
      " [ 0.046916]\n",
      " [-0.037391]\n",
      " [ 0.050594]\n",
      " [-0.063622]\n",
      " [-0.07956 ]\n",
      " [ 0.060857]\n",
      " [-0.083734]\n",
      " [ 0.111622]\n",
      " [ 0.080296]\n",
      " [-0.065441]\n",
      " [-0.047604]\n",
      " [ 0.058818]\n",
      " [ 0.079697]\n",
      " [-0.060114]\n",
      " [ 0.048155]\n",
      " [-0.063388]\n",
      " [-0.0491  ]\n",
      " [ 0.039359]\n",
      " [ 0.031065]\n",
      " [-0.03877 ]\n",
      " [-0.049973]\n",
      " [ 0.037978]\n",
      " [-0.047604]\n",
      " [ 0.063132]\n",
      " [ 0.046528]\n",
      " [-0.037672]\n",
      " [-0.051171]\n",
      " [ 0.062807]\n",
      " [ 0.087213]\n",
      " [-0.065441]\n",
      " [ 0.047714]\n",
      " [-0.062399]\n",
      " [-0.04983 ]\n",
      " [ 0.039641]\n",
      " [-0.030981]\n",
      " [ 0.038892]\n",
      " [ 0.048957]\n",
      " [-0.037391]\n",
      " [ 0.050594]\n",
      " [-0.067363]\n",
      " [-0.048713]\n",
      " [ 0.039641]\n",
      " [ 0.031065]\n",
      " [-0.03831 ]\n",
      " [-0.05226 ]\n",
      " [ 0.039359]\n",
      " [-0.030859]\n",
      " [ 0.04055 ]\n",
      " [ 0.031653]\n",
      " [-0.025322]]\n"
     ]
    }
   ],
   "source": [
    "# the first eigenvector\n",
    "eigen_values, eigen_vectors = qu.eigh(target_tfim)\n",
    "print(eigen_values[0])\n",
    "print(eigen_vectors[:, [0]])"
   ]
  },
  {
   "attachments": {},
   "cell_type": "markdown",
   "id": "dbe9a485-687f-4502-b879-9e58ae0bef06",
   "metadata": {},
   "source": [
    "固有値、固有ベクトルが一致している。  \n",
    "今回は、この状態の密度行列を学習対象とする。  \n",
    "Both eigenvalues and eigenvectors are equal.  \n",
    "In this notebook, the density matrix of this state is the target."
   ]
  },
  {
   "cell_type": "code",
   "execution_count": 10,
   "id": "b6cc1ee0-45d6-46c4-a6b2-9329c66dc8a8",
   "metadata": {},
   "outputs": [],
   "source": [
    "target_eta = ground_state @ ground_state.H"
   ]
  },
  {
   "cell_type": "code",
   "execution_count": 13,
   "id": "a8221e59",
   "metadata": {},
   "outputs": [
    {
     "data": {
      "text/plain": [
       "[[ 0.000641+0.j -0.000802+0.j -0.001027+0.j ... -0.001027+0.j -0.000802+0.j  0.000641+0.j]\n",
       " [-0.000802+0.j  0.001002+0.j  0.001284+0.j ...  0.001284+0.j  0.001002+0.j -0.000802+0.j]\n",
       " [-0.001027+0.j  0.001284+0.j  0.001644+0.j ...  0.001644+0.j  0.001284+0.j -0.001027+0.j]\n",
       " ...\n",
       " [-0.001027+0.j  0.001284+0.j  0.001644+0.j ...  0.001644+0.j  0.001284+0.j -0.001027+0.j]\n",
       " [-0.000802+0.j  0.001002+0.j  0.001284+0.j ...  0.001284+0.j  0.001002+0.j -0.000802+0.j]\n",
       " [ 0.000641+0.j -0.000802+0.j -0.001027+0.j ... -0.001027+0.j -0.000802+0.j  0.000641+0.j]]"
      ]
     },
     "execution_count": 13,
     "metadata": {},
     "output_type": "execute_result"
    }
   ],
   "source": [
    "target_eta"
   ]
  },
  {
   "cell_type": "code",
   "execution_count": 11,
   "id": "c6ecbe98-11de-4fb5-bede-3d59d37958ed",
   "metadata": {},
   "outputs": [],
   "source": [
    "target_probs = qu.eigvalsh(target_eta)"
   ]
  },
  {
   "cell_type": "code",
   "execution_count": 12,
   "id": "5307cf38-c3fa-4d56-927a-2bd2001edc62",
   "metadata": {},
   "outputs": [
    {
     "data": {
      "image/png": "[encoded data removed]",
      "text/plain": [
       "<Figure size 640x480 with 1 Axes>"
      ]
     },
     "metadata": {},
     "output_type": "display_data"
    }
   ],
   "source": [
    "_ = plt.plot(target_probs, '.')\n",
    "_ = plt.ylabel(\"Target probability\")\n",
    "_ = plt.xlabel(\"Quantum spin configuration\")"
   ]
  },
  {
   "attachments": {},
   "cell_type": "markdown",
   "id": "c3e6ea13-4891-467b-b504-6094a0990ddf",
   "metadata": {},
   "source": [
    "純粋状態なので、1点以外で確率は0である。  \n",
    "Since this is a pure state, the probability is zero except for one point."
   ]
  },
  {
   "attachments": {},
   "cell_type": "markdown",
   "id": "1f1cbc62-d2d8-4de5-823b-3bd2344d00fa",
   "metadata": {},
   "source": [
    "## QBM definition"
   ]
  },
  {
   "cell_type": "code",
   "execution_count": 14,
   "id": "fce93911-63aa-4c46-83bf-0e42c8db7e76",
   "metadata": {},
   "outputs": [],
   "source": [
    "rng = np.random.default_rng(seed=1)"
   ]
  },
  {
   "cell_type": "code",
   "execution_count": 15,
   "id": "9075d067-8c9e-4fdb-a717-2aaf948f4b10",
   "metadata": {},
   "outputs": [
    {
     "name": "stdout",
     "output_type": "stream",
     "text": [
      "Spin interaction: 0.346\n",
      "Field value: 0.822\n"
     ]
    }
   ],
   "source": [
    "# parameters to learn. Set initial values at random\n",
    "jz = rng.normal()\n",
    "bx = rng.normal()\n",
    "print(f\"Spin interaction: {jz:.3f}\")\n",
    "print(f\"Field value: {bx:.3f}\")"
   ]
  },
  {
   "cell_type": "code",
   "execution_count": 16,
   "id": "e44bef9c-d4b7-4325-bbac-9f21df46c76b",
   "metadata": {},
   "outputs": [],
   "source": [
    "qbm_tfim = qu.ham_ising(n, jz, bx)"
   ]
  },
  {
   "cell_type": "code",
   "execution_count": 17,
   "id": "d50b07bb-33fa-4eee-be97-98654d3384f4",
   "metadata": {},
   "outputs": [],
   "source": [
    "rho_qbm = qu.thermal_state(qbm_tfim, -1.0)"
   ]
  },
  {
   "cell_type": "code",
   "execution_count": 18,
   "id": "e71cb7ca-5fbb-48c6-9ca5-cd9357272a47",
   "metadata": {},
   "outputs": [
    {
     "data": {
      "image/png": "[encoded data removed]",
      "text/plain": [
       "<Figure size 640x480 with 2 Axes>"
      ]
     },
     "metadata": {},
     "output_type": "display_data"
    }
   ],
   "source": [
    "_ = plt.imshow(rho_qbm, interpolation='nearest')\n",
    "_ = plt.colorbar()"
   ]
  },
  {
   "cell_type": "code",
   "execution_count": 19,
   "id": "b36aaa98-a319-4b6c-af08-f7f5bca64870",
   "metadata": {},
   "outputs": [
    {
     "data": {
      "image/png": "[encoded data removed]",
      "text/plain": [
       "<Figure size 640x480 with 1 Axes>"
      ]
     },
     "metadata": {},
     "output_type": "display_data"
    }
   ],
   "source": [
    "rho_probs = qu.eigvalsh(rho_qbm)\n",
    "_ = plt.plot(rho_probs,'or')\n",
    "_ = plt.ylabel(\"QBM probability\")\n",
    "_ = plt.xlabel(\"Quantum spin configuration\")"
   ]
  },
  {
   "attachments": {},
   "cell_type": "markdown",
   "id": "113358ec-bfd6-4003-a7c7-82a01dd547d0",
   "metadata": {},
   "source": [
    "## Quantum relative entropy and its gradients"
   ]
  },
  {
   "cell_type": "code",
   "execution_count": 20,
   "id": "1a379168-3d27-4c0b-8ea7-297185a048d5",
   "metadata": {},
   "outputs": [],
   "source": [
    "# function to compute the quantum relative entropy between the target density and the QBM\n",
    "def qre(eta, h_qbm):\n",
    "    \"\"\"Quantum relative entropy\n",
    "\n",
    "    Args:\n",
    "        eta (Any): Target density matrix\n",
    "        h_qbm (Any): Hamiltonian of the QBM\n",
    "    \"\"\"\n",
    "    # h = qu.entropy(eta) # do not use because it has log2 inside\n",
    "    evals = qu.eigvalsh(eta).clip(1e-300)\n",
    "    h = np.sum(evals * np.log(evals))\n",
    "    # use log base e all the way\n",
    "    evals = qu.eigvalsh(h_qbm).clip(1e-300)\n",
    "    z = np.sum(np.exp(evals))\n",
    "    eta_stat = qu.expec(eta, h_qbm)\n",
    "    return h-eta_stat+qu.log(z)"
   ]
  },
  {
   "cell_type": "code",
   "execution_count": 22,
   "id": "db53a964",
   "metadata": {},
   "outputs": [],
   "source": [
    "# function to compute the quantum relative entropy between the target density and the QBM\n",
    "# since we will deal with a pure state later, which has zero eigenvalues and its log goes ton NAN, we implement a fix\n",
    "def qre2(eta, h_qbm):\n",
    "    \"\"\"Quantum relative entropy\n",
    "\n",
    "    Args:\n",
    "        eta (Any): Target density matrix\n",
    "        h_qbm (Any): Hamiltonian of the QBM\n",
    "    \"\"\"\n",
    "    # check if rank<nqubits\n",
    "    if np.linalg.matrix_rank(eta.A) == 1:\n",
    "        h = 0\n",
    "    else:\n",
    "        evals = qu.eigvalsh(eta)\n",
    "        h = np.sum(evals * np.log(evals))\n",
    "    # use log base e all the way\n",
    "    evals = qu.eigvalsh(h_qbm)\n",
    "    z = np.sum(np.exp(evals))\n",
    "    eta_stat = qu.expec(eta, h_qbm)\n",
    "    return h-eta_stat+qu.log(z)"
   ]
  },
  {
   "cell_type": "code",
   "execution_count": 23,
   "id": "6950de73-a229-4927-8883-ff34719e3fc0",
   "metadata": {},
   "outputs": [
    {
     "data": {
      "text/plain": [
       "3.4035956289116136"
      ]
     },
     "execution_count": 23,
     "metadata": {},
     "output_type": "execute_result"
    }
   ],
   "source": [
    "qre(target_eta, qbm_tfim)"
   ]
  },
  {
   "cell_type": "code",
   "execution_count": 24,
   "id": "ca297181",
   "metadata": {},
   "outputs": [
    {
     "data": {
      "text/plain": [
       "3.279922101418477"
      ]
     },
     "execution_count": 24,
     "metadata": {},
     "output_type": "execute_result"
    }
   ],
   "source": [
    "qre2(target_eta, qbm_tfim)"
   ]
  },
  {
   "cell_type": "code",
   "execution_count": 25,
   "id": "cec7a744-ab2b-4e26-a023-beed81ed835f",
   "metadata": {},
   "outputs": [],
   "source": [
    "# function to create h0 for the TFIM: this is the two-site term\n",
    "def h_two_sites(n):\n",
    "    dims = (2,) * n\n",
    "    two_site_term = qu.kron(qu.spin_operator('z'), qu.spin_operator('z'))\n",
    "    def gen_term(i):\n",
    "        return qu.ikron(two_site_term, dims, [i, i + 1])\n",
    "    return sum(map(gen_term, range(0,n-1)))\n",
    "\n",
    "\n",
    "# function to create h1 for the TFIM: this is the transverse-fiels term (put the minus sign in front)\n",
    "def h_single_site(n):\n",
    "    dims = (2,) * n\n",
    "    single_site_term = qu.spin_operator('x')\n",
    "    def gen_term(i):\n",
    "        return qu.ikron(single_site_term, dims, [i])\n",
    "    return -sum(map(gen_term, range(0,n)))"
   ]
  },
  {
   "cell_type": "code",
   "execution_count": 26,
   "id": "99eab812-8e42-4027-b987-204a3713df7f",
   "metadata": {},
   "outputs": [],
   "source": [
    "h0 = h_two_sites(n)\n",
    "h1 = h_single_site(n)"
   ]
  },
  {
   "cell_type": "code",
   "execution_count": 27,
   "id": "20e829f8-7a4f-4b8a-b185-dcc6fcd161df",
   "metadata": {},
   "outputs": [
    {
     "data": {
      "text/plain": [
       "True"
      ]
     },
     "execution_count": 27,
     "metadata": {},
     "output_type": "execute_result"
    }
   ],
   "source": [
    "h = jz * h0 + bx * h1\n",
    "np.allclose(qbm_tfim, h)"
   ]
  },
  {
   "attachments": {},
   "cell_type": "markdown",
   "id": "54c5837a-c6a9-4eae-bd29-6d5b816508bc",
   "metadata": {},
   "source": [
    "## Training of the QBM"
   ]
  },
  {
   "cell_type": "code",
   "execution_count": 28,
   "id": "b7b1cedc-7d4c-4d30-92da-f29b0996d355",
   "metadata": {},
   "outputs": [],
   "source": [
    "# learning rate\n",
    "gamma = 0.2\n",
    "# number of epochs\n",
    "epochs = 500"
   ]
  },
  {
   "cell_type": "code",
   "execution_count": 29,
   "id": "2cc5c1b9-e67b-4858-98e6-3e832ebb155f",
   "metadata": {},
   "outputs": [],
   "source": [
    "def compute_grads(hi, eta, rho):\n",
    "    \"\"\"Compute gradients given a list of hamiltonian terms (operators)\n",
    "\n",
    "    Args:\n",
    "        hi (List, Tuple): A list of hamiltonian terms\n",
    "        eta (Any): The target density matrix\n",
    "        rho (Any): The QBM density matrix\n",
    "\n",
    "    Returns:\n",
    "        np.ndarray: The array of the gradients\n",
    "    \"\"\"\n",
    "    grads = []\n",
    "    for h in hi:\n",
    "        rho_expect = qu.expec(rho, h).real\n",
    "        eta_expect = qu.expec(eta, h).real\n",
    "        grads.append(rho_expect-eta_expect)\n",
    "    return np.array(grads)"
   ]
  },
  {
   "cell_type": "code",
   "execution_count": 30,
   "id": "ab120030-5c48-46ec-8c7d-50f988effb53",
   "metadata": {},
   "outputs": [],
   "source": [
    "# gradient descent!\n",
    "def update_params(params, grads, gamma):\n",
    "    return params - gamma * grads"
   ]
  },
  {
   "cell_type": "code",
   "execution_count": 31,
   "id": "0804252b-8253-44ee-bb5a-21e8ce51b3cb",
   "metadata": {},
   "outputs": [],
   "source": [
    "new_params = [jz, bx]"
   ]
  },
  {
   "cell_type": "code",
   "execution_count": 62,
   "id": "44bff53b-423e-428f-bf5b-39169e9f80ec",
   "metadata": {},
   "outputs": [
    {
     "name": "stdout",
     "output_type": "stream",
     "text": [
      "Quantum relative entropy: 0.018930281520873393\n",
      "Max abs gradient: 0.005730837381103859\n",
      "Quantum relative entropy: 0.0188101436207333\n",
      "Max abs gradient: 0.005693358900994705\n",
      "Quantum relative entropy: 0.018691526996185814\n",
      "Max abs gradient: 0.005656365642142558\n",
      "Quantum relative entropy: 0.018574402874968143\n",
      "Max abs gradient: 0.005619848250366877\n",
      "Quantum relative entropy: 0.018458743207318662\n",
      "Max abs gradient: 0.00558379761050376\n",
      "Quantum relative entropy: 0.01834452064328218\n",
      "Max abs gradient: 0.005548204838823678\n",
      "Quantum relative entropy: 0.01823170851128708\n",
      "Max abs gradient: 0.00551306127572071\n",
      "Quantum relative entropy: 0.018120280796928512\n",
      "Max abs gradient: 0.00547835847868039\n",
      "Quantum relative entropy: 0.01801021212232712\n",
      "Max abs gradient: 0.0054440882155136205\n",
      "Quantum relative entropy: 0.01790147772831574\n",
      "Max abs gradient: 0.0054102424578412744\n",
      "Quantum relative entropy: 0.017794053453719982\n",
      "Max abs gradient: 0.00537681337482121\n",
      "Quantum relative entropy: 0.017687915719228897\n",
      "Max abs gradient: 0.005343793327102331\n",
      "Quantum relative entropy: 0.017583041507947428\n",
      "Max abs gradient: 0.005311174861003354\n",
      "Quantum relative entropy: 0.017479408350716596\n",
      "Max abs gradient: 0.005278950702898411\n",
      "Quantum relative entropy: 0.017376994308307303\n",
      "Max abs gradient: 0.005247113753812482\n",
      "Quantum relative entropy: 0.01727577795669788\n",
      "Max abs gradient: 0.005215657084201519\n",
      "Quantum relative entropy: 0.017175738371896898\n",
      "Max abs gradient: 0.005184573928927294\n",
      "Quantum relative entropy: 0.01707685511539836\n",
      "Max abs gradient: 0.005153857682406837\n",
      "Quantum relative entropy: 0.016979108219850048\n",
      "Max abs gradient: 0.0051235018939257415\n",
      "Quantum relative entropy: 0.01688247817583033\n",
      "Max abs gradient: 0.005093500263131268\n",
      "Quantum relative entropy: 0.0167869459189518\n",
      "Max abs gradient: 0.005063846635669722\n",
      "Quantum relative entropy: 0.01669249281650309\n",
      "Max abs gradient: 0.00503453499897738\n",
      "Quantum relative entropy: 0.016599100656328858\n",
      "Max abs gradient: 0.005005559478215238\n",
      "Quantum relative entropy: 0.016506751633784233\n",
      "Max abs gradient: 0.004976914332358473\n",
      "Quantum relative entropy: 0.01641542834146037\n",
      "Max abs gradient: 0.00494859395038455\n",
      "Quantum relative entropy: 0.01632511375821366\n",
      "Max abs gradient: 0.004920592847630467\n",
      "Quantum relative entropy: 0.016235791236823616\n",
      "Max abs gradient: 0.004892905662241764\n",
      "Quantum relative entropy: 0.016147444495821617\n",
      "Max abs gradient: 0.004865527151761584\n",
      "Quantum relative entropy: 0.01606005760844198\n",
      "Max abs gradient: 0.00483845218981116\n",
      "Quantum relative entropy: 0.01597361499300831\n",
      "Max abs gradient: 0.004811675762905698\n",
      "Quantum relative entropy: 0.015888101403767507\n",
      "Max abs gradient: 0.0047851929673523586\n",
      "Quantum relative entropy: 0.015803501922185603\n",
      "Max abs gradient: 0.0047589990062699705\n",
      "Quantum relative entropy: 0.01571980194761835\n",
      "Max abs gradient: 0.004733089186676809\n",
      "Quantum relative entropy: 0.015636987189139973\n",
      "Max abs gradient: 0.004707458916711538\n",
      "Quantum relative entropy: 0.015555043657762724\n",
      "Max abs gradient: 0.004682103702914053\n",
      "Quantum relative entropy: 0.01547395765764037\n",
      "Max abs gradient: 0.004657019147599029\n",
      "Quantum relative entropy: 0.015393715779282502\n",
      "Max abs gradient: 0.004632200946319498\n",
      "Quantum relative entropy: 0.015314304891006714\n",
      "Max abs gradient: 0.00460764488540899\n",
      "Quantum relative entropy: 0.015235712133879531\n",
      "Max abs gradient: 0.004583346839599267\n",
      "Quantum relative entropy: 0.015157924911768816\n",
      "Max abs gradient: 0.0045593027697112265\n",
      "Quantum relative entropy: 0.015080930886846033\n",
      "Max abs gradient: 0.004535508720423631\n",
      "Quantum relative entropy: 0.01500471797233871\n",
      "Max abs gradient: 0.004511960818102068\n",
      "Quantum relative entropy: 0.014929274325943709\n",
      "Max abs gradient: 0.004488655268703012\n",
      "Quantum relative entropy: 0.014854588343787611\n",
      "Max abs gradient: 0.004465588355742733\n",
      "Quantum relative entropy: 0.014780648654401318\n",
      "Max abs gradient: 0.004442756438316375\n",
      "Quantum relative entropy: 0.014707444113732038\n",
      "Max abs gradient: 0.004420155949193538\n",
      "Quantum relative entropy: 0.014634963797909961\n",
      "Max abs gradient: 0.004397783392962096\n",
      "Quantum relative entropy: 0.014563196998985006\n",
      "Max abs gradient: 0.004375635344223527\n",
      "Quantum relative entropy: 0.014492133219114578\n",
      "Max abs gradient: 0.004353708445853088\n",
      "Quantum relative entropy: 0.014421762166627161\n",
      "Max abs gradient: 0.004331999407308829\n"
     ]
    }
   ],
   "source": [
    "# stop when gradient is smaller than epsilon, at the final number of epochs\n",
    "eps = 1e-6\n",
    "# keep track of loss and gradients\n",
    "qre_hist = []\n",
    "grad_hist = []\n",
    "for i in range(epochs):\n",
    "    # create qbm hamiltonians\n",
    "    qbm_tfim = new_params[0] * h0 + new_params[1] * h1\n",
    "    qbm_tfim = qbm_tfim.real\n",
    "    qre_hist.append(qre(target_eta, qbm_tfim))\n",
    "    # create qbm state\n",
    "    rho = qu.thermal_state(qbm_tfim, -1.0)\n",
    "    # grad and update\n",
    "    grads = compute_grads([h0,h1], target_eta, rho)\n",
    "    grad_hist.append(np.abs(grads))\n",
    "    new_params = update_params(new_params, grads, gamma)\n",
    "    # print diagnostic\n",
    "    if (i % 10)==0:\n",
    "        print(f\"Quantum relative entropy: {qre_hist[-1]}\")\n",
    "        print(f\"Max abs gradient: {np.max(grad_hist[-1])}\")\n",
    "    if np.max(grad_hist[-1]) < eps:\n",
    "        print(f\"Max gradient smaller than precision\")\n",
    "        break"
   ]
  },
  {
   "attachments": {},
   "cell_type": "markdown",
   "id": "35c872a4-c95e-4d1b-ae5d-2e68f4913bb7",
   "metadata": {},
   "source": [
    "## Plots of diagnostic quantities"
   ]
  },
  {
   "cell_type": "code",
   "execution_count": 52,
   "id": "6b939c57-6041-46d5-bc31-502036838084",
   "metadata": {},
   "outputs": [
    {
     "data": {
      "text/plain": [
       "Text(0, 0.5, 'quantum relative entropy')"
      ]
     },
     "execution_count": 52,
     "metadata": {},
     "output_type": "execute_result"
    },
    {
     "data": {
      "image/png": "[encoded data removed]",
      "text/plain": [
       "<Figure size 640x480 with 1 Axes>"
      ]
     },
     "metadata": {},
     "output_type": "display_data"
    }
   ],
   "source": [
    "fig, ax = plt.subplots()\n",
    "ax.plot(qre_hist)\n",
    "ax.set_xlabel(\"epoch number\")\n",
    "ax.set_ylabel(\"quantum relative entropy\")"
   ]
  },
  {
   "cell_type": "code",
   "execution_count": 63,
   "id": "7fbf1cea-7de3-40f0-8fa2-1a77a32af60a",
   "metadata": {},
   "outputs": [
    {
     "data": {
      "text/plain": [
       "Text(0, 0.5, 'Max. of gradients')"
      ]
     },
     "execution_count": 63,
     "metadata": {},
     "output_type": "execute_result"
    },
    {
     "data": {
      "image/png": "[encoded data removed]",
      "text/plain": [
       "<Figure size 640x480 with 1 Axes>"
      ]
     },
     "metadata": {},
     "output_type": "display_data"
    }
   ],
   "source": [
    "fig, ax = plt.subplots()\n",
    "ax.plot(np.max(grad_hist,axis=1))\n",
    "ax.set_xlabel(\"epoch number\")\n",
    "ax.set_ylabel(\"Max. of gradients\")"
   ]
  },
  {
   "attachments": {},
   "cell_type": "markdown",
   "id": "1d2c67d7-0dd8-44d9-87a1-818882f9efc2",
   "metadata": {},
   "source": [
    "KLダイバージェンスや勾配の最大値は0に収束している。  \n",
    "The relative entropy and the maximum values of gradient are converging toward zero."
   ]
  },
  {
   "attachments": {},
   "cell_type": "markdown",
   "id": "4d8d2d15-d67c-4a16-a4d0-3fc4b2b0025b",
   "metadata": {},
   "source": [
    "## Compare the final parameters with the target parameters."
   ]
  },
  {
   "cell_type": "code",
   "execution_count": 64,
   "id": "93406975-f488-47e6-8373-45ad555e56b0",
   "metadata": {},
   "outputs": [],
   "source": [
    "qbm_tfim = new_params[0] * h0 + new_params[1] * h1\n",
    "qbm_tfim = qbm_tfim.real\n",
    "rho_qbm = qu.thermal_state(qbm_tfim, -1.0)"
   ]
  },
  {
   "cell_type": "code",
   "execution_count": 65,
   "id": "c7fec71a-e7c1-462e-97af-87b21d81c07a",
   "metadata": {},
   "outputs": [
    {
     "name": "stdout",
     "output_type": "stream",
     "text": [
      "Trained QBM parameters:\n",
      " Jz=8.26967999556811 Bx=-8.432892421345482\n"
     ]
    }
   ],
   "source": [
    "qbm_jz, qbm_bx = -new_params\n",
    "print(f\"Trained QBM parameters:\\n Jz={qbm_jz} Bx={qbm_bx}\")"
   ]
  },
  {
   "cell_type": "code",
   "execution_count": 66,
   "id": "fd05189e-0296-4bae-a0b5-d6c51f768ad3",
   "metadata": {},
   "outputs": [
    {
     "data": {
      "image/png": "[encoded data removed]",
      "text/plain": [
       "<Figure size 640x480 with 1 Axes>"
      ]
     },
     "metadata": {},
     "output_type": "display_data"
    }
   ],
   "source": [
    "rho_probs = qu.eigvalsh(rho_qbm)\n",
    "_ = plt.plot(target_probs,'ob')\n",
    "_ = plt.plot(rho_probs,'xr')\n",
    "_ = plt.ylabel(\"Probabilities\")\n",
    "_ = plt.xlabel(\"Quantum spin configuration\")\n",
    "_ = plt.legend([\"Target\",\"QBM\"])"
   ]
  },
  {
   "attachments": {},
   "cell_type": "markdown",
   "id": "2239604c-6cee-4e73-9d2a-c2fcf6e1e683",
   "metadata": {},
   "source": [
    "QBMで学習された状態と、ターゲット状態およびVQEで生成された量子回路と比較する。  \n",
    "Compare the state learned in the QBM with the target state and the quantum circuit generated in the VQE."
   ]
  },
  {
   "cell_type": "code",
   "execution_count": null,
   "id": "36fd281d",
   "metadata": {},
   "outputs": [],
   "source": [
    "circ = QuantumCircuit.from_qasm_file(f\"{vqe_data_folder}/qasm/{str(n).zfill(2)}qubit/label0/label0_ansatz0_00.qasm\")\n"
   ]
  },
  {
   "cell_type": "code",
   "execution_count": 60,
   "id": "053e5e37",
   "metadata": {},
   "outputs": [
    {
     "data": {
      "text/html": [
       "<pre style=\"word-wrap: normal;white-space: pre;background: #fff0;line-height: 1.1;font-family: &quot;Courier New&quot;,Courier,monospace\">                                ┌───┐┌───────────────┐┌───┐┌────────────────┐»\n",
       "q_0: ──■─────────────────────■──┤ H ├┤ Rz(-0.031055) ├┤ H ├┤ Rz(-0.0013923) ├»\n",
       "     ┌─┴─┐┌───────────────┐┌─┴─┐└───┘└───────────────┘└───┘└─────┬───┬──────┘»\n",
       "q_1: ┤ X ├┤ Rz(-0.031593) ├┤ X ├──■─────────────────────■────────┤ H ├───────»\n",
       "     └───┘└───────────────┘└───┘┌─┴─┐┌───────────────┐┌─┴─┐      └───┘       »\n",
       "q_2: ───────────────────────────┤ X ├┤ Rz(-0.071493) ├┤ X ├────────■─────────»\n",
       "                                └───┘└───────────────┘└───┘      ┌─┴─┐       »\n",
       "q_3: ────────────────────────────────────────────────────────────┤ X ├───────»\n",
       "                                                                 └───┘       »\n",
       "q_4: ────────────────────────────────────────────────────────────────────────»\n",
       "                                                                             »\n",
       "q_5: ────────────────────────────────────────────────────────────────────────»\n",
       "                                                                             »\n",
       "q_6: ────────────────────────────────────────────────────────────────────────»\n",
       "                                                                             »\n",
       "q_7: ────────────────────────────────────────────────────────────────────────»\n",
       "                                                                             »\n",
       "«                                                                           »\n",
       "«q_0: ─────────────────────────────────────────────■────────────────────────»\n",
       "«      ┌─────────────┐ ┌───┐┌─────────────┐      ┌─┴─┐       ┌─────────────┐»\n",
       "«q_1: ─┤ Rz(-1.5684) ├─┤ H ├┤ Rz(-1.5614) ├──────┤ X ├───────┤ Rz(-1.2808) ├»\n",
       "«      └─────────────┘ └───┘└────┬───┬────┘ ┌────┴───┴────┐  └────┬───┬────┘»\n",
       "«q_2: ───────────────────■───────┤ H ├──────┤ Rz(-1.5707) ├───────┤ H ├─────»\n",
       "«     ┌───────────────┐┌─┴─┐     └───┘      └─────────────┘       └───┘     »\n",
       "«q_3: ┤ Rz(-0.077591) ├┤ X ├───────■────────────────────────────────■───────»\n",
       "«     └───────────────┘└───┘     ┌─┴─┐     ┌────────────────┐     ┌─┴─┐     »\n",
       "«q_4: ───────────────────────────┤ X ├─────┤ Rz(-0.0081784) ├─────┤ X ├─────»\n",
       "«                                └───┘     └────────────────┘     └───┘     »\n",
       "«q_5: ──────────────────────────────────────────────────────────────────────»\n",
       "«                                                                           »\n",
       "«q_6: ──────────────────────────────────────────────────────────────────────»\n",
       "«                                                                           »\n",
       "«q_7: ──────────────────────────────────────────────────────────────────────»\n",
       "«                                                                           »\n",
       "«                            ┌───┐      ┌──────────────┐     ┌───┐     »\n",
       "«q_0: ────────■──────────────┤ H ├──────┤ Rz(-0.24378) ├─────┤ H ├─────»\n",
       "«           ┌─┴─┐            └───┘      └──────────────┘     └───┘     »\n",
       "«q_1: ──────┤ X ├──────────────■───────────────────────────────■───────»\n",
       "«     ┌─────┴───┴─────┐      ┌─┴─┐       ┌────────────┐      ┌─┴─┐     »\n",
       "«q_2: ┤ Rz(-0.039205) ├──────┤ X ├───────┤ Rz(1.5709) ├──────┤ X ├─────»\n",
       "«     └─────┬───┬─────┘ ┌────┴───┴────┐  └───┬───┬────┘ ┌────┴───┴────┐»\n",
       "«q_3: ──────┤ H ├───────┤ Rz(-1.5708) ├──────┤ H ├──────┤ Rz(-1.5708) ├»\n",
       "«           └───┘       └─────────────┘      └───┘      └────┬───┬────┘»\n",
       "«q_4: ────────■────────────────────────────────■─────────────┤ H ├─────»\n",
       "«           ┌─┴─┐      ┌───────────────┐     ┌─┴─┐           └───┘     »\n",
       "«q_5: ──────┤ X ├──────┤ Rz(-0.052109) ├─────┤ X ├─────────────■───────»\n",
       "«           └───┘      └───────────────┘     └───┘           ┌─┴─┐     »\n",
       "«q_6: ───────────────────────────────────────────────────────┤ X ├─────»\n",
       "«                                                            └───┘     »\n",
       "«q_7: ─────────────────────────────────────────────────────────────────»\n",
       "«                                                                      »\n",
       "«       ┌────────────┐                                                »\n",
       "«q_0: ──┤ Rz(1.5712) ├────────────────────────────────────────────────»\n",
       "«       └───┬───┬────┘ ┌─────────────┐     ┌───┐      ┌──────────────┐»\n",
       "«q_1: ──────┤ H ├──────┤ Rz(-1.5334) ├─────┤ H ├──────┤ Rz(-0.22739) ├»\n",
       "«           └───┘      └─────────────┘     └───┘      └────┬───┬─────┘»\n",
       "«q_2: ────────■──────────────────────────────■─────────────┤ H ├──────»\n",
       "«           ┌─┴─┐      ┌─────────────┐     ┌─┴─┐           └───┘      »\n",
       "«q_3: ──────┤ X ├──────┤ Rz(0.63724) ├─────┤ X ├─────────────■────────»\n",
       "«       ┌───┴───┴────┐ └────┬───┬────┘┌────┴───┴────┐      ┌─┴─┐      »\n",
       "«q_4: ──┤ Rz(1.5708) ├──────┤ H ├─────┤ Rz(-1.5708) ├──────┤ X ├──────»\n",
       "«       └────────────┘      └───┘     └────┬───┬────┘  ┌───┴───┴────┐ »\n",
       "«q_5: ────────────────────────■────────────┤ H ├───────┤ Rz(1.5708) ├─»\n",
       "«     ┌───────────────┐     ┌─┴─┐          └───┘       └────────────┘ »\n",
       "«q_6: ┤ Rz(-0.050938) ├─────┤ X ├────────────■────────────────────────»\n",
       "«     └───────────────┘     └───┘          ┌─┴─┐     ┌───────────────┐»\n",
       "«q_7: ─────────────────────────────────────┤ X ├─────┤ Rz(-0.052433) ├»\n",
       "«                                          └───┘     └───────────────┘»\n",
       "«                                                         ┌───┐      »\n",
       "«q_0: ───────■──────────────────────────────■─────────────┤ H ├──────»\n",
       "«          ┌─┴─┐       ┌────────────┐     ┌─┴─┐           └───┘      »\n",
       "«q_1: ─────┤ X ├───────┤ Rz(1.5599) ├─────┤ X ├─────────────■────────»\n",
       "«     ┌────┴───┴─────┐ └───┬───┬────┘┌────┴───┴─────┐     ┌─┴─┐      »\n",
       "«q_2: ┤ Rz(0.049047) ├─────┤ H ├─────┤ Rz(-0.27799) ├─────┤ X ├──────»\n",
       "«     └──────────────┘     └───┘     └────┬───┬─────┘┌────┴───┴────┐ »\n",
       "«q_3: ───────────────────────■────────────┤ H ├──────┤ Rz(-0.1422) ├─»\n",
       "«      ┌────────────┐      ┌─┴─┐          └───┘      └─────────────┘ »\n",
       "«q_4: ─┤ Rz(-1.571) ├──────┤ X ├────────────■────────────────────────»\n",
       "«      └───┬───┬────┘ ┌────┴───┴────┐     ┌─┴─┐      ┌──────────────┐»\n",
       "«q_5: ─────┤ H ├──────┤ Rz(-1.6342) ├─────┤ X ├──────┤ Rz(-0.63717) ├»\n",
       "«          └───┘      └────┬───┬────┘ ┌───┴───┴────┐ └────┬───┬─────┘»\n",
       "«q_6: ───────■─────────────┤ H ├──────┤ Rz(1.5709) ├──────┤ H ├──────»\n",
       "«          ┌─┴─┐           ├───┤      ├────────────┤      ├───┤      »\n",
       "«q_7: ─────┤ X ├───────────┤ H ├──────┤ Rz(1.0303) ├──────┤ H ├──────»\n",
       "«          └───┘           └───┘      └────────────┘      └───┘      »\n",
       "«     ┌─────────────┐    ┌───┐      ┌────────────┐                »\n",
       "«q_0: ┤ Rz(-1.5708) ├────┤ H ├──────┤ Rz(1.5668) ├────────────────»\n",
       "«     └─────────────┘    └───┘      └───┬───┬────┘┌─────────────┐ »\n",
       "«q_1: ─────────────────────■────────────┤ H ├─────┤ Rz(-3.1415) ├─»\n",
       "«      ┌────────────┐    ┌─┴─┐          └───┘     └─────────────┘ »\n",
       "«q_2: ─┤ Rz(1.5682) ├────┤ X ├────────────■───────────────────────»\n",
       "«      └───┬───┬────┘┌───┴───┴────┐     ┌─┴─┐     ┌──────────────┐»\n",
       "«q_3: ─────┤ H ├─────┤ Rz(3.1416) ├─────┤ X ├─────┤ Rz(-0.38803) ├»\n",
       "«          └───┘     └───┬───┬────┘┌────┴───┴────┐└────┬───┬─────┘»\n",
       "«q_4: ───────■───────────┤ H ├─────┤ Rz(0.14222) ├─────┤ H ├──────»\n",
       "«          ┌─┴─┐         └───┘     └─────────────┘     └───┘      »\n",
       "«q_5: ─────┤ X ├───────────■─────────────────────────────■────────»\n",
       "«      ┌───┴───┴────┐    ┌─┴─┐     ┌─────────────┐     ┌─┴─┐      »\n",
       "«q_6: ─┤ Rz(-1.714) ├────┤ X ├─────┤ Rz(-1.5701) ├─────┤ X ├──────»\n",
       "«     ┌┴────────────┤    └───┘     └─────────────┘     └───┘      »\n",
       "«q_7: ┤ Rz(-2.4121) ├─────────────────────────────────────────────»\n",
       "«     └─────────────┘                                             »\n",
       "«                                                                      »\n",
       "«q_0: ─────────────────────────────────────────────────────────────────»\n",
       "«           ┌───┐       ┌─────────────┐                                »\n",
       "«q_1: ──────┤ H ├───────┤ Rz(-0.2274) ├────────────────────────────────»\n",
       "«           └───┘       └────┬───┬────┘ ┌────────────┐      ┌───┐      »\n",
       "«q_2: ────────■──────────────┤ H ├──────┤ Rz(3.1414) ├──────┤ H ├──────»\n",
       "«           ┌─┴─┐            └───┘      └────────────┘      └───┘      »\n",
       "«q_3: ──────┤ X ├──────────────■──────────────────────────────■────────»\n",
       "«     ┌─────┴───┴──────┐     ┌─┴─┐      ┌───────────┐       ┌─┴─┐      »\n",
       "«q_4: ┤ Rz(3.0288e-06) ├─────┤ X ├──────┤ Rz(1.571) ├───────┤ X ├──────»\n",
       "«     └─────┬───┬──────┘┌────┴───┴─────┐└───┬───┬───┘ ┌─────┴───┴─────┐»\n",
       "«q_5: ──────┤ H ├───────┤ Rz(-0.04905) ├────┤ H ├─────┤ Rz(-0.038341) ├»\n",
       "«           └───┘       └──────────────┘    └───┘     └─────┬───┬─────┘»\n",
       "«q_6: ────────■───────────────────────────────■─────────────┤ H ├──────»\n",
       "«           ┌─┴─┐       ┌──────────────┐    ┌─┴─┐           ├───┤      »\n",
       "«q_7: ──────┤ X ├───────┤ Rz(-0.11495) ├────┤ X ├───────────┤ H ├──────»\n",
       "«           └───┘       └──────────────┘    └───┘           └───┘      »\n",
       "«                                                                      »\n",
       "«q_0: ─────────────────────────────────────────────────────────────────»\n",
       "«                                                                      »\n",
       "«q_1: ─────────────────────────────────────────────────────────────────»\n",
       "«     ┌──────────────┐                                                 »\n",
       "«q_2: ┤ Rz(-0.27801) ├─────────────────────────────────────────────────»\n",
       "«     └────┬───┬─────┘┌─────────────┐     ┌───┐      ┌────────────────┐»\n",
       "«q_3: ─────┤ H ├──────┤ Rz(-1.5708) ├─────┤ H ├──────┤ Rz(1.5635e-05) ├»\n",
       "«          └───┘      └─────────────┘     └───┘      └─────┬───┬──────┘»\n",
       "«q_4: ───────■──────────────────────────────■──────────────┤ H ├───────»\n",
       "«          ┌─┴─┐      ┌─────────────┐     ┌─┴─┐            └───┘       »\n",
       "«q_5: ─────┤ X ├──────┤ Rz(0.38796) ├─────┤ X ├──────────────■─────────»\n",
       "«     ┌────┴───┴────┐ └────┬───┬────┘ ┌───┴───┴────┐       ┌─┴─┐       »\n",
       "«q_6: ┤ Rz(-2.8345) ├──────┤ H ├──────┤ Rz(1.7804) ├───────┤ X ├───────»\n",
       "«     └┬────────────┤      ├───┤     ┌┴────────────┴┐      └───┘       »\n",
       "«q_7: ─┤ Rz(3.1413) ├──────┤ H ├─────┤ Rz(-0.84144) ├──────────────────»\n",
       "«      └────────────┘      └───┘     └──────────────┘                  »\n",
       "«                                                                  »\n",
       "«q_0: ─────────────────────────────────────────────────────────────»\n",
       "«                                                                  »\n",
       "«q_1: ─────────────────────────────────────────────────────────────»\n",
       "«                                                                  »\n",
       "«q_2: ─────────────────────────────────────────────────────────────»\n",
       "«                                                                  »\n",
       "«q_3: ─────────────────────────────────────────────────────────────»\n",
       "«     ┌─────────────┐┌───┐┌─────────────────┐                      »\n",
       "«q_4: ┤ Rz(-1.5707) ├┤ H ├┤ Rz(-8.7145e-06) ├──────────────────────»\n",
       "«     └─────────────┘└───┘└──────┬───┬──────┘┌───────────────┐┌───┐»\n",
       "«q_5: ─────────────────■─────────┤ H ├───────┤ Rz(5.949e-05) ├┤ H ├»\n",
       "«      ┌───────────┐ ┌─┴─┐       └───┘       └───────────────┘└───┘»\n",
       "«q_6: ─┤ Rz(-1.57) ├─┤ X ├─────────■────────────────────────────■──»\n",
       "«      └───────────┘ └───┘       ┌─┴─┐        ┌─────────────┐ ┌─┴─┐»\n",
       "«q_7: ───────────────────────────┤ X ├────────┤ Rz(0.40541) ├─┤ X ├»\n",
       "«                                └───┘        └─────────────┘ └───┘»\n",
       "«                                                           \n",
       "«q_0: ──────────────────────────────────────────────────────\n",
       "«                                                           \n",
       "«q_1: ──────────────────────────────────────────────────────\n",
       "«                                                           \n",
       "«q_2: ──────────────────────────────────────────────────────\n",
       "«                                                           \n",
       "«q_3: ──────────────────────────────────────────────────────\n",
       "«                                                           \n",
       "«q_4: ──────────────────────────────────────────────────────\n",
       "«     ┌──────────────┐                                      \n",
       "«q_5: ┤ Rz(0.038338) ├──────────────────────────────────────\n",
       "«     └────┬───┬─────┘┌────────────────┐┌───┐┌─────────────┐\n",
       "«q_6: ─────┤ H ├──────┤ Rz(1.0678e-05) ├┤ H ├┤ Rz(-1.7804) ├\n",
       "«          ├───┤      └─┬────────────┬─┘├───┤├─────────────┤\n",
       "«q_7: ─────┤ H ├────────┤ Rz(1.5708) ├──┤ H ├┤ Rz(0.56029) ├\n",
       "«          └───┘        └────────────┘  └───┘└─────────────┘</pre>"
      ],
      "text/plain": [
       "                                ┌───┐┌───────────────┐┌───┐┌────────────────┐»\n",
       "q_0: ──■─────────────────────■──┤ H ├┤ Rz(-0.031055) ├┤ H ├┤ Rz(-0.0013923) ├»\n",
       "     ┌─┴─┐┌───────────────┐┌─┴─┐└───┘└───────────────┘└───┘└─────┬───┬──────┘»\n",
       "q_1: ┤ X ├┤ Rz(-0.031593) ├┤ X ├──■─────────────────────■────────┤ H ├───────»\n",
       "     └───┘└───────────────┘└───┘┌─┴─┐┌───────────────┐┌─┴─┐      └───┘       »\n",
       "q_2: ───────────────────────────┤ X ├┤ Rz(-0.071493) ├┤ X ├────────■─────────»\n",
       "                                └───┘└───────────────┘└───┘      ┌─┴─┐       »\n",
       "q_3: ────────────────────────────────────────────────────────────┤ X ├───────»\n",
       "                                                                 └───┘       »\n",
       "q_4: ────────────────────────────────────────────────────────────────────────»\n",
       "                                                                             »\n",
       "q_5: ────────────────────────────────────────────────────────────────────────»\n",
       "                                                                             »\n",
       "q_6: ────────────────────────────────────────────────────────────────────────»\n",
       "                                                                             »\n",
       "q_7: ────────────────────────────────────────────────────────────────────────»\n",
       "                                                                             »\n",
       "«                                                                           »\n",
       "«q_0: ─────────────────────────────────────────────■────────────────────────»\n",
       "«      ┌─────────────┐ ┌───┐┌─────────────┐      ┌─┴─┐       ┌─────────────┐»\n",
       "«q_1: ─┤ Rz(-1.5684) ├─┤ H ├┤ Rz(-1.5614) ├──────┤ X ├───────┤ Rz(-1.2808) ├»\n",
       "«      └─────────────┘ └───┘└────┬───┬────┘ ┌────┴───┴────┐  └────┬───┬────┘»\n",
       "«q_2: ───────────────────■───────┤ H ├──────┤ Rz(-1.5707) ├───────┤ H ├─────»\n",
       "«     ┌───────────────┐┌─┴─┐     └───┘      └─────────────┘       └───┘     »\n",
       "«q_3: ┤ Rz(-0.077591) ├┤ X ├───────■────────────────────────────────■───────»\n",
       "«     └───────────────┘└───┘     ┌─┴─┐     ┌────────────────┐     ┌─┴─┐     »\n",
       "«q_4: ───────────────────────────┤ X ├─────┤ Rz(-0.0081784) ├─────┤ X ├─────»\n",
       "«                                └───┘     └────────────────┘     └───┘     »\n",
       "«q_5: ──────────────────────────────────────────────────────────────────────»\n",
       "«                                                                           »\n",
       "«q_6: ──────────────────────────────────────────────────────────────────────»\n",
       "«                                                                           »\n",
       "«q_7: ──────────────────────────────────────────────────────────────────────»\n",
       "«                                                                           »\n",
       "«                            ┌───┐      ┌──────────────┐     ┌───┐     »\n",
       "«q_0: ────────■──────────────┤ H ├──────┤ Rz(-0.24378) ├─────┤ H ├─────»\n",
       "«           ┌─┴─┐            └───┘      └──────────────┘     └───┘     »\n",
       "«q_1: ──────┤ X ├──────────────■───────────────────────────────■───────»\n",
       "«     ┌─────┴───┴─────┐      ┌─┴─┐       ┌────────────┐      ┌─┴─┐     »\n",
       "«q_2: ┤ Rz(-0.039205) ├──────┤ X ├───────┤ Rz(1.5709) ├──────┤ X ├─────»\n",
       "«     └─────┬───┬─────┘ ┌────┴───┴────┐  └───┬───┬────┘ ┌────┴───┴────┐»\n",
       "«q_3: ──────┤ H ├───────┤ Rz(-1.5708) ├──────┤ H ├──────┤ Rz(-1.5708) ├»\n",
       "«           └───┘       └─────────────┘      └───┘      └────┬───┬────┘»\n",
       "«q_4: ────────■────────────────────────────────■─────────────┤ H ├─────»\n",
       "«           ┌─┴─┐      ┌───────────────┐     ┌─┴─┐           └───┘     »\n",
       "«q_5: ──────┤ X ├──────┤ Rz(-0.052109) ├─────┤ X ├─────────────■───────»\n",
       "«           └───┘      └───────────────┘     └───┘           ┌─┴─┐     »\n",
       "«q_6: ───────────────────────────────────────────────────────┤ X ├─────»\n",
       "«                                                            └───┘     »\n",
       "«q_7: ─────────────────────────────────────────────────────────────────»\n",
       "«                                                                      »\n",
       "«       ┌────────────┐                                                »\n",
       "«q_0: ──┤ Rz(1.5712) ├────────────────────────────────────────────────»\n",
       "«       └───┬───┬────┘ ┌─────────────┐     ┌───┐      ┌──────────────┐»\n",
       "«q_1: ──────┤ H ├──────┤ Rz(-1.5334) ├─────┤ H ├──────┤ Rz(-0.22739) ├»\n",
       "«           └───┘      └─────────────┘     └───┘      └────┬───┬─────┘»\n",
       "«q_2: ────────■──────────────────────────────■─────────────┤ H ├──────»\n",
       "«           ┌─┴─┐      ┌─────────────┐     ┌─┴─┐           └───┘      »\n",
       "«q_3: ──────┤ X ├──────┤ Rz(0.63724) ├─────┤ X ├─────────────■────────»\n",
       "«       ┌───┴───┴────┐ └────┬───┬────┘┌────┴───┴────┐      ┌─┴─┐      »\n",
       "«q_4: ──┤ Rz(1.5708) ├──────┤ H ├─────┤ Rz(-1.5708) ├──────┤ X ├──────»\n",
       "«       └────────────┘      └───┘     └────┬───┬────┘  ┌───┴───┴────┐ »\n",
       "«q_5: ────────────────────────■────────────┤ H ├───────┤ Rz(1.5708) ├─»\n",
       "«     ┌───────────────┐     ┌─┴─┐          └───┘       └────────────┘ »\n",
       "«q_6: ┤ Rz(-0.050938) ├─────┤ X ├────────────■────────────────────────»\n",
       "«     └───────────────┘     └───┘          ┌─┴─┐     ┌───────────────┐»\n",
       "«q_7: ─────────────────────────────────────┤ X ├─────┤ Rz(-0.052433) ├»\n",
       "«                                          └───┘     └───────────────┘»\n",
       "«                                                         ┌───┐      »\n",
       "«q_0: ───────■──────────────────────────────■─────────────┤ H ├──────»\n",
       "«          ┌─┴─┐       ┌────────────┐     ┌─┴─┐           └───┘      »\n",
       "«q_1: ─────┤ X ├───────┤ Rz(1.5599) ├─────┤ X ├─────────────■────────»\n",
       "«     ┌────┴───┴─────┐ └───┬───┬────┘┌────┴───┴─────┐     ┌─┴─┐      »\n",
       "«q_2: ┤ Rz(0.049047) ├─────┤ H ├─────┤ Rz(-0.27799) ├─────┤ X ├──────»\n",
       "«     └──────────────┘     └───┘     └────┬───┬─────┘┌────┴───┴────┐ »\n",
       "«q_3: ───────────────────────■────────────┤ H ├──────┤ Rz(-0.1422) ├─»\n",
       "«      ┌────────────┐      ┌─┴─┐          └───┘      └─────────────┘ »\n",
       "«q_4: ─┤ Rz(-1.571) ├──────┤ X ├────────────■────────────────────────»\n",
       "«      └───┬───┬────┘ ┌────┴───┴────┐     ┌─┴─┐      ┌──────────────┐»\n",
       "«q_5: ─────┤ H ├──────┤ Rz(-1.6342) ├─────┤ X ├──────┤ Rz(-0.63717) ├»\n",
       "«          └───┘      └────┬───┬────┘ ┌───┴───┴────┐ └────┬───┬─────┘»\n",
       "«q_6: ───────■─────────────┤ H ├──────┤ Rz(1.5709) ├──────┤ H ├──────»\n",
       "«          ┌─┴─┐           ├───┤      ├────────────┤      ├───┤      »\n",
       "«q_7: ─────┤ X ├───────────┤ H ├──────┤ Rz(1.0303) ├──────┤ H ├──────»\n",
       "«          └───┘           └───┘      └────────────┘      └───┘      »\n",
       "«     ┌─────────────┐    ┌───┐      ┌────────────┐                »\n",
       "«q_0: ┤ Rz(-1.5708) ├────┤ H ├──────┤ Rz(1.5668) ├────────────────»\n",
       "«     └─────────────┘    └───┘      └───┬───┬────┘┌─────────────┐ »\n",
       "«q_1: ─────────────────────■────────────┤ H ├─────┤ Rz(-3.1415) ├─»\n",
       "«      ┌────────────┐    ┌─┴─┐          └───┘     └─────────────┘ »\n",
       "«q_2: ─┤ Rz(1.5682) ├────┤ X ├────────────■───────────────────────»\n",
       "«      └───┬───┬────┘┌───┴───┴────┐     ┌─┴─┐     ┌──────────────┐»\n",
       "«q_3: ─────┤ H ├─────┤ Rz(3.1416) ├─────┤ X ├─────┤ Rz(-0.38803) ├»\n",
       "«          └───┘     └───┬───┬────┘┌────┴───┴────┐└────┬───┬─────┘»\n",
       "«q_4: ───────■───────────┤ H ├─────┤ Rz(0.14222) ├─────┤ H ├──────»\n",
       "«          ┌─┴─┐         └───┘     └─────────────┘     └───┘      »\n",
       "«q_5: ─────┤ X ├───────────■─────────────────────────────■────────»\n",
       "«      ┌───┴───┴────┐    ┌─┴─┐     ┌─────────────┐     ┌─┴─┐      »\n",
       "«q_6: ─┤ Rz(-1.714) ├────┤ X ├─────┤ Rz(-1.5701) ├─────┤ X ├──────»\n",
       "«     ┌┴────────────┤    └───┘     └─────────────┘     └───┘      »\n",
       "«q_7: ┤ Rz(-2.4121) ├─────────────────────────────────────────────»\n",
       "«     └─────────────┘                                             »\n",
       "«                                                                      »\n",
       "«q_0: ─────────────────────────────────────────────────────────────────»\n",
       "«           ┌───┐       ┌─────────────┐                                »\n",
       "«q_1: ──────┤ H ├───────┤ Rz(-0.2274) ├────────────────────────────────»\n",
       "«           └───┘       └────┬───┬────┘ ┌────────────┐      ┌───┐      »\n",
       "«q_2: ────────■──────────────┤ H ├──────┤ Rz(3.1414) ├──────┤ H ├──────»\n",
       "«           ┌─┴─┐            └───┘      └────────────┘      └───┘      »\n",
       "«q_3: ──────┤ X ├──────────────■──────────────────────────────■────────»\n",
       "«     ┌─────┴───┴──────┐     ┌─┴─┐      ┌───────────┐       ┌─┴─┐      »\n",
       "«q_4: ┤ Rz(3.0288e-06) ├─────┤ X ├──────┤ Rz(1.571) ├───────┤ X ├──────»\n",
       "«     └─────┬───┬──────┘┌────┴───┴─────┐└───┬───┬───┘ ┌─────┴───┴─────┐»\n",
       "«q_5: ──────┤ H ├───────┤ Rz(-0.04905) ├────┤ H ├─────┤ Rz(-0.038341) ├»\n",
       "«           └───┘       └──────────────┘    └───┘     └─────┬───┬─────┘»\n",
       "«q_6: ────────■───────────────────────────────■─────────────┤ H ├──────»\n",
       "«           ┌─┴─┐       ┌──────────────┐    ┌─┴─┐           ├───┤      »\n",
       "«q_7: ──────┤ X ├───────┤ Rz(-0.11495) ├────┤ X ├───────────┤ H ├──────»\n",
       "«           └───┘       └──────────────┘    └───┘           └───┘      »\n",
       "«                                                                      »\n",
       "«q_0: ─────────────────────────────────────────────────────────────────»\n",
       "«                                                                      »\n",
       "«q_1: ─────────────────────────────────────────────────────────────────»\n",
       "«     ┌──────────────┐                                                 »\n",
       "«q_2: ┤ Rz(-0.27801) ├─────────────────────────────────────────────────»\n",
       "«     └────┬───┬─────┘┌─────────────┐     ┌───┐      ┌────────────────┐»\n",
       "«q_3: ─────┤ H ├──────┤ Rz(-1.5708) ├─────┤ H ├──────┤ Rz(1.5635e-05) ├»\n",
       "«          └───┘      └─────────────┘     └───┘      └─────┬───┬──────┘»\n",
       "«q_4: ───────■──────────────────────────────■──────────────┤ H ├───────»\n",
       "«          ┌─┴─┐      ┌─────────────┐     ┌─┴─┐            └───┘       »\n",
       "«q_5: ─────┤ X ├──────┤ Rz(0.38796) ├─────┤ X ├──────────────■─────────»\n",
       "«     ┌────┴───┴────┐ └────┬───┬────┘ ┌───┴───┴────┐       ┌─┴─┐       »\n",
       "«q_6: ┤ Rz(-2.8345) ├──────┤ H ├──────┤ Rz(1.7804) ├───────┤ X ├───────»\n",
       "«     └┬────────────┤      ├───┤     ┌┴────────────┴┐      └───┘       »\n",
       "«q_7: ─┤ Rz(3.1413) ├──────┤ H ├─────┤ Rz(-0.84144) ├──────────────────»\n",
       "«      └────────────┘      └───┘     └──────────────┘                  »\n",
       "«                                                                  »\n",
       "«q_0: ─────────────────────────────────────────────────────────────»\n",
       "«                                                                  »\n",
       "«q_1: ─────────────────────────────────────────────────────────────»\n",
       "«                                                                  »\n",
       "«q_2: ─────────────────────────────────────────────────────────────»\n",
       "«                                                                  »\n",
       "«q_3: ─────────────────────────────────────────────────────────────»\n",
       "«     ┌─────────────┐┌───┐┌─────────────────┐                      »\n",
       "«q_4: ┤ Rz(-1.5707) ├┤ H ├┤ Rz(-8.7145e-06) ├──────────────────────»\n",
       "«     └─────────────┘└───┘└──────┬───┬──────┘┌───────────────┐┌───┐»\n",
       "«q_5: ─────────────────■─────────┤ H ├───────┤ Rz(5.949e-05) ├┤ H ├»\n",
       "«      ┌───────────┐ ┌─┴─┐       └───┘       └───────────────┘└───┘»\n",
       "«q_6: ─┤ Rz(-1.57) ├─┤ X ├─────────■────────────────────────────■──»\n",
       "«      └───────────┘ └───┘       ┌─┴─┐        ┌─────────────┐ ┌─┴─┐»\n",
       "«q_7: ───────────────────────────┤ X ├────────┤ Rz(0.40541) ├─┤ X ├»\n",
       "«                                └───┘        └─────────────┘ └───┘»\n",
       "«                                                           \n",
       "«q_0: ──────────────────────────────────────────────────────\n",
       "«                                                           \n",
       "«q_1: ──────────────────────────────────────────────────────\n",
       "«                                                           \n",
       "«q_2: ──────────────────────────────────────────────────────\n",
       "«                                                           \n",
       "«q_3: ──────────────────────────────────────────────────────\n",
       "«                                                           \n",
       "«q_4: ──────────────────────────────────────────────────────\n",
       "«     ┌──────────────┐                                      \n",
       "«q_5: ┤ Rz(0.038338) ├──────────────────────────────────────\n",
       "«     └────┬───┬─────┘┌────────────────┐┌───┐┌─────────────┐\n",
       "«q_6: ─────┤ H ├──────┤ Rz(1.0678e-05) ├┤ H ├┤ Rz(-1.7804) ├\n",
       "«          ├───┤      └─┬────────────┬─┘├───┤├─────────────┤\n",
       "«q_7: ─────┤ H ├────────┤ Rz(1.5708) ├──┤ H ├┤ Rz(0.56029) ├\n",
       "«          └───┘        └────────────┘  └───┘└─────────────┘"
      ]
     },
     "execution_count": 60,
     "metadata": {},
     "output_type": "execute_result"
    }
   ],
   "source": [
    "circ.draw()"
   ]
  },
  {
   "cell_type": "code",
   "execution_count": 47,
   "id": "7a37f0c0-d732-4192-9910-e670d4a6daf4",
   "metadata": {},
   "outputs": [],
   "source": [
    "backend = Aer.get_backend('statevector_simulator')\n",
    "job = backend.run(circ)\n",
    "result = job.result()\n",
    "outputstate = result.get_statevector(circ)"
   ]
  },
  {
   "cell_type": "code",
   "execution_count": 48,
   "id": "2a8030dc-24bb-45d7-9b7f-7c0a49c66b51",
   "metadata": {},
   "outputs": [],
   "source": [
    "vqe_state = qu.qarray(np.array(outputstate).reshape(-1, 1))"
   ]
  },
  {
   "cell_type": "code",
   "execution_count": 67,
   "id": "c794e1e3-a875-4f35-bdd0-5330a755a021",
   "metadata": {},
   "outputs": [
    {
     "name": "stdout",
     "output_type": "stream",
     "text": [
      "0.993194306581509\n",
      "0.9929608071323653\n",
      "0.9997150424313609\n"
     ]
    }
   ],
   "source": [
    "print(qu.fidelity(rho_qbm, target_eta))\n",
    "print(qu.fidelity(rho_qbm, vqe_state))\n",
    "print(qu.fidelity(target_eta, vqe_state))"
   ]
  },
  {
   "cell_type": "code",
   "execution_count": null,
   "id": "8123dbb4",
   "metadata": {},
   "outputs": [],
   "source": []
  },
  {
   "attachments": {},
   "cell_type": "markdown",
   "id": "b4b77fab-1935-4e21-911f-1b896780562c",
   "metadata": {},
   "source": [
    "学習の結果、ほぼ同じ量子状態となっている。  \n",
    "この例では、VQEで生成された量子回路の方が、ターゲットの状態に近い。  \n",
    "The learning results in nearly identical quantum states.  \n",
    "In this case, the quantum circuit generated by VQE is closer to the target state. "
   ]
  }
 ],
 "metadata": {
  "kernelspec": {
   "display_name": ".venv",
   "language": "python",
   "name": "python3"
  },
  "language_info": {
   "codemirror_mode": {
    "name": "ipython",
    "version": 3
   },
   "file_extension": ".py",
   "mimetype": "text/x-python",
   "name": "python",
   "nbconvert_exporter": "python",
   "pygments_lexer": "ipython3",
   "version": "3.10.9"
  }
 },
 "nbformat": 4,
 "nbformat_minor": 5
}
