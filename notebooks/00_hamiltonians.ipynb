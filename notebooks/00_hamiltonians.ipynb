{
 "cells": [
  {
   "attachments": {},
   "cell_type": "markdown",
   "metadata": {},
   "source": [
    "# Construct different Hamniltonians and their Quantum Boltzmann Machines"
   ]
  },
  {
   "attachments": {},
   "cell_type": "markdown",
   "metadata": {},
   "source": [
    "In this brief notebook we will have a look at different Hamiltonians and their corresponding Gibbs states, aka Quantum Boltzmann Machines."
   ]
  },
  {
   "attachments": {},
   "cell_type": "markdown",
   "metadata": {},
   "source": [
    "## Setup\n",
    "\n",
    "We will use the [`quimb`](https://quimb.readthedocs.io) library to describe the states, density matrices, and Hamiltonians.\n",
    "`quimb` provides some pre-defined hamiltonians for common many-body quantum systems in 1D and 2D, like the ones used in the [VQE-generated quantum circuit dataset](http://arxiv.org/abs/2302.09751) paper by Nakayama et al."
   ]
  },
  {
   "cell_type": "code",
   "execution_count": 3,
   "metadata": {},
   "outputs": [],
   "source": [
    "from quimb import *\n",
    "import matplotlib.pyplot as plt\n",
    "import numpy as np"
   ]
  },
  {
   "cell_type": "code",
   "execution_count": 4,
   "metadata": {},
   "outputs": [],
   "source": [
    "rng = np.random.default_rng(seed=1)"
   ]
  },
  {
   "attachments": {},
   "cell_type": "markdown",
   "metadata": {},
   "source": [
    "## Transverse-field ising model in 1D"
   ]
  },
  {
   "attachments": {},
   "cell_type": "markdown",
   "metadata": {},
   "source": [
    "The Hamiltonian of the TFIM in 1D is constructed by starting from a _chain_ of sites connected via nearest-neighbors interactions of the spin `Z` operator, plus a term on each site corresponding to the _transverse field_ represented by the spin `X` operator\n",
    "\n",
    "$$\n",
    "H=J_{z} \\sum_{\\langle i, j\\rangle}  Z_i Z_j  + B_x \\sum_j X_j\n",
    "$$"
   ]
  },
  {
   "cell_type": "code",
   "execution_count": 2,
   "metadata": {},
   "outputs": [],
   "source": [
    "# define number of sites == number of qubits (each site is a 2-level system)\n",
    "n = 6"
   ]
  },
  {
   "cell_type": "code",
   "execution_count": 5,
   "metadata": {},
   "outputs": [
    {
     "name": "stdout",
     "output_type": "stream",
     "text": [
      "Spin interaction: 0.346\n",
      "Field value: 0.822\n"
     ]
    }
   ],
   "source": [
    "# define the hamiltonian given the interaction parameters\n",
    "jz = rng.normal()\n",
    "bx = rng.normal()\n",
    "print(f\"Spin interaction: {jz:.3f}\")\n",
    "print(f\"Field value: {bx:.3f}\")"
   ]
  },
  {
   "cell_type": "code",
   "execution_count": 6,
   "metadata": {},
   "outputs": [],
   "source": [
    "tfim = ham_ising(n, jz, bx)"
   ]
  },
  {
   "attachments": {},
   "cell_type": "markdown",
   "metadata": {},
   "source": [
    "By looking at the Hamiltonian in matrix form we can see that there are off-diagonal terms due to the spin `X` operator:"
   ]
  },
  {
   "cell_type": "code",
   "execution_count": 7,
   "metadata": {},
   "outputs": [
    {
     "data": {
      "text/plain": [
       "[[ 0.43198  -0.410809 -0.410809 ...  0.        0.        0.      ]\n",
       " [-0.410809  0.259188  0.       ...  0.        0.        0.      ]\n",
       " [-0.410809  0.        0.086396 ...  0.        0.        0.      ]\n",
       " ...\n",
       " [ 0.        0.        0.       ...  0.086396  0.       -0.410809]\n",
       " [ 0.        0.        0.       ...  0.        0.259188 -0.410809]\n",
       " [ 0.        0.        0.       ... -0.410809 -0.410809  0.43198 ]]"
      ]
     },
     "execution_count": 7,
     "metadata": {},
     "output_type": "execute_result"
    }
   ],
   "source": [
    "tfim"
   ]
  },
  {
   "cell_type": "code",
   "execution_count": 9,
   "metadata": {},
   "outputs": [
    {
     "data": {
      "image/png": "[encoded data removed]",
      "text/plain": [
       "<Figure size 640x480 with 1 Axes>"
      ]
     },
     "metadata": {},
     "output_type": "display_data"
    }
   ],
   "source": [
    "# in a spy plot, the non-zero entries of the matrix are black\n",
    "# we can here check that the dimension of the matrix is 2^n x 2^n = 64 x 64\n",
    "_ = plt.spy(tfim)"
   ]
  },
  {
   "cell_type": "code",
   "execution_count": null,
   "metadata": {},
   "outputs": [],
   "source": []
  }
 ],
 "metadata": {
  "kernelspec": {
   "display_name": ".venv",
   "language": "python",
   "name": "python3"
  },
  "language_info": {
   "codemirror_mode": {
    "name": "ipython",
    "version": 3
   },
   "file_extension": ".py",
   "mimetype": "text/x-python",
   "name": "python",
   "nbconvert_exporter": "python",
   "pygments_lexer": "ipython3",
   "version": "3.10.9"
  },
  "orig_nbformat": 4
 },
 "nbformat": 4,
 "nbformat_minor": 2
}
