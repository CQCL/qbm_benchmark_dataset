{
 "cells": [
  {
   "attachments": {},
   "cell_type": "markdown",
   "metadata": {},
   "source": [
    "# Construct different Hamniltonians and their Quantum Boltzmann Machines"
   ]
  },
  {
   "attachments": {},
   "cell_type": "markdown",
   "metadata": {},
   "source": [
    "In this brief notebook we will have a look at different Hamiltonians and their corresponding Gibbs states, aka Quantum Boltzmann Machines."
   ]
  },
  {
   "attachments": {},
   "cell_type": "markdown",
   "metadata": {},
   "source": [
    "## Setup\n",
    "\n",
    "We will use the [`quimb`](https://quimb.readthedocs.io) library to describe the states, density matrices, and Hamiltonians.\n",
    "`quimb` provides some pre-defined hamiltonians for common many-body quantum systems in 1D and 2D, like the ones used in the [VQE-generated quantum circuit dataset](http://arxiv.org/abs/2302.09751) paper by Nakayama et al."
   ]
  },
  {
   "cell_type": "code",
   "execution_count": 1,
   "metadata": {},
   "outputs": [
    {
     "name": "stderr",
     "output_type": "stream",
     "text": [
      "OMP: Info #276: omp_set_nested routine deprecated, please use omp_set_max_active_levels instead.\n"
     ]
    }
   ],
   "source": [
    "import quimb as qu\n",
    "import matplotlib.pyplot as plt\n",
    "import numpy as np"
   ]
  },
  {
   "cell_type": "code",
   "execution_count": 2,
   "metadata": {},
   "outputs": [],
   "source": [
    "rng = np.random.default_rng(seed=1)"
   ]
  },
  {
   "attachments": {},
   "cell_type": "markdown",
   "metadata": {},
   "source": [
    "## Transverse-field ising model in 1D"
   ]
  },
  {
   "attachments": {},
   "cell_type": "markdown",
   "metadata": {},
   "source": [
    "### Hamiltonian"
   ]
  },
  {
   "attachments": {},
   "cell_type": "markdown",
   "metadata": {},
   "source": [
    "The Hamiltonian of the TFIM in 1D is constructed by starting from a _chain_ of sites connected via nearest-neighbors interactions of the spin `Z` operator, plus a term on each site corresponding to the _transverse field_ represented by the spin `X` operator\n",
    "\n",
    "$$\n",
    "H=J_{z} \\sum_{\\langle i, j\\rangle}  Z_i Z_j  + B_x \\sum_j X_j\n",
    "$$"
   ]
  },
  {
   "cell_type": "code",
   "execution_count": 3,
   "metadata": {},
   "outputs": [],
   "source": [
    "# define number of sites == number of qubits (each site is a 2-level system)\n",
    "n = 6"
   ]
  },
  {
   "attachments": {},
   "cell_type": "markdown",
   "metadata": {},
   "source": [
    "**Note** here that there are only 2 parameters in the Hamiltonian because we define the interactions and field in an isotropic way (they are the same no matter what sites we consider along the chain)"
   ]
  },
  {
   "cell_type": "code",
   "execution_count": 4,
   "metadata": {},
   "outputs": [
    {
     "name": "stdout",
     "output_type": "stream",
     "text": [
      "Spin interaction: 0.346\n",
      "Field value: 0.822\n"
     ]
    }
   ],
   "source": [
    "# define the hamiltonian given the interaction parameters\n",
    "jz = rng.normal()\n",
    "bx = rng.normal()\n",
    "print(f\"Spin interaction: {jz:.3f}\")\n",
    "print(f\"Field value: {bx:.3f}\")"
   ]
  },
  {
   "cell_type": "code",
   "execution_count": 5,
   "metadata": {},
   "outputs": [],
   "source": [
    "tfim = qu.ham_ising(n, jz, bx)"
   ]
  },
  {
   "attachments": {},
   "cell_type": "markdown",
   "metadata": {},
   "source": [
    "By looking at the Hamiltonian in matrix form we can see that there are off-diagonal terms due to the spin `X` operator:"
   ]
  },
  {
   "cell_type": "code",
   "execution_count": 6,
   "metadata": {},
   "outputs": [
    {
     "data": {
      "text/plain": [
       "[[ 0.43198  -0.410809 -0.410809 ...  0.        0.        0.      ]\n",
       " [-0.410809  0.259188  0.       ...  0.        0.        0.      ]\n",
       " [-0.410809  0.        0.086396 ...  0.        0.        0.      ]\n",
       " ...\n",
       " [ 0.        0.        0.       ...  0.086396  0.       -0.410809]\n",
       " [ 0.        0.        0.       ...  0.        0.259188 -0.410809]\n",
       " [ 0.        0.        0.       ... -0.410809 -0.410809  0.43198 ]]"
      ]
     },
     "execution_count": 6,
     "metadata": {},
     "output_type": "execute_result"
    }
   ],
   "source": [
    "tfim"
   ]
  },
  {
   "cell_type": "code",
   "execution_count": 40,
   "metadata": {},
   "outputs": [
    {
     "data": {
      "text/plain": [
       "(64, 64)"
      ]
     },
     "execution_count": 40,
     "metadata": {},
     "output_type": "execute_result"
    }
   ],
   "source": [
    "tfim.shape"
   ]
  },
  {
   "attachments": {},
   "cell_type": "markdown",
   "metadata": {},
   "source": [
    "The dimension of the Hilbert space is $2^n$"
   ]
  },
  {
   "cell_type": "code",
   "execution_count": 7,
   "metadata": {},
   "outputs": [
    {
     "data": {
      "image/png": "[encoded data removed]",
      "text/plain": [
       "<Figure size 640x480 with 1 Axes>"
      ]
     },
     "metadata": {},
     "output_type": "display_data"
    }
   ],
   "source": [
    "# in a spy plot, the non-zero entries of the matrix are black\n",
    "# we can here check that the dimension of the matrix is 2^n x 2^n = 64 x 64\n",
    "_ = plt.spy(tfim)"
   ]
  },
  {
   "cell_type": "code",
   "execution_count": 22,
   "metadata": {},
   "outputs": [
    {
     "data": {
      "image/png": "[encoded data removed]",
      "text/plain": [
       "<Figure size 640x480 with 2 Axes>"
      ]
     },
     "metadata": {},
     "output_type": "display_data"
    }
   ],
   "source": [
    "# a heatmap will show the different intensities on a color scale\n",
    "_ = plt.imshow(tfim, interpolation='nearest')\n",
    "_ = plt.colorbar()"
   ]
  },
  {
   "attachments": {},
   "cell_type": "markdown",
   "metadata": {},
   "source": [
    "### Gibbs state"
   ]
  },
  {
   "attachments": {},
   "cell_type": "markdown",
   "metadata": {},
   "source": [
    "A Quantum Boltzmann Machine is defined as the Gibbs state of a particular parameterized Hamiltonian $\\mathcal{H}_\\theta$ at temperature $T=1/\\beta$:\n",
    "\n",
    "$$\n",
    "\\rho_\\theta(\\beta) = \\frac{e^{-\\beta \\mathcal{H}_\\theta}}{Z} \\, ,\n",
    "$$\n",
    "\n",
    "where $Z$ is the partition function $Z= \\mathrm{Tr}[e^{-\\beta \\mathcal{H}_\\theta}]$"
   ]
  },
  {
   "cell_type": "code",
   "execution_count": 8,
   "metadata": {},
   "outputs": [],
   "source": [
    "# define beta=1 (since all the parameters in the hamiltonian can simply be rescaled by this number, this makes it easy)\n",
    "beta = 1.0"
   ]
  },
  {
   "attachments": {},
   "cell_type": "markdown",
   "metadata": {},
   "source": [
    "If the Hamiltonian can be exactly diagonalized (it is not too big) then it is easy to define its exponential and the partition function.\n",
    "\n",
    "**Note** here that the partition function involves a sum over all possible states and it becomes intractable for large systems. One would need to use approximate methods to compute the trace."
   ]
  },
  {
   "cell_type": "code",
   "execution_count": 10,
   "metadata": {},
   "outputs": [],
   "source": [
    "# do exact diagonalization (can be done on laptop up to n~16)\n",
    "el, ev = qu.eigh(tfim)"
   ]
  },
  {
   "cell_type": "code",
   "execution_count": 13,
   "metadata": {},
   "outputs": [],
   "source": [
    "# the numerator: using eigenvalues el and eigenvectors ev\n",
    "exp_bh = ev @ np.diag(np.exp(-beta * el)) @ ev.H"
   ]
  },
  {
   "cell_type": "code",
   "execution_count": 14,
   "metadata": {},
   "outputs": [
    {
     "data": {
      "text/plain": [
       "[[1.114001 0.46872  0.507863 ... 0.013495 0.013118 0.004962]\n",
       " [0.46872  1.300063 0.202771 ... 0.037442 0.005248 0.013118]\n",
       " [0.507863 0.202771 1.518147 ... 0.005552 0.037442 0.013495]\n",
       " ...\n",
       " [0.013495 0.037442 0.005552 ... 1.518147 0.202771 0.507863]\n",
       " [0.013118 0.005248 0.037442 ... 0.202771 1.300063 0.46872 ]\n",
       " [0.004962 0.013118 0.013495 ... 0.507863 0.46872  1.114001]]"
      ]
     },
     "execution_count": 14,
     "metadata": {},
     "output_type": "execute_result"
    }
   ],
   "source": [
    "exp_bh"
   ]
  },
  {
   "cell_type": "code",
   "execution_count": 15,
   "metadata": {},
   "outputs": [],
   "source": [
    "# the denominator: the partition function as the trace over the numerator\n",
    "z = qu.trace(exp_bh)"
   ]
  },
  {
   "attachments": {},
   "cell_type": "markdown",
   "metadata": {},
   "source": [
    "The Gibbs state for the TFIM Hamiltonian is then:"
   ]
  },
  {
   "cell_type": "code",
   "execution_count": 16,
   "metadata": {},
   "outputs": [],
   "source": [
    "rho_tfim = exp_bh/z"
   ]
  },
  {
   "cell_type": "code",
   "execution_count": 25,
   "metadata": {},
   "outputs": [
    {
     "data": {
      "text/plain": [
       "[[1.045864e-02 4.400517e-03 4.768006e-03 ... 1.266982e-04 1.231529e-04 4.658556e-05]\n",
       " [4.400517e-03 1.220546e-02 1.903689e-03 ... 3.515210e-04 4.926778e-05 1.231529e-04]\n",
       " [4.768006e-03 1.903689e-03 1.425292e-02 ... 5.212123e-05 3.515210e-04 1.266982e-04]\n",
       " ...\n",
       " [1.266982e-04 3.515210e-04 5.212123e-05 ... 1.425292e-02 1.903689e-03 4.768006e-03]\n",
       " [1.231529e-04 4.926778e-05 3.515210e-04 ... 1.903689e-03 1.220546e-02 4.400517e-03]\n",
       " [4.658556e-05 1.231529e-04 1.266982e-04 ... 4.768006e-03 4.400517e-03 1.045864e-02]]"
      ]
     },
     "execution_count": 25,
     "metadata": {},
     "output_type": "execute_result"
    }
   ],
   "source": [
    "rho_tfim"
   ]
  },
  {
   "cell_type": "code",
   "execution_count": 20,
   "metadata": {},
   "outputs": [
    {
     "data": {
      "image/png": "[encoded data removed]",
      "text/plain": [
       "<Figure size 640x480 with 2 Axes>"
      ]
     },
     "metadata": {},
     "output_type": "display_data"
    }
   ],
   "source": [
    "_ = plt.imshow(rho_tfim, interpolation='nearest')\n",
    "_ = plt.colorbar()"
   ]
  },
  {
   "attachments": {},
   "cell_type": "markdown",
   "metadata": {},
   "source": [
    "#### Speed up\n",
    "\n",
    "`quimb` has a convenient function for creating Gibbs (thermal) states of a given Hamiltonian. Under the hood it does what we just did above, but with improvements on speed when the number of qubits increases."
   ]
  },
  {
   "cell_type": "code",
   "execution_count": 23,
   "metadata": {},
   "outputs": [],
   "source": [
    "rho_tfim_qb = qu.thermal_state(tfim, beta, precomp_func=False)  # if precomp_func=True, it returns a fuction of beta."
   ]
  },
  {
   "cell_type": "code",
   "execution_count": 24,
   "metadata": {},
   "outputs": [
    {
     "data": {
      "text/plain": [
       "[[1.045864e-02 4.400517e-03 4.768006e-03 ... 1.266982e-04 1.231529e-04 4.658556e-05]\n",
       " [4.400517e-03 1.220546e-02 1.903689e-03 ... 3.515210e-04 4.926778e-05 1.231529e-04]\n",
       " [4.768006e-03 1.903689e-03 1.425292e-02 ... 5.212123e-05 3.515210e-04 1.266982e-04]\n",
       " ...\n",
       " [1.266982e-04 3.515210e-04 5.212123e-05 ... 1.425292e-02 1.903689e-03 4.768006e-03]\n",
       " [1.231529e-04 4.926778e-05 3.515210e-04 ... 1.903689e-03 1.220546e-02 4.400517e-03]\n",
       " [4.658556e-05 1.231529e-04 1.266982e-04 ... 4.768006e-03 4.400517e-03 1.045864e-02]]"
      ]
     },
     "execution_count": 24,
     "metadata": {},
     "output_type": "execute_result"
    }
   ],
   "source": [
    "rho_tfim_qb"
   ]
  },
  {
   "cell_type": "code",
   "execution_count": 26,
   "metadata": {},
   "outputs": [
    {
     "data": {
      "text/plain": [
       "True"
      ]
     },
     "execution_count": 26,
     "metadata": {},
     "output_type": "execute_result"
    }
   ],
   "source": [
    "np.allclose(rho_tfim, rho_tfim_qb)"
   ]
  },
  {
   "attachments": {},
   "cell_type": "markdown",
   "metadata": {},
   "source": [
    "## Expectation values"
   ]
  },
  {
   "attachments": {},
   "cell_type": "markdown",
   "metadata": {},
   "source": [
    "One of the most common operations during the training of QBMs is the calculation of expectation values of operators with respect to the Gibbs state or a target state. `quimb` makes it easy to compute expectation values."
   ]
  },
  {
   "cell_type": "code",
   "execution_count": 33,
   "metadata": {},
   "outputs": [
    {
     "data": {
      "text/plain": [
       "[[ 0.5+0.j  0. +0.j]\n",
       " [ 0. +0.j -0.5+0.j]]"
      ]
     },
     "execution_count": 33,
     "metadata": {},
     "output_type": "execute_result"
    }
   ],
   "source": [
    "# expectation value of the spin Z operator w.r.t the Gibbs state: spin operators are Pauli/2\n",
    "op = qu.spin_operator('z')\n",
    "op"
   ]
  },
  {
   "cell_type": "code",
   "execution_count": 34,
   "metadata": {},
   "outputs": [
    {
     "data": {
      "text/plain": [
       "[[ 1.+0.j  0.+0.j]\n",
       " [ 0.+0.j -1.+0.j]]"
      ]
     },
     "execution_count": 34,
     "metadata": {},
     "output_type": "execute_result"
    }
   ],
   "source": [
    "# e.g. with Pauli Z\n",
    "opp = qu.pauli('Z')\n",
    "opp"
   ]
  },
  {
   "attachments": {},
   "cell_type": "markdown",
   "metadata": {},
   "source": [
    "Now we need to lift this 1-qubit operator to the full Hilbert space of our Hamiltonian (and Gibbs state). Remember we are working in a $\\mathrm{dim} = 2^n$ space"
   ]
  },
  {
   "cell_type": "code",
   "execution_count": 41,
   "metadata": {},
   "outputs": [],
   "source": [
    "# dimension of our system: quimb wants to keep each 2-level subsystem dimension in a list\n",
    "dims = (2,) * n"
   ]
  },
  {
   "cell_type": "code",
   "execution_count": 43,
   "metadata": {},
   "outputs": [],
   "source": [
    "# spin `Z` on \"site\" 3\n",
    "op3 = qu.ikron(op, dims, inds=[3])\n",
    "assert op3.shape[0] == tfim.shape[0]"
   ]
  },
  {
   "cell_type": "code",
   "execution_count": 44,
   "metadata": {},
   "outputs": [
    {
     "data": {
      "text/plain": [
       "1.6479873021779667e-17"
      ]
     },
     "execution_count": 44,
     "metadata": {},
     "output_type": "execute_result"
    }
   ],
   "source": [
    "# expectation value\n",
    "exp_val = qu.expec(rho_tfim_qb, op3)\n",
    "exp_val"
   ]
  },
  {
   "cell_type": "code",
   "execution_count": 46,
   "metadata": {},
   "outputs": [
    {
     "data": {
      "text/plain": [
       "-0.9892285757063022"
      ]
     },
     "execution_count": 46,
     "metadata": {},
     "output_type": "execute_result"
    }
   ],
   "source": [
    "# expectation value of the full hamiltonian\n",
    "exp_val = qu.expec(rho_tfim_qb, tfim)\n",
    "exp_val"
   ]
  },
  {
   "cell_type": "code",
   "execution_count": null,
   "metadata": {},
   "outputs": [],
   "source": []
  }
 ],
 "metadata": {
  "kernelspec": {
   "display_name": ".venv",
   "language": "python",
   "name": "python3"
  },
  "language_info": {
   "codemirror_mode": {
    "name": "ipython",
    "version": 3
   },
   "file_extension": ".py",
   "mimetype": "text/x-python",
   "name": "python",
   "nbconvert_exporter": "python",
   "pygments_lexer": "ipython3",
   "version": "3.10.9"
  },
  "orig_nbformat": 4
 },
 "nbformat": 4,
 "nbformat_minor": 2
}
