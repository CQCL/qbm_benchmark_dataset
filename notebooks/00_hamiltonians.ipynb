{
 "cells": [
  {
   "attachments": {},
   "cell_type": "markdown",
   "metadata": {},
   "source": [
    "# Construct different Hamiltonians and their Quantum Boltzmann Machines"
   ]
  },
  {
   "attachments": {},
   "cell_type": "markdown",
   "metadata": {},
   "source": [
    "In this brief notebook we will have a look at different Hamiltonians and their corresponding Gibbs states, aka Quantum Boltzmann Machines."
   ]
  },
  {
   "attachments": {},
   "cell_type": "markdown",
   "metadata": {},
   "source": [
    "## Setup\n",
    "\n",
    "We will use the [`quimb`](https://quimb.readthedocs.io) library to describe the states, density matrices, and Hamiltonians.\n",
    "`quimb` provides some pre-defined hamiltonians for common many-body quantum systems in 1D and 2D, like the ones used in the [VQE-generated quantum circuit dataset](http://arxiv.org/abs/2302.09751) paper by Nakayama et al."
   ]
  },
  {
   "cell_type": "code",
   "execution_count": 1,
   "metadata": {},
   "outputs": [
    {
     "name": "stderr",
     "output_type": "stream",
     "text": [
      "OMP: Info #276: omp_set_nested routine deprecated, please use omp_set_max_active_levels instead.\n"
     ]
    }
   ],
   "source": [
    "import quimb as qu\n",
    "import matplotlib.pyplot as plt\n",
    "import numpy as np"
   ]
  },
  {
   "cell_type": "code",
   "execution_count": 2,
   "metadata": {},
   "outputs": [],
   "source": [
    "rng = np.random.default_rng(seed=1)"
   ]
  },
  {
   "attachments": {},
   "cell_type": "markdown",
   "metadata": {},
   "source": [
    "## Transverse-field ising model in 1D"
   ]
  },
  {
   "attachments": {},
   "cell_type": "markdown",
   "metadata": {},
   "source": [
    "### Hamiltonian"
   ]
  },
  {
   "attachments": {},
   "cell_type": "markdown",
   "metadata": {},
   "source": [
    "The Hamiltonian of the TFIM in 1D is constructed by starting from a _chain_ of sites connected via nearest-neighbors interactions of the spin `Z` operator, plus a term on each site corresponding to the _transverse field_ represented by the spin `X` operator\n",
    "\n",
    "$$\n",
    "H=J_{z} \\sum_{\\langle i, j\\rangle}  Z_i Z_j  - B_x \\sum_j X_j\n",
    "$$"
   ]
  },
  {
   "cell_type": "code",
   "execution_count": 3,
   "metadata": {},
   "outputs": [],
   "source": [
    "# define number of sites == number of qubits (each site is a 2-level system)\n",
    "n = 6"
   ]
  },
  {
   "attachments": {},
   "cell_type": "markdown",
   "metadata": {},
   "source": [
    "**Note** here that there are only 2 parameters in the Hamiltonian because we define the interactions and field in an isotropic way (they are the same no matter what sites we consider along the chain)"
   ]
  },
  {
   "cell_type": "code",
   "execution_count": 4,
   "metadata": {},
   "outputs": [
    {
     "name": "stdout",
     "output_type": "stream",
     "text": [
      "Spin interaction: 0.346\n",
      "Field value: 0.822\n"
     ]
    }
   ],
   "source": [
    "# define the hamiltonian given the interaction parameters\n",
    "jz = rng.normal()\n",
    "bx = rng.normal()\n",
    "print(f\"Spin interaction: {jz:.3f}\")\n",
    "print(f\"Field value: {bx:.3f}\")"
   ]
  },
  {
   "cell_type": "code",
   "execution_count": 5,
   "metadata": {},
   "outputs": [],
   "source": [
    "tfim = qu.ham_ising(n, jz, bx)"
   ]
  },
  {
   "attachments": {},
   "cell_type": "markdown",
   "metadata": {},
   "source": [
    "By looking at the Hamiltonian in matrix form we can see that there are off-diagonal terms due to the spin `X` operator:"
   ]
  },
  {
   "cell_type": "code",
   "execution_count": 6,
   "metadata": {},
   "outputs": [
    {
     "data": {
      "text/plain": [
       "[[ 0.43198  -0.410809 -0.410809 ...  0.        0.        0.      ]\n",
       " [-0.410809  0.259188  0.       ...  0.        0.        0.      ]\n",
       " [-0.410809  0.        0.086396 ...  0.        0.        0.      ]\n",
       " ...\n",
       " [ 0.        0.        0.       ...  0.086396  0.       -0.410809]\n",
       " [ 0.        0.        0.       ...  0.        0.259188 -0.410809]\n",
       " [ 0.        0.        0.       ... -0.410809 -0.410809  0.43198 ]]"
      ]
     },
     "execution_count": 6,
     "metadata": {},
     "output_type": "execute_result"
    }
   ],
   "source": [
    "tfim"
   ]
  },
  {
   "cell_type": "code",
   "execution_count": 7,
   "metadata": {},
   "outputs": [
    {
     "data": {
      "text/plain": [
       "(64, 64)"
      ]
     },
     "execution_count": 7,
     "metadata": {},
     "output_type": "execute_result"
    }
   ],
   "source": [
    "tfim.shape"
   ]
  },
  {
   "attachments": {},
   "cell_type": "markdown",
   "metadata": {},
   "source": [
    "The dimension of the Hilbert space is $2^n$"
   ]
  },
  {
   "cell_type": "code",
   "execution_count": 8,
   "metadata": {},
   "outputs": [
    {
     "data": {
      "image/png": "[encoded data removed]",
      "text/plain": [
       "<Figure size 640x480 with 1 Axes>"
      ]
     },
     "metadata": {},
     "output_type": "display_data"
    }
   ],
   "source": [
    "# in a spy plot, the non-zero entries of the matrix are black\n",
    "# we can here check that the dimension of the matrix is 2^n x 2^n = 64 x 64\n",
    "_ = plt.spy(tfim)"
   ]
  },
  {
   "cell_type": "code",
   "execution_count": 9,
   "metadata": {},
   "outputs": [
    {
     "data": {
      "image/png": "[encoded data removed]",
      "text/plain": [
       "<Figure size 640x480 with 2 Axes>"
      ]
     },
     "metadata": {},
     "output_type": "display_data"
    }
   ],
   "source": [
    "# a heatmap will show the different intensities on a color scale\n",
    "_ = plt.imshow(tfim, interpolation='nearest')\n",
    "_ = plt.colorbar()"
   ]
  },
  {
   "attachments": {},
   "cell_type": "markdown",
   "metadata": {},
   "source": [
    "### Gibbs state"
   ]
  },
  {
   "attachments": {},
   "cell_type": "markdown",
   "metadata": {},
   "source": [
    "A Quantum Boltzmann Machine is defined as the Gibbs state of a particular parameterized Hamiltonian $\\mathcal{H}_\\theta$ at temperature $T=1/\\beta$:\n",
    "\n",
    "$$\n",
    "\\rho_\\theta(\\beta) = \\frac{e^{-\\beta \\mathcal{H}_\\theta}}{Z} \\, ,\n",
    "$$\n",
    "\n",
    "where $Z$ is the partition function $Z= \\mathrm{Tr}[e^{-\\beta \\mathcal{H}_\\theta}]$"
   ]
  },
  {
   "cell_type": "code",
   "execution_count": 10,
   "metadata": {},
   "outputs": [],
   "source": [
    "# define beta=1 (since all the parameters in the hamiltonian can simply be rescaled by this number, this makes it easy)\n",
    "beta = 1.0"
   ]
  },
  {
   "attachments": {},
   "cell_type": "markdown",
   "metadata": {},
   "source": [
    "If the Hamiltonian can be exactly diagonalized (it is not too big) then it is easy to define its exponential and the partition function.\n",
    "\n",
    "**Note** here that the partition function involves a sum over all possible states and it becomes intractable for large systems. One would need to use approximate methods to compute the trace."
   ]
  },
  {
   "cell_type": "code",
   "execution_count": 11,
   "metadata": {},
   "outputs": [],
   "source": [
    "# do exact diagonalization (can be done on laptop up to n~16)\n",
    "el, ev = qu.eigh(tfim)"
   ]
  },
  {
   "cell_type": "code",
   "execution_count": 12,
   "metadata": {},
   "outputs": [],
   "source": [
    "# the numerator: using eigenvalues el and eigenvectors ev\n",
    "exp_bh = ev @ np.diag(np.exp(-beta * el)) @ ev.H"
   ]
  },
  {
   "cell_type": "code",
   "execution_count": 13,
   "metadata": {},
   "outputs": [
    {
     "data": {
      "text/plain": [
       "[[1.114001 0.46872  0.507863 ... 0.013495 0.013118 0.004962]\n",
       " [0.46872  1.300063 0.202771 ... 0.037442 0.005248 0.013118]\n",
       " [0.507863 0.202771 1.518147 ... 0.005552 0.037442 0.013495]\n",
       " ...\n",
       " [0.013495 0.037442 0.005552 ... 1.518147 0.202771 0.507863]\n",
       " [0.013118 0.005248 0.037442 ... 0.202771 1.300063 0.46872 ]\n",
       " [0.004962 0.013118 0.013495 ... 0.507863 0.46872  1.114001]]"
      ]
     },
     "execution_count": 13,
     "metadata": {},
     "output_type": "execute_result"
    }
   ],
   "source": [
    "exp_bh"
   ]
  },
  {
   "cell_type": "code",
   "execution_count": 14,
   "metadata": {},
   "outputs": [],
   "source": [
    "# the denominator: the partition function as the trace over the numerator\n",
    "z = qu.trace(exp_bh)"
   ]
  },
  {
   "cell_type": "code",
   "execution_count": 15,
   "metadata": {},
   "outputs": [
    {
     "name": "stdout",
     "output_type": "stream",
     "text": [
      "Partition function: 106.51485532025242\n"
     ]
    }
   ],
   "source": [
    "print(f\"Partition function: {z}\")"
   ]
  },
  {
   "attachments": {},
   "cell_type": "markdown",
   "metadata": {},
   "source": [
    "The Gibbs state for the TFIM Hamiltonian is then:"
   ]
  },
  {
   "cell_type": "code",
   "execution_count": 16,
   "metadata": {},
   "outputs": [],
   "source": [
    "rho_tfim = exp_bh/z"
   ]
  },
  {
   "cell_type": "code",
   "execution_count": 17,
   "metadata": {},
   "outputs": [
    {
     "data": {
      "text/plain": [
       "[[1.045864e-02 4.400517e-03 4.768006e-03 ... 1.266982e-04 1.231529e-04 4.658556e-05]\n",
       " [4.400517e-03 1.220546e-02 1.903689e-03 ... 3.515210e-04 4.926778e-05 1.231529e-04]\n",
       " [4.768006e-03 1.903689e-03 1.425292e-02 ... 5.212123e-05 3.515210e-04 1.266982e-04]\n",
       " ...\n",
       " [1.266982e-04 3.515210e-04 5.212123e-05 ... 1.425292e-02 1.903689e-03 4.768006e-03]\n",
       " [1.231529e-04 4.926778e-05 3.515210e-04 ... 1.903689e-03 1.220546e-02 4.400517e-03]\n",
       " [4.658556e-05 1.231529e-04 1.266982e-04 ... 4.768006e-03 4.400517e-03 1.045864e-02]]"
      ]
     },
     "execution_count": 17,
     "metadata": {},
     "output_type": "execute_result"
    }
   ],
   "source": [
    "rho_tfim"
   ]
  },
  {
   "cell_type": "code",
   "execution_count": 18,
   "metadata": {},
   "outputs": [
    {
     "data": {
      "image/png": "[encoded data removed]",
      "text/plain": [
       "<Figure size 640x480 with 2 Axes>"
      ]
     },
     "metadata": {},
     "output_type": "display_data"
    }
   ],
   "source": [
    "_ = plt.imshow(rho_tfim, interpolation='nearest')\n",
    "_ = plt.colorbar()"
   ]
  },
  {
   "attachments": {},
   "cell_type": "markdown",
   "metadata": {},
   "source": [
    "#### Speed up\n",
    "\n",
    "`quimb` has a convenient function for creating Gibbs (thermal) states of a given Hamiltonian. Under the hood it does what we just did above, but with improvements on speed when the number of qubits increases."
   ]
  },
  {
   "cell_type": "code",
   "execution_count": 19,
   "metadata": {},
   "outputs": [],
   "source": [
    "rho_tfim_qb = qu.thermal_state(tfim, beta, precomp_func=False)  # if precomp_func=True, it returns a fuction of beta."
   ]
  },
  {
   "cell_type": "code",
   "execution_count": 20,
   "metadata": {},
   "outputs": [
    {
     "data": {
      "text/plain": [
       "[[1.045864e-02 4.400517e-03 4.768006e-03 ... 1.266982e-04 1.231529e-04 4.658556e-05]\n",
       " [4.400517e-03 1.220546e-02 1.903689e-03 ... 3.515210e-04 4.926778e-05 1.231529e-04]\n",
       " [4.768006e-03 1.903689e-03 1.425292e-02 ... 5.212123e-05 3.515210e-04 1.266982e-04]\n",
       " ...\n",
       " [1.266982e-04 3.515210e-04 5.212123e-05 ... 1.425292e-02 1.903689e-03 4.768006e-03]\n",
       " [1.231529e-04 4.926778e-05 3.515210e-04 ... 1.903689e-03 1.220546e-02 4.400517e-03]\n",
       " [4.658556e-05 1.231529e-04 1.266982e-04 ... 4.768006e-03 4.400517e-03 1.045864e-02]]"
      ]
     },
     "execution_count": 20,
     "metadata": {},
     "output_type": "execute_result"
    }
   ],
   "source": [
    "rho_tfim_qb"
   ]
  },
  {
   "cell_type": "code",
   "execution_count": 21,
   "metadata": {},
   "outputs": [
    {
     "data": {
      "text/plain": [
       "True"
      ]
     },
     "execution_count": 21,
     "metadata": {},
     "output_type": "execute_result"
    }
   ],
   "source": [
    "np.allclose(rho_tfim, rho_tfim_qb)"
   ]
  },
  {
   "attachments": {},
   "cell_type": "markdown",
   "metadata": {},
   "source": [
    "### Expectation values"
   ]
  },
  {
   "attachments": {},
   "cell_type": "markdown",
   "metadata": {},
   "source": [
    "One of the most common operations during the training of QBMs is the calculation of expectation values of operators with respect to the Gibbs state or a target state. `quimb` makes it easy to compute expectation values."
   ]
  },
  {
   "cell_type": "code",
   "execution_count": 22,
   "metadata": {},
   "outputs": [
    {
     "data": {
      "text/plain": [
       "[[ 0.5+0.j  0. +0.j]\n",
       " [ 0. +0.j -0.5+0.j]]"
      ]
     },
     "execution_count": 22,
     "metadata": {},
     "output_type": "execute_result"
    }
   ],
   "source": [
    "# expectation value of the spin Z operator w.r.t the Gibbs state: spin operators are Pauli/2\n",
    "op = qu.spin_operator('z')\n",
    "op"
   ]
  },
  {
   "cell_type": "code",
   "execution_count": 23,
   "metadata": {},
   "outputs": [
    {
     "data": {
      "text/plain": [
       "[[ 1.+0.j  0.+0.j]\n",
       " [ 0.+0.j -1.+0.j]]"
      ]
     },
     "execution_count": 23,
     "metadata": {},
     "output_type": "execute_result"
    }
   ],
   "source": [
    "# e.g. with Pauli Z\n",
    "opp = qu.pauli('Z')\n",
    "opp"
   ]
  },
  {
   "attachments": {},
   "cell_type": "markdown",
   "metadata": {},
   "source": [
    "Now we need to lift this 1-qubit operator to the full Hilbert space of our Hamiltonian (and Gibbs state). Remember we are working in a $\\mathrm{dim} = 2^n$ space"
   ]
  },
  {
   "cell_type": "code",
   "execution_count": 24,
   "metadata": {},
   "outputs": [],
   "source": [
    "# dimension of our system: quimb wants to keep each 2-level subsystem dimension in a list\n",
    "dims = (2,) * n"
   ]
  },
  {
   "cell_type": "code",
   "execution_count": 25,
   "metadata": {},
   "outputs": [],
   "source": [
    "# spin `Z` on \"site\" 3\n",
    "op3 = qu.ikron(op, dims, inds=[3])\n",
    "assert op3.shape[0] == tfim.shape[0]"
   ]
  },
  {
   "cell_type": "code",
   "execution_count": 26,
   "metadata": {},
   "outputs": [
    {
     "data": {
      "text/plain": [
       "1.6479873021779667e-17"
      ]
     },
     "execution_count": 26,
     "metadata": {},
     "output_type": "execute_result"
    }
   ],
   "source": [
    "# expectation value\n",
    "exp_val = qu.expec(rho_tfim_qb, op3)\n",
    "exp_val"
   ]
  },
  {
   "cell_type": "code",
   "execution_count": 27,
   "metadata": {},
   "outputs": [
    {
     "data": {
      "text/plain": [
       "-0.9892285757063022"
      ]
     },
     "execution_count": 27,
     "metadata": {},
     "output_type": "execute_result"
    }
   ],
   "source": [
    "# expectation value of the full hamiltonian: aka the Energy of the state\n",
    "exp_val = qu.expec(rho_tfim_qb, tfim)\n",
    "exp_val"
   ]
  },
  {
   "attachments": {},
   "cell_type": "markdown",
   "metadata": {},
   "source": [
    "## Heisenberg model in 2D"
   ]
  },
  {
   "attachments": {},
   "cell_type": "markdown",
   "metadata": {},
   "source": [
    "### Hamiltonian"
   ]
  },
  {
   "attachments": {},
   "cell_type": "markdown",
   "metadata": {},
   "source": [
    "In `quimb` we have access to several pre-defined models in 1D and 2D. We can also easily create our own models. Here we want to demonstrate this with the Heisenberg model in 2 dimensions, following the first part of [this example](https://quimb.readthedocs.io/en/latest/examples/ex_2d.html) notebook.\n",
    "\n",
    "The Hamiltonian we create is defined from spin operators on sites of a square lattice of dimensions $n \\times m$:\n",
    "\n",
    "$$\n",
    "H = \\sum_{\\langle i, j \\rangle}\\left(J_x X_i X_j + J_y Y_i Y_j + J_z Z_i Z_j \\right) + \\sum_i B_z Z_i \n",
    "$$"
   ]
  },
  {
   "attachments": {},
   "cell_type": "markdown",
   "metadata": {},
   "source": [
    "We define a function to create this Hamiltonian in matrix form using `quimb`'s functionalities (in the simples case where $J_x=J_y=J_z=J$)"
   ]
  },
  {
   "cell_type": "code",
   "execution_count": 28,
   "metadata": {},
   "outputs": [],
   "source": [
    "import itertools\n",
    "\n",
    "def ham_heis_2D(n, m, j=1.0, bz=0.0, cyclic=False, sparse=True):\n",
    "    \n",
    "    dims = [[2] * m] * n  # shape (n, m)\n",
    "    \n",
    "    # generate tuple of all site coordinates\n",
    "    sites = tuple(itertools.product(range(n), range(m)))\n",
    "    \n",
    "    # generate neighbouring pairs of coordinates\n",
    "    def gen_pairs():\n",
    "        for i, j, in sites:\n",
    "            above, right = (i + 1) % n, (j + 1) % m\n",
    "            # ignore wraparound coordinates if not cyclic\n",
    "            if cyclic or above != 0:\n",
    "                yield ((i, j), (above, j))\n",
    "            if cyclic or right != 0:\n",
    "                yield ((i, j), (i, right))\n",
    "    \n",
    "    # generate all pairs of coordinates and directions\n",
    "    pairs_ss = tuple(itertools.product(gen_pairs(), 'xyz'))\n",
    "    \n",
    "    # make XX, YY and ZZ interaction from pair_s\n",
    "    #     e.g. arg ([(3, 4), (3, 5)], 'z')\n",
    "    def interactions(pair_s):\n",
    "        pair, s = pair_s\n",
    "        Sxyz = qu.spin_operator(s, sparse=True)\n",
    "        return qu.ikron([j * Sxyz, Sxyz], dims, inds=pair)\n",
    "        \n",
    "    # function to make Z field at ``site``\n",
    "    def fields(site):\n",
    "        Sz = qu.spin_operator('z', sparse=True)\n",
    "        return qu.ikron(bz * Sz, dims, inds=[site])\n",
    "                \n",
    "    # combine all terms\n",
    "    all_terms = itertools.chain(map(interactions, pairs_ss), \n",
    "                                map(fields, sites) if bz != 0.0 else ())\n",
    "    H = sum(all_terms)\n",
    "\n",
    "    # can improve speed of e.g. eigensolving if known to be real\n",
    "    if qu.isreal(H):\n",
    "        H = H.real\n",
    "    \n",
    "    if not sparse:\n",
    "        H = qu.qarray(H.A)\n",
    "        \n",
    "    return H"
   ]
  },
  {
   "attachments": {},
   "cell_type": "markdown",
   "metadata": {},
   "source": [
    "Now let's define a 2D lattice of $n$ rows and $m$ columns:"
   ]
  },
  {
   "cell_type": "code",
   "execution_count": 29,
   "metadata": {},
   "outputs": [
    {
     "name": "stdout",
     "output_type": "stream",
     "text": [
      "[2, 2, 2]\n",
      "[2, 2, 2]\n",
      "[2, 2, 2]\n",
      "[2, 2, 2]\n"
     ]
    }
   ],
   "source": [
    "n, m = 4, 3  # this is a total of 12 qubits!!\n",
    "dims = [[2] * m] * n\n",
    "\n",
    "for row in dims:\n",
    "    print(row)"
   ]
  },
  {
   "attachments": {},
   "cell_type": "markdown",
   "metadata": {},
   "source": [
    "And the Hamiltonian parameters:"
   ]
  },
  {
   "cell_type": "code",
   "execution_count": 30,
   "metadata": {},
   "outputs": [
    {
     "name": "stdout",
     "output_type": "stream",
     "text": [
      "Spin interaction: 0.330\n",
      "Field value: -1.303\n"
     ]
    }
   ],
   "source": [
    "# define the hamiltonian given the interaction parameters\n",
    "j = rng.normal()\n",
    "bz = rng.normal()\n",
    "print(f\"Spin interaction: {j:.3f}\")\n",
    "print(f\"Field value: {bz:.3f}\")"
   ]
  },
  {
   "cell_type": "code",
   "execution_count": 31,
   "metadata": {},
   "outputs": [],
   "source": [
    "heis2d = ham_heis_2D(n, m, j, bz, cyclic=False, sparse=False)"
   ]
  },
  {
   "attachments": {},
   "cell_type": "markdown",
   "metadata": {},
   "source": [
    "**Note** it takes time to create this object because the dimension of the Hilbert space is really large: the total Hilbert space is the tensor product of $n \\cdot m$ 2-level systems!"
   ]
  },
  {
   "cell_type": "code",
   "execution_count": 32,
   "metadata": {},
   "outputs": [
    {
     "data": {
      "text/plain": [
       "(4096, 4096)"
      ]
     },
     "execution_count": 32,
     "metadata": {},
     "output_type": "execute_result"
    }
   ],
   "source": [
    "heis2d.shape"
   ]
  },
  {
   "cell_type": "code",
   "execution_count": 33,
   "metadata": {},
   "outputs": [
    {
     "data": {
      "image/png": "[encoded data removed]",
      "text/plain": [
       "<Figure size 640x480 with 1 Axes>"
      ]
     },
     "metadata": {},
     "output_type": "display_data"
    }
   ],
   "source": [
    "_ = plt.spy(heis2d)"
   ]
  },
  {
   "attachments": {},
   "cell_type": "markdown",
   "metadata": {},
   "source": [
    "This Hamiltonian is very sparse in such a large Hilbert space!"
   ]
  },
  {
   "cell_type": "code",
   "execution_count": 34,
   "metadata": {},
   "outputs": [
    {
     "data": {
      "image/png": "[encoded data removed]",
      "text/plain": [
       "<Figure size 640x480 with 2 Axes>"
      ]
     },
     "metadata": {},
     "output_type": "display_data"
    }
   ],
   "source": [
    "_ = plt.imshow(heis2d, interpolation='nearest')\n",
    "_ = plt.colorbar()"
   ]
  },
  {
   "cell_type": "code",
   "execution_count": 47,
   "metadata": {},
   "outputs": [
    {
     "name": "stdout",
     "output_type": "stream",
     "text": [
      "Smallest energy: -6.41458581584677\n",
      "Largest energy: 9.223300963405572\n"
     ]
    }
   ],
   "source": [
    "# we can quickly compute the smallest and largest energies for this system: make it sparse and the time goes down by 32x\n",
    "minE, maxE = qu.bound_spectrum(qu.sparse(heis2d))\n",
    "print(f\"Smallest energy: {minE}\\nLargest energy: {maxE}\")"
   ]
  },
  {
   "attachments": {},
   "cell_type": "markdown",
   "metadata": {},
   "source": [
    "### Gibbs state"
   ]
  },
  {
   "attachments": {},
   "cell_type": "markdown",
   "metadata": {},
   "source": [
    "Define the Gibbs state for this new Hamiltonian using `quimb` built-in function"
   ]
  },
  {
   "cell_type": "code",
   "execution_count": 49,
   "metadata": {},
   "outputs": [],
   "source": [
    "# let's test different temperatures (1/beta)\n",
    "rho_heis2d_beta = qu.thermal_state(heis2d, beta, precomp_func=True)  # this returns a function now"
   ]
  },
  {
   "attachments": {},
   "cell_type": "markdown",
   "metadata": {},
   "source": [
    "Try different $\\beta$ values, i.e. these are thermal states at different temperatures. Since the computationally expensive exact diagonalization has been done already and precomputed, changing the temperature is very fast"
   ]
  },
  {
   "cell_type": "code",
   "execution_count": 36,
   "metadata": {},
   "outputs": [],
   "source": [
    "beta = 1.0\n",
    "rho_heis2d_1 = rho_heis2d_beta(beta)"
   ]
  },
  {
   "cell_type": "code",
   "execution_count": 37,
   "metadata": {},
   "outputs": [],
   "source": [
    "beta = 2.0\n",
    "rho_heis2d_2 = rho_heis2d_beta(beta)"
   ]
  },
  {
   "cell_type": "code",
   "execution_count": 38,
   "metadata": {},
   "outputs": [],
   "source": [
    "# low temperature...\n",
    "beta = 100.0\n",
    "rho_heis2d_100 = rho_heis2d_beta(beta)"
   ]
  },
  {
   "attachments": {},
   "cell_type": "markdown",
   "metadata": {},
   "source": [
    "### Ground state"
   ]
  },
  {
   "cell_type": "code",
   "execution_count": 39,
   "metadata": {},
   "outputs": [],
   "source": [
    "ge, gs = qu.eigh(heis2d, k=1)  # only the lowest eigenvalue and eigenvector"
   ]
  },
  {
   "attachments": {},
   "cell_type": "markdown",
   "metadata": {},
   "source": [
    "The ground state is represented as a `ket` (a column vector)"
   ]
  },
  {
   "cell_type": "code",
   "execution_count": 40,
   "metadata": {},
   "outputs": [
    {
     "data": {
      "text/plain": [
       "(4096, 1)"
      ]
     },
     "execution_count": 40,
     "metadata": {},
     "output_type": "execute_result"
    }
   ],
   "source": [
    "gs.shape"
   ]
  },
  {
   "cell_type": "code",
   "execution_count": 41,
   "metadata": {},
   "outputs": [
    {
     "name": "stdout",
     "output_type": "stream",
     "text": [
      "The ground state energy is: -6.415\n"
     ]
    }
   ],
   "source": [
    "print(f\"The ground state energy is: {ge[0]:.3f}\")"
   ]
  },
  {
   "attachments": {},
   "cell_type": "markdown",
   "metadata": {},
   "source": [
    "### Expectation values"
   ]
  },
  {
   "attachments": {},
   "cell_type": "markdown",
   "metadata": {},
   "source": [
    "The ground state has a similar energy to a very low temperature state. This is because cooling down the system will make it settle on its ground state!"
   ]
  },
  {
   "cell_type": "code",
   "execution_count": 42,
   "metadata": {},
   "outputs": [
    {
     "name": "stdout",
     "output_type": "stream",
     "text": [
      "Energy expectation value on ground state: -6.415\n"
     ]
    }
   ],
   "source": [
    "print(f\"Energy expectation value on ground state: {qu.expec(heis2d, gs):.3f}\")"
   ]
  },
  {
   "cell_type": "code",
   "execution_count": 43,
   "metadata": {},
   "outputs": [
    {
     "name": "stdout",
     "output_type": "stream",
     "text": [
      "Energy expectation value on thermal state (low temperature!): -6.415\n"
     ]
    }
   ],
   "source": [
    "print(f\"Energy expectation value on thermal state (low temperature!): {qu.expec(heis2d, rho_heis2d_100):.3f}\")"
   ]
  },
  {
   "attachments": {},
   "cell_type": "markdown",
   "metadata": {},
   "source": [
    "Thermal states at higher temperatures have higher energies..."
   ]
  },
  {
   "cell_type": "code",
   "execution_count": 44,
   "metadata": {},
   "outputs": [
    {
     "name": "stdout",
     "output_type": "stream",
     "text": [
      "Energy expectation value on thermal state (high temperature!): -3.695\n"
     ]
    }
   ],
   "source": [
    "print(f\"Energy expectation value on thermal state (high temperature!): {qu.expec(heis2d, rho_heis2d_1):.3f}\")"
   ]
  },
  {
   "cell_type": "code",
   "execution_count": null,
   "metadata": {},
   "outputs": [],
   "source": []
  }
 ],
 "metadata": {
  "kernelspec": {
   "display_name": ".venv",
   "language": "python",
   "name": "python3"
  },
  "language_info": {
   "codemirror_mode": {
    "name": "ipython",
    "version": 3
   },
   "file_extension": ".py",
   "mimetype": "text/x-python",
   "name": "python",
   "nbconvert_exporter": "python",
   "pygments_lexer": "ipython3",
   "version": "3.10.1"
  },
  "orig_nbformat": 4
 },
 "nbformat": 4,
 "nbformat_minor": 2
}
