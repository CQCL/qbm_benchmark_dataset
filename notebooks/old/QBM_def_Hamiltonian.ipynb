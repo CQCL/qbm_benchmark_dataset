{
 "cells": [
  {
   "cell_type": "code",
   "execution_count": 1,
   "id": "1eb5cd13-bf0a-456a-be13-cad5f0fa939c",
   "metadata": {},
   "outputs": [],
   "source": [
    "import quimb as qu\n",
    "import joblib\n",
    "import numpy as np"
   ]
  },
  {
   "cell_type": "code",
   "execution_count": 2,
   "id": "cd64b2c3-7a73-4c25-8073-07c3c104e568",
   "metadata": {},
   "outputs": [],
   "source": [
    "# define number of sites == number of qubits (each site is a 2-level system)\n",
    "n = 4"
   ]
  },
  {
   "cell_type": "code",
   "execution_count": 3,
   "id": "cc5cda23-514c-42ef-8863-2d2bc00f9eb7",
   "metadata": {},
   "outputs": [],
   "source": [
    "def h_single_site(n, k):\n",
    "    dims = (2,) * n\n",
    "    def gen_term(i):\n",
    "        return qu.ikron(qu.pauli(k), dims, [i])\n",
    "    return sum(map(gen_term, range(0, n)))    \n",
    "\n",
    "def h_two_sites(n, k):\n",
    "    dims = (2,) * n\n",
    "    def gen_term(i):\n",
    "        return qu.ikron(qu.pauli(k), dims, [i, i+1])\n",
    "    return sum(map(gen_term, range(0, n-1)))\n",
    "\n",
    "def h_two_sites_j2(n, k):\n",
    "    dims = (2,) * n\n",
    "    def gen_term(i):\n",
    "        return qu.ikron(qu.pauli(k), dims, [i, i+2])\n",
    "    return sum(map(gen_term, range(0, n-2)))\n",
    "\n",
    "# Jordan-Wigner transformation\n",
    "def annihilation_operator(n, index):\n",
    "    dims = (2,) * n\n",
    "    def gen_term(i, k):\n",
    "        return qu.ikron(qu.pauli(k), dims, [i])\n",
    "    term = 1/2 * (gen_term(index, \"X\") + 1j * gen_term(index, \"Y\"))\n",
    "    for i in range(index-1, -1, -1):\n",
    "        term = term @ gen_term(i, \"Z\")\n",
    "    return term\n",
    "\n",
    "def creation_operator(n, index):\n",
    "    return annihilation_operator(n, index).H"
   ]
  },
  {
   "cell_type": "markdown",
   "id": "9828b7d7-ed9a-4ed1-9d34-1dd56b04cb3d",
   "metadata": {},
   "source": [
    "Label 0 (1D transversefield Ising model):\n",
    "- $H = k_1 \\sum_{n=1}^{N-1} Z_n Z_{n+1} + k_2 \\sum_{n=1}^{N} X_n \\quad (k_1=1, k_2=2)$\n",
    "\n",
    "Label 1 (1D Heisenberg model):\n",
    "- $H = k_1 \\sum_{n=1}^{N-1} (X_n X_{n+1} +  Y_n Y_{n+1} + Z_n Z_{n+1}) + k_2 \\sum_{n=1}^{N} Z_n \\quad (k_1=1, k_2=2)$\n",
    "\n",
    "Label 2 (Su-Schrieffer-Heeger model):\n",
    "- $H = k_1 \\sum_{n=1}^{N-1} (X_n X_{n+1} +  Y_n Y_{n+1} + Z_n Z_{n+1}) + k_2 \\sum_{n=1}^{N-1} (-1)^{n-1} (X_n X_{n+1} +  Y_n Y_{n+1} + Z_n Z_{n+1}) \\quad (k_1=1, k_2=\\frac{3}{2})$\n",
    "\n",
    "Label 3 (J1-J2 model):\n",
    "- $H = k_1 \\sum_{n=1}^{N-1} (X_n X_{n+1} +  Y_n Y_{n+1} + Z_n Z_{n+1}) + k_2 \\sum_{n=1}^{N-2} (X_n X_{n+2} +  Y_n Y_{n+2} + Z_n Z_{n+2}) \\quad (k_1=1, k_2=3)$\n",
    "\n",
    "Label 4 (1D Hubbard model):\n",
    "- $H = -k_1 \\sum_{j=1}^{N/2-1} \\sum_{^\\sigma \\in \\{\\uparrow, \\downarrow\\}} (a_{j, \\sigma}^\\dagger a_{j+1, \\sigma} + \\mathrm{H.c.}) +\n",
    "       k_2 \\sum_{j=1}^{N/2} (a_{j, \\uparrow}^\\dagger a_{j, \\uparrow} - \\frac{1}{2}) (a_{j, \\downarrow}^\\dagger a_{j, \\downarrow} - \\frac{1}{2}) \\quad (k_1=1, k_2=1)$  \n",
    "$a_{j, \\uparrow} = \\frac{1}{2} (X_{2j} + i Y_{2j}) \\prod_{k=2j-1}^{0} Z_k,  \\quad\n",
    " a_{j, \\downarrow} = \\frac{1}{2} (X_{2j+1} + i Y_{2j+1}) \\prod_{k=2j}^{0} Z_k$\n",
    "\n",
    "Label 5 (2D Hubbard model):\n",
    "- $H = -k_1 \\sum_{^\\sigma \\in \\{\\uparrow, \\downarrow\\}} (\\sum_{j_x=1}^{N/4-1} \\sum_{j_y=1}^{2} a_{j_x, j_y, \\sigma}^\\dagger a_{j_x+1, j_y, \\sigma} + \n",
    "                                                         \\sum_{j_x=1}^{N/4} a_{j_x, 1, \\sigma}^\\dagger a_{j_x, 2, \\sigma} + \\mathrm{H.c.}) +\n",
    "       k_2 \\sum_{j_y=1}^{2} \\sum_{j_x=1}^{N/4} (a_{j_x, j_y, \\uparrow}^\\dagger a_{j_x, j_y, \\uparrow} - \\frac{1}{2})\n",
    "                                               (a_{j_x, j_y, \\downarrow}^\\dagger a_{j_x, j_y, \\downarrow} - \\frac{1}{2}) \\quad (k_1=1, k_2=1)$\n",
    "$a_{j_x, j_y, \\uparrow} = \\frac{1}{2} (X_{2((N/4)j_y+j_x)} + i Y_{2((N/4)j_y+j_x)}) \\prod_{k=2((N/4)j_y+j_x)-1}^{0} Z_k, \\quad\n",
    "  a_{j_x, j_y, \\downarrow} = \\frac{1}{2} (X_{2((N/4)j_y+j_x)+1} + i Y_{2((N/4)j_y+j_x)+1}) \\prod_{k=2((N/4)j_y+j_x)}^{0} Z_k$\n"
   ]
  },
  {
   "cell_type": "code",
   "execution_count": 4,
   "id": "6ceaec82-cc8b-412e-9d2f-28a46968995b",
   "metadata": {},
   "outputs": [],
   "source": [
    "def Hamiltonian_terms(n, label):\n",
    "    h_terms = []\n",
    "    \n",
    "    if label == 0:\n",
    "        h_terms.append(h_two_sites(n, \"Z\"))\n",
    "        h_terms.append(h_single_site(n, \"X\"))\n",
    "    if label == 1:\n",
    "        h_terms.append(h_two_sites(n, \"X\") + h_two_sites(n, \"Y\") + h_two_sites(n, \"Z\"))\n",
    "        h_terms.append(h_single_site(n, \"Z\"))\n",
    "    if label == 2:\n",
    "        h_terms.append(h_two_sites(n, \"X\") + h_two_sites(n, \"Y\") + h_two_sites(n, \"Z\"))\n",
    "        term = qu.qarray(np.zeros((2**n, 2**n), dtype=complex))\n",
    "        dims = (2,) * n\n",
    "        for k in [\"X\", \"Y\", \"Z\"]:\n",
    "            for i in range(n-1):\n",
    "                term += (-1)**i * qu.ikron(qu.pauli(k), dims, [i, i+1])\n",
    "        h_terms.append(term)\n",
    "    if label == 3:\n",
    "        h_terms.append(h_two_sites(n, \"X\") + h_two_sites(n, \"Y\") + h_two_sites(n, \"Z\"))\n",
    "        h_terms.append(h_two_sites_j2(n, \"X\") + h_two_sites_j2(n, \"Y\") + h_two_sites_j2(n, \"Z\"))\n",
    "    if label == 4:\n",
    "        assert n % 2 == 0\n",
    "        # hopping term\n",
    "        hopping_term = qu.qarray(np.zeros((2**n, 2**n), dtype=complex))\n",
    "        for j in range(n//2-1):\n",
    "            for sigma in range(2):\n",
    "                hopping_term -= creation_operator(n, 2*j+sigma) @ annihilation_operator(n, 2*(j+1)+sigma) + creation_operator(n, 2*(j+1)+sigma) @ annihilation_operator(n, 2*j+sigma)\n",
    "        h_terms.append(hopping_term)\n",
    "        # interaction term\n",
    "        interaction_term = qu.qarray(np.zeros((2**n, 2**n), dtype=complex))\n",
    "        for j in range(n//2):\n",
    "            interaction_term += (creation_operator(n, 2*j) @ annihilation_operator(n, 2*j) - 1/2 * qu.identity(2**n)) @ (creation_operator(n, 2*j+1) @ annihilation_operator(n, 2*j+1) - 1/2 * qu.identity(2**n))\n",
    "        h_terms.append(interaction_term)\n",
    "    if label == 5:\n",
    "        assert n >= 8 and n % 4 == 0\n",
    "        # hopping term\n",
    "        hopping_term = qu.qarray(np.zeros((2**n, 2**n), dtype=complex))\n",
    "        for sigma in range(2):\n",
    "            for jx in range(n//4-1):\n",
    "                for jy in range(2):\n",
    "                    j = n//4*jy + jx\n",
    "                    hopping_term -= creation_operator(n, 2*j+sigma) @ annihilation_operator(n, 2*(j+1)+sigma) + creation_operator(n, 2*(j+1)+sigma) @ annihilation_operator(n, 2*j+sigma)\n",
    "            for jx in range(n//4):\n",
    "                hopping_term -= creation_operator(n, 2*jx+sigma) @ annihilation_operator(n, 2*(n//4+jx)+sigma) + creation_operator(n, 2*(n//4+jx)+sigma) @ annihilation_operator(n, 2*jx+sigma)\n",
    "        h_terms.append(hopping_term)\n",
    "        # interaction term\n",
    "        interaction_term = qu.qarray(np.zeros((2**n, 2**n), dtype=complex))\n",
    "        for jx in range(n//4):\n",
    "            for jy in range(2):\n",
    "                j = n//4*jy + jx\n",
    "                interaction_term += (creation_operator(n, 2*j) @ annihilation_operator(n, 2*j) - 1/2 * qu.identity(2**n)) @ (creation_operator(n, 2*j+1) @ annihilation_operator(n, 2*j+1) - 1/2 * qu.identity(2**n))\n",
    "        h_terms.append(interaction_term)\n",
    "\n",
    "    return h_terms"
   ]
  },
  {
   "cell_type": "markdown",
   "id": "37eb0135-d96c-469f-9a7a-3ccfbd3f81d5",
   "metadata": {},
   "source": [
    "It is defined as a function that returns a list of Hamiltonian terms so that they can be weighted by any coefficients you like.  \n",
    "Note that the Hamiltonian is defined by the Pauli operator, not the spin operator."
   ]
  },
  {
   "cell_type": "markdown",
   "id": "f78af7d5-1e1b-497c-ad65-efef0528f96d",
   "metadata": {},
   "source": [
    "## Sanity Check"
   ]
  },
  {
   "cell_type": "markdown",
   "id": "841e72c2-5748-4777-8668-532da53c6101",
   "metadata": {
    "tags": []
   },
   "source": [
    "### Label 0 (1D transversefield Ising model)"
   ]
  },
  {
   "cell_type": "code",
   "execution_count": 5,
   "id": "99eab812-8e42-4027-b987-204a3713df7f",
   "metadata": {},
   "outputs": [
    {
     "name": "stdout",
     "output_type": "stream",
     "text": [
      "-8.37679863685036\n",
      "[[ 0.16887+0.j]\n",
      " [-0.21149+0.j]\n",
      " [-0.26883+0.j]\n",
      " [ 0.20489+0.j]\n",
      " [-0.26883+0.j]\n",
      " [ 0.35732+0.j]\n",
      " [ 0.26045+0.j]\n",
      " [-0.21149+0.j]\n",
      " [-0.21149+0.j]\n",
      " [ 0.26045+0.j]\n",
      " [ 0.35732+0.j]\n",
      " [-0.26883+0.j]\n",
      " [ 0.20489+0.j]\n",
      " [-0.26883+0.j]\n",
      " [-0.21149+0.j]\n",
      " [ 0.16887+0.j]]\n"
     ]
    }
   ],
   "source": [
    "h_terms = Hamiltonian_terms(n, label=0)\n",
    "h = h_terms[0] + 2*h_terms[1]  # same coefficients as the paper\n",
    "\n",
    "eigen_values, eigen_vectors = qu.eigh(h)\n",
    "print(eigen_values[0])\n",
    "print(eigen_vectors[:, [0]].round(5))"
   ]
  },
  {
   "cell_type": "code",
   "execution_count": 6,
   "id": "170c064a-bde9-400a-b1a3-7a5196060391",
   "metadata": {},
   "outputs": [
    {
     "name": "stdout",
     "output_type": "stream",
     "text": [
      "-8.376798636850356\n",
      "[[-0.03704-0.16476j]\n",
      " [ 0.04639+0.20634j]\n",
      " [ 0.05897+0.26228j]\n",
      " [-0.04494-0.1999j ]\n",
      " [ 0.05897+0.26228j]\n",
      " [-0.07838-0.34862j]\n",
      " [-0.05713-0.2541j ]\n",
      " [ 0.04639+0.20634j]\n",
      " [ 0.04639+0.20634j]\n",
      " [-0.05713-0.2541j ]\n",
      " [-0.07838-0.34862j]\n",
      " [ 0.05897+0.26228j]\n",
      " [-0.04494-0.1999j ]\n",
      " [ 0.05897+0.26228j]\n",
      " [ 0.04639+0.20634j]\n",
      " [-0.03704-0.16476j]]\n"
     ]
    }
   ],
   "source": [
    "ref = joblib.load(f\"../VQE-generated-dataset/data/ground_state/{str(n).zfill(2)}qubit/label0.jb\")\n",
    "print(ref[\"ground_energy\"])\n",
    "print(ref[\"ground_state\"].round(5).reshape(-1, 1))"
   ]
  },
  {
   "cell_type": "code",
   "execution_count": 7,
   "id": "83ba9350-fa1a-472b-8de9-c9d1218d4e76",
   "metadata": {},
   "outputs": [
    {
     "data": {
      "text/plain": [
       "1.0000000000000002"
      ]
     },
     "execution_count": 7,
     "metadata": {},
     "output_type": "execute_result"
    }
   ],
   "source": [
    "qu.fidelity(eigen_vectors[:, 0], ref[\"ground_state\"])"
   ]
  },
  {
   "cell_type": "markdown",
   "id": "ee058997-4de0-41fe-a124-386ad727631c",
   "metadata": {},
   "source": [
    "### Label 1 (1D Heisenberg model)"
   ]
  },
  {
   "cell_type": "code",
   "execution_count": 8,
   "id": "1061e420-b55d-456d-a97d-1893765b47aa",
   "metadata": {},
   "outputs": [
    {
     "name": "stdout",
     "output_type": "stream",
     "text": [
      "-7.828427124746192\n",
      "[[ 0.     +0.j]\n",
      " [ 0.     +0.j]\n",
      " [ 0.     +0.j]\n",
      " [ 0.     +0.j]\n",
      " [ 0.     +0.j]\n",
      " [-0.     +0.j]\n",
      " [ 0.     +0.j]\n",
      " [-0.2706 +0.j]\n",
      " [ 0.     +0.j]\n",
      " [ 0.     +0.j]\n",
      " [-0.     +0.j]\n",
      " [ 0.65328+0.j]\n",
      " [ 0.     +0.j]\n",
      " [-0.65328+0.j]\n",
      " [ 0.2706 +0.j]\n",
      " [ 0.     +0.j]]\n"
     ]
    }
   ],
   "source": [
    "h_terms = Hamiltonian_terms(n, label=1)\n",
    "h = h_terms[0] + 2*h_terms[1]  # same coefficients as the paper\n",
    "\n",
    "eigen_values, eigen_vectors = qu.eigh(h)\n",
    "print(eigen_values[0])\n",
    "print(eigen_vectors[:, [0]].round(5))"
   ]
  },
  {
   "cell_type": "code",
   "execution_count": 9,
   "id": "ada01b8f-43f9-41f9-97d8-b23ca252c74a",
   "metadata": {},
   "outputs": [
    {
     "name": "stdout",
     "output_type": "stream",
     "text": [
      "-7.828427124746191\n",
      "[[ 0.     +0.j]\n",
      " [ 0.     +0.j]\n",
      " [ 0.     +0.j]\n",
      " [-0.     +0.j]\n",
      " [ 0.     +0.j]\n",
      " [-0.     +0.j]\n",
      " [ 0.     +0.j]\n",
      " [-0.2706 +0.j]\n",
      " [ 0.     +0.j]\n",
      " [ 0.     +0.j]\n",
      " [-0.     +0.j]\n",
      " [ 0.65328+0.j]\n",
      " [ 0.     +0.j]\n",
      " [-0.65328+0.j]\n",
      " [ 0.2706 +0.j]\n",
      " [ 0.     +0.j]]\n"
     ]
    }
   ],
   "source": [
    "ref = joblib.load(f\"../VQE-generated-dataset/data/ground_state/{str(n).zfill(2)}qubit/label1.jb\")\n",
    "print(ref[\"ground_energy\"])\n",
    "print(ref[\"ground_state\"].round(5).reshape(-1, 1))"
   ]
  },
  {
   "cell_type": "code",
   "execution_count": 10,
   "id": "9a267615-b6ef-4512-8de5-da9cdb2ae280",
   "metadata": {},
   "outputs": [
    {
     "data": {
      "text/plain": [
       "1.0000000000000004"
      ]
     },
     "execution_count": 10,
     "metadata": {},
     "output_type": "execute_result"
    }
   ],
   "source": [
    "qu.fidelity(eigen_vectors[:, 0], ref[\"ground_state\"])"
   ]
  },
  {
   "cell_type": "markdown",
   "id": "a861d931-3a7d-4efd-80f1-b82d900aaf3e",
   "metadata": {},
   "source": [
    "### Label 2 (Su-Schrieffer-Heeger model)"
   ]
  },
  {
   "cell_type": "code",
   "execution_count": 11,
   "id": "48fcd5cc-583f-449a-afed-7d5dd1754443",
   "metadata": {},
   "outputs": [
    {
     "name": "stdout",
     "output_type": "stream",
     "text": [
      "-15.035653752852738\n",
      "[[ 0.     +0.j]\n",
      " [ 0.     +0.j]\n",
      " [ 0.     +0.j]\n",
      " [-0.02375+0.j]\n",
      " [ 0.     +0.j]\n",
      " [-0.4877 +0.j]\n",
      " [ 0.51145+0.j]\n",
      " [-0.     +0.j]\n",
      " [ 0.     +0.j]\n",
      " [ 0.51145+0.j]\n",
      " [-0.4877 +0.j]\n",
      " [ 0.     +0.j]\n",
      " [-0.02375+0.j]\n",
      " [-0.     +0.j]\n",
      " [-0.     +0.j]\n",
      " [ 0.     +0.j]]\n"
     ]
    }
   ],
   "source": [
    "h_terms = Hamiltonian_terms(n, label=2)\n",
    "h = h_terms[0] + 3/2*h_terms[1]  # same coefficients as the paper\n",
    "\n",
    "eigen_values, eigen_vectors = qu.eigh(h)\n",
    "print(eigen_values[0])\n",
    "print(eigen_vectors[:, [0]].round(5))"
   ]
  },
  {
   "cell_type": "code",
   "execution_count": 12,
   "id": "335442fb-fe84-4938-8615-15d8098e4f85",
   "metadata": {},
   "outputs": [
    {
     "name": "stdout",
     "output_type": "stream",
     "text": [
      "-15.035653752852738\n",
      "[[ 0.     +0.j]\n",
      " [ 0.     +0.j]\n",
      " [ 0.     +0.j]\n",
      " [ 0.02375+0.j]\n",
      " [ 0.     +0.j]\n",
      " [ 0.4877 +0.j]\n",
      " [-0.51145+0.j]\n",
      " [ 0.     +0.j]\n",
      " [ 0.     +0.j]\n",
      " [-0.51145+0.j]\n",
      " [ 0.4877 +0.j]\n",
      " [-0.     +0.j]\n",
      " [ 0.02375+0.j]\n",
      " [-0.     +0.j]\n",
      " [ 0.     +0.j]\n",
      " [ 0.     +0.j]]\n"
     ]
    }
   ],
   "source": [
    "ref = joblib.load(f\"../VQE-generated-dataset/data/ground_state/{str(n).zfill(2)}qubit/label2.jb\")\n",
    "print(ref[\"ground_energy\"])\n",
    "print(ref[\"ground_state\"].round(5).reshape(-1, 1))"
   ]
  },
  {
   "cell_type": "code",
   "execution_count": 13,
   "id": "7b38c7f8-008c-4163-9282-918143c3814f",
   "metadata": {},
   "outputs": [
    {
     "data": {
      "text/plain": [
       "1.0"
      ]
     },
     "execution_count": 13,
     "metadata": {},
     "output_type": "execute_result"
    }
   ],
   "source": [
    "qu.fidelity(eigen_vectors[:, 0], ref[\"ground_state\"])"
   ]
  },
  {
   "cell_type": "markdown",
   "id": "2dafd249-91c5-479d-bf6d-1cc10daef9ca",
   "metadata": {},
   "source": [
    "### Label 3 (J1-J2 model)"
   ]
  },
  {
   "cell_type": "code",
   "execution_count": 14,
   "id": "2845071b-2699-4d57-8868-da9a8e0d4dd8",
   "metadata": {},
   "outputs": [
    {
     "name": "stdout",
     "output_type": "stream",
     "text": [
      "-18.16515138991169\n",
      "[[ 0.     +0.j]\n",
      " [ 0.     +0.j]\n",
      " [-0.     +0.j]\n",
      " [ 0.47034+0.j]\n",
      " [ 0.     +0.j]\n",
      " [ 0.0548 +0.j]\n",
      " [-0.52514+0.j]\n",
      " [-0.     +0.j]\n",
      " [ 0.     +0.j]\n",
      " [-0.52514+0.j]\n",
      " [ 0.0548 +0.j]\n",
      " [-0.     +0.j]\n",
      " [ 0.47034+0.j]\n",
      " [ 0.     +0.j]\n",
      " [ 0.     +0.j]\n",
      " [ 0.     +0.j]]\n"
     ]
    }
   ],
   "source": [
    "h_terms = Hamiltonian_terms(n, label=3)\n",
    "h = h_terms[0] + 3*h_terms[1]  # same coefficients as the paper\n",
    "\n",
    "eigen_values, eigen_vectors = qu.eigh(h)\n",
    "print(eigen_values[0])\n",
    "print(eigen_vectors[:, [0]].round(5))"
   ]
  },
  {
   "cell_type": "code",
   "execution_count": 15,
   "id": "ae279c8f-1416-4bc6-86be-9fd1b0dc4efd",
   "metadata": {},
   "outputs": [
    {
     "name": "stdout",
     "output_type": "stream",
     "text": [
      "-18.165151389911674\n",
      "[[ 0.     +0.j]\n",
      " [ 0.     +0.j]\n",
      " [ 0.     +0.j]\n",
      " [ 0.47034+0.j]\n",
      " [-0.     +0.j]\n",
      " [ 0.0548 +0.j]\n",
      " [-0.52514+0.j]\n",
      " [ 0.     +0.j]\n",
      " [-0.     +0.j]\n",
      " [-0.52514+0.j]\n",
      " [ 0.0548 +0.j]\n",
      " [-0.     +0.j]\n",
      " [ 0.47034+0.j]\n",
      " [-0.     +0.j]\n",
      " [-0.     +0.j]\n",
      " [ 0.     +0.j]]\n"
     ]
    }
   ],
   "source": [
    "ref = joblib.load(f\"../VQE-generated-dataset/data/ground_state/{str(n).zfill(2)}qubit/label3.jb\")\n",
    "print(ref[\"ground_energy\"])\n",
    "print(ref[\"ground_state\"].round(5).reshape(-1, 1))"
   ]
  },
  {
   "cell_type": "code",
   "execution_count": 16,
   "id": "bf0c5637-fbe0-4eb3-9818-d03e37a2707b",
   "metadata": {},
   "outputs": [
    {
     "data": {
      "text/plain": [
       "1.0"
      ]
     },
     "execution_count": 16,
     "metadata": {},
     "output_type": "execute_result"
    }
   ],
   "source": [
    "qu.fidelity(eigen_vectors[:, 0], ref[\"ground_state\"])"
   ]
  },
  {
   "cell_type": "markdown",
   "id": "0b8ee56b-e201-4929-93c9-30a0cada9635",
   "metadata": {},
   "source": [
    "### Label 4 (1D Hubbard model)"
   ]
  },
  {
   "cell_type": "code",
   "execution_count": 17,
   "id": "f3311246-8e2e-4014-8467-31f7729ea8af",
   "metadata": {},
   "outputs": [
    {
     "name": "stdout",
     "output_type": "stream",
     "text": [
      "-2.0615528128088307\n",
      "[[ 0.     +0.j]\n",
      " [ 0.     +0.j]\n",
      " [-0.     +0.j]\n",
      " [-0.43516+0.j]\n",
      " [ 0.     +0.j]\n",
      " [ 0.     +0.j]\n",
      " [ 0.55735+0.j]\n",
      " [ 0.     +0.j]\n",
      " [-0.     +0.j]\n",
      " [-0.55735+0.j]\n",
      " [ 0.     +0.j]\n",
      " [ 0.     +0.j]\n",
      " [-0.43516+0.j]\n",
      " [-0.     +0.j]\n",
      " [ 0.     +0.j]\n",
      " [ 0.     +0.j]]\n"
     ]
    }
   ],
   "source": [
    "h_terms = Hamiltonian_terms(n, label=4)\n",
    "h = h_terms[0] + h_terms[1]  # same coefficients as the paper\n",
    "\n",
    "eigen_values, eigen_vectors = qu.eigh(h)\n",
    "print(eigen_values[0])\n",
    "print(eigen_vectors[:, [0]].round(5))"
   ]
  },
  {
   "cell_type": "code",
   "execution_count": 18,
   "id": "27025f9b-11df-45ba-aa0d-407fbe74c2d2",
   "metadata": {},
   "outputs": [
    {
     "name": "stdout",
     "output_type": "stream",
     "text": [
      "-2.06155281280883\n",
      "[[ 0.     +0.j]\n",
      " [ 0.     +0.j]\n",
      " [-0.     +0.j]\n",
      " [-0.43516+0.j]\n",
      " [ 0.     +0.j]\n",
      " [ 0.     +0.j]\n",
      " [ 0.55735+0.j]\n",
      " [ 0.     +0.j]\n",
      " [-0.     +0.j]\n",
      " [-0.55735+0.j]\n",
      " [-0.     +0.j]\n",
      " [ 0.     +0.j]\n",
      " [-0.43516+0.j]\n",
      " [ 0.     +0.j]\n",
      " [-0.     +0.j]\n",
      " [ 0.     +0.j]]\n"
     ]
    }
   ],
   "source": [
    "ref = joblib.load(f\"../VQE-generated-dataset/data/ground_state/{str(n).zfill(2)}qubit/label4.jb\")\n",
    "print(ref[\"ground_energy\"])\n",
    "print(ref[\"ground_state\"].round(5).reshape(-1, 1))"
   ]
  },
  {
   "cell_type": "code",
   "execution_count": 19,
   "id": "a91d6cfb-c5c0-4efc-a3f2-496bc7767dae",
   "metadata": {},
   "outputs": [
    {
     "data": {
      "text/plain": [
       "1.0000000000000002"
      ]
     },
     "execution_count": 19,
     "metadata": {},
     "output_type": "execute_result"
    }
   ],
   "source": [
    "qu.fidelity(eigen_vectors[:, 0], ref[\"ground_state\"])"
   ]
  },
  {
   "cell_type": "markdown",
   "id": "bc9fffe2-ed23-46dc-bbe0-fe02a7b2203d",
   "metadata": {},
   "source": [
    "### Label 5 (2D Hubbard model)"
   ]
  },
  {
   "cell_type": "code",
   "execution_count": 20,
   "id": "6ee6ba7f-eff0-4472-8786-200a2f5d21ae",
   "metadata": {},
   "outputs": [],
   "source": [
    "n = 8"
   ]
  },
  {
   "cell_type": "code",
   "execution_count": 21,
   "id": "47b3a6fc-3bbd-4594-9685-f83e26b00ebb",
   "metadata": {},
   "outputs": [
    {
     "name": "stdout",
     "output_type": "stream",
     "text": [
      "-4.3408476172483415\n",
      "[[ 0.     +0.j]\n",
      " [ 0.     +0.j]\n",
      " [-0.     +0.j]\n",
      " [-0.     +0.j]\n",
      " [ 0.     +0.j]\n",
      " [-0.     +0.j]\n",
      " [ 0.     +0.j]\n",
      " [-0.     +0.j]\n",
      " [-0.     +0.j]\n",
      " [ 0.     +0.j]\n",
      " [-0.     +0.j]\n",
      " [ 0.     +0.j]\n",
      " [-0.     +0.j]\n",
      " [ 0.     +0.j]\n",
      " [ 0.     +0.j]\n",
      " [-0.1258 +0.j]\n",
      " [-0.     +0.j]\n",
      " [-0.     +0.j]\n",
      " [ 0.     +0.j]\n",
      " [ 0.     +0.j]\n",
      " [-0.     +0.j]\n",
      " [ 0.     +0.j]\n",
      " [-0.     +0.j]\n",
      " [-0.     +0.j]\n",
      " [ 0.     +0.j]\n",
      " [ 0.     +0.j]\n",
      " [ 0.     +0.j]\n",
      " [ 0.     +0.j]\n",
      " [ 0.     +0.j]\n",
      " [ 0.     +0.j]\n",
      " [ 0.16796+0.j]\n",
      " [-0.     +0.j]\n",
      " [ 0.     +0.j]\n",
      " [-0.     +0.j]\n",
      " [-0.     +0.j]\n",
      " [-0.     +0.j]\n",
      " [ 0.     +0.j]\n",
      " [ 0.     +0.j]\n",
      " [ 0.     +0.j]\n",
      " [ 0.     +0.j]\n",
      " [ 0.     +0.j]\n",
      " [ 0.     +0.j]\n",
      " [ 0.     +0.j]\n",
      " [ 0.     +0.j]\n",
      " [-0.     +0.j]\n",
      " [-0.16796+0.j]\n",
      " [-0.     +0.j]\n",
      " [-0.     +0.j]\n",
      " [ 0.     +0.j]\n",
      " [-0.     +0.j]\n",
      " [ 0.     +0.j]\n",
      " [ 0.1258 +0.j]\n",
      " [-0.     +0.j]\n",
      " [-0.     +0.j]\n",
      " [-0.16796+0.j]\n",
      " [-0.     +0.j]\n",
      " [ 0.     +0.j]\n",
      " [ 0.16796+0.j]\n",
      " [ 0.     +0.j]\n",
      " [ 0.     +0.j]\n",
      " [-0.     +0.j]\n",
      " [ 0.     +0.j]\n",
      " [ 0.     +0.j]\n",
      " [ 0.     +0.j]\n",
      " [ 0.     +0.j]\n",
      " [-0.     +0.j]\n",
      " [-0.     +0.j]\n",
      " [ 0.     +0.j]\n",
      " [-0.     +0.j]\n",
      " [ 0.     +0.j]\n",
      " [-0.     +0.j]\n",
      " [-0.     +0.j]\n",
      " [-0.     +0.j]\n",
      " [ 0.     +0.j]\n",
      " [-0.     +0.j]\n",
      " [ 0.16796+0.j]\n",
      " [ 0.     +0.j]\n",
      " [ 0.     +0.j]\n",
      " [-0.     +0.j]\n",
      " [-0.     +0.j]\n",
      " [ 0.     +0.j]\n",
      " [-0.     +0.j]\n",
      " [-0.     +0.j]\n",
      " [ 0.     +0.j]\n",
      " [-0.     +0.j]\n",
      " [ 0.     +0.j]\n",
      " [-0.     +0.j]\n",
      " [ 0.     +0.j]\n",
      " [-0.     +0.j]\n",
      " [ 0.     +0.j]\n",
      " [ 0.2011 +0.j]\n",
      " [ 0.     +0.j]\n",
      " [ 0.     +0.j]\n",
      " [ 0.     +0.j]\n",
      " [-0.     +0.j]\n",
      " [ 0.     +0.j]\n",
      " [ 0.     +0.j]\n",
      " [ 0.     +0.j]\n",
      " [-0.     +0.j]\n",
      " [-0.16796+0.j]\n",
      " [ 0.     +0.j]\n",
      " [ 0.     +0.j]\n",
      " [ 0.2011 +0.j]\n",
      " [ 0.     +0.j]\n",
      " [-0.     +0.j]\n",
      " [-0.40221+0.j]\n",
      " [ 0.     +0.j]\n",
      " [-0.     +0.j]\n",
      " [-0.16796+0.j]\n",
      " [-0.     +0.j]\n",
      " [ 0.     +0.j]\n",
      " [ 0.     +0.j]\n",
      " [ 0.     +0.j]\n",
      " [-0.     +0.j]\n",
      " [ 0.     +0.j]\n",
      " [-0.     +0.j]\n",
      " [-0.     +0.j]\n",
      " [ 0.     +0.j]\n",
      " [ 0.     +0.j]\n",
      " [ 0.     +0.j]\n",
      " [ 0.16796+0.j]\n",
      " [ 0.     +0.j]\n",
      " [-0.     +0.j]\n",
      " [ 0.     +0.j]\n",
      " [ 0.     +0.j]\n",
      " [ 0.     +0.j]\n",
      " [ 0.     +0.j]\n",
      " [ 0.     +0.j]\n",
      " [ 0.     +0.j]\n",
      " [ 0.     +0.j]\n",
      " [-0.     +0.j]\n",
      " [-0.     +0.j]\n",
      " [ 0.     +0.j]\n",
      " [-0.     +0.j]\n",
      " [ 0.     +0.j]\n",
      " [-0.16796+0.j]\n",
      " [-0.     +0.j]\n",
      " [ 0.     +0.j]\n",
      " [ 0.     +0.j]\n",
      " [ 0.     +0.j]\n",
      " [-0.     +0.j]\n",
      " [-0.     +0.j]\n",
      " [ 0.     +0.j]\n",
      " [-0.     +0.j]\n",
      " [-0.     +0.j]\n",
      " [-0.     +0.j]\n",
      " [-0.     +0.j]\n",
      " [ 0.16796+0.j]\n",
      " [-0.     +0.j]\n",
      " [-0.     +0.j]\n",
      " [-0.40221+0.j]\n",
      " [-0.     +0.j]\n",
      " [-0.     +0.j]\n",
      " [ 0.2011 +0.j]\n",
      " [-0.     +0.j]\n",
      " [-0.     +0.j]\n",
      " [ 0.16796+0.j]\n",
      " [ 0.     +0.j]\n",
      " [ 0.     +0.j]\n",
      " [ 0.     +0.j]\n",
      " [-0.     +0.j]\n",
      " [-0.     +0.j]\n",
      " [-0.     +0.j]\n",
      " [-0.     +0.j]\n",
      " [-0.     +0.j]\n",
      " [ 0.2011 +0.j]\n",
      " [-0.     +0.j]\n",
      " [ 0.     +0.j]\n",
      " [ 0.     +0.j]\n",
      " [ 0.     +0.j]\n",
      " [ 0.     +0.j]\n",
      " [ 0.     +0.j]\n",
      " [-0.     +0.j]\n",
      " [-0.     +0.j]\n",
      " [ 0.     +0.j]\n",
      " [ 0.     +0.j]\n",
      " [-0.     +0.j]\n",
      " [ 0.     +0.j]\n",
      " [-0.     +0.j]\n",
      " [-0.     +0.j]\n",
      " [-0.16796+0.j]\n",
      " [-0.     +0.j]\n",
      " [ 0.     +0.j]\n",
      " [ 0.     +0.j]\n",
      " [ 0.     +0.j]\n",
      " [ 0.     +0.j]\n",
      " [ 0.     +0.j]\n",
      " [ 0.     +0.j]\n",
      " [-0.     +0.j]\n",
      " [ 0.     +0.j]\n",
      " [ 0.     +0.j]\n",
      " [ 0.     +0.j]\n",
      " [-0.     +0.j]\n",
      " [-0.     +0.j]\n",
      " [ 0.     +0.j]\n",
      " [-0.     +0.j]\n",
      " [-0.     +0.j]\n",
      " [-0.     +0.j]\n",
      " [-0.16796+0.j]\n",
      " [ 0.     +0.j]\n",
      " [ 0.     +0.j]\n",
      " [ 0.16796+0.j]\n",
      " [ 0.     +0.j]\n",
      " [ 0.     +0.j]\n",
      " [ 0.1258 +0.j]\n",
      " [-0.     +0.j]\n",
      " [ 0.     +0.j]\n",
      " [ 0.     +0.j]\n",
      " [ 0.     +0.j]\n",
      " [ 0.     +0.j]\n",
      " [ 0.16796+0.j]\n",
      " [ 0.     +0.j]\n",
      " [ 0.     +0.j]\n",
      " [ 0.     +0.j]\n",
      " [-0.     +0.j]\n",
      " [ 0.     +0.j]\n",
      " [-0.     +0.j]\n",
      " [-0.     +0.j]\n",
      " [ 0.     +0.j]\n",
      " [ 0.     +0.j]\n",
      " [-0.     +0.j]\n",
      " [ 0.     +0.j]\n",
      " [ 0.     +0.j]\n",
      " [ 0.     +0.j]\n",
      " [-0.     +0.j]\n",
      " [-0.16796+0.j]\n",
      " [-0.     +0.j]\n",
      " [-0.     +0.j]\n",
      " [-0.     +0.j]\n",
      " [ 0.     +0.j]\n",
      " [-0.     +0.j]\n",
      " [ 0.     +0.j]\n",
      " [-0.     +0.j]\n",
      " [-0.     +0.j]\n",
      " [ 0.     +0.j]\n",
      " [ 0.     +0.j]\n",
      " [-0.     +0.j]\n",
      " [ 0.     +0.j]\n",
      " [ 0.     +0.j]\n",
      " [ 0.     +0.j]\n",
      " [-0.1258 +0.j]\n",
      " [-0.     +0.j]\n",
      " [ 0.     +0.j]\n",
      " [ 0.     +0.j]\n",
      " [-0.     +0.j]\n",
      " [ 0.     +0.j]\n",
      " [ 0.     +0.j]\n",
      " [ 0.     +0.j]\n",
      " [ 0.     +0.j]\n",
      " [ 0.     +0.j]\n",
      " [ 0.     +0.j]\n",
      " [ 0.     +0.j]\n",
      " [ 0.     +0.j]\n",
      " [ 0.     +0.j]\n",
      " [ 0.     +0.j]\n",
      " [ 0.     +0.j]]\n"
     ]
    }
   ],
   "source": [
    "h_terms = Hamiltonian_terms(n, label=5)\n",
    "h = h_terms[0] + h_terms[1]  # same coefficients as the paper\n",
    "\n",
    "eigen_values, eigen_vectors = qu.eigh(h)\n",
    "print(eigen_values[0])\n",
    "print(eigen_vectors[:, [0]].round(5))"
   ]
  },
  {
   "cell_type": "code",
   "execution_count": 22,
   "id": "9b9bdc50-7871-4a17-9479-f7ee280399d3",
   "metadata": {},
   "outputs": [
    {
     "name": "stdout",
     "output_type": "stream",
     "text": [
      "-4.340847617248348\n",
      "[[ 0.     +0.j]\n",
      " [ 0.     +0.j]\n",
      " [ 0.     +0.j]\n",
      " [ 0.     +0.j]\n",
      " [ 0.     +0.j]\n",
      " [-0.     +0.j]\n",
      " [ 0.     +0.j]\n",
      " [ 0.     +0.j]\n",
      " [ 0.     +0.j]\n",
      " [ 0.     +0.j]\n",
      " [ 0.     +0.j]\n",
      " [ 0.     +0.j]\n",
      " [ 0.     +0.j]\n",
      " [ 0.     +0.j]\n",
      " [-0.     +0.j]\n",
      " [-0.1258 +0.j]\n",
      " [-0.     +0.j]\n",
      " [ 0.     +0.j]\n",
      " [-0.     +0.j]\n",
      " [ 0.     +0.j]\n",
      " [-0.     +0.j]\n",
      " [-0.     +0.j]\n",
      " [-0.     +0.j]\n",
      " [-0.     +0.j]\n",
      " [-0.     +0.j]\n",
      " [ 0.     +0.j]\n",
      " [ 0.     +0.j]\n",
      " [-0.     +0.j]\n",
      " [ 0.     +0.j]\n",
      " [ 0.     +0.j]\n",
      " [ 0.16796+0.j]\n",
      " [ 0.     +0.j]\n",
      " [-0.     +0.j]\n",
      " [-0.     +0.j]\n",
      " [-0.     +0.j]\n",
      " [-0.     +0.j]\n",
      " [-0.     +0.j]\n",
      " [-0.     +0.j]\n",
      " [ 0.     +0.j]\n",
      " [-0.     +0.j]\n",
      " [-0.     +0.j]\n",
      " [-0.     +0.j]\n",
      " [ 0.     +0.j]\n",
      " [ 0.     +0.j]\n",
      " [-0.     +0.j]\n",
      " [-0.16796+0.j]\n",
      " [-0.     +0.j]\n",
      " [-0.     +0.j]\n",
      " [ 0.     +0.j]\n",
      " [-0.     +0.j]\n",
      " [ 0.     +0.j]\n",
      " [ 0.1258 +0.j]\n",
      " [-0.     +0.j]\n",
      " [-0.     +0.j]\n",
      " [-0.16796+0.j]\n",
      " [-0.     +0.j]\n",
      " [ 0.     +0.j]\n",
      " [ 0.16796+0.j]\n",
      " [ 0.     +0.j]\n",
      " [ 0.     +0.j]\n",
      " [ 0.     +0.j]\n",
      " [ 0.     +0.j]\n",
      " [ 0.     +0.j]\n",
      " [ 0.     +0.j]\n",
      " [ 0.     +0.j]\n",
      " [-0.     +0.j]\n",
      " [ 0.     +0.j]\n",
      " [ 0.     +0.j]\n",
      " [-0.     +0.j]\n",
      " [-0.     +0.j]\n",
      " [-0.     +0.j]\n",
      " [-0.     +0.j]\n",
      " [ 0.     +0.j]\n",
      " [ 0.     +0.j]\n",
      " [ 0.     +0.j]\n",
      " [ 0.16796+0.j]\n",
      " [ 0.     +0.j]\n",
      " [ 0.     +0.j]\n",
      " [ 0.     +0.j]\n",
      " [-0.     +0.j]\n",
      " [-0.     +0.j]\n",
      " [ 0.     +0.j]\n",
      " [ 0.     +0.j]\n",
      " [ 0.     +0.j]\n",
      " [ 0.     +0.j]\n",
      " [ 0.     +0.j]\n",
      " [-0.     +0.j]\n",
      " [ 0.     +0.j]\n",
      " [ 0.     +0.j]\n",
      " [ 0.     +0.j]\n",
      " [ 0.2011 +0.j]\n",
      " [-0.     +0.j]\n",
      " [ 0.     +0.j]\n",
      " [ 0.     +0.j]\n",
      " [ 0.     +0.j]\n",
      " [ 0.     +0.j]\n",
      " [ 0.     +0.j]\n",
      " [ 0.     +0.j]\n",
      " [-0.     +0.j]\n",
      " [-0.16796+0.j]\n",
      " [ 0.     +0.j]\n",
      " [ 0.     +0.j]\n",
      " [ 0.2011 +0.j]\n",
      " [ 0.     +0.j]\n",
      " [-0.     +0.j]\n",
      " [-0.40221+0.j]\n",
      " [-0.     +0.j]\n",
      " [-0.     +0.j]\n",
      " [-0.16796+0.j]\n",
      " [-0.     +0.j]\n",
      " [ 0.     +0.j]\n",
      " [ 0.     +0.j]\n",
      " [ 0.     +0.j]\n",
      " [-0.     +0.j]\n",
      " [-0.     +0.j]\n",
      " [-0.     +0.j]\n",
      " [-0.     +0.j]\n",
      " [ 0.     +0.j]\n",
      " [ 0.     +0.j]\n",
      " [ 0.     +0.j]\n",
      " [ 0.16796+0.j]\n",
      " [-0.     +0.j]\n",
      " [-0.     +0.j]\n",
      " [ 0.     +0.j]\n",
      " [-0.     +0.j]\n",
      " [ 0.     +0.j]\n",
      " [ 0.     +0.j]\n",
      " [ 0.     +0.j]\n",
      " [ 0.     +0.j]\n",
      " [-0.     +0.j]\n",
      " [ 0.     +0.j]\n",
      " [ 0.     +0.j]\n",
      " [-0.     +0.j]\n",
      " [ 0.     +0.j]\n",
      " [-0.     +0.j]\n",
      " [-0.16796+0.j]\n",
      " [ 0.     +0.j]\n",
      " [-0.     +0.j]\n",
      " [ 0.     +0.j]\n",
      " [ 0.     +0.j]\n",
      " [-0.     +0.j]\n",
      " [ 0.     +0.j]\n",
      " [-0.     +0.j]\n",
      " [-0.     +0.j]\n",
      " [ 0.     +0.j]\n",
      " [-0.     +0.j]\n",
      " [-0.     +0.j]\n",
      " [ 0.16796+0.j]\n",
      " [-0.     +0.j]\n",
      " [-0.     +0.j]\n",
      " [-0.40221+0.j]\n",
      " [ 0.     +0.j]\n",
      " [ 0.     +0.j]\n",
      " [ 0.2011 +0.j]\n",
      " [ 0.     +0.j]\n",
      " [-0.     +0.j]\n",
      " [ 0.16796+0.j]\n",
      " [-0.     +0.j]\n",
      " [ 0.     +0.j]\n",
      " [ 0.     +0.j]\n",
      " [ 0.     +0.j]\n",
      " [ 0.     +0.j]\n",
      " [-0.     +0.j]\n",
      " [-0.     +0.j]\n",
      " [ 0.     +0.j]\n",
      " [ 0.2011 +0.j]\n",
      " [ 0.     +0.j]\n",
      " [ 0.     +0.j]\n",
      " [ 0.     +0.j]\n",
      " [-0.     +0.j]\n",
      " [ 0.     +0.j]\n",
      " [ 0.     +0.j]\n",
      " [-0.     +0.j]\n",
      " [-0.     +0.j]\n",
      " [ 0.     +0.j]\n",
      " [ 0.     +0.j]\n",
      " [ 0.     +0.j]\n",
      " [-0.     +0.j]\n",
      " [ 0.     +0.j]\n",
      " [-0.     +0.j]\n",
      " [-0.16796+0.j]\n",
      " [ 0.     +0.j]\n",
      " [ 0.     +0.j]\n",
      " [ 0.     +0.j]\n",
      " [ 0.     +0.j]\n",
      " [ 0.     +0.j]\n",
      " [ 0.     +0.j]\n",
      " [ 0.     +0.j]\n",
      " [-0.     +0.j]\n",
      " [ 0.     +0.j]\n",
      " [ 0.     +0.j]\n",
      " [ 0.     +0.j]\n",
      " [-0.     +0.j]\n",
      " [-0.     +0.j]\n",
      " [-0.     +0.j]\n",
      " [ 0.     +0.j]\n",
      " [-0.     +0.j]\n",
      " [-0.     +0.j]\n",
      " [-0.16796+0.j]\n",
      " [ 0.     +0.j]\n",
      " [ 0.     +0.j]\n",
      " [ 0.16796+0.j]\n",
      " [ 0.     +0.j]\n",
      " [ 0.     +0.j]\n",
      " [ 0.1258 +0.j]\n",
      " [-0.     +0.j]\n",
      " [ 0.     +0.j]\n",
      " [ 0.     +0.j]\n",
      " [ 0.     +0.j]\n",
      " [ 0.     +0.j]\n",
      " [ 0.16796+0.j]\n",
      " [-0.     +0.j]\n",
      " [ 0.     +0.j]\n",
      " [ 0.     +0.j]\n",
      " [ 0.     +0.j]\n",
      " [ 0.     +0.j]\n",
      " [ 0.     +0.j]\n",
      " [-0.     +0.j]\n",
      " [ 0.     +0.j]\n",
      " [ 0.     +0.j]\n",
      " [-0.     +0.j]\n",
      " [ 0.     +0.j]\n",
      " [ 0.     +0.j]\n",
      " [ 0.     +0.j]\n",
      " [-0.     +0.j]\n",
      " [-0.16796+0.j]\n",
      " [-0.     +0.j]\n",
      " [-0.     +0.j]\n",
      " [ 0.     +0.j]\n",
      " [-0.     +0.j]\n",
      " [-0.     +0.j]\n",
      " [ 0.     +0.j]\n",
      " [-0.     +0.j]\n",
      " [-0.     +0.j]\n",
      " [ 0.     +0.j]\n",
      " [ 0.     +0.j]\n",
      " [-0.     +0.j]\n",
      " [ 0.     +0.j]\n",
      " [ 0.     +0.j]\n",
      " [ 0.     +0.j]\n",
      " [-0.1258 +0.j]\n",
      " [ 0.     +0.j]\n",
      " [ 0.     +0.j]\n",
      " [ 0.     +0.j]\n",
      " [ 0.     +0.j]\n",
      " [ 0.     +0.j]\n",
      " [ 0.     +0.j]\n",
      " [ 0.     +0.j]\n",
      " [ 0.     +0.j]\n",
      " [ 0.     +0.j]\n",
      " [ 0.     +0.j]\n",
      " [ 0.     +0.j]\n",
      " [ 0.     +0.j]\n",
      " [ 0.     +0.j]\n",
      " [ 0.     +0.j]\n",
      " [ 0.     +0.j]]\n"
     ]
    }
   ],
   "source": [
    "ref = joblib.load(f\"../VQE-generated-dataset/data/ground_state/{str(n).zfill(2)}qubit/label5.jb\")\n",
    "print(ref[\"ground_energy\"])\n",
    "print(ref[\"ground_state\"].round(5).reshape(-1, 1))"
   ]
  },
  {
   "cell_type": "code",
   "execution_count": 23,
   "id": "219a0f23-77d5-4ab8-ade8-e887623c9156",
   "metadata": {},
   "outputs": [
    {
     "data": {
      "text/plain": [
       "1.0000000000000009"
      ]
     },
     "execution_count": 23,
     "metadata": {},
     "output_type": "execute_result"
    }
   ],
   "source": [
    "qu.fidelity(eigen_vectors[:, 0], ref[\"ground_state\"])"
   ]
  }
 ],
 "metadata": {
  "kernelspec": {
   "display_name": "qc",
   "language": "python",
   "name": "qc"
  },
  "language_info": {
   "codemirror_mode": {
    "name": "ipython",
    "version": 3
   },
   "file_extension": ".py",
   "mimetype": "text/x-python",
   "name": "python",
   "nbconvert_exporter": "python",
   "pygments_lexer": "ipython3",
   "version": "3.9.10"
  }
 },
 "nbformat": 4,
 "nbformat_minor": 5
}
