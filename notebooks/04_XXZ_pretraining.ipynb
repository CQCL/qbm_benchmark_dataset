{
 "cells": [
  {
   "cell_type": "markdown",
   "metadata": {},
   "source": [
    "# Numerical results for the XXZ model Gibbs state"
   ]
  },
  {
   "cell_type": "markdown",
   "metadata": {},
   "source": [
    "This notebook reproduces the numerical results of the paper [\"On the Sample Complexity of Quantum Boltzmann Machine Learning\"](http://arxiv.org/abs/2306.14969). \n",
    "\n",
    "The XXZ model Hamiltonian in 1D is\n",
    "\n",
    "$$\n",
    "\\mathcal{H}_{\\mathrm{XXZ}}=\\sum_{i=1}^{n-1} J\\left(\\sigma_i^x \\sigma_{i+1}^x+\\sigma_i^y \\sigma_{i+1}^y\\right)+\\Delta \\sigma_i^z \\sigma_{i+1}^z+\\sum_{i=1}^n h_z \\sigma_i^z\n",
    "$$\n",
    "\n",
    "and the target state is\n",
    "\n",
    "$$\n",
    "\\eta=\\frac{e^{\\mathcal{H}_{\\mathrm{XXZ}}}}{Z}\n",
    "$$\n",
    "\n",
    "We choose the parameters\n",
    "\n",
    "* $J=-0.5$\n",
    "* $\\Delta=-0.7$\n",
    "* $h_z=-0.8$"
   ]
  },
  {
   "cell_type": "code",
   "execution_count": 1,
   "metadata": {},
   "outputs": [],
   "source": [
    "J = -0.5\n",
    "Delta = -0.7\n",
    "hz = -0.8"
   ]
  },
  {
   "cell_type": "markdown",
   "metadata": {},
   "source": [
    "## Define the parameters of the model: QBM\n",
    "\n",
    "Here we select the number of qubits of the Gibbs state, the model Hamiltonian to use in the definition of the QBM, and the training hyperparameters. We do not add noise to the training."
   ]
  },
  {
   "cell_type": "code",
   "execution_count": 2,
   "metadata": {},
   "outputs": [],
   "source": [
    "import numpy as np\n",
    "\n",
    "##########\n",
    "# CONFIG #\n",
    "##########\n",
    "\n",
    "rng = np.random.default_rng(seed=1)\n",
    "\n",
    "n_qubits = 4\n",
    "model_label = 6 # 6: Geometrically local 1D chain\n",
    "depolarizing_noise = 0.0 # if noisy expectation values\n",
    "learning_rate = 0.02\n",
    "epochs = 1000\n",
    "eps = 0.01  # stop if the gradients are smaller than this\n",
    "compute_qre = True\n",
    "\n"
   ]
  },
  {
   "cell_type": "markdown",
   "metadata": {},
   "source": [
    "The model Hamiltonian is defined as a list of operators $H = \\sum_{i=0}^m \\theta_i H_i $"
   ]
  },
  {
   "cell_type": "code",
   "execution_count": 3,
   "metadata": {},
   "outputs": [
    {
     "name": "stderr",
     "output_type": "stream",
     "text": [
      "OMP: Info #276: omp_set_nested routine deprecated, please use omp_set_max_active_levels instead.\n"
     ]
    }
   ],
   "source": [
    "from qbm_quimb import hamiltonians\n",
    "# A list of operators in the model Hamiltonian\n",
    "model_ham_ops, model_ham_names = hamiltonians.hamiltonian_operators(n_qubits, model_label, return_names=True)"
   ]
  },
  {
   "cell_type": "code",
   "execution_count": 4,
   "metadata": {},
   "outputs": [
    {
     "data": {
      "text/plain": [
       "['X_0_1',\n",
       " 'X_1_2',\n",
       " 'X_2_3',\n",
       " 'X_0',\n",
       " 'X_1',\n",
       " 'X_2',\n",
       " 'X_3',\n",
       " 'Y_0_1',\n",
       " 'Y_1_2',\n",
       " 'Y_2_3',\n",
       " 'Y_0',\n",
       " 'Y_1',\n",
       " 'Y_2',\n",
       " 'Y_3',\n",
       " 'Z_0_1',\n",
       " 'Z_1_2',\n",
       " 'Z_2_3',\n",
       " 'Z_0',\n",
       " 'Z_1',\n",
       " 'Z_2',\n",
       " 'Z_3']"
      ]
     },
     "execution_count": 4,
     "metadata": {},
     "output_type": "execute_result"
    }
   ],
   "source": [
    "# this is the list of operator names\n",
    "model_ham_names"
   ]
  },
  {
   "cell_type": "code",
   "execution_count": 5,
   "metadata": {},
   "outputs": [
    {
     "name": "stdout",
     "output_type": "stream",
     "text": [
      "The Hamiltonian has 21 different operators.\n"
     ]
    }
   ],
   "source": [
    "m = len(model_ham_names)\n",
    "print(f\"The Hamiltonian has {m} different operators.\")"
   ]
  },
  {
   "cell_type": "markdown",
   "metadata": {},
   "source": [
    "Each operator is of shape $2^n \\times 2^n$"
   ]
  },
  {
   "cell_type": "code",
   "execution_count": 6,
   "metadata": {},
   "outputs": [
    {
     "name": "stdout",
     "output_type": "stream",
     "text": [
      "(16, 16)\n"
     ]
    }
   ],
   "source": [
    "print(model_ham_ops[0].shape)"
   ]
  },
  {
   "cell_type": "markdown",
   "metadata": {},
   "source": [
    "## Define the data\n",
    "\n",
    "Here we work with _quantum_ data in the form of the Gibbs state of a target Hamiltonian at a fixed inverse temperature $\\beta$.\n",
    "The target Hamiltonian is a subset of the model Hamiltonian.\n"
   ]
  },
  {
   "cell_type": "code",
   "execution_count": 7,
   "metadata": {},
   "outputs": [],
   "source": [
    "from qbm_quimb import data\n",
    "\n",
    "########\n",
    "# DATA #\n",
    "########\n",
    "\n",
    "# We use the label 6 to generate the terms in the target hamiltonian\n",
    "# but we fix them using J, Delta, and hz\n",
    "target_label = 6\n",
    "# we have N-qubits-1 links\n",
    "n_links = n_qubits -1 \n",
    "target_params = np.array(n_links * [J] + n_qubits * [0] + n_links * [J] + n_qubits * [0] + n_links * [Delta] + n_qubits * [hz])\n",
    "target_beta = -1.0  # use -1 to match with the definition of the thermal state"
   ]
  },
  {
   "cell_type": "code",
   "execution_count": 8,
   "metadata": {},
   "outputs": [],
   "source": [
    "assert target_params.shape[0] == m"
   ]
  },
  {
   "cell_type": "code",
   "execution_count": 9,
   "metadata": {},
   "outputs": [],
   "source": [
    "# generate expectation values: quantum data\n",
    "target_expects, target_state = data.generate_data(\n",
    "    n_qubits,\n",
    "    target_label,\n",
    "    target_params,\n",
    "    target_beta,\n",
    "    model_ham_ops,\n",
    "    depolarizing_noise,\n",
    ")"
   ]
  },
  {
   "cell_type": "markdown",
   "metadata": {},
   "source": [
    "The expectation values of the model Hamiltonian operators are computed with respect to the target Gibbs state."
   ]
  },
  {
   "cell_type": "code",
   "execution_count": 10,
   "metadata": {},
   "outputs": [
    {
     "data": {
      "text/plain": [
       "[-0.4656640001798008,\n",
       " -0.4473469096987973,\n",
       " -0.46566400017980125,\n",
       " 4.3845086613330065e-17,\n",
       " 6.914681537656912e-17,\n",
       " -7.962046540739132e-17,\n",
       " 5.21593229966328e-18,\n",
       " -0.4656640001798008,\n",
       " -0.4473469096987973,\n",
       " -0.46566400017980125,\n",
       " 2.7733391199176196e-32j,\n",
       " 3.4666738998970245e-33j,\n",
       " -3.851859888774472e-33j,\n",
       " 4.7955655615242173e-32j,\n",
       " -0.4086864138659327,\n",
       " -0.4919460461791575,\n",
       " -0.40868641386593313,\n",
       " -0.37920165144017504,\n",
       " -0.11550306008696522,\n",
       " -0.11550306008696494,\n",
       " -0.37920165144017476]"
      ]
     },
     "execution_count": 10,
     "metadata": {},
     "output_type": "execute_result"
    }
   ],
   "source": [
    "target_expects  # expectation values w.r.t. target density matrix"
   ]
  },
  {
   "cell_type": "code",
   "execution_count": 11,
   "metadata": {},
   "outputs": [
    {
     "data": {
      "text/plain": [
       "Text(0, 0.5, 'Expectation values')"
      ]
     },
     "execution_count": 11,
     "metadata": {},
     "output_type": "execute_result"
    },
    {
     "data": {
      "image/png": "[encoded data removed]",
      "text/plain": [
       "<Figure size 640x480 with 1 Axes>"
      ]
     },
     "metadata": {},
     "output_type": "display_data"
    }
   ],
   "source": [
    "import matplotlib.pyplot as plt\n",
    "\n",
    "plt.plot(np.asarray(target_expects).real,\"o\")\n",
    "plt.xticks(np.arange(len(model_ham_names)), model_ham_names, rotation=45)\n",
    "plt.xlabel(\"Operators\")\n",
    "plt.ylabel(\"Expectation values\")"
   ]
  },
  {
   "cell_type": "markdown",
   "metadata": {},
   "source": [
    "## Start the training by minimizing the relative entropy\n",
    "\n",
    "We initialize the parameters of the model QBM and then train with stochastic gradient descent (SGD)"
   ]
  },
  {
   "cell_type": "code",
   "execution_count": 12,
   "metadata": {},
   "outputs": [
    {
     "name": "stdout",
     "output_type": "stream",
     "text": [
      "Initial parameters: [ 0.34558419  0.82161814  0.33043708 -1.30315723  0.90535587  0.44637457\n",
      " -0.53695324  0.5811181   0.3645724   0.2941325   0.02842224  0.54671299\n",
      " -0.73645409 -0.16290995 -0.48211931  0.59884621  0.03972211 -0.29245675\n",
      " -0.78190846 -0.25719224  0.00814218]\n",
      "Target parameters: [-0.5 -0.5 -0.5  0.   0.   0.   0.  -0.5 -0.5 -0.5  0.   0.   0.   0.\n",
      " -0.7 -0.7 -0.7 -0.8 -0.8 -0.8 -0.8]\n",
      "Target beta: -1.0\n"
     ]
    }
   ],
   "source": [
    "from qbm_quimb.training import QBM, train_qbm\n",
    "\n",
    "\n",
    "#############\n",
    "# QBM Model #\n",
    "#############\n",
    "\n",
    "initial_params = rng.normal(size=len(model_ham_ops))\n",
    "qbm_state = QBM(model_ham_ops, initial_params)\n",
    "print(f\"Initial parameters: {qbm_state.get_coeffs()}\")\n",
    "print(f\"Target parameters: {target_params}\")\n",
    "print(f\"Target beta: {target_beta}\")\n",
    "\n",
    "\n"
   ]
  },
  {
   "cell_type": "code",
   "execution_count": 13,
   "metadata": {},
   "outputs": [
    {
     "name": "stdout",
     "output_type": "stream",
     "text": [
      "Trained parameters: [-4.96651604e-01 -4.88609361e-01 -5.00871811e-01  9.77051475e-05\n",
      "  2.54160488e-04  3.03128290e-04  1.55296200e-04 -4.98684897e-01\n",
      " -4.86156167e-01 -5.01993014e-01  1.84788320e-05 -7.80062820e-05\n",
      " -2.34414200e-04 -1.62674817e-04 -6.53851893e-01 -6.80202015e-01\n",
      " -6.13960230e-01 -7.58353702e-01 -7.29910181e-01 -6.93963643e-01\n",
      " -7.24877618e-01]\n",
      "Max. gradients: 0.009991096797078186\n",
      "Initial relative entropy: 4.566710135251047\n",
      "Trained relative entropy: 0.0014259153401408042\n"
     ]
    }
   ],
   "source": [
    "import quimb as qu\n",
    "################\n",
    "# QBM Taininig #\n",
    "################\n",
    "\n",
    "target_eta = target_state\n",
    "target_evals = qu.eigvalsh(target_eta).clip(1e-300)  # clip near zero for numerical reasons\n",
    "\n",
    "qbm_state, max_grads_hist, qre_hist = train_qbm(\n",
    "    qbm=qbm_state,\n",
    "    target_expects=target_expects,\n",
    "    learning_rate=learning_rate,\n",
    "    epochs=epochs,\n",
    "    eps=eps,\n",
    "    compute_qre=compute_qre,\n",
    "    target_eta=target_eta,\n",
    "    target_eta_ev=target_evals,\n",
    ")\n",
    "\n",
    "print(f\"Trained parameters: {qbm_state.get_coeffs()}\")\n",
    "print(f\"Max. gradients: {max_grads_hist[-1]}\")\n",
    "\n",
    "print(f\"Initial relative entropy: {qre_hist[0]}\")\n",
    "print(f\"Trained relative entropy: {qre_hist[-1]}\")"
   ]
  },
  {
   "cell_type": "markdown",
   "metadata": {},
   "source": [
    "The relative entropy after training is close to zero, and this is reproducing the left side of panel (a) in Figure 2 of the paper. In the paper they also stopped the training when the gradients were smaller than `eps=0.01`"
   ]
  },
  {
   "cell_type": "markdown",
   "metadata": {},
   "source": [
    "## Plot training history"
   ]
  },
  {
   "cell_type": "code",
   "execution_count": 14,
   "metadata": {},
   "outputs": [
    {
     "data": {
      "image/png": "[encoded data removed]",
      "text/plain": [
       "<Figure size 640x480 with 1 Axes>"
      ]
     },
     "metadata": {},
     "output_type": "display_data"
    }
   ],
   "source": [
    "plt.plot(qre_hist[1:], \"-\")\n",
    "plt.xlabel(\"Epoch\")\n",
    "plt.ylabel(\"Relative entropy\")\n",
    "plt.yscale('log')\n",
    "plt.show()\n"
   ]
  },
  {
   "cell_type": "code",
   "execution_count": 15,
   "metadata": {},
   "outputs": [
    {
     "data": {
      "image/png": "[encoded data removed]",
      "text/plain": [
       "<Figure size 640x480 with 1 Axes>"
      ]
     },
     "metadata": {},
     "output_type": "display_data"
    }
   ],
   "source": [
    "plt.plot(max_grads_hist[1:], \"-\")\n",
    "plt.xlabel(\"Epoch\")\n",
    "plt.ylabel(\"Max absolute value of gradients\")\n",
    "plt.yscale('log')\n",
    "plt.show()"
   ]
  },
  {
   "cell_type": "markdown",
   "metadata": {},
   "source": [
    "## Compare the parameters"
   ]
  },
  {
   "cell_type": "code",
   "execution_count": 16,
   "metadata": {},
   "outputs": [
    {
     "name": "stdout",
     "output_type": "stream",
     "text": [
      "[-0.5 -0.5 -0.5  0.   0.   0.   0.  -0.5 -0.5 -0.5  0.   0.   0.   0.\n",
      " -0.7 -0.7 -0.7 -0.8 -0.8 -0.8 -0.8]\n"
     ]
    }
   ],
   "source": [
    "# target parameters\n",
    "print(target_params)"
   ]
  },
  {
   "cell_type": "code",
   "execution_count": 17,
   "metadata": {},
   "outputs": [
    {
     "name": "stdout",
     "output_type": "stream",
     "text": [
      "[-4.96651604e-01 -4.88609361e-01 -5.00871811e-01  9.77051475e-05\n",
      "  2.54160488e-04  3.03128290e-04  1.55296200e-04 -4.98684897e-01\n",
      " -4.86156167e-01 -5.01993014e-01  1.84788320e-05 -7.80062820e-05\n",
      " -2.34414200e-04 -1.62674817e-04 -6.53851893e-01 -6.80202015e-01\n",
      " -6.13960230e-01 -7.58353702e-01 -7.29910181e-01 -6.93963643e-01\n",
      " -7.24877618e-01]\n"
     ]
    }
   ],
   "source": [
    "# model parameters\n",
    "print(qbm_state.get_coeffs())"
   ]
  },
  {
   "cell_type": "code",
   "execution_count": 18,
   "metadata": {},
   "outputs": [
    {
     "data": {
      "text/plain": [
       "Text(0, 0.5, 'Paramters -> |target - model|')"
      ]
     },
     "execution_count": 18,
     "metadata": {},
     "output_type": "execute_result"
    },
    {
     "data": {
      "image/png": "[encoded data removed]",
      "text/plain": [
       "<Figure size 640x480 with 1 Axes>"
      ]
     },
     "metadata": {},
     "output_type": "display_data"
    }
   ],
   "source": [
    "param_diff = np.fabs(target_params.real - qbm_state.get_coeffs().real)\n",
    "plt.plot(param_diff, \"o\")\n",
    "plt.xticks(np.arange(len(model_ham_names)), model_ham_names, rotation=45)\n",
    "plt.xlabel(\"Operators\")\n",
    "plt.ylabel(\"Paramters -> |target - model|\")"
   ]
  },
  {
   "cell_type": "markdown",
   "metadata": {},
   "source": [
    "If we train for longer, to reach smaller gradients, this different will go down because we have no model mismatch."
   ]
  },
  {
   "cell_type": "markdown",
   "metadata": {},
   "source": [
    "## Check fidelity with the Gibbs state"
   ]
  },
  {
   "cell_type": "code",
   "execution_count": 19,
   "metadata": {},
   "outputs": [
    {
     "data": {
      "text/plain": [
       "0.9996766825532727"
      ]
     },
     "execution_count": 19,
     "metadata": {},
     "output_type": "execute_result"
    }
   ],
   "source": [
    "from quimb import fidelity\n",
    "\n",
    "fidelity(target_eta, qbm_state.get_density_matrix())"
   ]
  },
  {
   "cell_type": "markdown",
   "metadata": {},
   "source": [
    "Since the QBM model contains the operators of the Hamiltonian used to create the target quantum Gibbs state as a subset, the training is able to find the parameters correctly. Therefore the fidelity between the target state and the QBM state after training is very close to 1."
   ]
  },
  {
   "cell_type": "markdown",
   "metadata": {},
   "source": [
    "## Pretraining\n",
    "\n",
    "In Fig. 2 of the paper, the authors compare different pre-training strategies. Pretraining can be implemented simply as 2 consecutive rounds of training, where the first one only affects a subset of the parameters.\n",
    "\n",
    "To follow the paper we select different learning rates for the pretraining and the full training phases."
   ]
  },
  {
   "cell_type": "markdown",
   "metadata": {},
   "source": [
    "### Select the full QBM model\n",
    "\n",
    "We will use a fully connected QBM model defined in equation (16) of the paper as:\n",
    "\n",
    "$$\n",
    "\\mathcal{H}_\\theta=\\sum_{k=x, y, z} \\sum_{i, j>i} \\lambda_{i j}^k \\sigma_i^k \\sigma_j^k+\\sum_i^n \\gamma_i^k \\sigma_i^k\n",
    "$$\n"
   ]
  },
  {
   "cell_type": "code",
   "execution_count": 20,
   "metadata": {},
   "outputs": [],
   "source": [
    "model_label = 8  # 8: Fully connected\n",
    "model_ham_ops, model_ham_names = hamiltonians.hamiltonian_operators(\n",
    "    n_qubits, model_label, return_names=True\n",
    ")"
   ]
  },
  {
   "cell_type": "code",
   "execution_count": 21,
   "metadata": {},
   "outputs": [
    {
     "name": "stdout",
     "output_type": "stream",
     "text": [
      "We have 30 terms in the Hamiltonian\n"
     ]
    }
   ],
   "source": [
    "m = len(model_ham_names)\n",
    "print(f\"We have {m} terms in the Hamiltonian\")"
   ]
  },
  {
   "cell_type": "code",
   "execution_count": 22,
   "metadata": {},
   "outputs": [
    {
     "name": "stdout",
     "output_type": "stream",
     "text": [
      "Learning rate for full training: 0.0167\n"
     ]
    }
   ],
   "source": [
    "full_lr = 1/(2*m)\n",
    "print(f\"Learning rate for full training: {full_lr:.4f}\")"
   ]
  },
  {
   "cell_type": "markdown",
   "metadata": {},
   "source": [
    "### Select pretraining strategy\n",
    "\n",
    "We will pretrain by using a geometrically local Hamiltonian, whose operators are a subset of the full model\n",
    "\n",
    "$$\n",
    "\\mathcal{H}_\\theta^{\\mathrm{GL}}=\\sum_{k=x, y, z} \\sum_{\\langle i, j\\rangle} \\lambda_{i j}^k \\sigma_i^k \\sigma_j^k+\\sum_i^n \\gamma_i^k \\sigma_i^k\n",
    "$$"
   ]
  },
  {
   "cell_type": "code",
   "execution_count": 23,
   "metadata": {},
   "outputs": [],
   "source": [
    "pre_model_label = 7  # 7: Geometrically local (2D lattice)\n",
    "pre_model_ham_ops, pre_model_ham_names = hamiltonians.hamiltonian_operators(\n",
    "    n_qubits, pre_model_label, return_names=True\n",
    ")"
   ]
  },
  {
   "cell_type": "code",
   "execution_count": 24,
   "metadata": {},
   "outputs": [
    {
     "name": "stdout",
     "output_type": "stream",
     "text": [
      "We have 24 terms in the pretraining Hamiltonian\n"
     ]
    }
   ],
   "source": [
    "pre_m = len(pre_model_ham_names)\n",
    "print(f\"We have {pre_m} terms in the pretraining Hamiltonian\")"
   ]
  },
  {
   "cell_type": "code",
   "execution_count": 25,
   "metadata": {},
   "outputs": [
    {
     "name": "stdout",
     "output_type": "stream",
     "text": [
      "Learning rate for pretraining: 0.0417\n"
     ]
    }
   ],
   "source": [
    "pre_lr = 1 / pre_m\n",
    "print(f\"Learning rate for pretraining: {pre_lr:.4f}\")"
   ]
  },
  {
   "cell_type": "markdown",
   "metadata": {},
   "source": [
    "### Generate data for pretraining and do pretraining"
   ]
  },
  {
   "cell_type": "code",
   "execution_count": 79,
   "metadata": {},
   "outputs": [],
   "source": [
    "# generate expectation values: quantum data\n",
    "target_expects, target_state = data.generate_data(\n",
    "    n_qubits,\n",
    "    target_label,\n",
    "    target_params,\n",
    "    target_beta,\n",
    "    pre_model_ham_ops,\n",
    "    depolarizing_noise,\n",
    ")"
   ]
  },
  {
   "cell_type": "markdown",
   "metadata": {},
   "source": [
    "The pretraining QBM state we use needs to start from parameters that are zero, that is the initial QBM is a maximally mixed state:"
   ]
  },
  {
   "cell_type": "code",
   "execution_count": 80,
   "metadata": {},
   "outputs": [
    {
     "name": "stdout",
     "output_type": "stream",
     "text": [
      "Initial parameters: [0. 0. 0. 0. 0. 0. 0. 0. 0. 0. 0. 0. 0. 0. 0. 0. 0. 0. 0. 0. 0. 0. 0. 0.]\n",
      "Target parameters: [-0.5 -0.5 -0.5  0.   0.   0.   0.  -0.5 -0.5 -0.5  0.   0.   0.   0.\n",
      " -0.7 -0.7 -0.7 -0.8 -0.8 -0.8 -0.8]\n",
      "Target beta: -1.0\n"
     ]
    }
   ],
   "source": [
    "initial_params = np.zeros(shape=(len(pre_model_ham_ops)))\n",
    "pre_qbm_state = QBM(pre_model_ham_ops, initial_params)\n",
    "print(f\"Initial parameters: {pre_qbm_state.get_coeffs()}\")\n",
    "print(f\"Target parameters: {target_params}\")\n",
    "print(f\"Target beta: {target_beta}\")"
   ]
  },
  {
   "cell_type": "code",
   "execution_count": 72,
   "metadata": {},
   "outputs": [],
   "source": [
    "# we train for 300 epoch in the pretraining phase\n",
    "pre_epochs = 300"
   ]
  },
  {
   "cell_type": "code",
   "execution_count": 81,
   "metadata": {},
   "outputs": [
    {
     "name": "stdout",
     "output_type": "stream",
     "text": [
      "Trained parameters: [-4.24058498e-01  2.34745392e-01  2.34745392e-01 -4.24058498e-01\n",
      "  1.60938668e-16  1.39476361e-16 -7.48468994e-17 -1.26739128e-17\n",
      " -4.24058498e-01  2.34745392e-01  2.34745392e-01 -4.24058498e-01\n",
      "  0.00000000e+00  0.00000000e+00  0.00000000e+00  0.00000000e+00\n",
      " -5.32450176e-01  2.67920714e-01  2.67920714e-01 -5.32450176e-01\n",
      " -6.88191343e-01 -3.58101122e-01 -3.58101122e-01 -6.88191343e-01]\n",
      "Max. gradients: 0.008233466965404779\n",
      "Initial relative entropy: 1.166089743617617\n",
      "Trained relative entropy: 0.2851116361466155\n"
     ]
    }
   ],
   "source": [
    "pre_qbm_state, max_grads_hist, qre_hist = train_qbm(\n",
    "    qbm=pre_qbm_state,\n",
    "    target_expects=target_expects,\n",
    "    learning_rate=pre_lr,\n",
    "    epochs=pre_epochs,\n",
    "    compute_qre=compute_qre,\n",
    "    target_eta=target_eta,\n",
    "    target_eta_ev=target_evals,\n",
    ")\n",
    "\n",
    "print(f\"Trained parameters: {pre_qbm_state.get_coeffs()}\")\n",
    "print(f\"Max. gradients: {max_grads_hist[-1]}\")\n",
    "\n",
    "print(f\"Initial relative entropy: {qre_hist[0]}\")\n",
    "print(f\"Trained relative entropy: {qre_hist[-1]}\")"
   ]
  },
  {
   "cell_type": "code",
   "execution_count": 82,
   "metadata": {},
   "outputs": [],
   "source": [
    "pretraining_qre = qre_hist\n",
    "assert len(pretraining_qre) == pre_epochs+1"
   ]
  },
  {
   "cell_type": "markdown",
   "metadata": {},
   "source": [
    "### Generate data for full training and do full training"
   ]
  },
  {
   "cell_type": "code",
   "execution_count": 83,
   "metadata": {},
   "outputs": [],
   "source": [
    "# generate expectation values: quantum data\n",
    "target_expects, target_state = data.generate_data(\n",
    "    n_qubits,\n",
    "    target_label,\n",
    "    target_params,\n",
    "    target_beta,\n",
    "    model_ham_ops,\n",
    "    depolarizing_noise,\n",
    ")"
   ]
  },
  {
   "cell_type": "markdown",
   "metadata": {},
   "source": [
    "We need to initialize the parameters based on our pretraining strategy"
   ]
  },
  {
   "cell_type": "code",
   "execution_count": 84,
   "metadata": {},
   "outputs": [],
   "source": [
    "pre_op_map = {k: v for k, v in zip(pre_model_ham_names, pre_qbm_state.get_coeffs(),)}"
   ]
  },
  {
   "cell_type": "code",
   "execution_count": 85,
   "metadata": {},
   "outputs": [],
   "source": [
    "# initialize parameters from pre-training\n",
    "initial_params = []\n",
    "for op in model_ham_names:\n",
    "    try:\n",
    "        if op in pre_model_ham_names:\n",
    "            initial_params.append(pre_op_map[op])\n",
    "        else:\n",
    "            initial_params.append(0.0)\n",
    "    except KeyError:\n",
    "        initial_params.append(0)"
   ]
  },
  {
   "cell_type": "code",
   "execution_count": 86,
   "metadata": {},
   "outputs": [
    {
     "name": "stdout",
     "output_type": "stream",
     "text": [
      "Initial parameters: [-0.4240584975761422, 0.2347453920848833, 0.0, 0.0, 0.23474539208488387, -0.42405849757614267, 1.6093866750308e-16, 1.3947636110535021e-16, -7.484689938140629e-17, -1.2673912801751397e-17, -0.4240584975761422, 0.2347453920848833, 0.0, 0.0, 0.23474539208488387, -0.42405849757614267, 0.0, 0.0, 0.0, 0.0, -0.5324501764688147, 0.2679207137564897, 0.0, 0.0, 0.2679207137564902, -0.5324501764688148, -0.688191343443312, -0.3581011222363647, -0.3581011222363642, -0.6881913434433112]\n",
      "Target parameters: [-0.5 -0.5 -0.5  0.   0.   0.   0.  -0.5 -0.5 -0.5  0.   0.   0.   0.\n",
      " -0.7 -0.7 -0.7 -0.8 -0.8 -0.8 -0.8]\n",
      "Target beta: -1.0\n"
     ]
    }
   ],
   "source": [
    "qbm_state = QBM(model_ham_ops, initial_params)\n",
    "print(f\"Initial parameters: {qbm_state.get_coeffs()}\")\n",
    "print(f\"Target parameters: {target_params}\")\n",
    "print(f\"Target beta: {target_beta}\")"
   ]
  },
  {
   "cell_type": "code",
   "execution_count": 87,
   "metadata": {},
   "outputs": [],
   "source": [
    "# we do full training for 1000 epochs\n",
    "full_epochs = 1000"
   ]
  },
  {
   "cell_type": "code",
   "execution_count": 88,
   "metadata": {},
   "outputs": [
    {
     "name": "stdout",
     "output_type": "stream",
     "text": [
      "Trained parameters: [-4.24058498e-01  2.34745392e-01  2.34745392e-01 -4.24058498e-01\n",
      "  1.60938668e-16  1.39476361e-16 -7.48468994e-17 -1.26739128e-17\n",
      " -4.24058498e-01  2.34745392e-01  2.34745392e-01 -4.24058498e-01\n",
      "  0.00000000e+00  0.00000000e+00  0.00000000e+00  0.00000000e+00\n",
      " -5.32450176e-01  2.67920714e-01  2.67920714e-01 -5.32450176e-01\n",
      " -6.88191343e-01 -3.58101122e-01 -3.58101122e-01 -6.88191343e-01]\n",
      "Max. gradients: 0.0077200680926762105\n",
      "Initial relative entropy: 0.2851116361466155\n",
      "Trained relative entropy: 0.0023449875173744417\n"
     ]
    }
   ],
   "source": [
    "qbm_state, max_grads_hist, qre_hist = train_qbm(\n",
    "    qbm=qbm_state,\n",
    "    target_expects=target_expects,\n",
    "    learning_rate=full_lr,\n",
    "    epochs=full_epochs,\n",
    "    compute_qre=compute_qre,\n",
    "    target_eta=target_eta,\n",
    "    target_eta_ev=target_evals,\n",
    ")\n",
    "\n",
    "print(f\"Trained parameters: {pre_qbm_state.get_coeffs()}\")\n",
    "print(f\"Max. gradients: {max_grads_hist[-1]}\")\n",
    "\n",
    "print(f\"Initial relative entropy: {qre_hist[0]}\")\n",
    "print(f\"Trained relative entropy: {qre_hist[-1]}\")"
   ]
  },
  {
   "cell_type": "code",
   "execution_count": 89,
   "metadata": {},
   "outputs": [
    {
     "name": "stdout",
     "output_type": "stream",
     "text": [
      "Pretraining relative entropy is 0.285 while the final one after training is 0.002\n"
     ]
    }
   ],
   "source": [
    "full_qre = qre_hist[-1]\n",
    "print(\n",
    "    f\"Pretraining relative entropy is {pretraining_qre[-1]:.3f} while the final one after training is {full_qre:.3f}\"\n",
    ")"
   ]
  },
  {
   "cell_type": "code",
   "execution_count": 90,
   "metadata": {},
   "outputs": [
    {
     "data": {
      "image/png": "[encoded data removed]",
      "text/plain": [
       "<Figure size 640x480 with 1 Axes>"
      ]
     },
     "metadata": {},
     "output_type": "display_data"
    }
   ],
   "source": [
    "plt.plot(range(pre_epochs),pretraining_qre[1:], \"-.\", label=\"Pre-training\")\n",
    "plt.plot(range(pre_epochs,pre_epochs+epochs),qre_hist[1:], \"-\", label=\"full training\")\n",
    "plt.xlabel(\"Epoch\")\n",
    "plt.ylabel(\"Relative entropy\")\n",
    "plt.yscale(\"log\")\n",
    "plt.legend(loc=\"upper right\")\n",
    "plt.show()"
   ]
  },
  {
   "cell_type": "markdown",
   "metadata": {},
   "source": [
    "### Compare to training the full model\n",
    "\n",
    "If we do not have pretraining, and instead we start from all parameters equal to zero (this is the blue curve in the paper Fig.2 panel (b)), we will start from the maximally mixed state $\\mathbb{I}/2^n$"
   ]
  },
  {
   "cell_type": "code",
   "execution_count": 95,
   "metadata": {},
   "outputs": [
    {
     "name": "stdout",
     "output_type": "stream",
     "text": [
      "Initial parameters: [0. 0. 0. 0. 0. 0. 0. 0. 0. 0. 0. 0. 0. 0. 0. 0. 0. 0. 0. 0. 0. 0. 0. 0.\n",
      " 0. 0. 0. 0. 0. 0.]\n",
      "Target parameters: [-0.5 -0.5 -0.5  0.   0.   0.   0.  -0.5 -0.5 -0.5  0.   0.   0.   0.\n",
      " -0.7 -0.7 -0.7 -0.8 -0.8 -0.8 -0.8]\n",
      "Target beta: -1.0\n"
     ]
    }
   ],
   "source": [
    "initial_params = np.zeros(m)\n",
    "qbm_state = QBM(model_ham_ops, initial_params)\n",
    "print(f\"Initial parameters: {qbm_state.get_coeffs()}\")\n",
    "print(f\"Target parameters: {target_params}\")\n",
    "print(f\"Target beta: {target_beta}\")"
   ]
  },
  {
   "cell_type": "code",
   "execution_count": 96,
   "metadata": {},
   "outputs": [],
   "source": [
    "# generate expectation values: quantum data\n",
    "target_expects, target_state = data.generate_data(\n",
    "    n_qubits,\n",
    "    target_label,\n",
    "    target_params,\n",
    "    target_beta,\n",
    "    model_ham_ops,\n",
    "    depolarizing_noise,\n",
    ")"
   ]
  },
  {
   "cell_type": "code",
   "execution_count": 93,
   "metadata": {},
   "outputs": [
    {
     "name": "stdout",
     "output_type": "stream",
     "text": [
      "Trained parameters: [-4.24058498e-01  2.34745392e-01  2.34745392e-01 -4.24058498e-01\n",
      "  1.60938668e-16  1.39476361e-16 -7.48468994e-17 -1.26739128e-17\n",
      " -4.24058498e-01  2.34745392e-01  2.34745392e-01 -4.24058498e-01\n",
      "  0.00000000e+00  0.00000000e+00  0.00000000e+00  0.00000000e+00\n",
      " -5.32450176e-01  2.67920714e-01  2.67920714e-01 -5.32450176e-01\n",
      " -6.88191343e-01 -3.58101122e-01 -3.58101122e-01 -6.88191343e-01]\n",
      "Max. gradients: 0.01186274307275334\n",
      "Initial relative entropy: 1.166089743617617\n",
      "Trained relative entropy: 0.004592889410808709\n"
     ]
    }
   ],
   "source": [
    "qbm_state, max_grads_hist, qre_hist = train_qbm(\n",
    "    qbm=qbm_state,\n",
    "    target_expects=target_expects,\n",
    "    learning_rate=full_lr,\n",
    "    epochs=full_epochs,\n",
    "    compute_qre=compute_qre,\n",
    "    target_eta=target_eta,\n",
    "    target_eta_ev=target_evals,\n",
    ")\n",
    "\n",
    "print(f\"Trained parameters: {pre_qbm_state.get_coeffs()}\")\n",
    "print(f\"Max. gradients: {max_grads_hist[-1]}\")\n",
    "\n",
    "print(f\"Initial relative entropy: {qre_hist[0]}\")\n",
    "print(f\"Trained relative entropy: {qre_hist[-1]}\")"
   ]
  },
  {
   "cell_type": "markdown",
   "metadata": {},
   "source": [
    "In this case the pretraining with the geometrically local model has helped to reach a smaller relative entropy."
   ]
  },
  {
   "cell_type": "code",
   "execution_count": 94,
   "metadata": {},
   "outputs": [
    {
     "name": "stdout",
     "output_type": "stream",
     "text": [
      "With pre-training: 0.002\n",
      "  No pre-training: 0.005\n"
     ]
    }
   ],
   "source": [
    "print(f\"With pre-training: {full_qre:.3f}\")\n",
    "print(f\"  No pre-training: {qre_hist[-1]:.3f}\")"
   ]
  },
  {
   "cell_type": "markdown",
   "metadata": {},
   "source": []
  }
 ],
 "metadata": {
  "kernelspec": {
   "display_name": ".venv",
   "language": "python",
   "name": "python3"
  },
  "language_info": {
   "codemirror_mode": {
    "name": "ipython",
    "version": 3
   },
   "file_extension": ".py",
   "mimetype": "text/x-python",
   "name": "python",
   "nbconvert_exporter": "python",
   "pygments_lexer": "ipython3",
   "version": "3.11.6"
  }
 },
 "nbformat": 4,
 "nbformat_minor": 2
}
