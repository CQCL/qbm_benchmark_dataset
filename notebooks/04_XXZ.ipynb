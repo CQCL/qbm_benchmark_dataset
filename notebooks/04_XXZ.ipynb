{
 "cells": [
  {
   "cell_type": "markdown",
   "metadata": {},
   "source": [
    "# Numerical results for the XXZ model Gibbs state"
   ]
  },
  {
   "cell_type": "markdown",
   "metadata": {},
   "source": [
    "This notebook reproduces the numerical results of the paper [\"On the Sample Complexity of Quantum Boltzmann Machine Learning\"](http://arxiv.org/abs/2306.14969). \n",
    "\n",
    "The XXZ model Hamiltonian in 1D is\n",
    "\n",
    "$$\n",
    "\\mathcal{H}_{\\mathrm{XXZ}}=\\sum_{i=1}^{n-1} J\\left(\\sigma_i^x \\sigma_{i+1}^x+\\sigma_i^y \\sigma_{i+1}^y\\right)+\\Delta \\sigma_i^z \\sigma_{i+1}^z+\\sum_{i=1}^n h_z \\sigma_i^z\n",
    "$$\n",
    "\n",
    "and the target state is\n",
    "\n",
    "$$\n",
    "\\eta=\\frac{e^{\\mathcal{H}_{\\mathrm{XXZ}}}}{Z}\n",
    "$$\n",
    "\n",
    "We choose the parameters\n",
    "\n",
    "* $J=-0.5$\n",
    "* $\\Delta=-0.7$\n",
    "* $h_z=-0.8$"
   ]
  },
  {
   "cell_type": "code",
   "execution_count": 11,
   "metadata": {},
   "outputs": [],
   "source": [
    "J = -0.5\n",
    "Delta = -0.7\n",
    "hz = -0.8"
   ]
  },
  {
   "cell_type": "markdown",
   "metadata": {},
   "source": [
    "## Define the parameters of the model: QBM\n",
    "\n",
    "Here we select the number of qubits of the Gibbs state, the model Hamiltonian to use in the definition of the QBM, and the training hyperparameters. We do not add noise to the training."
   ]
  },
  {
   "cell_type": "code",
   "execution_count": 1,
   "metadata": {},
   "outputs": [],
   "source": [
    "import numpy as np\n",
    "\n",
    "##########\n",
    "# CONFIG #\n",
    "##########\n",
    "\n",
    "rng = np.random.default_rng(seed=1)\n",
    "\n",
    "n_qubits = 4\n",
    "model_label = 6 # 6: Geometrically local 1D chain\n",
    "depolarizing_noise = 0.0 # if noisy expectation values\n",
    "learning_rate = 0.2\n",
    "epochs = 1000\n",
    "eps = 1e-6\n",
    "compute_qre = True\n",
    "\n"
   ]
  },
  {
   "cell_type": "markdown",
   "metadata": {},
   "source": [
    "The model Hamiltonian is defined as a list of operators $H = \\sum_{i=0}^m \\theta_i H_i $"
   ]
  },
  {
   "cell_type": "code",
   "execution_count": 5,
   "metadata": {},
   "outputs": [],
   "source": [
    "from qbm_quimb import hamiltonians\n",
    "# A list of operators in the model Hamiltonian\n",
    "model_ham_ops, model_ham_names = hamiltonians.hamiltonian_operators(n_qubits, model_label, return_names=True)"
   ]
  },
  {
   "cell_type": "code",
   "execution_count": 7,
   "metadata": {},
   "outputs": [
    {
     "data": {
      "text/plain": [
       "['X_0_1',\n",
       " 'X_1_2',\n",
       " 'X_2_3',\n",
       " 'X_0',\n",
       " 'X_1',\n",
       " 'X_2',\n",
       " 'X_3',\n",
       " 'Y_0_1',\n",
       " 'Y_1_2',\n",
       " 'Y_2_3',\n",
       " 'Y_0',\n",
       " 'Y_1',\n",
       " 'Y_2',\n",
       " 'Y_3',\n",
       " 'Z_0_1',\n",
       " 'Z_1_2',\n",
       " 'Z_2_3',\n",
       " 'Z_0',\n",
       " 'Z_1',\n",
       " 'Z_2',\n",
       " 'Z_3']"
      ]
     },
     "execution_count": 7,
     "metadata": {},
     "output_type": "execute_result"
    }
   ],
   "source": [
    "# this is the list of operator names\n",
    "model_ham_names"
   ]
  },
  {
   "cell_type": "markdown",
   "metadata": {},
   "source": [
    "We have `m` terms in the Hamiltonian"
   ]
  },
  {
   "cell_type": "code",
   "execution_count": 8,
   "metadata": {},
   "outputs": [],
   "source": [
    "m = len(model_ham_names)"
   ]
  },
  {
   "cell_type": "code",
   "execution_count": 16,
   "metadata": {},
   "outputs": [
    {
     "name": "stdout",
     "output_type": "stream",
     "text": [
      "21\n"
     ]
    }
   ],
   "source": [
    "print(m)"
   ]
  },
  {
   "cell_type": "markdown",
   "metadata": {},
   "source": [
    "Each operator is of shape $2^n \\times 2^n$"
   ]
  },
  {
   "cell_type": "code",
   "execution_count": 10,
   "metadata": {},
   "outputs": [
    {
     "name": "stdout",
     "output_type": "stream",
     "text": [
      "(16, 16)\n"
     ]
    }
   ],
   "source": [
    "print(model_ham_ops[0].shape)"
   ]
  },
  {
   "cell_type": "markdown",
   "metadata": {},
   "source": [
    "## Define the data\n",
    "\n",
    "Here we work with _quantum_ data in the form of the Gibbs state of a target Hamiltonian at a fixed inverse temperature $\\beta$.\n",
    "The target Hamiltonian is a subset of the model Hamiltonian.\n"
   ]
  },
  {
   "cell_type": "code",
   "execution_count": 39,
   "metadata": {},
   "outputs": [],
   "source": [
    "from qbm_quimb import data\n",
    "\n",
    "########\n",
    "# DATA #\n",
    "########\n",
    "\n",
    "# We use the label 6 to generate the terms in the target hamiltonian\n",
    "# but we fix them using J, Delta, and hz\n",
    "target_label = 6\n",
    "target_params = np.array(3 * [J] + 4 * [0] + 3 * [J] + 4 * [0] + 3 * [Delta] + 4 * [hz])\n",
    "target_beta = -1.0  # use -1 to match with the definition of the thermal state"
   ]
  },
  {
   "cell_type": "code",
   "execution_count": 40,
   "metadata": {},
   "outputs": [
    {
     "data": {
      "text/plain": [
       "(21,)"
      ]
     },
     "execution_count": 40,
     "metadata": {},
     "output_type": "execute_result"
    }
   ],
   "source": [
    "target_params.shape"
   ]
  },
  {
   "cell_type": "code",
   "execution_count": 41,
   "metadata": {},
   "outputs": [],
   "source": [
    "# generate expectation values: quantum data\n",
    "target_expects, target_state = data.generate_data(\n",
    "    n_qubits,\n",
    "    target_label,\n",
    "    target_params,\n",
    "    target_beta,\n",
    "    model_ham_ops,\n",
    "    depolarizing_noise,\n",
    ")"
   ]
  },
  {
   "cell_type": "markdown",
   "metadata": {},
   "source": [
    "The expectation values of the model Hamiltonian operators are computed with respect to the target Gibbs state."
   ]
  },
  {
   "cell_type": "code",
   "execution_count": 42,
   "metadata": {},
   "outputs": [
    {
     "data": {
      "text/plain": [
       "[-0.4656640001798008,\n",
       " -0.4473469096987973,\n",
       " -0.46566400017980125,\n",
       " 4.3845086613330065e-17,\n",
       " 6.914681537656912e-17,\n",
       " -7.962046540739132e-17,\n",
       " 5.21593229966328e-18,\n",
       " -0.4656640001798008,\n",
       " -0.4473469096987973,\n",
       " -0.46566400017980125,\n",
       " 2.7733391199176196e-32j,\n",
       " 3.4666738998970245e-33j,\n",
       " -3.851859888774472e-33j,\n",
       " 4.7955655615242173e-32j,\n",
       " -0.4086864138659327,\n",
       " -0.4919460461791575,\n",
       " -0.40868641386593313,\n",
       " -0.37920165144017504,\n",
       " -0.11550306008696522,\n",
       " -0.11550306008696494,\n",
       " -0.37920165144017476]"
      ]
     },
     "execution_count": 42,
     "metadata": {},
     "output_type": "execute_result"
    }
   ],
   "source": [
    "target_expects  # expectation values w.r.t. target density matrix"
   ]
  },
  {
   "cell_type": "code",
   "execution_count": 43,
   "metadata": {},
   "outputs": [
    {
     "data": {
      "text/plain": [
       "Text(0, 0.5, 'Expectation values')"
      ]
     },
     "execution_count": 43,
     "metadata": {},
     "output_type": "execute_result"
    },
    {
     "data": {
      "image/png": "[encoded data removed]",
      "text/plain": [
       "<Figure size 640x480 with 1 Axes>"
      ]
     },
     "metadata": {},
     "output_type": "display_data"
    }
   ],
   "source": [
    "import matplotlib.pyplot as plt\n",
    "\n",
    "plt.plot(np.asarray(target_expects).real,\"o\")\n",
    "plt.xticks(np.arange(len(model_ham_names)), model_ham_names, rotation=45)\n",
    "plt.xlabel(\"Operators\")\n",
    "plt.ylabel(\"Expectation values\")"
   ]
  },
  {
   "cell_type": "markdown",
   "metadata": {},
   "source": [
    "## Start the training by minimizing the relative entropy\n",
    "\n",
    "We initialize the parameters of the model QBM and then train with stochastic gradient descent (SGD)"
   ]
  },
  {
   "cell_type": "code",
   "execution_count": 44,
   "metadata": {},
   "outputs": [
    {
     "name": "stdout",
     "output_type": "stream",
     "text": [
      "Initial parameters: [-0.27560291  1.29406381  1.00672432 -2.71116248 -1.88901325 -0.17477209\n",
      " -0.42219041  0.213643    0.21732193  2.11783876 -1.11202076 -0.37760501\n",
      "  2.04277161  0.646703    0.66306337 -0.51400637 -1.64807517  0.16746474\n",
      "  0.10901409 -1.22735205 -0.68322666]\n",
      "Target parameters: [-0.5 -0.5 -0.5  0.   0.   0.   0.  -0.5 -0.5 -0.5  0.   0.   0.   0.\n",
      " -0.7 -0.7 -0.7 -0.8 -0.8 -0.8 -0.8]\n",
      "Target beta: -1.0\n"
     ]
    }
   ],
   "source": [
    "from qbm_quimb.training import QBM, train_qbm\n",
    "\n",
    "\n",
    "#############\n",
    "# QBM Model #\n",
    "#############\n",
    "\n",
    "initial_params = rng.normal(size=len(model_ham_ops))\n",
    "qbm_state = QBM(model_ham_ops, initial_params)\n",
    "print(f\"Initial parameters: {qbm_state.get_coeffs()}\")\n",
    "print(f\"Target parameters: {target_params}\")\n",
    "print(f\"Target beta: {target_beta}\")\n",
    "\n",
    "\n"
   ]
  },
  {
   "cell_type": "code",
   "execution_count": 45,
   "metadata": {},
   "outputs": [
    {
     "name": "stdout",
     "output_type": "stream",
     "text": [
      "Trained parameters: [-5.00000026e-01+0.00000000e+00j -5.00001600e-01+0.00000000e+00j\n",
      " -4.99999521e-01+0.00000000e+00j  1.39070516e-16+0.00000000e+00j\n",
      "  1.18458423e-16+0.00000000e+00j -1.37909346e-16+0.00000000e+00j\n",
      " -1.02328919e-16+0.00000000e+00j -5.00000026e-01+0.00000000e+00j\n",
      " -5.00001600e-01+0.00000000e+00j -4.99999521e-01+0.00000000e+00j\n",
      "  4.59463430e-20+3.88159625e-30j  5.47211938e-20+5.13606998e-31j\n",
      " -2.95375700e-20-6.04973114e-31j -3.92535760e-20+6.93606336e-30j\n",
      " -7.00003717e-01+0.00000000e+00j -7.00000741e-01+0.00000000e+00j\n",
      " -7.00011181e-01+0.00000000e+00j -8.00003129e-01+0.00000000e+00j\n",
      " -8.00005278e-01+0.00000000e+00j -8.00012205e-01+0.00000000e+00j\n",
      " -8.00009630e-01+0.00000000e+00j]\n",
      "Max. gradients: 9.8562101931432e-07\n",
      "Initial relative entropy: 10.548762983147116\n",
      "Trained relative entropy: 0.045794063071167734\n"
     ]
    }
   ],
   "source": [
    "################\n",
    "# QBM Taininig #\n",
    "################\n",
    "\n",
    "target_eta = None\n",
    "if compute_qre:\n",
    "    target_eta = target_state\n",
    "\n",
    "qbm_state, max_grads_hist, qre_hist = train_qbm(\n",
    "    qbm=qbm_state,\n",
    "    target_expects=target_expects,\n",
    "    learning_rate=learning_rate,\n",
    "    epochs=epochs,\n",
    "    eps=eps,\n",
    "    compute_qre=compute_qre,\n",
    "    target_eta=target_eta,\n",
    ")\n",
    "\n",
    "print(f\"Trained parameters: {qbm_state.get_coeffs()}\")\n",
    "print(f\"Max. gradients: {max_grads_hist[-1]}\")\n",
    "if compute_qre:\n",
    "    print(f\"Initial relative entropy: {qre_hist[0]}\")\n",
    "    print(f\"Trained relative entropy: {qre_hist[-1]}\")\n"
   ]
  },
  {
   "cell_type": "markdown",
   "metadata": {},
   "source": [
    "The relative entropy after training is close to zero, and this is reproducing the left side of panel (a) in Figure 2 of the paper."
   ]
  },
  {
   "cell_type": "markdown",
   "metadata": {},
   "source": [
    "## Plot training history"
   ]
  },
  {
   "cell_type": "code",
   "execution_count": 46,
   "metadata": {},
   "outputs": [
    {
     "data": {
      "image/png": "[encoded data removed]",
      "text/plain": [
       "<Figure size 640x480 with 1 Axes>"
      ]
     },
     "metadata": {},
     "output_type": "display_data"
    }
   ],
   "source": [
    "if compute_qre:\n",
    "    plt.plot(qre_hist[1:], \"-\")\n",
    "    plt.xlabel(\"Epoch\")\n",
    "    plt.ylabel(\"Relative entropy\")\n",
    "    plt.yscale('log')\n",
    "    plt.show()\n"
   ]
  },
  {
   "cell_type": "code",
   "execution_count": 47,
   "metadata": {},
   "outputs": [
    {
     "data": {
      "image/png": "[encoded data removed]",
      "text/plain": [
       "<Figure size 640x480 with 1 Axes>"
      ]
     },
     "metadata": {},
     "output_type": "display_data"
    }
   ],
   "source": [
    "plt.plot(max_grads_hist[1:], \"-\")\n",
    "plt.xlabel(\"Epoch\")\n",
    "plt.ylabel(\"Max absolute value of gradients\")\n",
    "plt.yscale('log')\n",
    "plt.show()"
   ]
  },
  {
   "cell_type": "markdown",
   "metadata": {},
   "source": [
    "## Compare the parameters"
   ]
  },
  {
   "cell_type": "code",
   "execution_count": 48,
   "metadata": {},
   "outputs": [
    {
     "name": "stdout",
     "output_type": "stream",
     "text": [
      "[-0.5 -0.5 -0.5  0.   0.   0.   0.  -0.5 -0.5 -0.5  0.   0.   0.   0.\n",
      " -0.7 -0.7 -0.7 -0.8 -0.8 -0.8 -0.8]\n"
     ]
    }
   ],
   "source": [
    "# target parameters\n",
    "print(target_params)"
   ]
  },
  {
   "cell_type": "code",
   "execution_count": 49,
   "metadata": {},
   "outputs": [
    {
     "name": "stdout",
     "output_type": "stream",
     "text": [
      "[-5.00000026e-01+0.00000000e+00j -5.00001600e-01+0.00000000e+00j\n",
      " -4.99999521e-01+0.00000000e+00j  1.39070516e-16+0.00000000e+00j\n",
      "  1.18458423e-16+0.00000000e+00j -1.37909346e-16+0.00000000e+00j\n",
      " -1.02328919e-16+0.00000000e+00j -5.00000026e-01+0.00000000e+00j\n",
      " -5.00001600e-01+0.00000000e+00j -4.99999521e-01+0.00000000e+00j\n",
      "  4.59463430e-20+3.88159625e-30j  5.47211938e-20+5.13606998e-31j\n",
      " -2.95375700e-20-6.04973114e-31j -3.92535760e-20+6.93606336e-30j\n",
      " -7.00003717e-01+0.00000000e+00j -7.00000741e-01+0.00000000e+00j\n",
      " -7.00011181e-01+0.00000000e+00j -8.00003129e-01+0.00000000e+00j\n",
      " -8.00005278e-01+0.00000000e+00j -8.00012205e-01+0.00000000e+00j\n",
      " -8.00009630e-01+0.00000000e+00j]\n"
     ]
    }
   ],
   "source": [
    "# model parameters\n",
    "print(qbm_state.get_coeffs())"
   ]
  },
  {
   "cell_type": "code",
   "execution_count": 50,
   "metadata": {},
   "outputs": [
    {
     "data": {
      "text/plain": [
       "Text(0, 0.5, 'Paramters -> |target - model|')"
      ]
     },
     "execution_count": 50,
     "metadata": {},
     "output_type": "execute_result"
    },
    {
     "data": {
      "image/png": "[encoded data removed]",
      "text/plain": [
       "<Figure size 640x480 with 1 Axes>"
      ]
     },
     "metadata": {},
     "output_type": "display_data"
    }
   ],
   "source": [
    "param_diff = np.fabs(target_params.real - qbm_state.get_coeffs().real)\n",
    "plt.plot(param_diff, \"o\")\n",
    "plt.xticks(np.arange(len(model_ham_names)), model_ham_names, rotation=45)\n",
    "plt.xlabel(\"Operators\")\n",
    "plt.ylabel(\"Paramters -> |target - model|\")"
   ]
  },
  {
   "cell_type": "markdown",
   "metadata": {},
   "source": [
    "## Check fidelity with the Gibbs state"
   ]
  },
  {
   "cell_type": "code",
   "execution_count": 51,
   "metadata": {},
   "outputs": [
    {
     "data": {
      "text/plain": [
       "[[ 4.570858e-05+0.j  0.000000e+00+0.j  0.000000e+00+0.j  0.000000e+00+0.j  0.000000e+00+0.j  0.000000e+00+0.j\n",
       "   0.000000e+00+0.j  0.000000e+00+0.j  0.000000e+00+0.j  0.000000e+00+0.j  0.000000e+00+0.j  0.000000e+00+0.j\n",
       "   0.000000e+00+0.j  0.000000e+00+0.j  0.000000e+00+0.j  0.000000e+00+0.j]\n",
       " [ 0.000000e+00+0.j  1.870587e-03+0.j -2.887053e-03+0.j  0.000000e+00+0.j  1.560978e-03+0.j  0.000000e+00+0.j\n",
       "   0.000000e+00+0.j  0.000000e+00+0.j -3.790343e-04+0.j  0.000000e+00+0.j  0.000000e+00+0.j  0.000000e+00+0.j\n",
       "   0.000000e+00+0.j  0.000000e+00+0.j  0.000000e+00+0.j  0.000000e+00+0.j]\n",
       " [ 0.000000e+00+0.j -2.887053e-03+0.j  7.473439e-03+0.j  0.000000e+00+0.j -5.451457e-03+0.j  0.000000e+00+0.j\n",
       "   0.000000e+00+0.j  0.000000e+00+0.j  1.560978e-03+0.j  0.000000e+00+0.j  0.000000e+00+0.j  0.000000e+00+0.j\n",
       "   0.000000e+00+0.j  0.000000e+00+0.j  0.000000e+00+0.j  0.000000e+00+0.j]\n",
       " [ 0.000000e+00+0.j  0.000000e+00+0.j  0.000000e+00+0.j  1.476248e-02+0.j  0.000000e+00+0.j -4.224198e-02+0.j\n",
       "   1.718409e-02+0.j -3.204272e-18+0.j  0.000000e+00+0.j  1.718409e-02+0.j -1.325941e-02+0.j  6.891370e-18+0.j\n",
       "   2.174110e-03+0.j -2.302701e-18+0.j  1.557714e-19+0.j  0.000000e+00+0.j]\n",
       " [ 0.000000e+00+0.j  1.560978e-03+0.j -5.451457e-03+0.j  0.000000e+00+0.j  7.473439e-03+0.j  0.000000e+00+0.j\n",
       "   0.000000e+00+0.j  0.000000e+00+0.j -2.887053e-03+0.j  0.000000e+00+0.j  0.000000e+00+0.j  0.000000e+00+0.j\n",
       "   0.000000e+00+0.j  0.000000e+00+0.j  0.000000e+00+0.j  0.000000e+00+0.j]\n",
       " [ 0.000000e+00+0.j  0.000000e+00+0.j  0.000000e+00+0.j -4.224198e-02+0.j  0.000000e+00+0.j  1.674082e-01+0.j\n",
       "  -7.955912e-02+0.j -8.779278e-18+0.j  0.000000e+00+0.j -7.955912e-02+0.j  7.366864e-02+0.j  6.861589e-19+0.j\n",
       "  -1.325941e-02+0.j -1.454357e-19+0.j  2.058911e-20+0.j  0.000000e+00+0.j]\n",
       " [ 0.000000e+00+0.j  0.000000e+00+0.j  0.000000e+00+0.j  1.718409e-02+0.j  0.000000e+00+0.j -7.955912e-02+0.j\n",
       "   6.547508e-02+0.j  1.698004e-18+0.j  0.000000e+00+0.j  4.703492e-02+0.j -7.955912e-02+0.j  2.239824e-17+0.j\n",
       "   1.718409e-02+0.j -3.681538e-17+0.j  1.517661e-17+0.j  0.000000e+00+0.j]\n",
       " [ 0.000000e+00+0.j  0.000000e+00+0.j  0.000000e+00+0.j -3.204272e-18+0.j  0.000000e+00+0.j -8.779278e-18+0.j\n",
       "   1.698004e-18+0.j  4.589023e-02+0.j  0.000000e+00+0.j  2.042743e-17+0.j -1.924261e-17+0.j -7.082672e-02+0.j\n",
       "   3.293035e-18+0.j  3.829475e-02+0.j -9.298671e-03+0.j  0.000000e+00+0.j]\n",
       " [ 0.000000e+00+0.j -3.790343e-04+0.j  1.560978e-03+0.j  0.000000e+00+0.j -2.887053e-03+0.j  0.000000e+00+0.j\n",
       "   0.000000e+00+0.j  0.000000e+00+0.j  1.870587e-03+0.j  0.000000e+00+0.j  0.000000e+00+0.j  0.000000e+00+0.j\n",
       "   0.000000e+00+0.j  0.000000e+00+0.j  0.000000e+00+0.j  0.000000e+00+0.j]\n",
       " [ 0.000000e+00+0.j  0.000000e+00+0.j  0.000000e+00+0.j  1.718409e-02+0.j  0.000000e+00+0.j -7.955912e-02+0.j\n",
       "   4.703492e-02+0.j  2.042743e-17+0.j  0.000000e+00+0.j  6.547508e-02+0.j -7.955912e-02+0.j -3.207047e-17+0.j\n",
       "   1.718409e-02+0.j  3.985392e-17+0.j -1.545311e-17+0.j  0.000000e+00+0.j]\n",
       " [ 0.000000e+00+0.j  0.000000e+00+0.j  0.000000e+00+0.j -1.325941e-02+0.j  0.000000e+00+0.j  7.366864e-02+0.j\n",
       "  -7.955912e-02+0.j -1.924261e-17+0.j  0.000000e+00+0.j -7.955912e-02+0.j  1.674082e-01+0.j  2.630856e-18+0.j\n",
       "  -4.224198e-02+0.j  2.945961e-18+0.j -2.076238e-18+0.j  0.000000e+00+0.j]\n",
       " [ 0.000000e+00+0.j  0.000000e+00+0.j  0.000000e+00+0.j  6.891370e-18+0.j  0.000000e+00+0.j  6.861589e-19+0.j\n",
       "   2.239824e-17+0.j -7.082672e-02+0.j  0.000000e+00+0.j -3.207047e-17+0.j  2.630856e-18+0.j  1.833424e-01+0.j\n",
       "   2.071472e-18+0.j -1.337380e-01+0.j  3.829475e-02+0.j  0.000000e+00+0.j]\n",
       " [ 0.000000e+00+0.j  0.000000e+00+0.j  0.000000e+00+0.j  2.174110e-03+0.j  0.000000e+00+0.j -1.325941e-02+0.j\n",
       "   1.718409e-02+0.j  3.293035e-18+0.j  0.000000e+00+0.j  1.718409e-02+0.j -4.224198e-02+0.j  2.071472e-18+0.j\n",
       "   1.476248e-02+0.j -1.720893e-18+0.j  1.039512e-18+0.j  0.000000e+00+0.j]\n",
       " [ 0.000000e+00+0.j  0.000000e+00+0.j  0.000000e+00+0.j -2.302701e-18+0.j  0.000000e+00+0.j -1.454357e-19+0.j\n",
       "  -3.681538e-17+0.j  3.829475e-02+0.j  0.000000e+00+0.j  3.985392e-17+0.j  2.945961e-18+0.j -1.337380e-01+0.j\n",
       "  -1.720893e-18+0.j  1.833424e-01+0.j -7.082672e-02+0.j  0.000000e+00+0.j]\n",
       " [ 0.000000e+00+0.j  0.000000e+00+0.j  0.000000e+00+0.j  1.557714e-19+0.j  0.000000e+00+0.j  2.058911e-20+0.j\n",
       "   1.517661e-17+0.j -9.298671e-03+0.j  0.000000e+00+0.j -1.545311e-17+0.j -2.076238e-18+0.j  3.829475e-02+0.j\n",
       "   1.039512e-18+0.j -7.082672e-02+0.j  4.589023e-02+0.j  0.000000e+00+0.j]\n",
       " [ 0.000000e+00+0.j  0.000000e+00+0.j  0.000000e+00+0.j  0.000000e+00+0.j  0.000000e+00+0.j  0.000000e+00+0.j\n",
       "   0.000000e+00+0.j  0.000000e+00+0.j  0.000000e+00+0.j  0.000000e+00+0.j  0.000000e+00+0.j  0.000000e+00+0.j\n",
       "   0.000000e+00+0.j  0.000000e+00+0.j  0.000000e+00+0.j  2.750948e-02+0.j]]"
      ]
     },
     "execution_count": 51,
     "metadata": {},
     "output_type": "execute_result"
    }
   ],
   "source": [
    "target_eta"
   ]
  },
  {
   "cell_type": "code",
   "execution_count": 52,
   "metadata": {},
   "outputs": [
    {
     "data": {
      "text/plain": [
       "[[ 4.570582e-05+0.000000e+00j  4.519253e-20-7.986915e-24j -2.095879e-19+5.813225e-23j  3.683570e-16+5.650915e-39j\n",
       "   1.896700e-19-6.878560e-23j -3.527679e-15-7.972758e-38j  3.925715e-15-2.401796e-38j -2.373838e-31+1.370318e-34j\n",
       "  -2.559992e-20+1.242843e-23j  1.916205e-15+2.114485e-38j -3.527692e-15+7.374946e-39j  1.050431e-31-7.401328e-35j\n",
       "   3.683640e-16-3.581632e-38j -2.884663e-31+5.943679e-35j  4.511188e-31-1.044820e-34j  6.497450e-28+9.663178e-47j]\n",
       " [ 4.519253e-20+7.986915e-24j  1.870553e-03+7.595502e-24j -2.887008e-03+2.726026e-22j  6.973363e-18+4.296375e-21j\n",
       "   1.560944e-03-1.553632e-21j -2.636336e-17-1.315868e-20j  1.403932e-17+6.457986e-21j  4.800239e-15-5.804755e-21j\n",
       "  -3.790243e-04+4.850426e-22j  1.928677e-17+2.952955e-21j -1.842741e-17+1.030573e-21j  1.532144e-16+9.250172e-21j\n",
       "   3.454453e-18-7.710795e-22j -9.464076e-15+2.529942e-22j  4.837871e-15-1.278659e-21j  1.530489e-23-2.319672e-27j]\n",
       " [-2.095879e-19-5.813225e-23j -2.887008e-03-2.363313e-22j  7.473337e-03+2.143624e-22j  2.431662e-18-4.514801e-21j\n",
       "  -5.451333e-03+3.555270e-22j -2.078219e-17+1.363957e-20j  2.567712e-17-3.861840e-21j  4.881027e-16+9.590959e-21j\n",
       "   1.560935e-03-7.490066e-22j  1.718062e-17-4.017572e-21j -5.376898e-17-2.521318e-21j -3.998097e-15-1.490019e-20j\n",
       "   1.542927e-17+1.938964e-21j  8.558045e-15+1.617570e-21j -6.427645e-15+1.415417e-21j -5.559763e-23-1.814314e-26j]\n",
       " [ 3.683570e-16-5.650915e-39j  6.973363e-18-4.296375e-21j  2.431662e-18+4.514801e-21j  1.476242e-02-5.558263e-36j\n",
       "  -1.574908e-19+3.093953e-21j -4.224199e-02+2.652798e-21j  1.718410e-02-4.208950e-25j -8.556384e-19+1.175867e-21j\n",
       "  -1.891505e-17+7.752451e-21j  1.718407e-02+3.613594e-25j -1.325942e-02-2.652697e-21j  7.410678e-18-1.460506e-20j\n",
       "   2.174105e-03-4.711812e-25j -9.217520e-18+3.842154e-21j  3.649386e-18-4.469717e-22j -2.679418e-15+2.044570e-27j]\n",
       " [ 1.896700e-19+6.878560e-23j  1.560944e-03+1.658301e-21j -5.451333e-03-5.152001e-22j -1.574908e-19-3.093953e-21j\n",
       "   7.473173e-03+1.316361e-23j  1.365614e-17+1.532005e-20j -1.181840e-17-1.036011e-20j -6.424897e-15+5.594983e-21j\n",
       "  -2.886938e-03+1.617092e-21j -1.442396e-17-1.179145e-20j  3.448314e-17+2.182011e-20j  8.560362e-15-1.418363e-20j\n",
       "  -8.869411e-18-5.621186e-21j -4.009428e-15+5.839578e-21j  4.942970e-16-7.539897e-22j  3.963834e-23+1.201868e-26j]\n",
       " [-3.527679e-15+7.972758e-38j -2.636336e-17+1.315868e-20j -2.078219e-17-1.363957e-20j -4.224199e-02-2.652798e-21j\n",
       "   1.365614e-17-1.532005e-20j  1.674083e-01+5.252213e-35j -7.955920e-02+2.797167e-24j  7.669021e-19+1.514402e-20j\n",
       "   7.320070e-17-3.322196e-20j -7.955903e-02+2.127191e-24j  7.366864e-02-7.837640e-24j -8.648907e-18-9.499056e-21j\n",
       "  -1.325936e-02+2.655358e-21j  1.596106e-17-4.203587e-22j -4.859973e-18-3.469317e-22j -1.023338e-14+6.110566e-28j]\n",
       " [ 3.925715e-15+2.401796e-38j  1.403932e-17-6.457986e-21j  2.567712e-17+3.861840e-21j  1.718410e-02+4.208950e-25j\n",
       "  -1.181840e-17+1.036011e-20j -7.955920e-02-2.797167e-24j  6.547525e-02-3.188942e-41j -9.888322e-19+9.912501e-22j\n",
       "  -4.305396e-17+2.055965e-20j  4.703489e-02+2.625408e-24j -7.955925e-02-2.003297e-24j  6.507993e-18-2.868280e-21j\n",
       "   1.718402e-02-3.272445e-25j -8.372287e-18+2.625708e-21j  3.064874e-18-6.693231e-22j  4.912116e-15+3.809871e-32j]\n",
       " [-2.373838e-31-1.370318e-34j  4.800239e-15+5.804755e-21j  4.881027e-16-9.590959e-21j -8.556384e-19-1.175867e-21j\n",
       "  -6.424897e-15-5.594983e-21j  7.669021e-19-1.514402e-20j -9.888322e-19-9.912501e-22j  4.589029e-02+1.620642e-21j\n",
       "   4.839245e-15+4.349203e-21j  6.089151e-18+1.275354e-21j -6.360438e-18+1.526132e-20j -7.082679e-02-9.301594e-21j\n",
       "   1.385270e-18+1.147937e-21j  3.829488e-02+3.140726e-20j -9.298701e-03-2.210292e-20j  4.430103e-17-9.977664e-21j]\n",
       " [-2.559992e-20-1.242843e-23j -3.790243e-04-4.794093e-22j  1.560935e-03+8.210550e-22j -1.891505e-17-7.752451e-21j\n",
       "  -2.886938e-03-1.590986e-21j  7.320070e-17+3.322196e-20j -4.305396e-17-2.055965e-20j  4.839245e-15-4.349203e-21j\n",
       "   1.870504e-03+1.541213e-23j -4.391798e-17-2.376062e-20j  5.669837e-17+3.488910e-20j -9.471414e-15+9.167664e-21j\n",
       "  -1.254188e-17-8.111518e-21j  1.639742e-16-1.486728e-21j  4.795409e-15-4.435360e-22j -1.739150e-23-1.262037e-26j]\n",
       " [ 1.916205e-15-2.114485e-38j  1.928677e-17-2.952955e-21j  1.718062e-17+4.017572e-21j  1.718407e-02-3.613594e-25j\n",
       "  -1.442396e-17+1.179145e-20j -7.955903e-02-2.127191e-24j  4.703489e-02-2.625408e-24j  6.089151e-18-1.275354e-21j\n",
       "  -4.391798e-17+2.376062e-20j  6.547485e-02+3.371044e-41j -7.955898e-02+4.746364e-24j -1.048621e-17+2.371805e-21j\n",
       "   1.718397e-02-2.685640e-24j  8.525278e-18-3.454405e-21j -4.657586e-18+2.093976e-21j  1.977388e-14+4.421595e-32j]\n",
       " [-3.527692e-15-7.374946e-39j -1.842741e-17-1.030573e-21j -5.376898e-17+2.521318e-21j -1.325942e-02+2.652697e-21j\n",
       "   3.448314e-17-2.182011e-20j  7.366864e-02+7.837640e-24j -7.955925e-02+2.003297e-24j -6.360438e-18-1.526132e-20j\n",
       "   5.669837e-17-3.488910e-20j -7.955898e-02-4.746364e-24j  1.674083e-01-1.209070e-35j -2.589700e-18+1.568829e-20j\n",
       "  -4.224172e-02-2.650812e-21j  4.849632e-19-4.317538e-21j  5.898402e-18-1.219515e-21j -1.023339e-14-6.109858e-28j]\n",
       " [ 1.050431e-31+7.401328e-35j  1.532144e-16-9.250172e-21j -3.998097e-15+1.490019e-20j  7.410678e-18+1.460506e-20j\n",
       "   8.560362e-15+1.418363e-20j -8.648907e-18+9.499056e-21j  6.507993e-18+2.868280e-21j -7.082679e-02+3.227244e-21j\n",
       "  -9.471414e-15-9.167664e-21j -1.048621e-17-2.371805e-21j -2.589700e-18-1.568829e-20j  1.833426e-01+5.354654e-21j\n",
       "   1.035053e-18-1.134852e-20j -1.337385e-01-1.875740e-20j  3.829486e-02+1.329103e-21j -8.232310e-17-2.469317e-20j]\n",
       " [ 3.683640e-16+3.581632e-38j  3.454453e-18+7.710795e-22j  1.542927e-17-1.938964e-21j  2.174105e-03+4.711812e-25j\n",
       "  -8.869411e-18+5.621186e-21j -1.325936e-02-2.655358e-21j  1.718402e-02+3.272445e-25j  1.385270e-18-1.147937e-21j\n",
       "  -1.254188e-17+8.111518e-21j  1.718397e-02+2.685640e-24j -4.224172e-02+2.650812e-21j  1.035053e-18+1.134852e-20j\n",
       "   1.476218e-02-4.711535e-36j  5.745206e-19-7.344972e-22j -3.904103e-18+4.723025e-22j -2.679379e-15-2.044511e-27j]\n",
       " [-2.884663e-31-5.943679e-35j -9.464076e-15-2.529942e-22j  8.558045e-15-1.617570e-21j -9.217520e-18-3.842154e-21j\n",
       "  -4.009428e-15-5.839578e-21j  1.596106e-17+4.203587e-22j -8.372287e-18-2.625708e-21j  3.829488e-02-2.901570e-20j\n",
       "   1.639742e-16+1.486728e-21j  8.525278e-18+3.454405e-21j  4.849632e-19+4.317538e-21j -1.337385e-01-3.933589e-21j\n",
       "   5.745206e-19+7.344972e-22j  1.833427e-01+1.384317e-20j -7.082679e-02-1.316582e-20j  7.299903e-17+3.327535e-20j]\n",
       " [ 4.511188e-31+1.044820e-34j  4.837871e-15+1.278659e-21j -6.427645e-15-1.415417e-21j  3.649386e-18+4.469717e-22j\n",
       "   4.942970e-16+7.539897e-22j -4.859973e-18+3.469317e-22j  3.064874e-18+6.693231e-22j -9.298701e-03+1.928670e-20j\n",
       "   4.795409e-15+4.435360e-22j -4.657586e-18-2.093976e-21j  5.898402e-18+1.219515e-21j  3.829486e-02-1.041042e-22j\n",
       "  -3.904103e-18-4.723025e-22j -7.082679e-02+8.135908e-21j  4.589032e-02-3.141848e-22j -2.966420e-17-1.279304e-20j]\n",
       " [ 6.497450e-28-9.663178e-47j  1.530489e-23+2.319672e-27j -5.559763e-23+1.814314e-26j -2.679418e-15-2.044570e-27j\n",
       "   3.963834e-23-1.201868e-26j -1.023338e-14-6.110566e-28j  4.912116e-15-3.809871e-32j  4.430103e-17+9.977664e-21j\n",
       "  -1.739150e-23+1.262037e-26j  1.977388e-14-4.421595e-32j -1.023339e-14+6.109858e-28j -8.232310e-17+2.469317e-20j\n",
       "  -2.679379e-15+2.044511e-27j  7.299903e-17-3.327535e-20j -2.966420e-17+1.279304e-20j  2.750949e-02+6.706949e-54j]]"
      ]
     },
     "execution_count": 52,
     "metadata": {},
     "output_type": "execute_result"
    }
   ],
   "source": [
    "qbm_state.get_density_matrix()"
   ]
  },
  {
   "cell_type": "code",
   "execution_count": 53,
   "metadata": {},
   "outputs": [
    {
     "data": {
      "text/plain": [
       "0.9999999999963443"
      ]
     },
     "execution_count": 53,
     "metadata": {},
     "output_type": "execute_result"
    }
   ],
   "source": [
    "from quimb import fidelity\n",
    "\n",
    "fidelity(target_eta, qbm_state.get_density_matrix())"
   ]
  },
  {
   "cell_type": "markdown",
   "metadata": {},
   "source": [
    "Since the QBM model contains the operators of the Hamiltonian used to create the target quantum Gibbs state as a subset, the training is able to find the parameters correctly. Therefore the fidelity between the target state and the QBM state after training is 1."
   ]
  },
  {
   "cell_type": "markdown",
   "metadata": {},
   "source": [
    "## Pretraining\n",
    "\n",
    "In Fig.2 of the paper, the authors compare different pre-training strategies. Pretraining can be implemented simply as 2 consecutive rounds of training, where the first one only targets a subset of the parameters."
   ]
  },
  {
   "cell_type": "markdown",
   "metadata": {},
   "source": [
    "### Select the full QBM model\n",
    "\n",
    "We will use a fully connected QBM model defined in equation (16) of the paper as:\n",
    "\n",
    "$$\n",
    "\\mathcal{H}_\\theta=\\sum_{k=x, y, z} \\sum_{i, j>i} \\lambda_{i j}^k \\sigma_i^k \\sigma_j^k+\\sum_i^n \\gamma_i^k \\sigma_i^k\n",
    "$$\n"
   ]
  },
  {
   "cell_type": "code",
   "execution_count": 54,
   "metadata": {},
   "outputs": [],
   "source": [
    "model_label = 8  # 8: Fully connected\n",
    "model_ham_ops, model_ham_names = hamiltonians.hamiltonian_operators(\n",
    "    n_qubits, model_label, return_names=True\n",
    ")"
   ]
  },
  {
   "cell_type": "code",
   "execution_count": 55,
   "metadata": {},
   "outputs": [
    {
     "name": "stdout",
     "output_type": "stream",
     "text": [
      "We have 30 terms in the Hamiltonian\n"
     ]
    }
   ],
   "source": [
    "m = len(model_ham_names)\n",
    "print(f\"We have {m} terms in the Hamiltonian\")"
   ]
  },
  {
   "cell_type": "markdown",
   "metadata": {},
   "source": [
    "### Select pretraining strategy\n",
    "\n",
    "We will pretrain by using a geometrically local Hamiltonian, whose operators are a subset of the full model\n",
    "\n",
    "$$\n",
    "\\mathcal{H}_\\theta^{\\mathrm{GL}}=\\sum_{k=x, y, z} \\sum_{\\langle i, j\\rangle} \\lambda_{i j}^k \\sigma_i^k \\sigma_j^k+\\sum_i^n \\gamma_i^k \\sigma_i^k\n",
    "$$"
   ]
  },
  {
   "cell_type": "code",
   "execution_count": 56,
   "metadata": {},
   "outputs": [],
   "source": [
    "pre_model_label = 7  # 7: Geometrically local (2D lattice)\n",
    "pre_model_ham_ops, pre_model_ham_names = hamiltonians.hamiltonian_operators(\n",
    "    n_qubits, pre_model_label, return_names=True\n",
    ")"
   ]
  },
  {
   "cell_type": "code",
   "execution_count": 59,
   "metadata": {},
   "outputs": [
    {
     "name": "stdout",
     "output_type": "stream",
     "text": [
      "We have 24 terms in the pretraining Hamiltonian\n"
     ]
    }
   ],
   "source": [
    "m = len(pre_model_ham_names)\n",
    "print(f\"We have {m} terms in the pretraining Hamiltonian\")"
   ]
  },
  {
   "cell_type": "markdown",
   "metadata": {},
   "source": [
    "### Generate data for pretraining and do pretraining"
   ]
  },
  {
   "cell_type": "code",
   "execution_count": 75,
   "metadata": {},
   "outputs": [],
   "source": [
    "# generate expectation values: quantum data\n",
    "target_expects, target_state = data.generate_data(\n",
    "    n_qubits,\n",
    "    target_label,\n",
    "    target_params,\n",
    "    target_beta,\n",
    "    pre_model_ham_ops,\n",
    "    depolarizing_noise,\n",
    ")"
   ]
  },
  {
   "cell_type": "markdown",
   "metadata": {},
   "source": [
    "The pretraining QBM state we use is"
   ]
  },
  {
   "cell_type": "code",
   "execution_count": 76,
   "metadata": {},
   "outputs": [
    {
     "name": "stdout",
     "output_type": "stream",
     "text": [
      "Initial parameters: [-8.10814583e-01  7.52243827e-01  2.53446516e-01  8.95883071e-01\n",
      " -3.45215710e-01 -1.48181827e+00 -1.10010765e-01 -4.45828153e-01\n",
      "  7.75323822e-01  1.93632848e-01 -1.63084923e+00 -1.19516308e+00\n",
      "  8.83789037e-01  6.79765017e-01 -6.40243366e-01 -1.04879657e-03\n",
      "  4.45573554e-01  4.68404336e-01  8.76242196e-01  2.56485627e-01\n",
      " -9.48283390e-02 -2.58848065e-01  1.05574280e+00 -2.25085428e+00]\n",
      "Target parameters: [-0.5 -0.5 -0.5  0.   0.   0.   0.  -0.5 -0.5 -0.5  0.   0.   0.   0.\n",
      " -0.7 -0.7 -0.7 -0.8 -0.8 -0.8 -0.8]\n",
      "Target beta: -1.0\n"
     ]
    }
   ],
   "source": [
    "initial_params = rng.normal(size=len(pre_model_ham_ops))\n",
    "pre_qbm_state = QBM(pre_model_ham_ops, initial_params)\n",
    "print(f\"Initial parameters: {pre_qbm_state.get_coeffs()}\")\n",
    "print(f\"Target parameters: {target_params}\")\n",
    "print(f\"Target beta: {target_beta}\")"
   ]
  },
  {
   "cell_type": "code",
   "execution_count": 77,
   "metadata": {},
   "outputs": [
    {
     "name": "stdout",
     "output_type": "stream",
     "text": [
      "Trained parameters: [-4.17862429e-01+0.00000000e+00j  2.41887006e-01+0.00000000e+00j\n",
      "  2.41887424e-01+0.00000000e+00j -4.17862135e-01+0.00000000e+00j\n",
      "  1.21627905e-16+0.00000000e+00j  1.49677930e-16+0.00000000e+00j\n",
      " -9.98886686e-17+0.00000000e+00j -7.07296023e-17+0.00000000e+00j\n",
      " -4.17862429e-01+0.00000000e+00j  2.41887006e-01+0.00000000e+00j\n",
      "  2.41887424e-01+0.00000000e+00j -4.17862135e-01+0.00000000e+00j\n",
      " -1.28638650e-17+2.66240556e-30j  1.01817695e-17+3.32800694e-31j\n",
      " -4.54926588e-18-3.69778549e-31j -3.11582305e-19+4.60374294e-30j\n",
      " -6.00291272e-01+0.00000000e+00j  2.60564317e-01+0.00000000e+00j\n",
      "  2.60565061e-01+0.00000000e+00j -6.00296141e-01+0.00000000e+00j\n",
      " -7.47485462e-01+0.00000000e+00j -4.23410028e-01+0.00000000e+00j\n",
      " -4.23415148e-01+0.00000000e+00j -7.47490210e-01+0.00000000e+00j]\n",
      "Max. gradients: 9.933717574628353e-07\n",
      "Initial relative entropy: 5.378765065724189\n",
      "Trained relative entropy: 0.37111624954291145\n"
     ]
    }
   ],
   "source": [
    "target_eta = None\n",
    "if compute_qre:\n",
    "    target_eta = target_state\n",
    "\n",
    "pre_qbm_state, max_grads_hist, qre_hist = train_qbm(\n",
    "    qbm=pre_qbm_state,\n",
    "    target_expects=target_expects,\n",
    "    learning_rate=learning_rate,\n",
    "    epochs=epochs,\n",
    "    eps=eps,\n",
    "    compute_qre=compute_qre,\n",
    "    target_eta=target_eta,\n",
    ")\n",
    "\n",
    "print(f\"Trained parameters: {pre_qbm_state.get_coeffs()}\")\n",
    "print(f\"Max. gradients: {max_grads_hist[-1]}\")\n",
    "if compute_qre:\n",
    "    print(f\"Initial relative entropy: {qre_hist[0]}\")\n",
    "    print(f\"Trained relative entropy: {qre_hist[-1]}\")"
   ]
  },
  {
   "cell_type": "code",
   "execution_count": 78,
   "metadata": {},
   "outputs": [],
   "source": [
    "pretraining_qre = qre_hist[-1]"
   ]
  },
  {
   "cell_type": "markdown",
   "metadata": {},
   "source": [
    "### Generate data for full training and do full training"
   ]
  },
  {
   "cell_type": "code",
   "execution_count": 79,
   "metadata": {},
   "outputs": [],
   "source": [
    "# generate expectation values: quantum data\n",
    "target_expects, target_state = data.generate_data(\n",
    "    n_qubits,\n",
    "    target_label,\n",
    "    target_params,\n",
    "    target_beta,\n",
    "    model_ham_ops,\n",
    "    depolarizing_noise,\n",
    ")"
   ]
  },
  {
   "cell_type": "markdown",
   "metadata": {},
   "source": [
    "We need to initialize the parameters based on our pretraining strategy"
   ]
  },
  {
   "cell_type": "code",
   "execution_count": 80,
   "metadata": {},
   "outputs": [],
   "source": [
    "operator_map = {\n",
    "    \"X_0_1\": \"X_0-0_0-1\",\n",
    "    \"X_0_3\": \"X_0-0_1-0\",\n",
    "    \"X_1_2\": \"X_0-1_1-1\",\n",
    "    \"X_2_3\": \"X_1-0_1-1\",\n",
    "    \"X_0\": \"X_0\",\n",
    "    \"X_1\": \"X_1\",\n",
    "    \"X_2\": \"X_2\",\n",
    "    \"X_3\": \"X_3\",\n",
    "    \"Y_0_1\": \"Y_0-0_0-1\",\n",
    "    \"Y_0_3\": \"Y_0-0_1-0\",\n",
    "    \"Y_1_2\": \"Y_0-1_1-1\",\n",
    "    \"Y_2_3\": \"Y_1-0_1-1\",\n",
    "    \"Y_0\": \"Y_0\",\n",
    "    \"Y_1\": \"Y_1\",\n",
    "    \"Y_2\": \"Y_2\",\n",
    "    \"Y_3\": \"Y_3\",\n",
    "    \"Z_0_1\": \"Z_0-0_0-1\",\n",
    "    \"Z_0_3\": \"Z_0-0_1-0\",\n",
    "    \"Z_1_2\": \"Z_0-1_1-1\",\n",
    "    \"Z_2_3\": \"Z_1-0_1-1\",\n",
    "    \"Z_0\":   \"Z_0\",\n",
    "    \"Z_1\":   \"Z_1\",\n",
    "    \"Z_2\":   \"Z_2\",\n",
    "    \"Z_3\":   \"Z_3\",\n",
    "}"
   ]
  },
  {
   "cell_type": "code",
   "execution_count": 81,
   "metadata": {},
   "outputs": [
    {
     "data": {
      "text/plain": [
       "{'X_0-0_0-1': (-0.4178624286438567+0j),\n",
       " 'X_0-0_1-0': (0.24188700616159095+0j),\n",
       " 'X_0-1_1-1': (0.24188742409107108+0j),\n",
       " 'X_1-0_1-1': (-0.417862135162397+0j),\n",
       " 'X_0': (1.2162790526676357e-16+0j),\n",
       " 'X_1': (1.4967792966126619e-16+0j),\n",
       " 'X_2': (-9.988866855167014e-17+0j),\n",
       " 'X_3': (-7.072960231885689e-17+0j),\n",
       " 'Y_0-0_0-1': (-0.4178624286438564+0j),\n",
       " 'Y_0-0_1-0': (0.24188700616159092+0j),\n",
       " 'Y_0-1_1-1': (0.24188742409107103+0j),\n",
       " 'Y_1-0_1-1': (-0.4178621351623975+0j),\n",
       " 'Y_0': (-1.2863864981099544e-17+2.6624055551208945e-30j),\n",
       " 'Y_1': (1.0181769524937324e-17+3.328006943901118e-31j),\n",
       " 'Y_2': (-4.5492658825577755e-18-3.697785493223493e-31j),\n",
       " 'Y_3': (-3.1158230544471792e-19+4.6037429390632086e-30j),\n",
       " 'Z_0-0_0-1': (-0.6002912720001596+0j),\n",
       " 'Z_0-0_1-0': (0.2605643173897259+0j),\n",
       " 'Z_0-1_1-1': (0.26056506144579467+0j),\n",
       " 'Z_1-0_1-1': (-0.6002961405083312+0j),\n",
       " 'Z_0': (-0.7474854620019284+0j),\n",
       " 'Z_1': (-0.42341002824384955+0j),\n",
       " 'Z_2': (-0.4234151479744083+0j),\n",
       " 'Z_3': (-0.747490209582286+0j)}"
      ]
     },
     "execution_count": 81,
     "metadata": {},
     "output_type": "execute_result"
    }
   ],
   "source": [
    "pre_op_map = {k: v for k, v in zip(pre_model_ham_names, pre_qbm_state.get_coeffs(),)}\n",
    "pre_op_map"
   ]
  },
  {
   "cell_type": "code",
   "execution_count": 85,
   "metadata": {},
   "outputs": [
    {
     "name": "stdout",
     "output_type": "stream",
     "text": [
      "[(-0.4178624286438567+0j), 0, (0.24188700616159095+0j), (0.24188742409107108+0j), 0, (-0.417862135162397+0j), (1.2162790526676357e-16+0j), (1.4967792966126619e-16+0j), (-9.988866855167014e-17+0j), (-7.072960231885689e-17+0j), (-0.4178624286438564+0j), 0, (0.24188700616159092+0j), (0.24188742409107103+0j), 0, (-0.4178621351623975+0j), (-1.2863864981099544e-17+2.6624055551208945e-30j), (1.0181769524937324e-17+3.328006943901118e-31j), (-4.5492658825577755e-18-3.697785493223493e-31j), (-3.1158230544471792e-19+4.6037429390632086e-30j), (-0.6002912720001596+0j), 0, (0.2605643173897259+0j), (0.26056506144579467+0j), 0, (-0.6002961405083312+0j), (-0.7474854620019284+0j), (-0.42341002824384955+0j), (-0.4234151479744083+0j), (-0.747490209582286+0j)]\n"
     ]
    }
   ],
   "source": [
    "# initialize parameters from pre-training\n",
    "initial_params = []\n",
    "for op in model_ham_names:\n",
    "    try:\n",
    "        if operator_map[op] in pre_model_ham_names:\n",
    "            initial_params.append(pre_op_map[operator_map[op]])\n",
    "        else:\n",
    "            initial_params.append(0.0)\n",
    "    except KeyError:\n",
    "        initial_params.append(0)\n",
    "print(initial_params)"
   ]
  },
  {
   "cell_type": "code",
   "execution_count": 86,
   "metadata": {},
   "outputs": [
    {
     "name": "stdout",
     "output_type": "stream",
     "text": [
      "Initial parameters: [(-0.4178624286438567+0j), 0, (0.24188700616159095+0j), (0.24188742409107108+0j), 0, (-0.417862135162397+0j), (1.2162790526676357e-16+0j), (1.4967792966126619e-16+0j), (-9.988866855167014e-17+0j), (-7.072960231885689e-17+0j), (-0.4178624286438564+0j), 0, (0.24188700616159092+0j), (0.24188742409107103+0j), 0, (-0.4178621351623975+0j), (-1.2863864981099544e-17+2.6624055551208945e-30j), (1.0181769524937324e-17+3.328006943901118e-31j), (-4.5492658825577755e-18-3.697785493223493e-31j), (-3.1158230544471792e-19+4.6037429390632086e-30j), (-0.6002912720001596+0j), 0, (0.2605643173897259+0j), (0.26056506144579467+0j), 0, (-0.6002961405083312+0j), (-0.7474854620019284+0j), (-0.42341002824384955+0j), (-0.4234151479744083+0j), (-0.747490209582286+0j)]\n",
      "Target parameters: [-0.5 -0.5 -0.5  0.   0.   0.   0.  -0.5 -0.5 -0.5  0.   0.   0.   0.\n",
      " -0.7 -0.7 -0.7 -0.8 -0.8 -0.8 -0.8]\n",
      "Target beta: -1.0\n"
     ]
    }
   ],
   "source": [
    "qbm_state = QBM(model_ham_ops, initial_params)\n",
    "print(f\"Initial parameters: {qbm_state.get_coeffs()}\")\n",
    "print(f\"Target parameters: {target_params}\")\n",
    "print(f\"Target beta: {target_beta}\")"
   ]
  },
  {
   "cell_type": "code",
   "execution_count": 87,
   "metadata": {},
   "outputs": [
    {
     "name": "stdout",
     "output_type": "stream",
     "text": [
      "Trained parameters: [-4.17862429e-01+0.00000000e+00j  2.41887006e-01+0.00000000e+00j\n",
      "  2.41887424e-01+0.00000000e+00j -4.17862135e-01+0.00000000e+00j\n",
      "  1.21627905e-16+0.00000000e+00j  1.49677930e-16+0.00000000e+00j\n",
      " -9.98886686e-17+0.00000000e+00j -7.07296023e-17+0.00000000e+00j\n",
      " -4.17862429e-01+0.00000000e+00j  2.41887006e-01+0.00000000e+00j\n",
      "  2.41887424e-01+0.00000000e+00j -4.17862135e-01+0.00000000e+00j\n",
      " -1.28638650e-17+2.66240556e-30j  1.01817695e-17+3.32800694e-31j\n",
      " -4.54926588e-18-3.69778549e-31j -3.11582305e-19+4.60374294e-30j\n",
      " -6.00291272e-01+0.00000000e+00j  2.60564317e-01+0.00000000e+00j\n",
      "  2.60565061e-01+0.00000000e+00j -6.00296141e-01+0.00000000e+00j\n",
      " -7.47485462e-01+0.00000000e+00j -4.23410028e-01+0.00000000e+00j\n",
      " -4.23415148e-01+0.00000000e+00j -7.47490210e-01+0.00000000e+00j]\n",
      "Max. gradients: 9.919792962470586e-07\n",
      "Initial relative entropy: 1.0078189614397504\n",
      "Trained relative entropy: 0.045795815093487846\n"
     ]
    }
   ],
   "source": [
    "target_eta = None\n",
    "if compute_qre:\n",
    "    target_eta = target_state\n",
    "\n",
    "qbm_state, max_grads_hist, qre_hist = train_qbm(\n",
    "    qbm=qbm_state,\n",
    "    target_expects=target_expects,\n",
    "    learning_rate=learning_rate,\n",
    "    epochs=epochs,\n",
    "    eps=eps,\n",
    "    compute_qre=compute_qre,\n",
    "    target_eta=target_eta,\n",
    ")\n",
    "\n",
    "print(f\"Trained parameters: {pre_qbm_state.get_coeffs()}\")\n",
    "print(f\"Max. gradients: {max_grads_hist[-1]}\")\n",
    "if compute_qre:\n",
    "    print(f\"Initial relative entropy: {qre_hist[0]}\")\n",
    "    print(f\"Trained relative entropy: {qre_hist[-1]}\")"
   ]
  },
  {
   "cell_type": "code",
   "execution_count": null,
   "metadata": {},
   "outputs": [],
   "source": []
  }
 ],
 "metadata": {
  "kernelspec": {
   "display_name": ".venv",
   "language": "python",
   "name": "python3"
  },
  "language_info": {
   "codemirror_mode": {
    "name": "ipython",
    "version": 3
   },
   "file_extension": ".py",
   "mimetype": "text/x-python",
   "name": "python",
   "nbconvert_exporter": "python",
   "pygments_lexer": "ipython3",
   "version": "3.10.9"
  }
 },
 "nbformat": 4,
 "nbformat_minor": 2
}
