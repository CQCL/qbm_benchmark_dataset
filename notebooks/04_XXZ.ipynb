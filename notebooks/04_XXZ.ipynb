{
 "cells": [
  {
   "cell_type": "markdown",
   "metadata": {},
   "source": [
    "# Numerical results for the XXZ model Gibbs state"
   ]
  },
  {
   "cell_type": "markdown",
   "metadata": {},
   "source": [
    "This notebook reproduces the numerical results of the paper [\"On the Sample Complexity of Quantum Boltzmann Machine Learning\"](http://arxiv.org/abs/2306.14969). \n",
    "\n",
    "The XXZ model Hamiltonian in 1D is\n",
    "\n",
    "$$\n",
    "\\mathcal{H}_{\\mathrm{XXZ}}=\\sum_{i=1}^{n-1} J\\left(\\sigma_i^x \\sigma_{i+1}^x+\\sigma_i^y \\sigma_{i+1}^y\\right)+\\Delta \\sigma_i^z \\sigma_{i+1}^z+\\sum_{i=1}^n h_z \\sigma_i^z\n",
    "$$\n",
    "\n",
    "and the target state is\n",
    "\n",
    "$$\n",
    "\\eta=\\frac{e^{\\mathcal{H}_{\\mathrm{XXZ}}}}{Z}\n",
    "$$\n",
    "\n",
    "We choose the parameters\n",
    "\n",
    "* $J=-0.5$\n",
    "* $\\Delta=-0.7$\n",
    "* $h_z=-0.8$"
   ]
  },
  {
   "cell_type": "code",
   "execution_count": 1,
   "metadata": {},
   "outputs": [],
   "source": [
    "J = -0.5\n",
    "Delta = -0.7\n",
    "hz = -0.8"
   ]
  },
  {
   "cell_type": "markdown",
   "metadata": {},
   "source": [
    "## Define the parameters of the model: QBM\n",
    "\n",
    "Here we select the number of qubits of the Gibbs state, the model Hamiltonian to use in the definition of the QBM, and the training hyperparameters. We do not add noise to the training."
   ]
  },
  {
   "cell_type": "code",
   "execution_count": 27,
   "metadata": {},
   "outputs": [],
   "source": [
    "import numpy as np\n",
    "\n",
    "##########\n",
    "# CONFIG #\n",
    "##########\n",
    "\n",
    "rng = np.random.default_rng(seed=1)\n",
    "\n",
    "n_qubits = 4\n",
    "model_label = 6 # 6: Geometrically local 1D chain\n",
    "depolarizing_noise = 0.0 # if noisy expectation values\n",
    "learning_rate = 0.02\n",
    "epochs = 1000\n",
    "eps = 0.01  # stop if the gradients are smaller than this\n",
    "compute_qre = True\n",
    "\n"
   ]
  },
  {
   "cell_type": "markdown",
   "metadata": {},
   "source": [
    "The model Hamiltonian is defined as a list of operators $H = \\sum_{i=0}^m \\theta_i H_i $"
   ]
  },
  {
   "cell_type": "code",
   "execution_count": 16,
   "metadata": {},
   "outputs": [],
   "source": [
    "from qbm_quimb import hamiltonians\n",
    "# A list of operators in the model Hamiltonian\n",
    "model_ham_ops, model_ham_names = hamiltonians.hamiltonian_operators(n_qubits, model_label, return_names=True)"
   ]
  },
  {
   "cell_type": "code",
   "execution_count": 17,
   "metadata": {},
   "outputs": [
    {
     "data": {
      "text/plain": [
       "['X_0_1',\n",
       " 'X_1_2',\n",
       " 'X_2_3',\n",
       " 'X_0',\n",
       " 'X_1',\n",
       " 'X_2',\n",
       " 'X_3',\n",
       " 'Y_0_1',\n",
       " 'Y_1_2',\n",
       " 'Y_2_3',\n",
       " 'Y_0',\n",
       " 'Y_1',\n",
       " 'Y_2',\n",
       " 'Y_3',\n",
       " 'Z_0_1',\n",
       " 'Z_1_2',\n",
       " 'Z_2_3',\n",
       " 'Z_0',\n",
       " 'Z_1',\n",
       " 'Z_2',\n",
       " 'Z_3']"
      ]
     },
     "execution_count": 17,
     "metadata": {},
     "output_type": "execute_result"
    }
   ],
   "source": [
    "# this is the list of operator names\n",
    "model_ham_names"
   ]
  },
  {
   "cell_type": "code",
   "execution_count": 18,
   "metadata": {},
   "outputs": [
    {
     "name": "stdout",
     "output_type": "stream",
     "text": [
      "The Hamiltonian has 21 different operators.\n"
     ]
    }
   ],
   "source": [
    "m = len(model_ham_names)\n",
    "print(f\"The Hamiltonian has {m} different operators.\")"
   ]
  },
  {
   "cell_type": "markdown",
   "metadata": {},
   "source": [
    "Each operator is of shape $2^n \\times 2^n$"
   ]
  },
  {
   "cell_type": "code",
   "execution_count": 19,
   "metadata": {},
   "outputs": [
    {
     "name": "stdout",
     "output_type": "stream",
     "text": [
      "(16, 16)\n"
     ]
    }
   ],
   "source": [
    "print(model_ham_ops[0].shape)"
   ]
  },
  {
   "cell_type": "markdown",
   "metadata": {},
   "source": [
    "## Define the data\n",
    "\n",
    "Here we work with _quantum_ data in the form of the Gibbs state of a target Hamiltonian at a fixed inverse temperature $\\beta$.\n",
    "The target Hamiltonian is a subset of the model Hamiltonian.\n"
   ]
  },
  {
   "cell_type": "code",
   "execution_count": 20,
   "metadata": {},
   "outputs": [],
   "source": [
    "from qbm_quimb import data\n",
    "\n",
    "########\n",
    "# DATA #\n",
    "########\n",
    "\n",
    "# We use the label 6 to generate the terms in the target hamiltonian\n",
    "# but we fix them using J, Delta, and hz\n",
    "target_label = 6\n",
    "# we have N-qubits-1 links\n",
    "n_links = n_qubits -1 \n",
    "target_params = np.array(n_links * [J] + n_qubits * [0] + n_links * [J] + n_qubits * [0] + n_links * [Delta] + n_qubits * [hz])\n",
    "target_beta = -1.0  # use -1 to match with the definition of the thermal state"
   ]
  },
  {
   "cell_type": "code",
   "execution_count": 21,
   "metadata": {},
   "outputs": [],
   "source": [
    "assert target_params.shape[0] == m"
   ]
  },
  {
   "cell_type": "code",
   "execution_count": 23,
   "metadata": {},
   "outputs": [],
   "source": [
    "# generate expectation values: quantum data\n",
    "target_expects, target_state = data.generate_data(\n",
    "    n_qubits,\n",
    "    target_label,\n",
    "    target_params,\n",
    "    target_beta,\n",
    "    model_ham_ops,\n",
    "    depolarizing_noise,\n",
    ")"
   ]
  },
  {
   "cell_type": "markdown",
   "metadata": {},
   "source": [
    "The expectation values of the model Hamiltonian operators are computed with respect to the target Gibbs state."
   ]
  },
  {
   "cell_type": "code",
   "execution_count": 24,
   "metadata": {},
   "outputs": [
    {
     "data": {
      "text/plain": [
       "[-0.4656640001798008,\n",
       " -0.4473469096987973,\n",
       " -0.46566400017980125,\n",
       " 4.3845086613330065e-17,\n",
       " 6.914681537656912e-17,\n",
       " -7.962046540739132e-17,\n",
       " 5.21593229966328e-18,\n",
       " -0.4656640001798008,\n",
       " -0.4473469096987973,\n",
       " -0.46566400017980125,\n",
       " 2.7733391199176196e-32j,\n",
       " 3.4666738998970245e-33j,\n",
       " -3.851859888774472e-33j,\n",
       " 4.7955655615242173e-32j,\n",
       " -0.4086864138659327,\n",
       " -0.4919460461791575,\n",
       " -0.40868641386593313,\n",
       " -0.37920165144017504,\n",
       " -0.11550306008696522,\n",
       " -0.11550306008696494,\n",
       " -0.37920165144017476]"
      ]
     },
     "execution_count": 24,
     "metadata": {},
     "output_type": "execute_result"
    }
   ],
   "source": [
    "target_expects  # expectation values w.r.t. target density matrix"
   ]
  },
  {
   "cell_type": "code",
   "execution_count": 25,
   "metadata": {},
   "outputs": [
    {
     "data": {
      "text/plain": [
       "Text(0, 0.5, 'Expectation values')"
      ]
     },
     "execution_count": 25,
     "metadata": {},
     "output_type": "execute_result"
    },
    {
     "data": {
      "image/png": "[encoded data removed]",
      "text/plain": [
       "<Figure size 640x480 with 1 Axes>"
      ]
     },
     "metadata": {},
     "output_type": "display_data"
    }
   ],
   "source": [
    "import matplotlib.pyplot as plt\n",
    "\n",
    "plt.plot(np.asarray(target_expects).real,\"o\")\n",
    "plt.xticks(np.arange(len(model_ham_names)), model_ham_names, rotation=45)\n",
    "plt.xlabel(\"Operators\")\n",
    "plt.ylabel(\"Expectation values\")"
   ]
  },
  {
   "cell_type": "markdown",
   "metadata": {},
   "source": [
    "## Start the training by minimizing the relative entropy\n",
    "\n",
    "We initialize the parameters of the model QBM and then train with stochastic gradient descent (SGD)"
   ]
  },
  {
   "cell_type": "code",
   "execution_count": 26,
   "metadata": {},
   "outputs": [
    {
     "name": "stdout",
     "output_type": "stream",
     "text": [
      "Initial parameters: [ 0.34558419  0.82161814  0.33043708 -1.30315723  0.90535587  0.44637457\n",
      " -0.53695324  0.5811181   0.3645724   0.2941325   0.02842224  0.54671299\n",
      " -0.73645409 -0.16290995 -0.48211931  0.59884621  0.03972211 -0.29245675\n",
      " -0.78190846 -0.25719224  0.00814218]\n",
      "Target parameters: [-0.5 -0.5 -0.5  0.   0.   0.   0.  -0.5 -0.5 -0.5  0.   0.   0.   0.\n",
      " -0.7 -0.7 -0.7 -0.8 -0.8 -0.8 -0.8]\n",
      "Target beta: -1.0\n"
     ]
    }
   ],
   "source": [
    "from qbm_quimb.training import QBM, train_qbm\n",
    "\n",
    "\n",
    "#############\n",
    "# QBM Model #\n",
    "#############\n",
    "\n",
    "initial_params = rng.normal(size=len(model_ham_ops))\n",
    "qbm_state = QBM(model_ham_ops, initial_params)\n",
    "print(f\"Initial parameters: {qbm_state.get_coeffs()}\")\n",
    "print(f\"Target parameters: {target_params}\")\n",
    "print(f\"Target beta: {target_beta}\")\n",
    "\n",
    "\n"
   ]
  },
  {
   "cell_type": "code",
   "execution_count": 28,
   "metadata": {},
   "outputs": [
    {
     "name": "stdout",
     "output_type": "stream",
     "text": [
      "Trained parameters: [-4.96651604e-01+0.00000000e+00j -4.88609361e-01+0.00000000e+00j\n",
      " -5.00871811e-01+0.00000000e+00j  9.77051475e-05+0.00000000e+00j\n",
      "  2.54160488e-04+0.00000000e+00j  3.03128290e-04+0.00000000e+00j\n",
      "  1.55296200e-04+0.00000000e+00j -4.98684897e-01+0.00000000e+00j\n",
      " -4.86156167e-01+0.00000000e+00j -5.01993014e-01+0.00000000e+00j\n",
      "  1.84788320e-05-1.04083409e-19j -7.80062820e-05+3.38813179e-21j\n",
      " -2.34414200e-04-6.36327254e-32j -1.62674817e-04+7.92227431e-31j\n",
      " -6.53851893e-01+0.00000000e+00j -6.80202015e-01+0.00000000e+00j\n",
      " -6.13960230e-01+0.00000000e+00j -7.58353702e-01+0.00000000e+00j\n",
      " -7.29910181e-01+0.00000000e+00j -6.93963643e-01+0.00000000e+00j\n",
      " -7.24877618e-01+0.00000000e+00j]\n",
      "Max. gradients: 0.009991096797078422\n",
      "Initial relative entropy: 4.6055938792049025\n",
      "Trained relative entropy: 0.05338874258853643\n"
     ]
    }
   ],
   "source": [
    "################\n",
    "# QBM Taininig #\n",
    "################\n",
    "\n",
    "target_eta = None\n",
    "if compute_qre:\n",
    "    target_eta = target_state\n",
    "\n",
    "qbm_state, max_grads_hist, qre_hist = train_qbm(\n",
    "    qbm=qbm_state,\n",
    "    target_expects=target_expects,\n",
    "    learning_rate=learning_rate,\n",
    "    epochs=epochs,\n",
    "    eps=eps,\n",
    "    compute_qre=compute_qre,\n",
    "    target_eta=target_eta,\n",
    ")\n",
    "\n",
    "print(f\"Trained parameters: {qbm_state.get_coeffs()}\")\n",
    "print(f\"Max. gradients: {max_grads_hist[-1]}\")\n",
    "if compute_qre:\n",
    "    print(f\"Initial relative entropy: {qre_hist[0]}\")\n",
    "    print(f\"Trained relative entropy: {qre_hist[-1]}\")\n"
   ]
  },
  {
   "cell_type": "markdown",
   "metadata": {},
   "source": [
    "The relative entropy after training is close to zero, and this is reproducing the left side of panel (a) in Figure 2 of the paper. In the paper they also stopped the training when the gradients were smaller than `eps=0.01`"
   ]
  },
  {
   "cell_type": "markdown",
   "metadata": {},
   "source": [
    "## Plot training history"
   ]
  },
  {
   "cell_type": "code",
   "execution_count": 29,
   "metadata": {},
   "outputs": [
    {
     "data": {
      "image/png": "[encoded data removed]",
      "text/plain": [
       "<Figure size 640x480 with 1 Axes>"
      ]
     },
     "metadata": {},
     "output_type": "display_data"
    }
   ],
   "source": [
    "if compute_qre:\n",
    "    plt.plot(qre_hist[1:], \"-\")\n",
    "    plt.xlabel(\"Epoch\")\n",
    "    plt.ylabel(\"Relative entropy\")\n",
    "    plt.yscale('log')\n",
    "    plt.show()\n"
   ]
  },
  {
   "cell_type": "code",
   "execution_count": 30,
   "metadata": {},
   "outputs": [
    {
     "data": {
      "image/png": "[encoded data removed]",
      "text/plain": [
       "<Figure size 640x480 with 1 Axes>"
      ]
     },
     "metadata": {},
     "output_type": "display_data"
    }
   ],
   "source": [
    "plt.plot(max_grads_hist[1:], \"-\")\n",
    "plt.xlabel(\"Epoch\")\n",
    "plt.ylabel(\"Max absolute value of gradients\")\n",
    "plt.yscale('log')\n",
    "plt.show()"
   ]
  },
  {
   "cell_type": "markdown",
   "metadata": {},
   "source": [
    "## Compare the parameters"
   ]
  },
  {
   "cell_type": "code",
   "execution_count": 31,
   "metadata": {},
   "outputs": [
    {
     "name": "stdout",
     "output_type": "stream",
     "text": [
      "[-0.5 -0.5 -0.5  0.   0.   0.   0.  -0.5 -0.5 -0.5  0.   0.   0.   0.\n",
      " -0.7 -0.7 -0.7 -0.8 -0.8 -0.8 -0.8]\n"
     ]
    }
   ],
   "source": [
    "# target parameters\n",
    "print(target_params)"
   ]
  },
  {
   "cell_type": "code",
   "execution_count": 32,
   "metadata": {},
   "outputs": [
    {
     "name": "stdout",
     "output_type": "stream",
     "text": [
      "[-4.96651604e-01+0.00000000e+00j -4.88609361e-01+0.00000000e+00j\n",
      " -5.00871811e-01+0.00000000e+00j  9.77051475e-05+0.00000000e+00j\n",
      "  2.54160488e-04+0.00000000e+00j  3.03128290e-04+0.00000000e+00j\n",
      "  1.55296200e-04+0.00000000e+00j -4.98684897e-01+0.00000000e+00j\n",
      " -4.86156167e-01+0.00000000e+00j -5.01993014e-01+0.00000000e+00j\n",
      "  1.84788320e-05-1.04083409e-19j -7.80062820e-05+3.38813179e-21j\n",
      " -2.34414200e-04-6.36327254e-32j -1.62674817e-04+7.92227431e-31j\n",
      " -6.53851893e-01+0.00000000e+00j -6.80202015e-01+0.00000000e+00j\n",
      " -6.13960230e-01+0.00000000e+00j -7.58353702e-01+0.00000000e+00j\n",
      " -7.29910181e-01+0.00000000e+00j -6.93963643e-01+0.00000000e+00j\n",
      " -7.24877618e-01+0.00000000e+00j]\n"
     ]
    }
   ],
   "source": [
    "# model parameters\n",
    "print(qbm_state.get_coeffs())"
   ]
  },
  {
   "cell_type": "code",
   "execution_count": 33,
   "metadata": {},
   "outputs": [
    {
     "data": {
      "text/plain": [
       "Text(0, 0.5, 'Paramters -> |target - model|')"
      ]
     },
     "execution_count": 33,
     "metadata": {},
     "output_type": "execute_result"
    },
    {
     "data": {
      "image/png": "[encoded data removed]",
      "text/plain": [
       "<Figure size 640x480 with 1 Axes>"
      ]
     },
     "metadata": {},
     "output_type": "display_data"
    }
   ],
   "source": [
    "param_diff = np.fabs(target_params.real - qbm_state.get_coeffs().real)\n",
    "plt.plot(param_diff, \"o\")\n",
    "plt.xticks(np.arange(len(model_ham_names)), model_ham_names, rotation=45)\n",
    "plt.xlabel(\"Operators\")\n",
    "plt.ylabel(\"Paramters -> |target - model|\")"
   ]
  },
  {
   "cell_type": "markdown",
   "metadata": {},
   "source": [
    "If we train for longer, to reach smaller gradients, this different will go down because we have no model mismatch."
   ]
  },
  {
   "cell_type": "markdown",
   "metadata": {},
   "source": [
    "## Check fidelity with the Gibbs state"
   ]
  },
  {
   "cell_type": "code",
   "execution_count": 34,
   "metadata": {},
   "outputs": [
    {
     "data": {
      "text/plain": [
       "0.9996766825532923"
      ]
     },
     "execution_count": 34,
     "metadata": {},
     "output_type": "execute_result"
    }
   ],
   "source": [
    "from quimb import fidelity\n",
    "\n",
    "fidelity(target_eta, qbm_state.get_density_matrix())"
   ]
  },
  {
   "cell_type": "markdown",
   "metadata": {},
   "source": [
    "Since the QBM model contains the operators of the Hamiltonian used to create the target quantum Gibbs state as a subset, the training is able to find the parameters correctly. Therefore the fidelity between the target state and the QBM state after training is 1."
   ]
  },
  {
   "cell_type": "markdown",
   "metadata": {},
   "source": [
    "## Pretraining\n",
    "\n",
    "In Fig. 2 of the paper, the authors compare different pre-training strategies. Pretraining can be implemented simply as 2 consecutive rounds of training, where the first one only affects a subset of the parameters.\n",
    "\n",
    "To follow the paper we select different learning rates for the pretraining and the full training phases."
   ]
  },
  {
   "cell_type": "markdown",
   "metadata": {},
   "source": [
    "### Select the full QBM model\n",
    "\n",
    "We will use a fully connected QBM model defined in equation (16) of the paper as:\n",
    "\n",
    "$$\n",
    "\\mathcal{H}_\\theta=\\sum_{k=x, y, z} \\sum_{i, j>i} \\lambda_{i j}^k \\sigma_i^k \\sigma_j^k+\\sum_i^n \\gamma_i^k \\sigma_i^k\n",
    "$$\n"
   ]
  },
  {
   "cell_type": "code",
   "execution_count": 35,
   "metadata": {},
   "outputs": [],
   "source": [
    "model_label = 8  # 8: Fully connected\n",
    "model_ham_ops, model_ham_names = hamiltonians.hamiltonian_operators(\n",
    "    n_qubits, model_label, return_names=True\n",
    ")"
   ]
  },
  {
   "cell_type": "code",
   "execution_count": 36,
   "metadata": {},
   "outputs": [
    {
     "name": "stdout",
     "output_type": "stream",
     "text": [
      "We have 30 terms in the Hamiltonian\n"
     ]
    }
   ],
   "source": [
    "m = len(model_ham_names)\n",
    "print(f\"We have {m} terms in the Hamiltonian\")"
   ]
  },
  {
   "cell_type": "code",
   "execution_count": 43,
   "metadata": {},
   "outputs": [
    {
     "name": "stdout",
     "output_type": "stream",
     "text": [
      "Learning rate for full training: 0.0167\n"
     ]
    }
   ],
   "source": [
    "full_lr = 1/(2*m)\n",
    "print(f\"Learning rate for full training: {full_lr:.4f}\")"
   ]
  },
  {
   "cell_type": "markdown",
   "metadata": {},
   "source": [
    "### Select pretraining strategy\n",
    "\n",
    "We will pretrain by using a geometrically local Hamiltonian, whose operators are a subset of the full model\n",
    "\n",
    "$$\n",
    "\\mathcal{H}_\\theta^{\\mathrm{GL}}=\\sum_{k=x, y, z} \\sum_{\\langle i, j\\rangle} \\lambda_{i j}^k \\sigma_i^k \\sigma_j^k+\\sum_i^n \\gamma_i^k \\sigma_i^k\n",
    "$$"
   ]
  },
  {
   "cell_type": "code",
   "execution_count": 37,
   "metadata": {},
   "outputs": [],
   "source": [
    "pre_model_label = 7  # 7: Geometrically local (2D lattice)\n",
    "pre_model_ham_ops, pre_model_ham_names = hamiltonians.hamiltonian_operators(\n",
    "    n_qubits, pre_model_label, return_names=True\n",
    ")"
   ]
  },
  {
   "cell_type": "code",
   "execution_count": 38,
   "metadata": {},
   "outputs": [
    {
     "name": "stdout",
     "output_type": "stream",
     "text": [
      "We have 24 terms in the pretraining Hamiltonian\n"
     ]
    }
   ],
   "source": [
    "pre_m = len(pre_model_ham_names)\n",
    "print(f\"We have {pre_m} terms in the pretraining Hamiltonian\")"
   ]
  },
  {
   "cell_type": "code",
   "execution_count": 45,
   "metadata": {},
   "outputs": [
    {
     "name": "stdout",
     "output_type": "stream",
     "text": [
      "Learning rate for pretraining: 0.0417\n"
     ]
    }
   ],
   "source": [
    "pre_lr = 1 / pre_m\n",
    "print(f\"Learning rate for pretraining: {pre_lr:.4f}\")"
   ]
  },
  {
   "cell_type": "markdown",
   "metadata": {},
   "source": [
    "### Generate data for pretraining and do pretraining"
   ]
  },
  {
   "cell_type": "code",
   "execution_count": 46,
   "metadata": {},
   "outputs": [],
   "source": [
    "# generate expectation values: quantum data\n",
    "target_expects, target_state = data.generate_data(\n",
    "    n_qubits,\n",
    "    target_label,\n",
    "    target_params,\n",
    "    target_beta,\n",
    "    pre_model_ham_ops,\n",
    "    depolarizing_noise,\n",
    ")"
   ]
  },
  {
   "cell_type": "markdown",
   "metadata": {},
   "source": [
    "The pretraining QBM state we use is"
   ]
  },
  {
   "cell_type": "code",
   "execution_count": 47,
   "metadata": {},
   "outputs": [
    {
     "name": "stdout",
     "output_type": "stream",
     "text": [
      "Initial parameters: [-2.71116248 -1.88901325 -0.17477209 -0.42219041  0.213643    0.21732193\n",
      "  2.11783876 -1.11202076 -0.37760501  2.04277161  0.646703    0.66306337\n",
      " -0.51400637 -1.64807517  0.16746474  0.10901409 -1.22735205 -0.68322666\n",
      " -0.07204368 -0.94475162 -0.09826997  0.09548303  0.03558624 -0.50629166]\n",
      "Target parameters: [-0.5 -0.5 -0.5  0.   0.   0.   0.  -0.5 -0.5 -0.5  0.   0.   0.   0.\n",
      " -0.7 -0.7 -0.7 -0.8 -0.8 -0.8 -0.8]\n",
      "Target beta: -1.0\n"
     ]
    }
   ],
   "source": [
    "initial_params = rng.normal(size=len(pre_model_ham_ops))\n",
    "pre_qbm_state = QBM(pre_model_ham_ops, initial_params)\n",
    "print(f\"Initial parameters: {pre_qbm_state.get_coeffs()}\")\n",
    "print(f\"Target parameters: {target_params}\")\n",
    "print(f\"Target beta: {target_beta}\")"
   ]
  },
  {
   "cell_type": "code",
   "execution_count": 48,
   "metadata": {},
   "outputs": [],
   "source": [
    "# we train for 300 epoch in the pretraining phase\n",
    "pre_epochs = 300"
   ]
  },
  {
   "cell_type": "code",
   "execution_count": 49,
   "metadata": {},
   "outputs": [
    {
     "name": "stdout",
     "output_type": "stream",
     "text": [
      "Trained parameters: [-0.4776497 +0.00000000e+00j  0.22313717+0.00000000e+00j\n",
      "  0.27270407+0.00000000e+00j -0.43653046+0.00000000e+00j\n",
      "  0.01471462+0.00000000e+00j  0.01344096+0.00000000e+00j\n",
      "  0.00253439+0.00000000e+00j  0.00257939+0.00000000e+00j\n",
      " -0.36136627+0.00000000e+00j  0.25083044+0.00000000e+00j\n",
      "  0.28601767+0.00000000e+00j -0.39441916+0.00000000e+00j\n",
      " -0.01367735+3.46667390e-31j -0.01257355+4.33334237e-32j\n",
      "  0.00929802-4.81482486e-32j  0.01013523+5.99445695e-31j\n",
      " -0.6885127 +0.00000000e+00j  0.2356251 +0.00000000e+00j\n",
      "  0.29310941+0.00000000e+00j -0.67913677+0.00000000e+00j\n",
      " -0.83368524+0.00000000e+00j -0.49592689+0.00000000e+00j\n",
      " -0.50671937+0.00000000e+00j -0.82554417+0.00000000e+00j]\n",
      "Max. gradients: 0.02289675596021068\n",
      "Initial relative entropy: 5.740448039322441\n",
      "Trained relative entropy: 0.362225299112354\n"
     ]
    }
   ],
   "source": [
    "target_eta = None\n",
    "if compute_qre:\n",
    "    target_eta = target_state\n",
    "\n",
    "pre_qbm_state, max_grads_hist, qre_hist = train_qbm(\n",
    "    qbm=pre_qbm_state,\n",
    "    target_expects=target_expects,\n",
    "    learning_rate=pre_lr,\n",
    "    epochs=pre_epochs,\n",
    "    compute_qre=compute_qre,\n",
    "    target_eta=target_eta,\n",
    ")\n",
    "\n",
    "print(f\"Trained parameters: {pre_qbm_state.get_coeffs()}\")\n",
    "print(f\"Max. gradients: {max_grads_hist[-1]}\")\n",
    "if compute_qre:\n",
    "    print(f\"Initial relative entropy: {qre_hist[0]}\")\n",
    "    print(f\"Trained relative entropy: {qre_hist[-1]}\")"
   ]
  },
  {
   "cell_type": "code",
   "execution_count": 50,
   "metadata": {},
   "outputs": [],
   "source": [
    "pretraining_qre = qre_hist[-1]"
   ]
  },
  {
   "cell_type": "markdown",
   "metadata": {},
   "source": [
    "### Generate data for full training and do full training"
   ]
  },
  {
   "cell_type": "code",
   "execution_count": 51,
   "metadata": {},
   "outputs": [],
   "source": [
    "# generate expectation values: quantum data\n",
    "target_expects, target_state = data.generate_data(\n",
    "    n_qubits,\n",
    "    target_label,\n",
    "    target_params,\n",
    "    target_beta,\n",
    "    model_ham_ops,\n",
    "    depolarizing_noise,\n",
    ")"
   ]
  },
  {
   "cell_type": "markdown",
   "metadata": {},
   "source": [
    "We need to initialize the parameters based on our pretraining strategy"
   ]
  },
  {
   "cell_type": "code",
   "execution_count": 52,
   "metadata": {},
   "outputs": [],
   "source": [
    "pre_op_map = {k: v for k, v in zip(pre_model_ham_names, pre_qbm_state.get_coeffs(),)}"
   ]
  },
  {
   "cell_type": "code",
   "execution_count": 63,
   "metadata": {},
   "outputs": [],
   "source": [
    "# initialize parameters from pre-training\n",
    "initial_params = []\n",
    "for op in model_ham_names:\n",
    "    try:\n",
    "        if op in pre_model_ham_names:\n",
    "            initial_params.append(pre_op_map[op])\n",
    "        else:\n",
    "            initial_params.append(0.0)\n",
    "    except KeyError:\n",
    "        initial_params.append(0)"
   ]
  },
  {
   "cell_type": "code",
   "execution_count": 64,
   "metadata": {},
   "outputs": [
    {
     "name": "stdout",
     "output_type": "stream",
     "text": [
      "Initial parameters: [(-0.4776496996018946+0j), (0.223137172485757+0j), 0.0, 0.0, (0.27270406552716975+0j), (-0.4365304568744922+0j), (0.01471462205777601+0j), (0.013440960537165984+0j), (0.0025343926279902352+0j), (0.002579389314598104+0j), (-0.36136627030223173+0j), (0.2508304449787182+0j), 0.0, 0.0, (0.2860176740251192+0j), (-0.3944191638016932+0j), (-0.013677354871267443+3.4666738998970245e-31j), (-0.012573549748635893+4.3333423748712807e-32j), (0.009298015524899323-4.814824860968111e-32j), (0.010135231340997636+5.994456951905272e-31j), (-0.6885127049041015+0j), (0.2356250957734925+0j), 0.0, 0.0, (0.29310940954061954+0j), (-0.679136774347925+0j), (-0.833685244505823+0j), (-0.49592688576103633+0j), (-0.506719372295306+0j), (-0.825544174136924+0j)]\n",
      "Target parameters: [-0.5 -0.5 -0.5  0.   0.   0.   0.  -0.5 -0.5 -0.5  0.   0.   0.   0.\n",
      " -0.7 -0.7 -0.7 -0.8 -0.8 -0.8 -0.8]\n",
      "Target beta: -1.0\n"
     ]
    }
   ],
   "source": [
    "qbm_state = QBM(model_ham_ops, initial_params)\n",
    "print(f\"Initial parameters: {qbm_state.get_coeffs()}\")\n",
    "print(f\"Target parameters: {target_params}\")\n",
    "print(f\"Target beta: {target_beta}\")"
   ]
  },
  {
   "cell_type": "code",
   "execution_count": 57,
   "metadata": {},
   "outputs": [],
   "source": [
    "# we do full training for 1000 epochs\n",
    "full_epochs = 1000"
   ]
  },
  {
   "cell_type": "code",
   "execution_count": 65,
   "metadata": {},
   "outputs": [
    {
     "name": "stdout",
     "output_type": "stream",
     "text": [
      "Trained parameters: [-0.4776497 +0.00000000e+00j  0.22313717+0.00000000e+00j\n",
      "  0.27270407+0.00000000e+00j -0.43653046+0.00000000e+00j\n",
      "  0.01471462+0.00000000e+00j  0.01344096+0.00000000e+00j\n",
      "  0.00253439+0.00000000e+00j  0.00257939+0.00000000e+00j\n",
      " -0.36136627+0.00000000e+00j  0.25083044+0.00000000e+00j\n",
      "  0.28601767+0.00000000e+00j -0.39441916+0.00000000e+00j\n",
      " -0.01367735+3.46667390e-31j -0.01257355+4.33334237e-32j\n",
      "  0.00929802-4.81482486e-32j  0.01013523+5.99445695e-31j\n",
      " -0.6885127 +0.00000000e+00j  0.2356251 +0.00000000e+00j\n",
      "  0.29310941+0.00000000e+00j -0.67913677+0.00000000e+00j\n",
      " -0.83368524+0.00000000e+00j -0.49592689+0.00000000e+00j\n",
      " -0.50671937+0.00000000e+00j -0.82554417+0.00000000e+00j]\n",
      "Max. gradients: 0.004891720538154468\n",
      "Initial relative entropy: 0.362225299112354\n",
      "Trained relative entropy: 0.05314524144242849\n"
     ]
    }
   ],
   "source": [
    "target_eta = None\n",
    "if compute_qre:\n",
    "    target_eta = target_state\n",
    "\n",
    "qbm_state, max_grads_hist, qre_hist = train_qbm(\n",
    "    qbm=qbm_state,\n",
    "    target_expects=target_expects,\n",
    "    learning_rate=full_lr,\n",
    "    epochs=full_epochs,\n",
    "    compute_qre=compute_qre,\n",
    "    target_eta=target_eta,\n",
    ")\n",
    "\n",
    "print(f\"Trained parameters: {pre_qbm_state.get_coeffs()}\")\n",
    "print(f\"Max. gradients: {max_grads_hist[-1]}\")\n",
    "if compute_qre:\n",
    "    print(f\"Initial relative entropy: {qre_hist[0]}\")\n",
    "    print(f\"Trained relative entropy: {qre_hist[-1]}\")"
   ]
  },
  {
   "cell_type": "code",
   "execution_count": 66,
   "metadata": {},
   "outputs": [
    {
     "name": "stdout",
     "output_type": "stream",
     "text": [
      "Pretraining relative entropy is 0.362 while the final one after training is 0.053\n"
     ]
    }
   ],
   "source": [
    "full_qre = qre_hist[-1]\n",
    "print(\n",
    "    f\"Pretraining relative entropy is {pretraining_qre:.3f} while the final one after training is {full_qre:.3f}\"\n",
    ")"
   ]
  },
  {
   "cell_type": "markdown",
   "metadata": {},
   "source": [
    "### Compare to training the full model\n",
    "\n",
    "If we do not have pretraining, and instead we start from all parameters equal to zero (this is the blue curve in the paper Fig.2 panel (b)), we will start from the maximally mixed state $\\mathbb{I}/2^n$"
   ]
  },
  {
   "cell_type": "code",
   "execution_count": 67,
   "metadata": {},
   "outputs": [
    {
     "name": "stdout",
     "output_type": "stream",
     "text": [
      "Initial parameters: [0. 0. 0. 0. 0. 0. 0. 0. 0. 0. 0. 0. 0. 0. 0. 0. 0. 0. 0. 0. 0. 0. 0. 0.\n",
      " 0. 0. 0. 0. 0. 0.]\n",
      "Target parameters: [-0.5 -0.5 -0.5  0.   0.   0.   0.  -0.5 -0.5 -0.5  0.   0.   0.   0.\n",
      " -0.7 -0.7 -0.7 -0.8 -0.8 -0.8 -0.8]\n",
      "Target beta: -1.0\n"
     ]
    }
   ],
   "source": [
    "initial_params = np.zeros(m)\n",
    "qbm_state = QBM(model_ham_ops, initial_params)\n",
    "print(f\"Initial parameters: {qbm_state.get_coeffs()}\")\n",
    "print(f\"Target parameters: {target_params}\")\n",
    "print(f\"Target beta: {target_beta}\")"
   ]
  },
  {
   "cell_type": "code",
   "execution_count": 68,
   "metadata": {},
   "outputs": [],
   "source": [
    "# generate expectation values: quantum data\n",
    "target_expects, target_state = data.generate_data(\n",
    "    n_qubits,\n",
    "    target_label,\n",
    "    target_params,\n",
    "    target_beta,\n",
    "    model_ham_ops,\n",
    "    depolarizing_noise,\n",
    ")"
   ]
  },
  {
   "cell_type": "code",
   "execution_count": 69,
   "metadata": {},
   "outputs": [
    {
     "name": "stdout",
     "output_type": "stream",
     "text": [
      "Trained parameters: [-0.4776497 +0.00000000e+00j  0.22313717+0.00000000e+00j\n",
      "  0.27270407+0.00000000e+00j -0.43653046+0.00000000e+00j\n",
      "  0.01471462+0.00000000e+00j  0.01344096+0.00000000e+00j\n",
      "  0.00253439+0.00000000e+00j  0.00257939+0.00000000e+00j\n",
      " -0.36136627+0.00000000e+00j  0.25083044+0.00000000e+00j\n",
      "  0.28601767+0.00000000e+00j -0.39441916+0.00000000e+00j\n",
      " -0.01367735+3.46667390e-31j -0.01257355+4.33334237e-32j\n",
      "  0.00929802-4.81482486e-32j  0.01013523+5.99445695e-31j\n",
      " -0.6885127 +0.00000000e+00j  0.2356251 +0.00000000e+00j\n",
      "  0.29310941+0.00000000e+00j -0.67913677+0.00000000e+00j\n",
      " -0.83368524+0.00000000e+00j -0.49592689+0.00000000e+00j\n",
      " -0.50671937+0.00000000e+00j -0.82554417+0.00000000e+00j]\n",
      "Max. gradients: 0.01186274307275327\n",
      "Initial relative entropy: (1.166089743617617+0j)\n",
      "Trained relative entropy: 0.0639606573135314\n"
     ]
    }
   ],
   "source": [
    "target_eta = None\n",
    "if compute_qre:\n",
    "    target_eta = target_state\n",
    "\n",
    "qbm_state, max_grads_hist, qre_hist = train_qbm(\n",
    "    qbm=qbm_state,\n",
    "    target_expects=target_expects,\n",
    "    learning_rate=full_lr,\n",
    "    epochs=full_epochs,\n",
    "    compute_qre=compute_qre,\n",
    "    target_eta=target_eta,\n",
    ")\n",
    "\n",
    "print(f\"Trained parameters: {pre_qbm_state.get_coeffs()}\")\n",
    "print(f\"Max. gradients: {max_grads_hist[-1]}\")\n",
    "if compute_qre:\n",
    "    print(f\"Initial relative entropy: {qre_hist[0]}\")\n",
    "    print(f\"Trained relative entropy: {qre_hist[-1]}\")"
   ]
  },
  {
   "cell_type": "markdown",
   "metadata": {},
   "source": [
    "In this case the pretraining with the geometrically local model has helped to reach a smaller relative entropy."
   ]
  },
  {
   "cell_type": "code",
   "execution_count": 70,
   "metadata": {},
   "outputs": [
    {
     "name": "stdout",
     "output_type": "stream",
     "text": [
      "With pre-training: 0.053\n",
      "  No pre-training: 0.064\n"
     ]
    }
   ],
   "source": [
    "print(f\"With pre-training: {full_qre:.3f}\")\n",
    "print(f\"  No pre-training: {qre_hist[-1]:.3f}\")"
   ]
  },
  {
   "cell_type": "markdown",
   "metadata": {},
   "source": []
  }
 ],
 "metadata": {
  "kernelspec": {
   "display_name": ".venv",
   "language": "python",
   "name": "python3"
  },
  "language_info": {
   "codemirror_mode": {
    "name": "ipython",
    "version": 3
   },
   "file_extension": ".py",
   "mimetype": "text/x-python",
   "name": "python",
   "nbconvert_exporter": "python",
   "pygments_lexer": "ipython3",
   "version": "3.10.9"
  }
 },
 "nbformat": 4,
 "nbformat_minor": 2
}
