{
 "cells": [
  {
   "attachments": {},
   "cell_type": "markdown",
   "metadata": {},
   "source": [
    "# Quantum data example in Kappen (2018)\n",
    "\n",
    "This notebook reproduces the example in Section 4 of [Kappen (2018)](https://arxiv.org/abs/1803.11278)"
   ]
  },
  {
   "attachments": {},
   "cell_type": "markdown",
   "metadata": {},
   "source": [
    "## Setup"
   ]
  },
  {
   "cell_type": "code",
   "execution_count": 1,
   "metadata": {},
   "outputs": [
    {
     "name": "stderr",
     "output_type": "stream",
     "text": [
      "OMP: Info #276: omp_set_nested routine deprecated, please use omp_set_max_active_levels instead.\n"
     ]
    }
   ],
   "source": [
    "import quimb as qu\n",
    "import matplotlib.pyplot as plt\n",
    "import numpy as np"
   ]
  },
  {
   "cell_type": "code",
   "execution_count": 2,
   "metadata": {},
   "outputs": [],
   "source": [
    "rng = np.random.default_rng(seed=1)"
   ]
  },
  {
   "cell_type": "code",
   "execution_count": 3,
   "metadata": {},
   "outputs": [],
   "source": [
    "# define number of sites == number of qubits (each site is a 2-level system)\n",
    "n = 6 ## change this to 10 to reproduce the paper results"
   ]
  },
  {
   "attachments": {},
   "cell_type": "markdown",
   "metadata": {},
   "source": [
    "## Target state"
   ]
  },
  {
   "attachments": {},
   "cell_type": "markdown",
   "metadata": {},
   "source": [
    "The quantum state we set up to learn using a QBM is a thermal state (for three different temperatures) from the Hamiltonian of the 1D Heisenberg model with nearest-neighbors interactions, isotropic couplings and zero single-site fields. We report here the full Eq. (13) of the paper:\n",
    "\n",
    "$$\n",
    "H=\\sum_{i=1}^n \\sum_{k=x, y, z} w_i^k \\sigma_i^k+\\sum_{i=1, j>i}^n \\sum_{k=x, y, z} w_{i j}^k \\sigma_i^k \\sigma_j^k\n",
    "$$\n",
    "\n",
    "where $ \\sigma_j^k$ are Pauli operators on site $j$ and $n$ is the total number of sites.\n",
    "\n",
    "The target state is generated with the Hamiltonian where\n",
    "$$\n",
    "w_{i j}^{x, y, z}=-1 \\text { for nearest neighbors and } w_{i j}^{x, y, z}=0 \\text { otherwise and }  w_i^k = 0\n",
    "$$"
   ]
  },
  {
   "attachments": {},
   "cell_type": "markdown",
   "metadata": {},
   "source": [
    "### Hamiltonian"
   ]
  },
  {
   "attachments": {},
   "cell_type": "markdown",
   "metadata": {},
   "source": [
    "For this example, we work under the (simplifying) assumption that each _spin direction_ will have a separate parameter, but that the interaction in a fixed _spin direction_ is isotropic along the spin chain of $n$ sites (we also include periodic boundary conditions). This amounts to the Hamiltonian of the `XYZ` Heisenberg model, but when the `x`, `y`, and `z` couplings are the same, then it is the `XXX` Heisenberg model:"
   ]
  },
  {
   "cell_type": "code",
   "execution_count": 7,
   "metadata": {},
   "outputs": [
    {
     "name": "stdout",
     "output_type": "stream",
     "text": [
      "Spin interaction used to create target state: (-1.0, -1.0, -1.0)\n",
      "Field value used to create target state: (0.0, 0.0, 0.0)\n"
     ]
    }
   ],
   "source": [
    "# Fix the parameters of the hamiltonian:\n",
    "# - 3 parameters for the nearest-neighbors terms\n",
    "# - 3 parameters for the single-site fields\n",
    "target_wij_xyz = (-1.0, -1.0, -1.0)\n",
    "target_wi_xyz = (0.0, 0.0, 0.0)\n",
    "print(f\"Spin interaction used to create target state: {target_wij_xyz}\")\n",
    "print(f\"Field value used to create target state: {target_wi_xyz}\")"
   ]
  },
  {
   "cell_type": "code",
   "execution_count": 17,
   "metadata": {},
   "outputs": [],
   "source": [
    "# quimb uses spin_operator instead of pauli operator in the Hamiltonian construction: we need a factor of 2*2 in the couplings\n",
    "j = (4*j for j in target_wij_xyz)\n",
    "b = (4*j for j in target_wi_xyz)\n",
    "target_xxx = qu.ham_heis(n, j, b, cyclic=True, sparse=False)"
   ]
  },
  {
   "cell_type": "code",
   "execution_count": 18,
   "metadata": {},
   "outputs": [
    {
     "data": {
      "image/png": "[encoded data removed]",
      "text/plain": [
       "<Figure size 640x480 with 1 Axes>"
      ]
     },
     "metadata": {},
     "output_type": "display_data"
    }
   ],
   "source": [
    "_ = plt.spy(target_xxx.A)"
   ]
  },
  {
   "cell_type": "code",
   "execution_count": 19,
   "metadata": {},
   "outputs": [
    {
     "data": {
      "image/png": "[encoded data removed]",
      "text/plain": [
       "<Figure size 640x480 with 2 Axes>"
      ]
     },
     "metadata": {},
     "output_type": "display_data"
    }
   ],
   "source": [
    "_ = plt.imshow(target_xxx.A, interpolation='nearest')\n",
    "_ = plt.colorbar()"
   ]
  },
  {
   "attachments": {},
   "cell_type": "markdown",
   "metadata": {},
   "source": [
    "### Density matrix"
   ]
  },
  {
   "attachments": {},
   "cell_type": "markdown",
   "metadata": {},
   "source": [
    "The paper generates a density matrix from the `XXX` Hamiltonian at 3 different temperatures $T=1/\\beta$, with $\\beta = 1, 2, \\infty$"
   ]
  },
  {
   "cell_type": "code",
   "execution_count": 21,
   "metadata": {},
   "outputs": [],
   "source": [
    "target_beta = 1.0\n",
    "target_eta = qu.thermal_state(target_xxx, target_beta, precomp_func=True)"
   ]
  },
  {
   "cell_type": "code",
   "execution_count": 22,
   "metadata": {},
   "outputs": [],
   "source": [
    "target_eta_beta1 = target_eta(1.0)"
   ]
  },
  {
   "cell_type": "code",
   "execution_count": 23,
   "metadata": {},
   "outputs": [],
   "source": [
    "target_eta_beta2 = target_eta(2.0)"
   ]
  },
  {
   "attachments": {},
   "cell_type": "markdown",
   "metadata": {},
   "source": [
    "The $\\beta=\\infty$ thermal state is the ground state"
   ]
  },
  {
   "cell_type": "code",
   "execution_count": 25,
   "metadata": {},
   "outputs": [],
   "source": [
    "gs = qu.groundstate(target_xxx)\n",
    "target_eta_betainfty = qu.dop(gs)"
   ]
  },
  {
   "cell_type": "code",
   "execution_count": null,
   "metadata": {},
   "outputs": [],
   "source": []
  }
 ],
 "metadata": {
  "kernelspec": {
   "display_name": ".venv",
   "language": "python",
   "name": "python3"
  },
  "language_info": {
   "codemirror_mode": {
    "name": "ipython",
    "version": 3
   },
   "file_extension": ".py",
   "mimetype": "text/x-python",
   "name": "python",
   "nbconvert_exporter": "python",
   "pygments_lexer": "ipython3",
   "version": "3.10.9"
  },
  "orig_nbformat": 4
 },
 "nbformat": 4,
 "nbformat_minor": 2
}
