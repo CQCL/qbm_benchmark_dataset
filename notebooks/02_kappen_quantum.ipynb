{
 "cells": [
  {
   "attachments": {},
   "cell_type": "markdown",
   "metadata": {},
   "source": [
    "# Quantum data example in Kappen (2018)\n",
    "\n",
    "This notebook reproduces the example in Section 4 of [Kappen (2018)](https://arxiv.org/abs/1803.11278)"
   ]
  },
  {
   "attachments": {},
   "cell_type": "markdown",
   "metadata": {},
   "source": [
    "## Setup"
   ]
  },
  {
   "cell_type": "code",
   "execution_count": 45,
   "metadata": {},
   "outputs": [],
   "source": [
    "import quimb as qu\n",
    "import matplotlib.pyplot as plt\n",
    "import numpy as np"
   ]
  },
  {
   "cell_type": "code",
   "execution_count": 2,
   "metadata": {},
   "outputs": [],
   "source": [
    "rng = np.random.default_rng(seed=1)"
   ]
  },
  {
   "cell_type": "code",
   "execution_count": 3,
   "metadata": {},
   "outputs": [],
   "source": [
    "# define number of sites == number of qubits (each site is a 2-level system)\n",
    "n = 6 ## change this to 10 to reproduce the paper results"
   ]
  },
  {
   "attachments": {},
   "cell_type": "markdown",
   "metadata": {},
   "source": [
    "## Target state"
   ]
  },
  {
   "attachments": {},
   "cell_type": "markdown",
   "metadata": {},
   "source": [
    "The quantum state we set up to learn using a QBM is a thermal state (for three different temperatures) from the Hamiltonian of the 1D Heisenberg model with nearest-neighbors interactions, isotropic couplings and zero single-site fields. We report here the full Eq. (13) of the paper:\n",
    "\n",
    "$$\n",
    "H=\\sum_{i=1}^n \\sum_{k=x, y, z} w_i^k \\sigma_i^k+\\sum_{i=1, j>i}^n \\sum_{k=x, y, z} w_{i j}^k \\sigma_i^k \\sigma_j^k\n",
    "$$\n",
    "\n",
    "where $ \\sigma_j^k$ are Pauli operators on site $j$ and $n$ is the total number of sites.\n",
    "\n",
    "The target state is generated with the Hamiltonian where\n",
    "$$\n",
    "w_{i j}^{x, y, z}=1 \\text { for nearest neighbors and } w_{i j}^{x, y, z}=0 \\text { otherwise and }  w_i^k = 0\n",
    "$$"
   ]
  },
  {
   "attachments": {},
   "cell_type": "markdown",
   "metadata": {},
   "source": [
    "### Hamiltonian"
   ]
  },
  {
   "attachments": {},
   "cell_type": "markdown",
   "metadata": {},
   "source": [
    "For this example, we work under the (simplifying) assumption that each _spin direction_ will have a separate parameter, but that the interaction in a fixed _spin direction_ is isotropic along the spin chain of $n$ sites (we also include periodic boundary conditions). This amounts to the Hamiltonian of the `XYZ` Heisenberg model, but when the `x`, `y`, and `z` couplings are the same, then it is the `XXX` Heisenberg model:"
   ]
  },
  {
   "cell_type": "code",
   "execution_count": 4,
   "metadata": {},
   "outputs": [
    {
     "name": "stdout",
     "output_type": "stream",
     "text": [
      "Spin interaction used to create target state: (1.0, 1.0, 1.0)\n",
      "Field value used to create target state: (0.0, 0.0, 0.0)\n"
     ]
    }
   ],
   "source": [
    "# Fix the parameters of the hamiltonian:\n",
    "# - 3 parameters for the nearest-neighbors terms\n",
    "# - 3 parameters for the single-site fields\n",
    "target_wij_xyz = (1.0, 1.0, 1.0)\n",
    "target_wi_xyz = (0.0, 0.0, 0.0)\n",
    "print(f\"Spin interaction used to create target state: {target_wij_xyz}\")\n",
    "print(f\"Field value used to create target state: {target_wi_xyz}\")"
   ]
  },
  {
   "cell_type": "code",
   "execution_count": 5,
   "metadata": {},
   "outputs": [],
   "source": [
    "# quimb uses spin_operator instead of pauli operator in the Hamiltonian construction: we need a factor of 2*2 in the couplings and 2 in the fields\n",
    "j = (4*j for j in target_wij_xyz)\n",
    "b = (2*j for j in target_wi_xyz)\n",
    "target_xxx = qu.ham_heis(n, j, b, cyclic=True, sparse=False)  # positive couplings in quimb means anti-ferromagnetic"
   ]
  },
  {
   "cell_type": "code",
   "execution_count": 6,
   "metadata": {},
   "outputs": [
    {
     "data": {
      "image/png": "[encoded data removed]",
      "text/plain": [
       "<Figure size 640x480 with 1 Axes>"
      ]
     },
     "metadata": {},
     "output_type": "display_data"
    }
   ],
   "source": [
    "_ = plt.spy(target_xxx.A)"
   ]
  },
  {
   "cell_type": "code",
   "execution_count": 7,
   "metadata": {},
   "outputs": [
    {
     "data": {
      "image/png": "[encoded data removed]",
      "text/plain": [
       "<Figure size 640x480 with 2 Axes>"
      ]
     },
     "metadata": {},
     "output_type": "display_data"
    }
   ],
   "source": [
    "_ = plt.imshow(target_xxx.A, interpolation='nearest')\n",
    "_ = plt.colorbar()"
   ]
  },
  {
   "attachments": {},
   "cell_type": "markdown",
   "metadata": {},
   "source": [
    "### Density matrix"
   ]
  },
  {
   "attachments": {},
   "cell_type": "markdown",
   "metadata": {},
   "source": [
    "The paper generates a density matrix from the `XXX` Hamiltonian at 3 different temperatures $T=1/\\beta$, with $\\beta = 1, 2, \\infty$"
   ]
  },
  {
   "cell_type": "code",
   "execution_count": 8,
   "metadata": {},
   "outputs": [],
   "source": [
    "target_beta = 1.0\n",
    "target_eta = qu.thermal_state(target_xxx, target_beta, precomp_func=True)"
   ]
  },
  {
   "cell_type": "code",
   "execution_count": 9,
   "metadata": {},
   "outputs": [],
   "source": [
    "target_eta_beta1 = target_eta(1.0)"
   ]
  },
  {
   "cell_type": "code",
   "execution_count": 10,
   "metadata": {},
   "outputs": [],
   "source": [
    "target_eta_beta2 = target_eta(2.0)"
   ]
  },
  {
   "attachments": {},
   "cell_type": "markdown",
   "metadata": {},
   "source": [
    "The $\\beta=\\infty$ thermal state is the ground state"
   ]
  },
  {
   "cell_type": "code",
   "execution_count": 11,
   "metadata": {},
   "outputs": [],
   "source": [
    "# for the anti-ferromagnetic case the groundstate should be unique\n",
    "gs = qu.groundstate(target_xxx)\n",
    "target_eta_betainfty = qu.dop(gs)  # equivalent to (gs @ gs.H)"
   ]
  },
  {
   "attachments": {},
   "cell_type": "markdown",
   "metadata": {},
   "source": [
    "**Note** this target state is a pure state $\\eta (\\beta = \\infty) = \\psi_{\\mathrm{g.s.}}\\psi^{\\dag}_{\\mathrm{g.s.}}$ and a QBM would need to have diverging parameters in order to _exactly_ reproduce it"
   ]
  },
  {
   "attachments": {},
   "cell_type": "markdown",
   "metadata": {},
   "source": [
    "The ground state density matrix has rank 1 as expected:"
   ]
  },
  {
   "cell_type": "code",
   "execution_count": 12,
   "metadata": {},
   "outputs": [
    {
     "data": {
      "text/plain": [
       "1"
      ]
     },
     "execution_count": 12,
     "metadata": {},
     "output_type": "execute_result"
    }
   ],
   "source": [
    "np.linalg.matrix_rank(target_eta_betainfty.A)"
   ]
  },
  {
   "attachments": {},
   "cell_type": "markdown",
   "metadata": {},
   "source": [
    "in contrast to the finite-temperature states"
   ]
  },
  {
   "cell_type": "code",
   "execution_count": 13,
   "metadata": {},
   "outputs": [
    {
     "data": {
      "text/plain": [
       "64"
      ]
     },
     "execution_count": 13,
     "metadata": {},
     "output_type": "execute_result"
    }
   ],
   "source": [
    "np.linalg.matrix_rank(target_eta_beta1.A)"
   ]
  },
  {
   "attachments": {},
   "cell_type": "markdown",
   "metadata": {},
   "source": [
    "Plot of the ground state wavefunction (amplitudes) $\\langle s | \\psi_\\mathrm{g.s.}\\rangle$ where $s$ are the $2^n$ computational states"
   ]
  },
  {
   "cell_type": "code",
   "execution_count": 14,
   "metadata": {},
   "outputs": [
    {
     "data": {
      "image/png": "[encoded data removed]",
      "text/plain": [
       "<Figure size 640x480 with 1 Axes>"
      ]
     },
     "metadata": {},
     "output_type": "display_data"
    }
   ],
   "source": [
    "_ = plt.plot(gs.A.flatten(),'o')\n",
    "_ = plt.xlabel('s')\n",
    "_ = plt.ylabel('<s|gs>')"
   ]
  },
  {
   "attachments": {},
   "cell_type": "markdown",
   "metadata": {},
   "source": [
    "## Quantum Boltzmann Machine model"
   ]
  },
  {
   "attachments": {},
   "cell_type": "markdown",
   "metadata": {},
   "source": [
    "Following the paper we now define the QBM based on the same `XYZ` Heisenberg Hamiltonian used to define the target state. We let the 3 parameters for each _spin direction_ to have arbitrary values.\n"
   ]
  },
  {
   "cell_type": "code",
   "execution_count": 15,
   "metadata": {},
   "outputs": [
    {
     "name": "stdout",
     "output_type": "stream",
     "text": [
      "Spin interaction: (0.345584192064786, 0.8216181435011584, 0.33043707618338714)\n",
      "Field value: (-1.303157231604361, 0.9053558666731177, 0.4463745723640113)\n"
     ]
    }
   ],
   "source": [
    "# parameters to learn. Set initial values at random\n",
    "j = tuple(rng.normal(size=3))\n",
    "b = tuple(rng.normal(size=3))\n",
    "print(f\"Spin interaction: {j}\")\n",
    "print(f\"Field value: {b}\")"
   ]
  },
  {
   "cell_type": "code",
   "execution_count": 16,
   "metadata": {},
   "outputs": [],
   "source": [
    "qbm_xyz = qu.ham_heis(n, j, b, cyclic=True)"
   ]
  },
  {
   "cell_type": "code",
   "execution_count": 17,
   "metadata": {},
   "outputs": [
    {
     "data": {
      "image/png": "[encoded data removed]",
      "text/plain": [
       "<Figure size 640x480 with 2 Axes>"
      ]
     },
     "metadata": {},
     "output_type": "display_data"
    }
   ],
   "source": [
    "# plot only the real part\n",
    "_ = plt.imshow(qbm_xyz.A.real, interpolation='nearest')\n",
    "_ = plt.colorbar()"
   ]
  },
  {
   "attachments": {},
   "cell_type": "markdown",
   "metadata": {},
   "source": [
    "### Gibbs state"
   ]
  },
  {
   "attachments": {},
   "cell_type": "markdown",
   "metadata": {},
   "source": [
    "The corresponding Gibbs state for this initial Hamiltonian is  \n",
    "\n",
    "$$\n",
    "\\rho_{\\theta} = \\frac{e^{\\mathcal{H}_\\theta}}{Z}\n",
    "$$"
   ]
  },
  {
   "cell_type": "code",
   "execution_count": 18,
   "metadata": {},
   "outputs": [],
   "source": [
    "rho_qbm = qu.thermal_state(qbm_xyz, -1.0)"
   ]
  },
  {
   "cell_type": "code",
   "execution_count": 19,
   "metadata": {},
   "outputs": [
    {
     "data": {
      "image/png": "[encoded data removed]",
      "text/plain": [
       "<Figure size 640x480 with 2 Axes>"
      ]
     },
     "metadata": {},
     "output_type": "display_data"
    }
   ],
   "source": [
    "_ = plt.imshow(rho_qbm.A.real, interpolation='nearest')\n",
    "_ = plt.colorbar()"
   ]
  },
  {
   "attachments": {},
   "cell_type": "markdown",
   "metadata": {},
   "source": [
    "## Quantum statistics"
   ]
  },
  {
   "attachments": {},
   "cell_type": "markdown",
   "metadata": {},
   "source": [
    "To perform training of the QBM parameters we need to be able to compute the expectation values of various terms in the QBM Hamiltonian. \n",
    "\n",
    "These are called **quantum statistics** and they are \n",
    "\n",
    "$$\n",
    "\\left\\langle\\sigma_i^k\\right\\rangle_{\\eta_\\beta}=0 \\text { and }\\left\\langle\\sigma_i^k \\sigma_j^k\\right\\rangle_{\\eta_\\beta}\n",
    "$$\n",
    "\n",
    "for the target $\\eta_\\beta$ state"
   ]
  },
  {
   "attachments": {},
   "cell_type": "markdown",
   "metadata": {},
   "source": [
    "We have simplified our model to only require 6 quantum statistics, one for each parameter:\n",
    "\n",
    "$$\n",
    "\\left\\langle \\sum_i^n \\sigma_i^k\\right\\rangle \\text {for each } k \\in \\{ x,y,z\\}\n",
    "$$\n",
    "\n",
    "$$\n",
    "\\left\\langle \\sum_{\\langle i, j\\rangle} \\sigma_i^k\\sigma_j^k\\right\\rangle \\text {for each } k \\in \\{ x,y,z\\}\n",
    "$$"
   ]
  },
  {
   "cell_type": "code",
   "execution_count": 20,
   "metadata": {},
   "outputs": [],
   "source": [
    "# function to create the two-site operators for a fixed spin direction\n",
    "def h_two_sites(n, direction):\n",
    "    assert direction in \"xyz\", \"Wrong direction. Must be one of x,y, or z\"\n",
    "    dims = (2,) * n\n",
    "    two_site_term = qu.kron(qu.pauli(direction), qu.pauli(direction))\n",
    "\n",
    "    def gen_term(i):\n",
    "        if i == (n - 1):\n",
    "            return qu.ikron(qu.pauli(direction), dims, [0, n - 1])\n",
    "        return qu.ikron(two_site_term, dims, [i, i + 1])\n",
    "\n",
    "    return sum(map(gen_term, range(0, n)))\n"
   ]
  },
  {
   "attachments": {},
   "cell_type": "markdown",
   "metadata": {},
   "source": [
    "Test that the function above reproduces the correct terms in the Heisenberg Hamiltonian:"
   ]
  },
  {
   "cell_type": "code",
   "execution_count": 21,
   "metadata": {},
   "outputs": [],
   "source": [
    "# generate only the terms with the Pauli Z operators\n",
    "h0 = h_two_sites(n,'z')"
   ]
  },
  {
   "cell_type": "code",
   "execution_count": 22,
   "metadata": {},
   "outputs": [],
   "source": [
    "# compare with quimb by generating the Heis hamiltonian with only couplings between Pauli Z terms (rescaling the coupling due to Spin Z being 1/2 Pauli Z)\n",
    "test_h0 = qu.ham_heis(n,j=(0,0,4), b=0.0, cyclic=True, sparse=False)"
   ]
  },
  {
   "cell_type": "code",
   "execution_count": 23,
   "metadata": {},
   "outputs": [
    {
     "data": {
      "text/plain": [
       "True"
      ]
     },
     "execution_count": 23,
     "metadata": {},
     "output_type": "execute_result"
    }
   ],
   "source": [
    "np.allclose(h0.A.real, test_h0.A.real)"
   ]
  },
  {
   "cell_type": "code",
   "execution_count": 24,
   "metadata": {},
   "outputs": [],
   "source": [
    "# function to create the single-site operators for a fixed spin direction\n",
    "def h_single_site(n, direction):\n",
    "    assert direction in \"xyz\", \"Wrong direction. Must be one of x,y, or z\"\n",
    "    dims = (2,) * n\n",
    "    single_site_term = qu.pauli(direction)\n",
    "    def gen_term(i):\n",
    "        return qu.ikron(single_site_term, dims, [i])\n",
    "    return sum(map(gen_term, range(0,n)))"
   ]
  },
  {
   "cell_type": "code",
   "execution_count": 25,
   "metadata": {},
   "outputs": [
    {
     "data": {
      "text/plain": [
       "True"
      ]
     },
     "execution_count": 25,
     "metadata": {},
     "output_type": "execute_result"
    }
   ],
   "source": [
    "# test\n",
    "h1 = h_single_site(n,'x')\n",
    "test_h1 = qu.ham_heis(n, j=0.0, b=(-2,0,0), cyclic=True, sparse=False)\n",
    "np.allclose(h1.A.real, test_h1.A.real)"
   ]
  },
  {
   "attachments": {},
   "cell_type": "markdown",
   "metadata": {},
   "source": [
    "Another approach is to cleverly manipulate the `quimb` function `ham_heis` for the 1D Heisenberg model Hamiltonian"
   ]
  },
  {
   "cell_type": "code",
   "execution_count": 26,
   "metadata": {},
   "outputs": [],
   "source": [
    "PauliX = qu.ham_heis(n, j=0, b=(-2,0,0), cyclic=True, sparse=False)  # sum Pauli_X over all sites\n",
    "PauliY = qu.ham_heis(n, j=0, b=(0,-2,0), cyclic=True, sparse=False)  # sum Pauli_Y over all sites\n",
    "PauliZ = qu.ham_heis(n, j=0, b=(0,0,-2), cyclic=True, sparse=False)  # sum Pauli_Z over all sites"
   ]
  },
  {
   "cell_type": "code",
   "execution_count": 27,
   "metadata": {},
   "outputs": [
    {
     "data": {
      "text/plain": [
       "True"
      ]
     },
     "execution_count": 27,
     "metadata": {},
     "output_type": "execute_result"
    }
   ],
   "source": [
    "np.allclose(h1,PauliX)"
   ]
  },
  {
   "cell_type": "code",
   "execution_count": 28,
   "metadata": {},
   "outputs": [],
   "source": [
    "PauliXX = qu.ham_heis(n, j=(4,0,0), b=0, cyclic=True, sparse=False)  # sum Pauli_X x Pauli_X over all sites\n",
    "PauliYY = qu.ham_heis(n, j=(0,4,0), b=0, cyclic=True, sparse=False)  # sum Pauli_Y x Pauli_Y over all sites\n",
    "PauliZZ = qu.ham_heis(n, j=(0,0,4), b=0, cyclic=True, sparse=False)  # sum Pauli_Z x Pauli_Z over all sites"
   ]
  },
  {
   "cell_type": "code",
   "execution_count": 29,
   "metadata": {},
   "outputs": [
    {
     "data": {
      "text/plain": [
       "True"
      ]
     },
     "execution_count": 29,
     "metadata": {},
     "output_type": "execute_result"
    }
   ],
   "source": [
    "np.allclose(h0,PauliZZ)"
   ]
  },
  {
   "attachments": {},
   "cell_type": "markdown",
   "metadata": {},
   "source": [
    "### Generate all terms "
   ]
  },
  {
   "cell_type": "code",
   "execution_count": 30,
   "metadata": {},
   "outputs": [],
   "source": [
    "s = [h_single_site(n,d) for d in 'xyz']\n",
    "ss = [h_two_sites(n,d) for d in 'xyz']"
   ]
  },
  {
   "attachments": {},
   "cell_type": "markdown",
   "metadata": {},
   "source": [
    "We can have a look at the quantum statistics. The single-site operators should all have zero expectation values on the target density matrices because we do not include any external field in the original Hamiltonian"
   ]
  },
  {
   "cell_type": "code",
   "execution_count": 31,
   "metadata": {},
   "outputs": [
    {
     "data": {
      "text/plain": [
       "[1.3148989299621922e-17, 4.419070841017892e-20j, 4.418282671556041e-18]"
      ]
     },
     "execution_count": 31,
     "metadata": {},
     "output_type": "execute_result"
    }
   ],
   "source": [
    "# single site\n",
    "[qu.expec(target_eta_beta1, i) for i in s]"
   ]
  },
  {
   "attachments": {},
   "cell_type": "markdown",
   "metadata": {},
   "source": [
    "The two-sites operators should have all the same expectation value because the three spin directions have the same interaction couplings"
   ]
  },
  {
   "cell_type": "code",
   "execution_count": 32,
   "metadata": {},
   "outputs": [
    {
     "data": {
      "text/plain": [
       "[-3.550204733221917, -3.550204733221917, -3.5502047332219155]"
      ]
     },
     "execution_count": 32,
     "metadata": {},
     "output_type": "execute_result"
    }
   ],
   "source": [
    "# two sites\n",
    "[qu.expec(target_eta_beta1, i) for i in ss]"
   ]
  },
  {
   "cell_type": "code",
   "execution_count": 33,
   "metadata": {},
   "outputs": [
    {
     "data": {
      "text/plain": [
       "[-3.7370341836426575, -3.7370341836426575, -3.7370341836426584]"
      ]
     },
     "execution_count": 33,
     "metadata": {},
     "output_type": "execute_result"
    }
   ],
   "source": [
    "# two sites on the ground state\n",
    "[qu.expec(target_eta_betainfty, i) for i in ss]"
   ]
  },
  {
   "cell_type": "code",
   "execution_count": 34,
   "metadata": {},
   "outputs": [
    {
     "data": {
      "text/plain": [
       "[5.986514837207248e-32, -8.884671076180095e-32j, 4.823453851982887e-32]"
      ]
     },
     "execution_count": 34,
     "metadata": {},
     "output_type": "execute_result"
    }
   ],
   "source": [
    "# single site on the ground state\n",
    "[qu.expec(target_eta_betainfty, i) for i in s]"
   ]
  },
  {
   "attachments": {},
   "cell_type": "markdown",
   "metadata": {},
   "source": [
    "## Training of the QBM"
   ]
  },
  {
   "attachments": {},
   "cell_type": "markdown",
   "metadata": {},
   "source": [
    "We use the `compute_grads` function from the [01_trainng.ipynb notebook](./01_training.ipynb):"
   ]
  },
  {
   "cell_type": "code",
   "execution_count": 35,
   "metadata": {},
   "outputs": [],
   "source": [
    "def compute_grads(hi, eta, rho):\n",
    "    \"\"\"Compute gradients given a list of hamiltonian terms (operators)\n",
    "\n",
    "    Args:\n",
    "        hi (List, Tuple): A list of hamiltonian terms\n",
    "        eta (Any): The target density matrix\n",
    "        rho (Any): The QBM density matrix\n",
    "\n",
    "    Returns:\n",
    "        np.ndarray: The array of the gradients\n",
    "    \"\"\"\n",
    "    grads = []\n",
    "    for h in hi:\n",
    "        rho_expect = qu.expec(rho,h)\n",
    "        eta_expect = qu.expec(eta,h)\n",
    "        grads.append(rho_expect-eta_expect)\n",
    "    return np.array(grads)"
   ]
  },
  {
   "cell_type": "code",
   "execution_count": 36,
   "metadata": {},
   "outputs": [
    {
     "name": "stdout",
     "output_type": "stream",
     "text": [
      "Gradients: [ 3.33072986+0.00000000e+00j -2.84784546-4.41907084e-20j\n",
      " -1.13344334+0.00000000e+00j  5.54505061+0.00000000e+00j\n",
      "  5.38270733+0.00000000e+00j  3.86805537+0.00000000e+00j]\n"
     ]
    }
   ],
   "source": [
    "print(f\"Gradients: {compute_grads(s+ss, target_eta_beta1, rho_qbm)}\")"
   ]
  },
  {
   "cell_type": "code",
   "execution_count": 37,
   "metadata": {},
   "outputs": [],
   "source": [
    "# gradient descent!\n",
    "def update_params(params, grads, gamma):\n",
    "    return params - gamma * grads"
   ]
  },
  {
   "attachments": {},
   "cell_type": "markdown",
   "metadata": {},
   "source": [
    "We also need a way to reconstruct the QBM given the new parameters"
   ]
  },
  {
   "cell_type": "code",
   "execution_count": 38,
   "metadata": {},
   "outputs": [],
   "source": [
    "def build_qbm_hamiltonian(params, operators):\n",
    "    return sum([p*o for p,o in zip(params,operators)])"
   ]
  },
  {
   "attachments": {},
   "cell_type": "markdown",
   "metadata": {},
   "source": [
    "Test by comparing the constructed Hamiltonian from the parameters with the Hamiltonian build using `quimb.ham_heis` (remember to rescale the parameters due to the normalization difference between `spin_operator()` and `pauli()`)"
   ]
  },
  {
   "cell_type": "code",
   "execution_count": 39,
   "metadata": {},
   "outputs": [],
   "source": [
    "jnew = [i/4 for i in j]\n",
    "bnew = [-i/2 for i in b]\n",
    "p = jnew+bnew\n",
    "o = ss+s\n",
    "qbm_h = build_qbm_hamiltonian(p,o)"
   ]
  },
  {
   "cell_type": "code",
   "execution_count": 40,
   "metadata": {},
   "outputs": [
    {
     "data": {
      "text/plain": [
       "True"
      ]
     },
     "execution_count": 40,
     "metadata": {},
     "output_type": "execute_result"
    }
   ],
   "source": [
    "np.allclose(qbm_h,qbm_xyz)"
   ]
  },
  {
   "attachments": {},
   "cell_type": "markdown",
   "metadata": {},
   "source": [
    "The paper does not specify the learning rate, but figure 1 shows training curves of up to 2000 iterations"
   ]
  },
  {
   "cell_type": "code",
   "execution_count": 41,
   "metadata": {},
   "outputs": [],
   "source": [
    "# learning rate\n",
    "gamma = 0.2\n",
    "# number of epochs\n",
    "epochs = 2000"
   ]
  },
  {
   "cell_type": "code",
   "execution_count": 42,
   "metadata": {},
   "outputs": [],
   "source": [
    "# function to compute the quantum relative entropy between the target density and the QBM\n",
    "# since we will deal with a pure state later, which has zero eigenvalues and its log goes ton NAN, we implement a fix\n",
    "# the entropy h for a pure state is zero\n",
    "# we pass the eigenvalues because they do not change and\n",
    "# we do not need to compute them at every step of training\n",
    "def qre(eta, evals, h_qbm):\n",
    "    \"\"\"Quantum relative entropy\n",
    "\n",
    "    Args:\n",
    "        eta (Any): Target density matrix\n",
    "        evals (Any): Eigenvalues of target density matrix\n",
    "        h_qbm (Any): Hamiltonian of the QBM\n",
    "    \"\"\"\n",
    "    # check if rank<nqubits\n",
    "    if np.linalg.matrix_rank(eta.A) == 1:\n",
    "        h = 0\n",
    "    else:\n",
    "        h = np.sum(evals * np.log(evals))\n",
    "    # use log base e all the way\n",
    "    evals = qu.eigvalsh(h_qbm)\n",
    "    z = np.sum(np.exp(evals))\n",
    "    eta_stat = qu.expec(eta, h_qbm)\n",
    "    return h - eta_stat + qu.log(z)"
   ]
  },
  {
   "attachments": {},
   "cell_type": "markdown",
   "metadata": {},
   "source": [
    "### Train for $\\beta=1$"
   ]
  },
  {
   "cell_type": "code",
   "execution_count": 43,
   "metadata": {},
   "outputs": [],
   "source": [
    "target_eta = target_eta_beta1\n",
    "target_probs = qu.eigvalsh(target_eta).clip(1e-300)  # clip close to zero for numerical reasons"
   ]
  },
  {
   "cell_type": "code",
   "execution_count": 47,
   "metadata": {},
   "outputs": [
    {
     "name": "stdout",
     "output_type": "stream",
     "text": [
      "Quantum relative entropy: 17.861734254529367\n",
      "Max abs gradient: 7.009715497018368\n",
      "Quantum relative entropy: 0.00903985152787179\n",
      "Max abs gradient: 0.08131497090378792\n",
      "Quantum relative entropy: 0.0008405681236247631\n",
      "Max abs gradient: 0.025315494545979658\n",
      "Quantum relative entropy: 0.00010278290824494718\n",
      "Max abs gradient: 0.009061222374977355\n",
      "Quantum relative entropy: 1.3581865182743513e-05\n",
      "Max abs gradient: 0.0033485820730783664\n",
      "Quantum relative entropy: 1.8458066293192132e-06\n",
      "Max abs gradient: 0.0012482253376234792\n",
      "Quantum relative entropy: 2.539541590351746e-07\n",
      "Max abs gradient: 0.00046646115298319105\n",
      "Quantum relative entropy: 3.516350588483874e-08\n",
      "Max abs gradient: 0.00017444726099737878\n",
      "Quantum relative entropy: 4.887073856707502e-09\n",
      "Max abs gradient: 6.52546908868173e-05\n",
      "Quantum relative entropy: 6.808296149074522e-10\n",
      "Max abs gradient: 2.4411220493923217e-05\n",
      "Quantum relative entropy: 9.50084455553224e-11\n",
      "Max abs gradient: 9.132222438193937e-06\n",
      "Quantum relative entropy: 1.3269385590319871e-11\n",
      "Max abs gradient: 3.4163809891048453e-06\n",
      "Quantum relative entropy: 1.865174681370263e-12\n",
      "Max abs gradient: 1.2780768786780724e-06\n",
      "Quantum relative entropy: 2.717825964282383e-13\n",
      "Max abs gradient: 4.781321263582886e-07\n",
      "Quantum relative entropy: 6.927791673660977e-14\n",
      "Max abs gradient: 1.7887059652622235e-07\n",
      "Quantum relative entropy: 2.3092638912203256e-14\n",
      "Max abs gradient: 6.69160055164873e-08\n",
      "Quantum relative entropy: 8.881784197001252e-15\n",
      "Max abs gradient: 2.5033470649949223e-08\n",
      "Quantum relative entropy: 1.9539925233402755e-14\n",
      "Max abs gradient: 9.365093974669782e-09\n",
      "Quantum relative entropy: 1.4210854715202004e-14\n",
      "Max abs gradient: 3.5035086122708323e-09\n",
      "Quantum relative entropy: 1.7763568394002505e-15\n",
      "Max abs gradient: 1.3106729058704306e-09\n",
      "Quantum relative entropy: 7.105427357601002e-15\n",
      "Max abs gradient: 4.903264365330283e-10\n",
      "Quantum relative entropy: 2.3092638912203256e-14\n",
      "Max abs gradient: 1.8343245540451162e-10\n",
      "Max gradient smaller than precision\n",
      "Final parameters: [-1.00000000e+00+0.00000000e+00j -1.00000000e+00+0.00000000e+00j\n",
      " -1.00000000e+00+0.00000000e+00j -1.78411167e-10-3.29474246e-19j\n",
      "  6.09450889e-12+4.17729165e-19j  4.32229106e-11-1.07706253e-20j]\n"
     ]
    }
   ],
   "source": [
    "# stop when gradient is smaller than epsilon, at the final number of epochs\n",
    "eps = 1e-10\n",
    "# keep track of loss and gradients\n",
    "qre_hist = []\n",
    "grad_hist = []\n",
    "# init params\n",
    "p = j+b\n",
    "# operators\n",
    "o = ss+s\n",
    "for i in range(epochs):\n",
    "    # create qbm hamiltonians\n",
    "    qbm_h = build_qbm_hamiltonian(p,o)\n",
    "    # qbm_h = qbm_h.real\n",
    "    qre_hist.append(qre(target_eta, target_probs, qbm_h))\n",
    "    # create qbm state\n",
    "    rho = qu.thermal_state(qbm_h, -1.0)\n",
    "    # grad and update\n",
    "    grads = compute_grads(o, target_eta, rho)\n",
    "    grad_hist.append(np.abs(grads))\n",
    "    p = update_params(p, grads, gamma)\n",
    "    # print diagnostic\n",
    "    if (i % 10)==0:\n",
    "        print(f\"Quantum relative entropy: {qre_hist[-1]}\")\n",
    "        print(f\"Max abs gradient: {np.max(grad_hist[-1])}\")\n",
    "    if np.max(grad_hist[-1]) < eps:\n",
    "        print(\"Max gradient smaller than precision\")\n",
    "        break\n",
    "print(f\"Final parameters: {p}\")"
   ]
  },
  {
   "cell_type": "code",
   "execution_count": 48,
   "metadata": {},
   "outputs": [],
   "source": [
    "beta1_qre = qre_hist\n",
    "beta1_grads = grad_hist\n",
    "beta1_params = p"
   ]
  },
  {
   "cell_type": "code",
   "execution_count": 49,
   "metadata": {},
   "outputs": [
    {
     "data": {
      "text/plain": [
       "Text(0.5, 0.98, '$\\\\beta=1$')"
      ]
     },
     "execution_count": 49,
     "metadata": {},
     "output_type": "execute_result"
    },
    {
     "data": {
      "image/png": "[encoded data removed]",
      "text/plain": [
       "<Figure size 1000x600 with 2 Axes>"
      ]
     },
     "metadata": {},
     "output_type": "display_data"
    }
   ],
   "source": [
    "fig, ax = plt.subplots(ncols=2,figsize=(10,6))\n",
    "ax[0].plot(qre_hist)\n",
    "ax[0].set_xlabel(\"epoch number\")\n",
    "ax[0].set_ylabel(\"quantum relative entropy\")\n",
    "ax[0].set_yscale('log')\n",
    "ax[1].plot(np.max(grad_hist,axis=1))\n",
    "ax[1].set_xlabel(\"epoch number\")\n",
    "ax[1].set_ylabel(\"Max. of gradients\")\n",
    "ax[1].set_yscale('log')\n",
    "fig.suptitle(r\"$\\beta=1$\")\n"
   ]
  },
  {
   "attachments": {},
   "cell_type": "markdown",
   "metadata": {},
   "source": [
    "Here are the learned Hamiltonian parameters:"
   ]
  },
  {
   "cell_type": "code",
   "execution_count": 50,
   "metadata": {},
   "outputs": [
    {
     "name": "stdout",
     "output_type": "stream",
     "text": [
      "Learned interaction terms: [-1.+0.j -1.+0.j -1.+0.j]\n",
      "Learned fields terms: [-1.78411167e-10-3.29474246e-19j  6.09450889e-12+4.17729165e-19j\n",
      "  4.32229106e-11-1.07706253e-20j]\n"
     ]
    }
   ],
   "source": [
    "print(f\"Learned interaction terms: {beta1_params[:3]}\")\n",
    "print(f\"Learned fields terms: {beta1_params[3:]}\")"
   ]
  },
  {
   "attachments": {},
   "cell_type": "markdown",
   "metadata": {},
   "source": [
    "They match with the target Hamiltonian up to the rescaling given by $\\beta=-1$ in the QBM Gibbs state definition."
   ]
  },
  {
   "attachments": {},
   "cell_type": "markdown",
   "metadata": {},
   "source": [
    "### Train for $\\beta=2$"
   ]
  },
  {
   "cell_type": "code",
   "execution_count": 51,
   "metadata": {},
   "outputs": [],
   "source": [
    "target_eta = target_eta_beta2\n",
    "target_probs = qu.eigvalsh(target_eta).clip(1e-300)  # clip near zero for numerical reasons"
   ]
  },
  {
   "cell_type": "code",
   "execution_count": 52,
   "metadata": {},
   "outputs": [
    {
     "name": "stdout",
     "output_type": "stream",
     "text": [
      "Quantum relative entropy: 18.801316629703013\n",
      "Max abs gradient: 7.185123033095691\n",
      "Quantum relative entropy: 0.09575098072185462\n",
      "Max abs gradient: 0.1217741784275348\n",
      "Quantum relative entropy: 0.04606879178380119\n",
      "Max abs gradient: 0.06429357142724212\n",
      "Quantum relative entropy: 0.028226411437177745\n",
      "Max abs gradient: 0.04396076437186469\n",
      "Quantum relative entropy: 0.019173031611533276\n",
      "Max abs gradient: 0.03308526197017558\n",
      "Quantum relative entropy: 0.013811296924316707\n",
      "Max abs gradient: 0.02625211785283721\n",
      "Quantum relative entropy: 0.010338261469367893\n",
      "Max abs gradient: 0.021545359142386644\n",
      "Quantum relative entropy: 0.007951986064220762\n",
      "Max abs gradient: 0.0181032554366376\n",
      "Quantum relative entropy: 0.006242252320216579\n",
      "Max abs gradient: 0.01547730713609985\n",
      "Quantum relative entropy: 0.004978241374065107\n",
      "Max abs gradient: 0.013409866254885383\n",
      "Quantum relative entropy: 0.004020729174897042\n",
      "Max abs gradient: 0.011741927789458817\n",
      "Quantum relative entropy: 0.0032811596965416356\n",
      "Max abs gradient: 0.010369853743240842\n",
      "Quantum relative entropy: 0.002700792086837822\n",
      "Max abs gradient: 0.009223114656057074\n",
      "Quantum relative entropy: 0.00223931505469821\n",
      "Max abs gradient: 0.008252001319175584\n",
      "Quantum relative entropy: 0.0018682760911659102\n",
      "Max abs gradient: 0.00742044595684499\n",
      "Quantum relative entropy: 0.001567112881563304\n",
      "Max abs gradient: 0.006701629424584077\n",
      "Quantum relative entropy: 0.0013206633819144997\n",
      "Max abs gradient: 0.006075187049646935\n",
      "Quantum relative entropy: 0.001117552268887323\n",
      "Max abs gradient: 0.00552537189476876\n",
      "Quantum relative entropy: 0.0009491157978409603\n",
      "Max abs gradient: 0.0050398127101116685\n",
      "Quantum relative entropy: 0.0008086678541694425\n",
      "Max abs gradient: 0.004608653073377322\n",
      "Quantum relative entropy: 0.0006909881581016464\n",
      "Max abs gradient: 0.004223941667028885\n",
      "Quantum relative entropy: 0.0005919586035290081\n",
      "Max abs gradient: 0.0038791920611043196\n",
      "Quantum relative entropy: 0.0005083004881356601\n",
      "Max abs gradient: 0.0035690593862063302\n",
      "Quantum relative entropy: 0.0004373817693590354\n",
      "Max abs gradient: 0.0032890991759213506\n",
      "Quantum relative entropy: 0.0003770737587878159\n",
      "Max abs gradient: 0.0030355849773462396\n",
      "Quantum relative entropy: 0.0003256432591243197\n",
      "Max abs gradient: 0.0028053686550970625\n",
      "Quantum relative entropy: 0.00028167046830773756\n",
      "Max abs gradient: 0.002595772154877274\n",
      "Quantum relative entropy: 0.00024398585728491184\n",
      "Max abs gradient: 0.0024045027515189332\n",
      "Quantum relative entropy: 0.00021162118082074244\n",
      "Max abs gradient: 0.002229586038088538\n",
      "Quantum relative entropy: 0.0001837711318941615\n",
      "Max abs gradient: 0.0020693124650574823\n",
      "Quantum relative entropy: 0.00015976308851861631\n",
      "Max abs gradient: 0.001922194333594529\n",
      "Quantum relative entropy: 0.00013903307250018315\n",
      "Max abs gradient: 0.0017869309310030168\n",
      "Quantum relative entropy: 0.00012110651426766594\n",
      "Max abs gradient: 0.0016623800623647433\n",
      "Quantum relative entropy: 0.00010558276791172716\n",
      "Max abs gradient: 0.001547534648629778\n",
      "Quantum relative entropy: 9.212257242552369e-05\n",
      "Max abs gradient: 0.001441503367753949\n",
      "Quantum relative entropy: 8.043784399447418e-05\n",
      "Max abs gradient: 0.0013434945456762826\n",
      "Quantum relative entropy: 7.028332421654682e-05\n",
      "Max abs gradient: 0.001252802676776188\n",
      "Quantum relative entropy: 6.144971465715798e-05\n",
      "Max abs gradient: 0.001168797085319806\n",
      "Quantum relative entropy: 5.3758008959903236e-05\n",
      "Max abs gradient: 0.0010909123404960752\n",
      "Quantum relative entropy: 4.705479462074891e-05\n",
      "Max abs gradient: 0.0010186401157947778\n",
      "Quantum relative entropy: 4.1208342608456405e-05\n",
      "Max abs gradient: 0.0009515222442200155\n",
      "Quantum relative entropy: 3.6105342779535476e-05\n",
      "Max abs gradient: 0.0008891447686645293\n",
      "Quantum relative entropy: 3.164816789436031e-05\n",
      "Max abs gradient: 0.0008311328243038041\n",
      "Quantum relative entropy: 2.775257441456347e-05\n",
      "Max abs gradient: 0.0007771462197916357\n",
      "Quantum relative entropy: 2.4345763890210037e-05\n",
      "Max abs gradient: 0.0007268756078269156\n",
      "Quantum relative entropy: 2.136474487812734e-05\n",
      "Max abs gradient: 0.0006800391550259022\n",
      "Quantum relative entropy: 1.8754944001386775e-05\n",
      "Max abs gradient: 0.0006363796361226193\n",
      "Quantum relative entropy: 1.6469027091403632e-05\n",
      "Max abs gradient: 0.0005956618905234023\n",
      "Quantum relative entropy: 1.4465893862336543e-05\n",
      "Max abs gradient: 0.0005576705890848466\n",
      "Quantum relative entropy: 1.2709821827883161e-05\n",
      "Max abs gradient: 0.0005222082674802841\n",
      "Quantum relative entropy: 1.1169733181048969e-05\n",
      "Max abs gradient: 0.0004890935896701976\n",
      "Quantum relative entropy: 9.818567100694509e-06\n",
      "Max abs gradient: 0.00045815981010566276\n",
      "Quantum relative entropy: 8.632741668179733e-06\n",
      "Max abs gradient: 0.00042925340853017246\n",
      "Quantum relative entropy: 7.591690412311891e-06\n",
      "Max abs gradient: 0.00040223287503682315\n",
      "Quantum relative entropy: 6.677464266857669e-06\n",
      "Max abs gradient: 0.0003769676261349275\n",
      "Quantum relative entropy: 5.874387952076177e-06\n",
      "Max abs gradient: 0.0003533370354436016\n",
      "Quantum relative entropy: 5.1687630211461055e-06\n",
      "Max abs gradient: 0.00033122956507947166\n",
      "Quantum relative entropy: 4.548611972410299e-06\n",
      "Max abs gradient: 0.00031054198552649126\n",
      "Quantum relative entropy: 4.003456183454546e-06\n",
      "Max abs gradient: 0.00029117867356376337\n",
      "Quantum relative entropy: 3.524123446396743e-06\n",
      "Max abs gradient: 0.00027305097913821186\n",
      "Quantum relative entropy: 3.102581388247927e-06\n",
      "Max abs gradient: 0.00025607665339544283\n",
      "Quantum relative entropy: 2.731792708488001e-06\n",
      "Max abs gradient: 0.0002401793309889655\n",
      "Quantum relative entropy: 2.4055893703689435e-06\n",
      "Max abs gradient: 0.00022528806066768325\n",
      "Quantum relative entropy: 2.118562701269866e-06\n",
      "Max abs gradient: 0.00021133687894936415\n",
      "Quantum relative entropy: 1.8659685530053594e-06\n",
      "Max abs gradient: 0.0001982644222819907\n",
      "Quantum relative entropy: 1.643644143456413e-06\n",
      "Max abs gradient: 0.00018601357369574245\n",
      "Quantum relative entropy: 1.447935449760962e-06\n",
      "Max abs gradient: 0.0001745311402734373\n",
      "Quantum relative entropy: 1.2756342897546347e-06\n",
      "Max abs gradient: 0.00016376755863456438\n",
      "Quantum relative entropy: 1.123922899637364e-06\n",
      "Max abs gradient: 0.00015367662520526792\n",
      "Quantum relative entropy: 9.903258408883175e-07\n",
      "Max abs gradient: 0.00014421524918351025\n",
      "Quantum relative entropy: 8.726679396886539e-07\n",
      "Max abs gradient: 0.000135343225960316\n",
      "Quantum relative entropy: 7.690373742264001e-07\n",
      "Max abs gradient: 0.0001270230288721308\n",
      "Quantum relative entropy: 6.777533236856925e-07\n",
      "Max abs gradient: 0.00011921961779526313\n",
      "Quantum relative entropy: 5.97337884045146e-07\n",
      "Max abs gradient: 0.00011190026294993771\n",
      "Quantum relative entropy: 5.264912488200935e-07\n",
      "Max abs gradient: 0.0001050343824089417\n",
      "Quantum relative entropy: 4.6407013698512856e-07\n",
      "Max abs gradient: 9.859339233564413e-05\n",
      "Quantum relative entropy: 4.09068430684556e-07\n",
      "Max abs gradient: 9.255056866663836e-05\n",
      "Quantum relative entropy: 3.6060114183555925e-07\n",
      "Max abs gradient: 8.6880919206056e-05\n",
      "Quantum relative entropy: 3.1788927046250137e-07\n",
      "Max abs gradient: 8.156106535350816e-05\n",
      "Quantum relative entropy: 2.802470575602456e-07\n",
      "Max abs gradient: 7.656913271514298e-05\n",
      "Quantum relative entropy: 2.470710676050203e-07\n",
      "Max abs gradient: 7.188464950180773e-05\n",
      "Quantum relative entropy: 2.178297329180623e-07\n",
      "Max abs gradient: 6.74884526823405e-05\n",
      "Quantum relative entropy: 1.9205519663501036e-07\n",
      "Max abs gradient: 6.336260049710774e-05\n",
      "Quantum relative entropy: 1.6933545410324768e-07\n",
      "Max abs gradient: 5.949029159424413e-05\n",
      "Quantum relative entropy: 1.4930751746078386e-07\n",
      "Max abs gradient: 5.585578966194049e-05\n",
      "Quantum relative entropy: 1.3165177037421927e-07\n",
      "Max abs gradient: 5.244435348661369e-05\n",
      "Quantum relative entropy: 1.1608671712792784e-07\n",
      "Max abs gradient: 4.92421718525371e-05\n",
      "Quantum relative entropy: 1.0236419711873168e-07\n",
      "Max abs gradient: 4.62363029538615e-05\n",
      "Quantum relative entropy: 9.02657610879487e-08\n",
      "Max abs gradient: 4.3414617937553857e-05\n",
      "Quantum relative entropy: 7.95988377433332e-08\n",
      "Max abs gradient: 4.076574844846803e-05\n",
      "Quantum relative entropy: 7.019383474471397e-08\n",
      "Max abs gradient: 3.827903751973949e-05\n",
      "Quantum relative entropy: 6.190108337023048e-08\n",
      "Max abs gradient: 3.5944494021666884e-05\n",
      "Quantum relative entropy: 5.458903018507044e-08\n",
      "Max abs gradient: 3.3752749972748575e-05\n",
      "Quantum relative entropy: 4.8141444608518213e-08\n",
      "Max abs gradient: 3.169502077593478e-05\n",
      "Quantum relative entropy: 4.2456029802906414e-08\n",
      "Max abs gradient: 2.976306817092933e-05\n",
      "Quantum relative entropy: 3.7442539735366154e-08\n",
      "Max abs gradient: 2.794916544646142e-05\n",
      "Quantum relative entropy: 3.302154638618049e-08\n",
      "Max abs gradient: 2.6246065204738045e-05\n",
      "Quantum relative entropy: 2.9122929845470935e-08\n",
      "Max abs gradient: 2.4646968958208504e-05\n",
      "Quantum relative entropy: 2.5684812499093823e-08\n",
      "Max abs gradient: 2.314549893389639e-05\n",
      "Quantum relative entropy: 2.2652866249472936e-08\n",
      "Max abs gradient: 2.173567159635681e-05\n",
      "Quantum relative entropy: 1.997906196038457e-08\n",
      "Max abs gradient: 2.041187288348567e-05\n",
      "Quantum relative entropy: 1.7620958914221774e-08\n",
      "Max abs gradient: 1.9168835082350455e-05\n",
      "Quantum relative entropy: 1.5541370856908543e-08\n",
      "Max abs gradient: 1.8001615219365164e-05\n",
      "Quantum relative entropy: 1.3707328605505609e-08\n",
      "Max abs gradient: 1.690557470634957e-05\n",
      "Quantum relative entropy: 1.2089746093124631e-08\n",
      "Max abs gradient: 1.5876360415223445e-05\n",
      "Quantum relative entropy: 1.0663256944098976e-08\n",
      "Max abs gradient: 1.4909886956182561e-05\n",
      "Quantum relative entropy: 9.40502786761499e-09\n",
      "Max abs gradient: 1.4002319935979557e-05\n",
      "Quantum relative entropy: 8.295391040746836e-09\n",
      "Max abs gradient: 1.3150060495625837e-05\n",
      "Quantum relative entropy: 7.316614869523619e-09\n",
      "Max abs gradient: 1.2349730605709652e-05\n",
      "Quantum relative entropy: 6.453468870404322e-09\n",
      "Max abs gradient: 1.1598159502579364e-05\n",
      "Quantum relative entropy: 5.692150750746805e-09\n",
      "Max abs gradient: 1.0892370741810709e-05\n",
      "Quantum relative entropy: 5.0206487856030435e-09\n",
      "Max abs gradient: 1.0229570333919469e-05\n",
      "Quantum relative entropy: 4.428400757205964e-09\n",
      "Max abs gradient: 9.607135363687291e-06\n",
      "Quantum relative entropy: 3.906013290588817e-09\n",
      "Max abs gradient: 9.022603508324067e-06\n",
      "Quantum relative entropy: 3.4453542241408286e-09\n",
      "Max abs gradient: 8.473663115182717e-06\n",
      "Quantum relative entropy: 3.038945095568124e-09\n",
      "Max abs gradient: 7.958143936726003e-06\n",
      "Quantum relative entropy: 2.680504707086584e-09\n",
      "Max abs gradient: 7.474008408614452e-06\n",
      "Quantum relative entropy: 2.3643664803785214e-09\n",
      "Max abs gradient: 7.019343564618197e-06\n",
      "Quantum relative entropy: 2.085482009306361e-09\n",
      "Max abs gradient: 6.592353276158036e-06\n",
      "Quantum relative entropy: 1.839584484741863e-09\n",
      "Max abs gradient: 6.191351185957927e-06\n",
      "Quantum relative entropy: 1.622627365804874e-09\n",
      "Max abs gradient: 5.814753857968924e-06\n",
      "Quantum relative entropy: 1.431207152791103e-09\n",
      "Max abs gradient: 5.461074571222468e-06\n",
      "Quantum relative entropy: 1.2624283840523276e-09\n",
      "Max abs gradient: 5.12891734105736e-06\n",
      "Quantum relative entropy: 1.113544811914835e-09\n",
      "Max abs gradient: 4.816971365784184e-06\n",
      "Quantum relative entropy: 9.822578306284413e-10\n",
      "Max abs gradient: 4.524005805084386e-06\n",
      "Quantum relative entropy: 8.664358119858662e-10\n",
      "Max abs gradient: 4.248864903910743e-06\n",
      "Quantum relative entropy: 7.64256213869885e-10\n",
      "Max abs gradient: 3.990463396164046e-06\n",
      "Quantum relative entropy: 6.741451841207891e-10\n",
      "Max abs gradient: 3.7477821637210695e-06\n",
      "Quantum relative entropy: 5.946461101302702e-10\n",
      "Max abs gradient: 3.5198642365230626e-06\n",
      "Quantum relative entropy: 5.245510692475364e-10\n",
      "Max abs gradient: 3.305810952980437e-06\n",
      "Quantum relative entropy: 4.6266634967651044e-10\n",
      "Max abs gradient: 3.1047784396776024e-06\n",
      "Quantum relative entropy: 4.0809666757013474e-10\n",
      "Max abs gradient: 2.9159742158668678e-06\n",
      "Quantum relative entropy: 3.5996805536342436e-10\n",
      "Max abs gradient: 2.738654109712968e-06\n",
      "Quantum relative entropy: 3.175699703206192e-10\n",
      "Max abs gradient: 2.5721192504768453e-06\n",
      "Quantum relative entropy: 2.801314735734195e-10\n",
      "Max abs gradient: 2.4157133675650755e-06\n",
      "Quantum relative entropy: 2.4704149836907163e-10\n",
      "Max abs gradient: 2.2688201388731954e-06\n",
      "Quantum relative entropy: 2.1797319504912593e-10\n",
      "Max abs gradient: 2.1308607780490263e-06\n",
      "Quantum relative entropy: 1.922693115830043e-10\n",
      "Max abs gradient: 2.001291738107369e-06\n",
      "Quantum relative entropy: 1.695745766028267e-10\n",
      "Max abs gradient: 1.8796025775813519e-06\n",
      "Quantum relative entropy: 1.495870094458951e-10\n",
      "Max abs gradient: 1.7653139172679744e-06\n",
      "Quantum relative entropy: 1.3201173487686901e-10\n",
      "Max abs gradient: 1.6579755475198965e-06\n",
      "Quantum relative entropy: 1.1639755825854081e-10\n",
      "Max abs gradient: 1.557164695409341e-06\n",
      "Quantum relative entropy: 1.0266987260365568e-10\n",
      "Max abs gradient: 1.4624842794574988e-06\n",
      "Quantum relative entropy: 9.052669724951556e-11\n",
      "Max abs gradient: 1.3735614312615496e-06\n",
      "Quantum relative entropy: 7.991474149093847e-11\n",
      "Max abs gradient: 1.290045932300643e-06\n",
      "Quantum relative entropy: 7.049649752843834e-11\n",
      "Max abs gradient: 1.2116089012081943e-06\n",
      "Quantum relative entropy: 6.216183123797236e-11\n",
      "Max abs gradient: 1.1379414486256678e-06\n",
      "Quantum relative entropy: 5.482192477757053e-11\n",
      "Max abs gradient: 1.0687535003661708e-06\n",
      "Quantum relative entropy: 4.835598588215362e-11\n",
      "Max abs gradient: 1.0037726250189394e-06\n",
      "Quantum relative entropy: 4.263611685928481e-11\n",
      "Max abs gradient: 9.427429374930796e-07\n",
      "Quantum relative entropy: 3.763744871321251e-11\n",
      "Max abs gradient: 8.854241855260625e-07\n",
      "Quantum relative entropy: 3.325695274725149e-11\n",
      "Max abs gradient: 8.31590648342484e-07\n",
      "Quantum relative entropy: 2.930633513642533e-11\n",
      "Max abs gradient: 7.810304105682064e-07\n",
      "Quantum relative entropy: 2.5803359449128038e-11\n",
      "Max abs gradient: 7.335443990008628e-07\n",
      "Quantum relative entropy: 2.2875923377796425e-11\n",
      "Max abs gradient: 6.88945685833886e-07\n",
      "Quantum relative entropy: 2.0097701280974434e-11\n",
      "Max abs gradient: 6.470586626505792e-07\n",
      "Quantum relative entropy: 1.7763568394002505e-11\n",
      "Max abs gradient: 6.077184613317854e-07\n",
      "Quantum relative entropy: 1.5653256468795007e-11\n",
      "Max abs gradient: 5.70770202656945e-07\n",
      "Quantum relative entropy: 1.383071435157035e-11\n",
      "Max abs gradient: 5.360684527389026e-07\n",
      "Quantum relative entropy: 1.2182255204606918e-11\n",
      "Max abs gradient: 5.034765848677125e-07\n",
      "Quantum relative entropy: 1.0722089882619912e-11\n",
      "Max abs gradient: 4.728663265396449e-07\n",
      "Quantum relative entropy: 9.485745522397337e-12\n",
      "Max abs gradient: 4.4411716837444715e-07\n",
      "Quantum relative entropy: 8.334666290465975e-12\n",
      "Max abs gradient: 4.1711596354687686e-07\n",
      "Quantum relative entropy: 7.382539024547441e-12\n",
      "Max abs gradient: 3.9175641308730746e-07\n",
      "Quantum relative entropy: 6.52278231427772e-12\n",
      "Max abs gradient: 3.679387092780928e-07\n",
      "Quantum relative entropy: 5.730527163905208e-12\n",
      "Max abs gradient: 3.4556909778160616e-07\n",
      "Quantum relative entropy: 5.101696842757519e-12\n",
      "Max abs gradient: 3.245595432410653e-07\n",
      "Quantum relative entropy: 4.483524662646232e-12\n",
      "Max abs gradient: 3.0482732649161903e-07\n",
      "Quantum relative entropy: 3.9470648971473565e-12\n",
      "Max abs gradient: 2.862948118576014e-07\n",
      "Quantum relative entropy: 3.4923175462608924e-12\n",
      "Max abs gradient: 2.688890288204959e-07\n",
      "Quantum relative entropy: 3.0659919048048323e-12\n",
      "Max abs gradient: 2.5254148949827027e-07\n",
      "Quantum relative entropy: 2.7178259642823832e-12\n",
      "Max abs gradient: 2.3718784580850638e-07\n",
      "Quantum relative entropy: 2.398081733190338e-12\n",
      "Max abs gradient: 2.2276766609152787e-07\n",
      "Quantum relative entropy: 2.1103119252074976e-12\n",
      "Max abs gradient: 2.092241957463159e-07\n",
      "Quantum relative entropy: 1.879385536085465e-12\n",
      "Max abs gradient: 1.9650414762040214e-07\n",
      "Quantum relative entropy: 1.6129320101754274e-12\n",
      "Max abs gradient: 1.8455742178957735e-07\n",
      "Quantum relative entropy: 1.4530598946294049e-12\n",
      "Max abs gradient: 1.7333703139499335e-07\n",
      "Quantum relative entropy: 1.2718714970105793e-12\n",
      "Max abs gradient: 1.6279882109060395e-07\n",
      "Quantum relative entropy: 1.0906830993917538e-12\n",
      "Max abs gradient: 1.5290129518064077e-07\n",
      "Quantum relative entropy: 1.0267342531733448e-12\n",
      "Max abs gradient: 1.4360550126824023e-07\n",
      "Quantum relative entropy: 9.379164112033322e-13\n",
      "Max abs gradient: 1.348748646101683e-07\n",
      "Quantum relative entropy: 7.851497230149107e-13\n",
      "Max abs gradient: 1.266750202510991e-07\n",
      "Quantum relative entropy: 6.998845947236987e-13\n",
      "Max abs gradient: 1.1897369978086658e-07\n",
      "Quantum relative entropy: 6.075140390748857e-13\n",
      "Max abs gradient: 1.1174058567320344e-07\n",
      "Quantum relative entropy: 5.506706202140776e-13\n",
      "Max abs gradient: 1.049472255765238e-07\n",
      "Quantum relative entropy: 4.867217739956686e-13\n",
      "Max abs gradient: 9.856688887310838e-08\n",
      "Quantum relative entropy: 4.440892098500626e-13\n",
      "Max abs gradient: 9.257443522869835e-08\n",
      "Quantum relative entropy: 3.659295089164516e-13\n",
      "Max abs gradient: 8.694631059569247e-08\n",
      "Quantum relative entropy: 3.161915174132446e-13\n",
      "Max abs gradient: 8.166034159984292e-08\n",
      "Quantum relative entropy: 2.7355895326763857e-13\n",
      "Max abs gradient: 7.669574930702083e-08\n",
      "Quantum relative entropy: 2.7711166694643907e-13\n",
      "Max abs gradient: 7.203297514024598e-08\n",
      "Quantum relative entropy: 2.5934809855243657e-13\n",
      "Max abs gradient: 6.765368576466813e-08\n",
      "Quantum relative entropy: 2.2737367544323206e-13\n",
      "Max abs gradient: 6.35406420812501e-08\n",
      "Quantum relative entropy: 1.6697754290362354e-13\n",
      "Max abs gradient: 5.967765481784681e-08\n",
      "Quantum relative entropy: 1.5276668818842154e-13\n",
      "Max abs gradient: 5.604951747173459e-08\n",
      "Quantum relative entropy: 1.5276668818842154e-13\n",
      "Max abs gradient: 5.264195346299516e-08\n",
      "Quantum relative entropy: 1.2079226507921703e-13\n",
      "Max abs gradient: 4.9441566396524195e-08\n",
      "Quantum relative entropy: 8.881784197001252e-14\n",
      "Max abs gradient: 4.643572903972881e-08\n",
      "Quantum relative entropy: 1.1013412404281553e-13\n",
      "Max abs gradient: 4.3612649935909076e-08\n",
      "Quantum relative entropy: 1.0302869668521453e-13\n",
      "Max abs gradient: 4.096119932128772e-08\n",
      "Final parameters: [-1.99999877e+00+0.00000000e+00j -1.99999877e+00+0.00000000e+00j\n",
      " -1.99999877e+00+0.00000000e+00j -3.40640872e-08+4.51077232e-20j\n",
      "  1.18852483e-09-8.75674948e-19j  8.56620118e-09-1.32785093e-19j]\n"
     ]
    }
   ],
   "source": [
    "# stop when gradient is smaller than epsilon, at the final number of epochs\n",
    "eps = 1e-10\n",
    "# keep track of loss and gradients\n",
    "qre_hist = []\n",
    "grad_hist = []\n",
    "# init params\n",
    "p = j+b\n",
    "# operators\n",
    "o = ss+s\n",
    "for i in range(epochs):\n",
    "    # create qbm hamiltonians\n",
    "    qbm_h = build_qbm_hamiltonian(p,o)\n",
    "    # qbm_h = qbm_h.real\n",
    "    qre_hist.append(qre(target_eta, target_probs, qbm_h))\n",
    "    # create qbm state\n",
    "    rho = qu.thermal_state(qbm_h, -1.0)\n",
    "    # grad and update\n",
    "    grads = compute_grads(o, target_eta, rho)\n",
    "    grad_hist.append(np.abs(grads))\n",
    "    p = update_params(p, grads, gamma)\n",
    "    # print diagnostic\n",
    "    if (i % 10)==0:\n",
    "        print(f\"Quantum relative entropy: {qre_hist[-1]}\")\n",
    "        print(f\"Max abs gradient: {np.max(grad_hist[-1])}\")\n",
    "    if np.max(grad_hist[-1]) < eps:\n",
    "        print(\"Max gradient smaller than precision\")\n",
    "        break\n",
    "print(f\"Final parameters: {p}\")"
   ]
  },
  {
   "cell_type": "code",
   "execution_count": 53,
   "metadata": {},
   "outputs": [],
   "source": [
    "beta2_qre = qre_hist\n",
    "beta2_grads = grad_hist\n",
    "beta2_params = p"
   ]
  },
  {
   "cell_type": "code",
   "execution_count": 54,
   "metadata": {},
   "outputs": [
    {
     "data": {
      "text/plain": [
       "Text(0.5, 0.98, '$\\\\beta=2$')"
      ]
     },
     "execution_count": 54,
     "metadata": {},
     "output_type": "execute_result"
    },
    {
     "data": {
      "image/png": "[encoded data removed]",
      "text/plain": [
       "<Figure size 1000x600 with 2 Axes>"
      ]
     },
     "metadata": {},
     "output_type": "display_data"
    }
   ],
   "source": [
    "fig, ax = plt.subplots(ncols=2,figsize=(10,6))\n",
    "ax[0].plot(qre_hist)\n",
    "ax[0].set_xlabel(\"epoch number\")\n",
    "ax[0].set_ylabel(\"quantum relative entropy\")\n",
    "ax[0].set_yscale('log')\n",
    "ax[1].plot(np.max(grad_hist,axis=1))\n",
    "ax[1].set_xlabel(\"epoch number\")\n",
    "ax[1].set_ylabel(\"Max. of gradients\")\n",
    "ax[1].set_yscale('log')\n",
    "fig.suptitle(r\"$\\beta=2$\")"
   ]
  },
  {
   "cell_type": "code",
   "execution_count": 55,
   "metadata": {},
   "outputs": [
    {
     "name": "stdout",
     "output_type": "stream",
     "text": [
      "Learned interaction terms: [-1.99999877+0.j -1.99999877+0.j -1.99999877+0.j]\n",
      "Learned fields terms: [-3.40640872e-08+4.51077232e-20j  1.18852483e-09-8.75674948e-19j\n",
      "  8.56620118e-09-1.32785093e-19j]\n"
     ]
    }
   ],
   "source": [
    "print(f\"Learned interaction terms: {beta2_params[:3]}\")\n",
    "print(f\"Learned fields terms: {beta2_params[3:]}\")"
   ]
  },
  {
   "attachments": {},
   "cell_type": "markdown",
   "metadata": {},
   "source": [
    "They match the target Hamiltonian up to the rescaling of the target $\\beta=2$ and the QBM Gibbs state definition ($\\beta=-1$)."
   ]
  },
  {
   "attachments": {},
   "cell_type": "markdown",
   "metadata": {},
   "source": [
    "### Target $\\beta=\\infty$"
   ]
  },
  {
   "cell_type": "code",
   "execution_count": 56,
   "metadata": {},
   "outputs": [],
   "source": [
    "target_eta = target_eta_betainfty\n",
    "target_probs = qu.eigvalsh(target_eta).clip(1e-300)  # clip near zero for numerical reasons: here most evals are zero"
   ]
  },
  {
   "cell_type": "code",
   "execution_count": 58,
   "metadata": {},
   "outputs": [
    {
     "name": "stdout",
     "output_type": "stream",
     "text": [
      "--- 0 ---\n",
      "Quantum relative entropy: 18.899473222176667\n",
      "Max abs gradient: 7.196544947439108\n",
      "--- 100 ---\n",
      "Quantum relative entropy: 0.018517862907241778\n",
      "Max abs gradient: 0.016898746372590256\n",
      "--- 200 ---\n",
      "Quantum relative entropy: 0.009599091616699695\n",
      "Max abs gradient: 0.008758136527076577\n",
      "--- 300 ---\n",
      "Quantum relative entropy: 0.006483111731760971\n",
      "Max abs gradient: 0.0059156646700344595\n",
      "--- 400 ---\n",
      "Quantum relative entropy: 0.004895050190480532\n",
      "Max abs gradient: 0.004466970576177509\n",
      "--- 500 ---\n",
      "Quantum relative entropy: 0.00393210371816366\n",
      "Max abs gradient: 0.003588466304024873\n",
      "--- 600 ---\n",
      "Quantum relative entropy: 0.0032858059234470716\n",
      "Max abs gradient: 0.0029988001460572455\n",
      "--- 700 ---\n",
      "Quantum relative entropy: 0.002822002323110695\n",
      "Max abs gradient: 0.0025756103134666475\n",
      "--- 800 ---\n",
      "Quantum relative entropy: 0.00247295146559523\n",
      "Max abs gradient: 0.002257107563576888\n",
      "--- 900 ---\n",
      "Quantum relative entropy: 0.002200750468190904\n",
      "Max abs gradient: 0.0020087176303804632\n",
      "--- 1000 ---\n",
      "Quantum relative entropy: 0.001982534538448988\n",
      "Max abs gradient: 0.0018095826177426666\n",
      "--- 1100 ---\n",
      "Quantum relative entropy: 0.0018036915100587692\n",
      "Max abs gradient: 0.0016463722528961\n",
      "--- 1200 ---\n",
      "Quantum relative entropy: 0.0016544465176124845\n",
      "Max abs gradient: 0.001510168798799505\n",
      "--- 1300 ---\n",
      "Quantum relative entropy: 0.0015280131983104184\n",
      "Max abs gradient: 0.0013947807159238046\n",
      "--- 1400 ---\n",
      "Quantum relative entropy: 0.001419532637594756\n",
      "Max abs gradient: 0.0012957748092552457\n",
      "--- 1500 ---\n",
      "Quantum relative entropy: 0.0013254344255990702\n",
      "Max abs gradient: 0.0012098933852793259\n",
      "--- 1600 ---\n",
      "Quantum relative entropy: 0.0012430360864392753\n",
      "Max abs gradient: 0.00113468883996104\n",
      "--- 1700 ---\n",
      "Quantum relative entropy: 0.0011702831999045316\n",
      "Max abs gradient: 0.0010682865817215337\n",
      "--- 1800 ---\n",
      "Quantum relative entropy: 0.0011055757505999964\n",
      "Max abs gradient: 0.001009226611595082\n",
      "--- 1900 ---\n",
      "Quantum relative entropy: 0.001047649074287449\n",
      "Max abs gradient: 0.0009563549088276169\n",
      "Final parameters: [-2.92473413e+00+0.00000000e+00j -2.92473413e+00+0.00000000e+00j\n",
      " -2.92473413e+00+0.00000000e+00j -1.31837724e-03+0.00000000e+00j\n",
      "  4.60692452e-05-3.55386843e-29j  3.32365365e-04+0.00000000e+00j]\n"
     ]
    }
   ],
   "source": [
    "# stop when gradient is smaller than epsilon or at the final number of epochs\n",
    "eps = 1e-10\n",
    "# keep track of loss and gradients\n",
    "qre_hist = []\n",
    "grad_hist = []\n",
    "# init params\n",
    "p = j+b\n",
    "# operators\n",
    "o = ss+s\n",
    "for i in range(epochs):\n",
    "    # create qbm hamiltonians\n",
    "    qbm_h = build_qbm_hamiltonian(p,o)\n",
    "    # qbm_h = qbm_h.real\n",
    "    qre_hist.append(qre(target_eta, target_probs, qbm_h))\n",
    "    # create qbm state\n",
    "    rho = qu.thermal_state(qbm_h, -1.0)\n",
    "    # grad and update\n",
    "    grads = compute_grads(o, target_eta, rho)\n",
    "    grad_hist.append(np.abs(grads))\n",
    "    p = update_params(p, grads, gamma)\n",
    "    # print diagnostic\n",
    "    if (i % 100)==0:\n",
    "        print(f\"--- {i} ---\")\n",
    "        print(f\"Quantum relative entropy: {qre_hist[-1]}\")\n",
    "        print(f\"Max abs gradient: {np.max(grad_hist[-1])}\")\n",
    "    if np.max(grad_hist[-1]) < eps:\n",
    "        print(\"Max gradient smaller than precision\")\n",
    "        break\n",
    "print(f\"Final parameters: {p}\")"
   ]
  },
  {
   "cell_type": "code",
   "execution_count": 59,
   "metadata": {},
   "outputs": [],
   "source": [
    "betainfty_qre = qre_hist\n",
    "betainfty_grads = grad_hist\n",
    "betainfty_params = p"
   ]
  },
  {
   "cell_type": "code",
   "execution_count": 60,
   "metadata": {},
   "outputs": [
    {
     "data": {
      "text/plain": [
       "Text(0.5, 0.98, '$\\\\beta=\\\\infty$')"
      ]
     },
     "execution_count": 60,
     "metadata": {},
     "output_type": "execute_result"
    },
    {
     "data": {
      "image/png": "[encoded data removed]",
      "text/plain": [
       "<Figure size 1000x600 with 2 Axes>"
      ]
     },
     "metadata": {},
     "output_type": "display_data"
    }
   ],
   "source": [
    "fig, ax = plt.subplots(ncols=2,figsize=(10,6))\n",
    "ax[0].plot(qre_hist)\n",
    "ax[0].set_xlabel(\"epoch number\")\n",
    "ax[0].set_ylabel(\"quantum relative entropy\")\n",
    "ax[0].set_yscale('log')\n",
    "ax[1].plot(np.max(grad_hist,axis=1))\n",
    "ax[1].set_xlabel(\"epoch number\")\n",
    "ax[1].set_ylabel(\"Max. of gradients\")\n",
    "ax[1].set_yscale('log')\n",
    "fig.suptitle(r\"$\\beta=\\infty$\")"
   ]
  },
  {
   "cell_type": "code",
   "execution_count": 61,
   "metadata": {},
   "outputs": [
    {
     "name": "stdout",
     "output_type": "stream",
     "text": [
      "Learned interaction terms: [-2.92473413+0.j -2.92473413+0.j -2.92473413+0.j]\n",
      "Learned fields terms: [-1.31837724e-03+0.00000000e+00j  4.60692452e-05-3.55386843e-29j\n",
      "  3.32365365e-04+0.00000000e+00j]\n"
     ]
    }
   ],
   "source": [
    "print(f\"Learned interaction terms: {betainfty_params[:3]}\")\n",
    "print(f\"Learned fields terms: {betainfty_params[3:]}\")"
   ]
  },
  {
   "attachments": {},
   "cell_type": "markdown",
   "metadata": {},
   "source": [
    "The parameters are not learned correctly because of the infinite $\\beta$ value, but the gradients are still very small, meaning that we can reconstruct the quantum statistics accurately."
   ]
  },
  {
   "attachments": {},
   "cell_type": "markdown",
   "metadata": {},
   "source": [
    "### Figure 1: learning curves"
   ]
  },
  {
   "attachments": {},
   "cell_type": "markdown",
   "metadata": {},
   "source": [
    "Reproduce Fig. 1(b) in the paper"
   ]
  },
  {
   "cell_type": "code",
   "execution_count": 62,
   "metadata": {},
   "outputs": [
    {
     "data": {
      "image/png": "[encoded data removed]",
      "text/plain": [
       "<Figure size 640x480 with 1 Axes>"
      ]
     },
     "metadata": {},
     "output_type": "display_data"
    }
   ],
   "source": [
    "fig, ax = plt.subplots()\n",
    "ax.plot(beta1_qre, 'b')\n",
    "ax.plot(beta2_qre, 'k')\n",
    "ax.plot(betainfty_qre, 'r')\n",
    "ax.set_xlabel(\"iter\")\n",
    "ax.set_ylabel(\"S\")\n",
    "ax.set_yscale('log')"
   ]
  },
  {
   "cell_type": "code",
   "execution_count": null,
   "metadata": {},
   "outputs": [],
   "source": []
  }
 ],
 "metadata": {
  "kernelspec": {
   "display_name": ".venv",
   "language": "python",
   "name": "python3"
  },
  "language_info": {
   "codemirror_mode": {
    "name": "ipython",
    "version": 3
   },
   "file_extension": ".py",
   "mimetype": "text/x-python",
   "name": "python",
   "nbconvert_exporter": "python",
   "pygments_lexer": "ipython3",
   "version": "3.11.6"
  },
  "orig_nbformat": 4
 },
 "nbformat": 4,
 "nbformat_minor": 2
}
