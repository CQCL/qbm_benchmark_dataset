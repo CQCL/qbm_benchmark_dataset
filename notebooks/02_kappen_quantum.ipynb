{
 "cells": [
  {
   "attachments": {},
   "cell_type": "markdown",
   "metadata": {},
   "source": [
    "# Quantum data example in Kappen (2018)\n",
    "\n",
    "This notebook reproduces the example in Section 4 of [Kappen (2018)](https://arxiv.org/abs/1803.11278)"
   ]
  },
  {
   "attachments": {},
   "cell_type": "markdown",
   "metadata": {},
   "source": [
    "## Setup"
   ]
  },
  {
   "cell_type": "code",
   "execution_count": 59,
   "metadata": {},
   "outputs": [],
   "source": [
    "import quimb as qu\n",
    "import matplotlib.pyplot as plt\n",
    "import numpy as np"
   ]
  },
  {
   "cell_type": "code",
   "execution_count": 60,
   "metadata": {},
   "outputs": [],
   "source": [
    "rng = np.random.default_rng(seed=1)"
   ]
  },
  {
   "cell_type": "code",
   "execution_count": 61,
   "metadata": {},
   "outputs": [],
   "source": [
    "# define number of sites == number of qubits (each site is a 2-level system)\n",
    "n = 6 ## change this to 10 to reproduce the paper results"
   ]
  },
  {
   "attachments": {},
   "cell_type": "markdown",
   "metadata": {},
   "source": [
    "## Target state"
   ]
  },
  {
   "attachments": {},
   "cell_type": "markdown",
   "metadata": {},
   "source": [
    "The quantum state we set up to learn using a QBM is a thermal state (for three different temperatures) from the Hamiltonian of the 1D Heisenberg model with nearest-neighbors interactions, isotropic couplings and zero single-site fields. We report here the full Eq. (13) of the paper:\n",
    "\n",
    "$$\n",
    "H=\\sum_{i=1}^n \\sum_{k=x, y, z} w_i^k \\sigma_i^k+\\sum_{i=1, j>i}^n \\sum_{k=x, y, z} w_{i j}^k \\sigma_i^k \\sigma_j^k\n",
    "$$\n",
    "\n",
    "where $ \\sigma_j^k$ are Pauli operators on site $j$ and $n$ is the total number of sites.\n",
    "\n",
    "The target state is generated with the Hamiltonian where\n",
    "$$\n",
    "w_{i j}^{x, y, z}=1 \\text { for nearest neighbors and } w_{i j}^{x, y, z}=0 \\text { otherwise and }  w_i^k = 0\n",
    "$$"
   ]
  },
  {
   "attachments": {},
   "cell_type": "markdown",
   "metadata": {},
   "source": [
    "### Hamiltonian"
   ]
  },
  {
   "attachments": {},
   "cell_type": "markdown",
   "metadata": {},
   "source": [
    "For this example, we work under the (simplifying) assumption that each _spin direction_ will have a separate parameter, but that the interaction in a fixed _spin direction_ is isotropic along the spin chain of $n$ sites (we also include periodic boundary conditions). This amounts to the Hamiltonian of the `XYZ` Heisenberg model, but when the `x`, `y`, and `z` couplings are the same, then it is the `XXX` Heisenberg model:"
   ]
  },
  {
   "cell_type": "code",
   "execution_count": 62,
   "metadata": {},
   "outputs": [
    {
     "name": "stdout",
     "output_type": "stream",
     "text": [
      "Spin interaction used to create target state: (1.0, 1.0, 1.0)\n",
      "Field value used to create target state: (0.0, 0.0, 0.0)\n"
     ]
    }
   ],
   "source": [
    "# Fix the parameters of the hamiltonian:\n",
    "# - 3 parameters for the nearest-neighbors terms\n",
    "# - 3 parameters for the single-site fields\n",
    "target_wij_xyz = (1.0, 1.0, 1.0)\n",
    "target_wi_xyz = (0.0, 0.0, 0.0)\n",
    "print(f\"Spin interaction used to create target state: {target_wij_xyz}\")\n",
    "print(f\"Field value used to create target state: {target_wi_xyz}\")"
   ]
  },
  {
   "cell_type": "code",
   "execution_count": 63,
   "metadata": {},
   "outputs": [],
   "source": [
    "# quimb uses spin_operator instead of pauli operator in the Hamiltonian construction: we need a factor of 2*2 in the couplings and 2 in the fields\n",
    "j = (4*j for j in target_wij_xyz)\n",
    "b = (2*j for j in target_wi_xyz)\n",
    "target_xxx = qu.ham_heis(n, j, b, cyclic=True, sparse=False)  # positive couplings in quimb means anti-ferromagnetic"
   ]
  },
  {
   "cell_type": "code",
   "execution_count": 64,
   "metadata": {},
   "outputs": [
    {
     "data": {
      "image/png": "[encoded data removed]",
      "text/plain": [
       "<Figure size 640x480 with 1 Axes>"
      ]
     },
     "metadata": {},
     "output_type": "display_data"
    }
   ],
   "source": [
    "_ = plt.spy(target_xxx.A)"
   ]
  },
  {
   "cell_type": "code",
   "execution_count": 65,
   "metadata": {},
   "outputs": [
    {
     "data": {
      "image/png": "[encoded data removed]",
      "text/plain": [
       "<Figure size 640x480 with 2 Axes>"
      ]
     },
     "metadata": {},
     "output_type": "display_data"
    }
   ],
   "source": [
    "_ = plt.imshow(target_xxx.A, interpolation='nearest')\n",
    "_ = plt.colorbar()"
   ]
  },
  {
   "attachments": {},
   "cell_type": "markdown",
   "metadata": {},
   "source": [
    "### Density matrix"
   ]
  },
  {
   "attachments": {},
   "cell_type": "markdown",
   "metadata": {},
   "source": [
    "The paper generates a density matrix from the `XXX` Hamiltonian at 3 different temperatures $T=1/\\beta$, with $\\beta = 1, 2, \\infty$"
   ]
  },
  {
   "cell_type": "code",
   "execution_count": 66,
   "metadata": {},
   "outputs": [],
   "source": [
    "target_beta = 1.0\n",
    "target_eta = qu.thermal_state(target_xxx, target_beta, precomp_func=True)"
   ]
  },
  {
   "cell_type": "code",
   "execution_count": 67,
   "metadata": {},
   "outputs": [],
   "source": [
    "target_eta_beta1 = target_eta(1.0)"
   ]
  },
  {
   "cell_type": "code",
   "execution_count": 68,
   "metadata": {},
   "outputs": [],
   "source": [
    "target_eta_beta2 = target_eta(2.0)"
   ]
  },
  {
   "attachments": {},
   "cell_type": "markdown",
   "metadata": {},
   "source": [
    "The $\\beta=\\infty$ thermal state is the ground state"
   ]
  },
  {
   "cell_type": "code",
   "execution_count": 69,
   "metadata": {},
   "outputs": [],
   "source": [
    "# for the anti-ferromagnetic case the groundstate should be unique\n",
    "gs = qu.groundstate(target_xxx)\n",
    "target_eta_betainfty = qu.dop(gs)  # equivalent to (gs @ gs.H)"
   ]
  },
  {
   "attachments": {},
   "cell_type": "markdown",
   "metadata": {},
   "source": [
    "**Note** this target state is a pure state $\\eta (\\beta = \\infty) = \\psi_{\\mathrm{g.s.}}\\psi^{\\dag}_{\\mathrm{g.s.}}$ and a QBM would need to have diverging parameters in order to _exactly_ reproduce it"
   ]
  },
  {
   "attachments": {},
   "cell_type": "markdown",
   "metadata": {},
   "source": [
    "The ground state density matrix has rank 1 as expected:"
   ]
  },
  {
   "cell_type": "code",
   "execution_count": 70,
   "metadata": {},
   "outputs": [
    {
     "data": {
      "text/plain": [
       "1"
      ]
     },
     "execution_count": 70,
     "metadata": {},
     "output_type": "execute_result"
    }
   ],
   "source": [
    "np.linalg.matrix_rank(target_eta_betainfty.A)"
   ]
  },
  {
   "attachments": {},
   "cell_type": "markdown",
   "metadata": {},
   "source": [
    "in contrast to the finite-temperature states"
   ]
  },
  {
   "cell_type": "code",
   "execution_count": 71,
   "metadata": {},
   "outputs": [
    {
     "data": {
      "text/plain": [
       "64"
      ]
     },
     "execution_count": 71,
     "metadata": {},
     "output_type": "execute_result"
    }
   ],
   "source": [
    "np.linalg.matrix_rank(target_eta_beta1.A)"
   ]
  },
  {
   "attachments": {},
   "cell_type": "markdown",
   "metadata": {},
   "source": [
    "Plot of the ground state wavefunction (amplitudes) $\\langle s | \\psi_\\mathrm{g.s.}\\rangle$ where $s$ are the $2^n$ computational states"
   ]
  },
  {
   "cell_type": "code",
   "execution_count": 72,
   "metadata": {},
   "outputs": [
    {
     "data": {
      "image/png": "[encoded data removed]",
      "text/plain": [
       "<Figure size 640x480 with 1 Axes>"
      ]
     },
     "metadata": {},
     "output_type": "display_data"
    }
   ],
   "source": [
    "_ = plt.plot(gs.A.flatten(),'o')\n",
    "_ = plt.xlabel('s')\n",
    "_ = plt.ylabel('<s|gs>')"
   ]
  },
  {
   "attachments": {},
   "cell_type": "markdown",
   "metadata": {},
   "source": [
    "## Quantum Boltzmann Machine model"
   ]
  },
  {
   "attachments": {},
   "cell_type": "markdown",
   "metadata": {},
   "source": [
    "Following the paper we now define the QBM based on the same `XYZ` Heisenberg Hamiltonian used to define the target state. We let the 3 parameters for each _spin direction_ to have arbitrary values.\n"
   ]
  },
  {
   "cell_type": "code",
   "execution_count": 73,
   "metadata": {},
   "outputs": [
    {
     "name": "stdout",
     "output_type": "stream",
     "text": [
      "Spin interaction: (0.345584192064786, 0.8216181435011584, 0.33043707618338714)\n",
      "Field value: (-1.303157231604361, 0.9053558666731177, 0.4463745723640113)\n"
     ]
    }
   ],
   "source": [
    "# parameters to learn. Set initial values at random\n",
    "j = tuple(rng.normal(size=3))\n",
    "b = tuple(rng.normal(size=3))\n",
    "print(f\"Spin interaction: {j}\")\n",
    "print(f\"Field value: {b}\")"
   ]
  },
  {
   "cell_type": "code",
   "execution_count": 74,
   "metadata": {},
   "outputs": [],
   "source": [
    "qbm_xyz = qu.ham_heis(n, j, b, cyclic=True)"
   ]
  },
  {
   "cell_type": "code",
   "execution_count": 75,
   "metadata": {},
   "outputs": [
    {
     "data": {
      "image/png": "[encoded data removed]",
      "text/plain": [
       "<Figure size 640x480 with 2 Axes>"
      ]
     },
     "metadata": {},
     "output_type": "display_data"
    }
   ],
   "source": [
    "# plot only the real part\n",
    "_ = plt.imshow(qbm_xyz.A.real, interpolation='nearest')\n",
    "_ = plt.colorbar()"
   ]
  },
  {
   "attachments": {},
   "cell_type": "markdown",
   "metadata": {},
   "source": [
    "### Gibbs state"
   ]
  },
  {
   "attachments": {},
   "cell_type": "markdown",
   "metadata": {},
   "source": [
    "The corresponding Gibbs state for this initial Hamiltonian is  \n",
    "\n",
    "$$\n",
    "\\rho_{\\theta} = \\frac{e^{\\mathcal{H}_\\theta}}{Z}\n",
    "$$"
   ]
  },
  {
   "cell_type": "code",
   "execution_count": 76,
   "metadata": {},
   "outputs": [],
   "source": [
    "rho_qbm = qu.thermal_state(qbm_xyz, -1.0)"
   ]
  },
  {
   "cell_type": "code",
   "execution_count": 77,
   "metadata": {},
   "outputs": [
    {
     "data": {
      "image/png": "[encoded data removed]",
      "text/plain": [
       "<Figure size 640x480 with 2 Axes>"
      ]
     },
     "metadata": {},
     "output_type": "display_data"
    }
   ],
   "source": [
    "_ = plt.imshow(rho_qbm.A.real, interpolation='nearest')\n",
    "_ = plt.colorbar()"
   ]
  },
  {
   "attachments": {},
   "cell_type": "markdown",
   "metadata": {},
   "source": [
    "## Quantum statistics"
   ]
  },
  {
   "attachments": {},
   "cell_type": "markdown",
   "metadata": {},
   "source": [
    "To perform training of the QBM parameters we need to be able to compute the expectation values of various terms in the QBM Hamiltonian. \n",
    "\n",
    "These are called **quantum statistics** and they are \n",
    "\n",
    "$$\n",
    "\\left\\langle\\sigma_i^k\\right\\rangle_{\\eta_\\beta}=0 \\text { and }\\left\\langle\\sigma_i^k \\sigma_j^k\\right\\rangle_{\\eta_\\beta}\n",
    "$$\n",
    "\n",
    "for the target $\\eta_\\beta$ state"
   ]
  },
  {
   "attachments": {},
   "cell_type": "markdown",
   "metadata": {},
   "source": [
    "We have simplified our model to only require 6 quantum statistics, one for each parameter:\n",
    "\n",
    "$$\n",
    "\\left\\langle \\sum_i^n \\sigma_i^k\\right\\rangle \\text {for each } k \\in \\{ x,y,z\\}\n",
    "$$\n",
    "\n",
    "$$\n",
    "\\left\\langle \\sum_{\\langle i, j\\rangle} \\sigma_i^k\\sigma_j^k\\right\\rangle \\text {for each } k \\in \\{ x,y,z\\}\n",
    "$$"
   ]
  },
  {
   "cell_type": "code",
   "execution_count": 78,
   "metadata": {},
   "outputs": [],
   "source": [
    "# function to create the two-site operators for a fixed spin direction\n",
    "def h_two_sites(n, direction):\n",
    "    assert direction in \"xyz\", \"Wrong direction. Must be one of x,y, or z\"\n",
    "    dims = (2,) * n\n",
    "    two_site_term = qu.kron(qu.pauli(direction), qu.pauli(direction))\n",
    "\n",
    "    def gen_term(i):\n",
    "        if i == (n - 1):\n",
    "            return qu.ikron(qu.pauli(direction), dims, [0, n - 1])\n",
    "        return qu.ikron(two_site_term, dims, [i, i + 1])\n",
    "\n",
    "    return sum(map(gen_term, range(0, n)))\n"
   ]
  },
  {
   "attachments": {},
   "cell_type": "markdown",
   "metadata": {},
   "source": [
    "Test that the function above reproduces the correct terms in the Heisenberg Hamiltonian:"
   ]
  },
  {
   "cell_type": "code",
   "execution_count": 79,
   "metadata": {},
   "outputs": [],
   "source": [
    "# generate only the terms with the Pauli Z operators\n",
    "h0 = h_two_sites(n,'z')"
   ]
  },
  {
   "cell_type": "code",
   "execution_count": 80,
   "metadata": {},
   "outputs": [],
   "source": [
    "# compare with quimb by generating the Heis hamiltonian with only couplings between Pauli Z terms (rescaling the coupling due to Spin Z being 1/2 Pauli Z)\n",
    "test_h0 = qu.ham_heis(n,j=(0,0,4), b=0.0, cyclic=True, sparse=False)"
   ]
  },
  {
   "cell_type": "code",
   "execution_count": 81,
   "metadata": {},
   "outputs": [
    {
     "data": {
      "text/plain": [
       "True"
      ]
     },
     "execution_count": 81,
     "metadata": {},
     "output_type": "execute_result"
    }
   ],
   "source": [
    "np.allclose(h0.A.real, test_h0.A.real)"
   ]
  },
  {
   "cell_type": "code",
   "execution_count": 82,
   "metadata": {},
   "outputs": [],
   "source": [
    "# function to create the single-site operators for a fixed spin direction\n",
    "def h_single_site(n, direction):\n",
    "    assert direction in \"xyz\", \"Wrong direction. Must be one of x,y, or z\"\n",
    "    dims = (2,) * n\n",
    "    single_site_term = qu.pauli(direction)\n",
    "    def gen_term(i):\n",
    "        return qu.ikron(single_site_term, dims, [i])\n",
    "    return sum(map(gen_term, range(0,n)))"
   ]
  },
  {
   "cell_type": "code",
   "execution_count": 83,
   "metadata": {},
   "outputs": [
    {
     "data": {
      "text/plain": [
       "True"
      ]
     },
     "execution_count": 83,
     "metadata": {},
     "output_type": "execute_result"
    }
   ],
   "source": [
    "# test\n",
    "h1 = h_single_site(n,'x')\n",
    "test_h1 = qu.ham_heis(n, j=0.0, b=(-2,0,0), cyclic=True, sparse=False)\n",
    "np.allclose(h1.A.real, test_h1.A.real)"
   ]
  },
  {
   "attachments": {},
   "cell_type": "markdown",
   "metadata": {},
   "source": [
    "Another approach is to cleverly manipulate the `quimb` function `ham_heis` for the 1D Heisenberg model Hamiltonian"
   ]
  },
  {
   "cell_type": "code",
   "execution_count": 84,
   "metadata": {},
   "outputs": [],
   "source": [
    "PauliX = qu.ham_heis(n, j=0, b=(-2,0,0), cyclic=True, sparse=False)  # sum Pauli_X over all sites\n",
    "PauliY = qu.ham_heis(n, j=0, b=(0,-2,0), cyclic=True, sparse=False)  # sum Pauli_Y over all sites\n",
    "PauliZ = qu.ham_heis(n, j=0, b=(0,0,-2), cyclic=True, sparse=False)  # sum Pauli_Z over all sites"
   ]
  },
  {
   "cell_type": "code",
   "execution_count": 85,
   "metadata": {},
   "outputs": [
    {
     "data": {
      "text/plain": [
       "True"
      ]
     },
     "execution_count": 85,
     "metadata": {},
     "output_type": "execute_result"
    }
   ],
   "source": [
    "np.allclose(h1,PauliX)"
   ]
  },
  {
   "cell_type": "code",
   "execution_count": 86,
   "metadata": {},
   "outputs": [],
   "source": [
    "PauliXX = qu.ham_heis(n, j=(4,0,0), b=0, cyclic=True, sparse=False)  # sum Pauli_X x Pauli_X over all sites\n",
    "PauliYY = qu.ham_heis(n, j=(0,4,0), b=0, cyclic=True, sparse=False)  # sum Pauli_Y x Pauli_Y over all sites\n",
    "PauliZZ = qu.ham_heis(n, j=(0,0,4), b=0, cyclic=True, sparse=False)  # sum Pauli_Z x Pauli_Z over all sites"
   ]
  },
  {
   "cell_type": "code",
   "execution_count": 87,
   "metadata": {},
   "outputs": [
    {
     "data": {
      "text/plain": [
       "True"
      ]
     },
     "execution_count": 87,
     "metadata": {},
     "output_type": "execute_result"
    }
   ],
   "source": [
    "np.allclose(h0,PauliZZ)"
   ]
  },
  {
   "attachments": {},
   "cell_type": "markdown",
   "metadata": {},
   "source": [
    "### Generate all terms "
   ]
  },
  {
   "cell_type": "code",
   "execution_count": 88,
   "metadata": {},
   "outputs": [],
   "source": [
    "s = [h_single_site(n,d) for d in 'xyz']\n",
    "ss = [h_two_sites(n,d) for d in 'xyz']"
   ]
  },
  {
   "attachments": {},
   "cell_type": "markdown",
   "metadata": {},
   "source": [
    "We can have a look at the quantum statistics. The single-site operators should all have zero expectation values on the target density matrices because we do not include any external field in the original Hamiltonian"
   ]
  },
  {
   "cell_type": "code",
   "execution_count": 89,
   "metadata": {},
   "outputs": [
    {
     "data": {
      "text/plain": [
       "[1.102302932309248e-17, 1.222912463348638e-19j, -2.459701622509723e-17]"
      ]
     },
     "execution_count": 89,
     "metadata": {},
     "output_type": "execute_result"
    }
   ],
   "source": [
    "# single site\n",
    "[qu.expec(target_eta_beta1, i) for i in s]"
   ]
  },
  {
   "attachments": {},
   "cell_type": "markdown",
   "metadata": {},
   "source": [
    "The two-sites operators should have all the same expectation value because the three spin directions have the same interaction couplings"
   ]
  },
  {
   "cell_type": "code",
   "execution_count": 90,
   "metadata": {},
   "outputs": [
    {
     "data": {
      "text/plain": [
       "[-3.5502047332219147, -3.5502047332219147, -3.5502047332219164]"
      ]
     },
     "execution_count": 90,
     "metadata": {},
     "output_type": "execute_result"
    }
   ],
   "source": [
    "# two sites\n",
    "[qu.expec(target_eta_beta1, i) for i in ss]"
   ]
  },
  {
   "cell_type": "code",
   "execution_count": 91,
   "metadata": {},
   "outputs": [
    {
     "data": {
      "text/plain": [
       "[-3.7370341836426624, -3.7370341836426624, -3.737034183642663]"
      ]
     },
     "execution_count": 91,
     "metadata": {},
     "output_type": "execute_result"
    }
   ],
   "source": [
    "# two sites on the ground state\n",
    "[qu.expec(target_eta_betainfty, i) for i in ss]"
   ]
  },
  {
   "cell_type": "code",
   "execution_count": 92,
   "metadata": {},
   "outputs": [
    {
     "data": {
      "text/plain": [
       "[6.652762880061087e-31, -1.0880721154991988e-32j, 5.6845197314364006e-33]"
      ]
     },
     "execution_count": 92,
     "metadata": {},
     "output_type": "execute_result"
    }
   ],
   "source": [
    "# single site on the ground state\n",
    "[qu.expec(target_eta_betainfty, i) for i in s]"
   ]
  },
  {
   "attachments": {},
   "cell_type": "markdown",
   "metadata": {},
   "source": [
    "## Training of the QBM"
   ]
  },
  {
   "attachments": {},
   "cell_type": "markdown",
   "metadata": {},
   "source": [
    "We use the `compute_grads` function from the [01_trainng.ipynb notebook](./01_training.ipynb):"
   ]
  },
  {
   "cell_type": "code",
   "execution_count": 93,
   "metadata": {},
   "outputs": [],
   "source": [
    "def compute_grads(hi, eta, rho):\n",
    "    \"\"\"Compute gradients given a list of hamiltonian terms (operators)\n",
    "\n",
    "    Args:\n",
    "        hi (List, Tuple): A list of hamiltonian terms\n",
    "        eta (Any): The target density matrix\n",
    "        rho (Any): The QBM density matrix\n",
    "\n",
    "    Returns:\n",
    "        np.ndarray: The array of the gradients\n",
    "    \"\"\"\n",
    "    grads = []\n",
    "    for h in hi:\n",
    "        rho_expect = qu.expec(rho,h)\n",
    "        eta_expect = qu.expec(eta,h)\n",
    "        grads.append(rho_expect-eta_expect)\n",
    "    return np.array(grads)"
   ]
  },
  {
   "cell_type": "code",
   "execution_count": 94,
   "metadata": {},
   "outputs": [
    {
     "name": "stdout",
     "output_type": "stream",
     "text": [
      "Gradients: [ 3.33072986+0.00000000e+00j -2.84784546-1.22291246e-19j\n",
      " -1.13344334+0.00000000e+00j  5.54505061+0.00000000e+00j\n",
      "  5.38270733+0.00000000e+00j  3.86805537+0.00000000e+00j]\n"
     ]
    }
   ],
   "source": [
    "print(f\"Gradients: {compute_grads(s+ss, target_eta_beta1, rho_qbm)}\")"
   ]
  },
  {
   "cell_type": "code",
   "execution_count": 95,
   "metadata": {},
   "outputs": [],
   "source": [
    "# gradient descent!\n",
    "def update_params(params, grads, gamma):\n",
    "    return params - gamma * grads"
   ]
  },
  {
   "attachments": {},
   "cell_type": "markdown",
   "metadata": {},
   "source": [
    "We also need a way to reconstruct the QBM given the new parameters"
   ]
  },
  {
   "cell_type": "code",
   "execution_count": 96,
   "metadata": {},
   "outputs": [],
   "source": [
    "def build_qbm_hamiltonian(params, operators):\n",
    "    return sum([p*o for p,o in zip(params,operators)])"
   ]
  },
  {
   "attachments": {},
   "cell_type": "markdown",
   "metadata": {},
   "source": [
    "Test by comparing the constructed Hamiltonian from the parameters with the Hamiltonian build using `quimb.ham_heis` (remember to rescale the parameters due to the normalization difference between `spin_operator()` and `pauli()`)"
   ]
  },
  {
   "cell_type": "code",
   "execution_count": 97,
   "metadata": {},
   "outputs": [],
   "source": [
    "jnew = [i/4 for i in j]\n",
    "bnew = [-i/2 for i in b]\n",
    "p = jnew+bnew\n",
    "o = ss+s\n",
    "qbm_h = build_qbm_hamiltonian(p,o)"
   ]
  },
  {
   "cell_type": "code",
   "execution_count": 98,
   "metadata": {},
   "outputs": [
    {
     "data": {
      "text/plain": [
       "True"
      ]
     },
     "execution_count": 98,
     "metadata": {},
     "output_type": "execute_result"
    }
   ],
   "source": [
    "np.allclose(qbm_h,qbm_xyz)"
   ]
  },
  {
   "attachments": {},
   "cell_type": "markdown",
   "metadata": {},
   "source": [
    "The paper does not specify the learning rate, but figure 1 shows training curves of up to 2000 iterations"
   ]
  },
  {
   "cell_type": "code",
   "execution_count": 99,
   "metadata": {},
   "outputs": [],
   "source": [
    "# learning rate\n",
    "gamma = 0.2\n",
    "# number of epochs\n",
    "epochs = 2000"
   ]
  },
  {
   "cell_type": "code",
   "execution_count": 100,
   "metadata": {},
   "outputs": [],
   "source": [
    "# function to compute the quantum relative entropy between the target density and the QBM\n",
    "# since we will deal with a pure state later, which has zero eigenvalues and its log goes ton NAN, we implement a fix\n",
    "def qre(eta, h_qbm):\n",
    "    \"\"\"Quantum relative entropy\n",
    "\n",
    "    Args:\n",
    "        eta (Any): Target density matrix\n",
    "        h_qbm (Any): Hamiltonian of the QBM\n",
    "    \"\"\"\n",
    "    # check if rank<nqubits\n",
    "    if np.linalg.matrix_rank(eta.A) == 1:\n",
    "        h = 0\n",
    "    else:\n",
    "        evals = qu.eigvalsh(eta)\n",
    "        h = np.sum(evals * np.log(evals))\n",
    "    # use log base e all the way\n",
    "    evals = qu.eigvalsh(h_qbm)\n",
    "    z = np.sum(np.exp(evals))\n",
    "    eta_stat = qu.expec(eta, h_qbm)\n",
    "    return h-eta_stat+qu.log(z)\n"
   ]
  },
  {
   "attachments": {},
   "cell_type": "markdown",
   "metadata": {},
   "source": [
    "### Train for $\\beta=1$"
   ]
  },
  {
   "cell_type": "code",
   "execution_count": 101,
   "metadata": {},
   "outputs": [],
   "source": [
    "target_eta = target_eta_beta1"
   ]
  },
  {
   "cell_type": "code",
   "execution_count": 102,
   "metadata": {},
   "outputs": [
    {
     "name": "stdout",
     "output_type": "stream",
     "text": [
      "Quantum relative entropy: 17.861734254529363\n",
      "Max abs gradient: 7.0097154970183615\n",
      "Quantum relative entropy: 0.00903985152785225\n",
      "Max abs gradient: 0.08131497090378853\n",
      "Quantum relative entropy: 0.0008405681236549611\n",
      "Max abs gradient: 0.025315494545979974\n",
      "Quantum relative entropy: 0.00010278290825915803\n",
      "Max abs gradient: 0.009061222374977494\n",
      "Quantum relative entropy: 1.3581865188072584e-05\n",
      "Max abs gradient: 0.0033485820730783833\n",
      "Quantum relative entropy: 1.845806599121147e-06\n",
      "Max abs gradient: 0.0012482253376231807\n",
      "Quantum relative entropy: 2.5395418923324087e-07\n",
      "Max abs gradient: 0.0004664611529830993\n",
      "Quantum relative entropy: 3.516353075383449e-08\n",
      "Max abs gradient: 0.0001744472609974544\n",
      "Quantum relative entropy: 4.887086291205378e-09\n",
      "Max abs gradient: 6.525469088730847e-05\n",
      "Quantum relative entropy: 6.808260621937734e-10\n",
      "Max abs gradient: 2.441122049390196e-05\n",
      "Quantum relative entropy: 9.49960110574466e-11\n",
      "Max abs gradient: 9.132222438486015e-06\n",
      "Quantum relative entropy: 1.326405651980167e-11\n",
      "Max abs gradient: 3.4163809888611963e-06\n",
      "Quantum relative entropy: 1.829647544582258e-12\n",
      "Max abs gradient: 1.2780768787038917e-06\n",
      "Quantum relative entropy: 2.824407374646398e-13\n",
      "Max abs gradient: 4.781321266039214e-07\n",
      "Quantum relative entropy: 3.730349362740526e-14\n",
      "Max abs gradient: 1.7887059600283171e-07\n",
      "Quantum relative entropy: 1.5987211554602254e-14\n",
      "Max abs gradient: 6.691600559313583e-08\n",
      "Quantum relative entropy: -8.881784197001252e-15\n",
      "Max abs gradient: 2.5033470793867744e-08\n",
      "Quantum relative entropy: 1.7763568394002505e-15\n",
      "Max abs gradient: 9.365093957705752e-09\n",
      "Quantum relative entropy: 3.552713678800501e-15\n",
      "Max abs gradient: 3.5035086465469974e-09\n",
      "Quantum relative entropy: 1.2434497875801753e-14\n",
      "Max abs gradient: 1.3106723683485815e-09\n",
      "Quantum relative entropy: 1.4210854715202004e-14\n",
      "Max abs gradient: 4.903264283706458e-10\n",
      "Quantum relative entropy: 1.7763568394002505e-14\n",
      "Max abs gradient: 1.834325394232785e-10\n",
      "Max gradient smaller than precision\n",
      "Final parameters: [-1.00000000e+00+0.00000000e+00j -1.00000000e+00+0.00000000e+00j\n",
      " -1.00000000e+00+0.00000000e+00j -1.78411076e-10+3.49186046e-19j\n",
      "  6.09451105e-12+1.08013573e-17j  4.32232011e-11+4.59943785e-19j]\n"
     ]
    }
   ],
   "source": [
    "# stop when gradient is smaller than epsilon, at the final number of epochs\n",
    "eps = 1e-10\n",
    "# keep track of loss and gradients\n",
    "qre_hist = []\n",
    "grad_hist = []\n",
    "# init params\n",
    "p = j+b\n",
    "# operators\n",
    "o = ss+s\n",
    "for i in range(epochs):\n",
    "    # create qbm hamiltonians\n",
    "    qbm_h = build_qbm_hamiltonian(p,o)\n",
    "    # qbm_h = qbm_h.real\n",
    "    qre_hist.append(qre(target_eta, qbm_h))\n",
    "    # create qbm state\n",
    "    rho = qu.thermal_state(qbm_h, -1.0)\n",
    "    # grad and update\n",
    "    grads = compute_grads(o, target_eta, rho)\n",
    "    grad_hist.append(np.abs(grads))\n",
    "    p = update_params(p, grads, gamma)\n",
    "    # print diagnostic\n",
    "    if (i % 10)==0:\n",
    "        print(f\"Quantum relative entropy: {qre_hist[-1]}\")\n",
    "        print(f\"Max abs gradient: {np.max(grad_hist[-1])}\")\n",
    "    if np.max(grad_hist[-1]) < eps:\n",
    "        print(f\"Max gradient smaller than precision\")\n",
    "        break\n",
    "print(f\"Final parameters: {p}\")"
   ]
  },
  {
   "cell_type": "code",
   "execution_count": 103,
   "metadata": {},
   "outputs": [],
   "source": [
    "beta1_qre = qre_hist\n",
    "beta1_grads = grad_hist\n",
    "beta1_params = p"
   ]
  },
  {
   "cell_type": "code",
   "execution_count": 104,
   "metadata": {},
   "outputs": [
    {
     "data": {
      "text/plain": [
       "Text(0.5, 0.98, '$\\\\beta=1$')"
      ]
     },
     "execution_count": 104,
     "metadata": {},
     "output_type": "execute_result"
    },
    {
     "data": {
      "image/png": "[encoded data removed]",
      "text/plain": [
       "<Figure size 1000x600 with 2 Axes>"
      ]
     },
     "metadata": {},
     "output_type": "display_data"
    }
   ],
   "source": [
    "fig, ax = plt.subplots(ncols=2,figsize=(10,6))\n",
    "ax[0].plot(qre_hist)\n",
    "ax[0].set_xlabel(\"epoch number\")\n",
    "ax[0].set_ylabel(\"quantum relative entropy\")\n",
    "ax[0].set_yscale('log')\n",
    "ax[1].plot(np.max(grad_hist,axis=1))\n",
    "ax[1].set_xlabel(\"epoch number\")\n",
    "ax[1].set_ylabel(\"Max. of gradients\")\n",
    "ax[1].set_yscale('log')\n",
    "fig.suptitle(r\"$\\beta=1$\")\n"
   ]
  },
  {
   "attachments": {},
   "cell_type": "markdown",
   "metadata": {},
   "source": [
    "Here are the learned Hamiltonian parameters:"
   ]
  },
  {
   "cell_type": "code",
   "execution_count": 105,
   "metadata": {},
   "outputs": [
    {
     "name": "stdout",
     "output_type": "stream",
     "text": [
      "Learned interaction terms: [-1.+0.j -1.+0.j -1.+0.j]\n",
      "Learned fields terms: [-1.78411076e-10+3.49186046e-19j  6.09451105e-12+1.08013573e-17j\n",
      "  4.32232011e-11+4.59943785e-19j]\n"
     ]
    }
   ],
   "source": [
    "print(f\"Learned interaction terms: {beta1_params[:3]}\")\n",
    "print(f\"Learned fields terms: {beta1_params[3:]}\")"
   ]
  },
  {
   "attachments": {},
   "cell_type": "markdown",
   "metadata": {},
   "source": [
    "They match with the target Hamiltonian up to the rescaling given by $\\beta=-1$ in the QBM Gibbs state definition."
   ]
  },
  {
   "attachments": {},
   "cell_type": "markdown",
   "metadata": {},
   "source": [
    "### Train for $\\beta=2$"
   ]
  },
  {
   "cell_type": "code",
   "execution_count": 106,
   "metadata": {},
   "outputs": [],
   "source": [
    "target_eta = target_eta_beta2"
   ]
  },
  {
   "cell_type": "code",
   "execution_count": 107,
   "metadata": {},
   "outputs": [
    {
     "name": "stdout",
     "output_type": "stream",
     "text": [
      "Quantum relative entropy: 18.80131662970301\n",
      "Max abs gradient: 7.185123033095685\n",
      "Quantum relative entropy: 0.09575098072188482\n",
      "Max abs gradient: 0.12177417842754057\n",
      "Quantum relative entropy: 0.04606879178378165\n",
      "Max abs gradient: 0.06429357142724923\n",
      "Quantum relative entropy: 0.028226411437152876\n",
      "Max abs gradient: 0.04396076437187135\n",
      "Quantum relative entropy: 0.01917303161149775\n",
      "Max abs gradient: 0.03308526197016759\n",
      "Quantum relative entropy: 0.013811296924345129\n",
      "Max abs gradient: 0.02625211785283721\n",
      "Quantum relative entropy: 0.010338261469410526\n",
      "Max abs gradient: 0.02154535914238709\n",
      "Quantum relative entropy: 0.007951986064249184\n",
      "Max abs gradient: 0.01810325543663094\n",
      "Quantum relative entropy: 0.006242252320205921\n",
      "Max abs gradient: 0.015477307136100293\n",
      "Quantum relative entropy: 0.00497824137404379\n",
      "Max abs gradient: 0.01340986625488938\n",
      "Quantum relative entropy: 0.00402072917486862\n",
      "Max abs gradient: 0.011741927789458817\n",
      "Quantum relative entropy: 0.003281159696513214\n",
      "Max abs gradient: 0.010369853743238622\n",
      "Quantum relative entropy: 0.0027007920868591384\n",
      "Max abs gradient: 0.009223114656057518\n",
      "Quantum relative entropy: 0.0022393150547408425\n",
      "Max abs gradient: 0.008252001319170699\n",
      "Quantum relative entropy: 0.0018682760911588048\n",
      "Max abs gradient: 0.007420445956845878\n",
      "Quantum relative entropy: 0.0015671128815846203\n",
      "Max abs gradient: 0.006701629424583633\n",
      "Quantum relative entropy: 0.0013206633819073943\n",
      "Max abs gradient: 0.006075187049645159\n",
      "Quantum relative entropy: 0.0011175522689406137\n",
      "Max abs gradient: 0.005525371894766984\n",
      "Quantum relative entropy: 0.0009491157978338549\n",
      "Max abs gradient: 0.005039812710123215\n",
      "Quantum relative entropy: 0.0008086678542191805\n",
      "Max abs gradient: 0.004608653073379543\n",
      "Quantum relative entropy: 0.0006909881581300681\n",
      "Max abs gradient: 0.004223941667027109\n",
      "Quantum relative entropy: 0.0005919586035645352\n",
      "Max abs gradient: 0.0038791920611034314\n",
      "Quantum relative entropy: 0.0005083004881605291\n",
      "Max abs gradient: 0.0035690593862036657\n",
      "Quantum relative entropy: 0.0004373817693661408\n",
      "Max abs gradient: 0.003289099175923571\n",
      "Quantum relative entropy: 0.0003770737588091322\n",
      "Max abs gradient: 0.00303558497734846\n",
      "Quantum relative entropy: 0.00032564325906747627\n",
      "Max abs gradient: 0.002805368655109497\n",
      "Quantum relative entropy: 0.0002816704682686577\n",
      "Max abs gradient: 0.0025957721548852675\n",
      "Quantum relative entropy: 0.00024398585730978084\n",
      "Max abs gradient: 0.0024045027515162687\n",
      "Quantum relative entropy: 0.000211621180838506\n",
      "Max abs gradient: 0.0022295860380867616\n",
      "Quantum relative entropy: 0.0001837711318657398\n",
      "Max abs gradient: 0.0020693124650490446\n",
      "Quantum relative entropy: 0.00015976308857901245\n",
      "Max abs gradient: 0.0019221943335931968\n",
      "Quantum relative entropy: 0.00013903307247176144\n",
      "Max abs gradient: 0.0017869309309910264\n",
      "Quantum relative entropy: 0.0001211065142321388\n",
      "Max abs gradient: 0.001662380062367852\n",
      "Quantum relative entropy: 0.00010558276789041088\n",
      "Max abs gradient: 0.0015475346486422126\n",
      "Quantum relative entropy: 9.212257244683997e-05\n",
      "Max abs gradient: 0.001441503367758834\n",
      "Quantum relative entropy: 8.043784399092146e-05\n",
      "Max abs gradient: 0.0013434945456749503\n",
      "Quantum relative entropy: 7.028332419523053e-05\n",
      "Max abs gradient: 0.0012528026767726352\n",
      "Quantum relative entropy: 6.144971458610371e-05\n",
      "Max abs gradient: 0.0011687970853211382\n",
      "Quantum relative entropy: 5.375800894569238e-05\n",
      "Max abs gradient: 0.0010909123405022925\n",
      "Quantum relative entropy: 4.7054794599432626e-05\n",
      "Max abs gradient: 0.001018640115795666\n",
      "Quantum relative entropy: 4.120834260135098e-05\n",
      "Max abs gradient: 0.0009515222442177951\n",
      "Quantum relative entropy: 3.610534275111377e-05\n",
      "Max abs gradient: 0.0008891447686614207\n",
      "Quantum relative entropy: 3.164816797962544e-05\n",
      "Max abs gradient: 0.0008311328243086891\n",
      "Quantum relative entropy: 2.7752574403905328e-05\n",
      "Max abs gradient: 0.0007771462197845302\n",
      "Quantum relative entropy: 2.4345763879551896e-05\n",
      "Max abs gradient: 0.000726875607823807\n",
      "Quantum relative entropy: 2.136474478220407e-05\n",
      "Max abs gradient: 0.0006800391550272344\n",
      "Quantum relative entropy: 1.8754944001386775e-05\n",
      "Max abs gradient: 0.0006363796361208429\n",
      "Quantum relative entropy: 1.646902701324393e-05\n",
      "Max abs gradient: 0.0005956618905211819\n",
      "Quantum relative entropy: 1.4465893894310966e-05\n",
      "Max abs gradient: 0.0005576705890799616\n",
      "Quantum relative entropy: 1.2709821874068439e-05\n",
      "Max abs gradient: 0.0005222082674820605\n",
      "Quantum relative entropy: 1.1169733173943541e-05\n",
      "Max abs gradient: 0.0004890935896728621\n",
      "Quantum relative entropy: 9.818567125563504e-06\n",
      "Max abs gradient: 0.0004581598100990014\n",
      "Quantum relative entropy: 8.632741685943301e-06\n",
      "Max abs gradient: 0.00042925340853505745\n",
      "Quantum relative entropy: 7.59169040165375e-06\n",
      "Max abs gradient: 0.00040223287504481675\n",
      "Quantum relative entropy: 6.677464305937519e-06\n",
      "Max abs gradient: 0.00037696762613759205\n",
      "Quantum relative entropy: 5.874387923654467e-06\n",
      "Max abs gradient: 0.0003533370354436016\n",
      "Quantum relative entropy: 5.168763014040678e-06\n",
      "Max abs gradient: 0.0003312295650732544\n",
      "Quantum relative entropy: 4.548612029253718e-06\n",
      "Max abs gradient: 0.0003105419855247149\n",
      "Quantum relative entropy: 4.003456204770828e-06\n",
      "Max abs gradient: 0.0002911786735748656\n",
      "Quantum relative entropy: 3.5241234073168926e-06\n",
      "Max abs gradient: 0.0002730509791315505\n",
      "Quantum relative entropy: 3.1025813740370722e-06\n",
      "Max abs gradient: 0.0002560766533927783\n",
      "Quantum relative entropy: 2.7317927582259927e-06\n",
      "Max abs gradient: 0.0002401793309889655\n",
      "Quantum relative entropy: 2.405589388132512e-06\n",
      "Max abs gradient: 0.0002252880606694596\n",
      "Quantum relative entropy: 2.118562679953584e-06\n",
      "Max abs gradient: 0.00021133687894980824\n",
      "Quantum relative entropy: 1.8659685707689277e-06\n",
      "Max abs gradient: 0.00019826442228376706\n",
      "Quantum relative entropy: 1.6436441292455584e-06\n",
      "Max abs gradient: 0.00018601357369707472\n",
      "Quantum relative entropy: 1.4479354781826714e-06\n",
      "Max abs gradient: 0.00017453114028009864\n",
      "Quantum relative entropy: 1.2756343110709167e-06\n",
      "Max abs gradient: 0.00016376755864033754\n",
      "Quantum relative entropy: 1.1239228960846503e-06\n",
      "Max abs gradient: 0.00015367662519683023\n",
      "Quantum relative entropy: 9.90325858651886e-07\n",
      "Max abs gradient: 0.0001442152491857307\n",
      "Quantum relative entropy: 8.726679645576496e-07\n",
      "Max abs gradient: 0.00013534322595898374\n",
      "Quantum relative entropy: 7.690373990953958e-07\n",
      "Max abs gradient: 0.0001270230288756835\n",
      "Quantum relative entropy: 6.777532810531284e-07\n",
      "Max abs gradient: 0.00011921961781169443\n",
      "Quantum relative entropy: 5.973379444412785e-07\n",
      "Max abs gradient: 0.0001119002629503818\n",
      "Quantum relative entropy: 5.26491298558085e-07\n",
      "Max abs gradient: 0.00010503438240672125\n",
      "Quantum relative entropy: 4.6407011922156016e-07\n",
      "Max abs gradient: 9.859339233964093e-05\n",
      "Quantum relative entropy: 4.090684626589791e-07\n",
      "Max abs gradient: 9.255056866530609e-05\n",
      "Quantum relative entropy: 3.606011524937003e-07\n",
      "Max abs gradient: 8.688091919983876e-05\n",
      "Quantum relative entropy: 3.178892988842108e-07\n",
      "Max abs gradient: 8.156106535661678e-05\n",
      "Quantum relative entropy: 2.80247075323814e-07\n",
      "Max abs gradient: 7.656913271381072e-05\n",
      "Quantum relative entropy: 2.470710498414519e-07\n",
      "Max abs gradient: 7.188464951290996e-05\n",
      "Quantum relative entropy: 2.1782974002348965e-07\n",
      "Max abs gradient: 6.748845268766956e-05\n",
      "Quantum relative entropy: 1.9205526058385658e-07\n",
      "Max abs gradient: 6.336260049488729e-05\n",
      "Quantum relative entropy: 1.6933548252495711e-07\n",
      "Max abs gradient: 5.9490291578256915e-05\n",
      "Quantum relative entropy: 1.493075281189249e-07\n",
      "Max abs gradient: 5.585578966105231e-05\n",
      "Quantum relative entropy: 1.316517810323603e-07\n",
      "Max abs gradient: 5.24443534821728e-05\n",
      "Quantum relative entropy: 1.1608667094265002e-07\n",
      "Max abs gradient: 4.9242171859642525e-05\n",
      "Quantum relative entropy: 1.02364193566018e-07\n",
      "Max abs gradient: 4.6236302949864694e-05\n",
      "Quantum relative entropy: 9.026573977166663e-08\n",
      "Max abs gradient: 4.341461794243884e-05\n",
      "Quantum relative entropy: 7.959884840147424e-08\n",
      "Max abs gradient: 4.076574843692171e-05\n",
      "Quantum relative entropy: 7.019382763928661e-08\n",
      "Max abs gradient: 3.8279037516186776e-05\n",
      "Quantum relative entropy: 6.190111889736727e-08\n",
      "Max abs gradient: 3.594449402255506e-05\n",
      "Quantum relative entropy: 5.458906571220723e-08\n",
      "Max abs gradient: 3.375274998118627e-05\n",
      "Quantum relative entropy: 4.8141437503090856e-08\n",
      "Max abs gradient: 3.169502077371433e-05\n",
      "Quantum relative entropy: 4.2456029802906414e-08\n",
      "Max abs gradient: 2.976306816560026e-05\n",
      "Quantum relative entropy: 3.744255749893455e-08\n",
      "Max abs gradient: 2.7949165439355994e-05\n",
      "Quantum relative entropy: 3.3021528622612095e-08\n",
      "Max abs gradient: 2.6246065203405777e-05\n",
      "Quantum relative entropy: 2.912288366019311e-08\n",
      "Max abs gradient: 2.4646968957764415e-05\n",
      "Quantum relative entropy: 2.5684816051807502e-08\n",
      "Max abs gradient: 2.3145498937005016e-05\n",
      "Quantum relative entropy: 2.2652898223896045e-08\n",
      "Max abs gradient: 2.1735671592804096e-05\n",
      "Quantum relative entropy: 1.9979037091388818e-08\n",
      "Max abs gradient: 2.0411872881709314e-05\n",
      "Quantum relative entropy: 1.762099799407224e-08\n",
      "Max abs gradient: 1.9168835089011793e-05\n",
      "Quantum relative entropy: 1.554135309334015e-08\n",
      "Max abs gradient: 1.800161522158561e-05\n",
      "Quantum relative entropy: 1.3707300183796178e-08\n",
      "Max abs gradient: 1.6905574706793658e-05\n",
      "Quantum relative entropy: 1.2089795831116135e-08\n",
      "Max abs gradient: 1.5876360419220248e-05\n",
      "Quantum relative entropy: 1.0663228522389545e-08\n",
      "Max abs gradient: 1.4909886945968509e-05\n",
      "Quantum relative entropy: 9.405017209473954e-09\n",
      "Max abs gradient: 1.4002319938200003e-05\n",
      "Quantum relative entropy: 8.295391040746836e-09\n",
      "Max abs gradient: 1.3150060491184945e-05\n",
      "Quantum relative entropy: 7.316682371083516e-09\n",
      "Max abs gradient: 1.2349730609262366e-05\n",
      "Quantum relative entropy: 6.4535115029684675e-09\n",
      "Max abs gradient: 1.1598159496362115e-05\n",
      "Quantum relative entropy: 5.692172067028878e-09\n",
      "Max abs gradient: 1.0892370743142976e-05\n",
      "Quantum relative entropy: 5.020662996457759e-09\n",
      "Max abs gradient: 1.0229570330366755e-05\n",
      "Quantum relative entropy: 4.428418520774358e-09\n",
      "Max abs gradient: 9.607135367684094e-06\n",
      "Quantum relative entropy: 3.906048817725605e-09\n",
      "Max abs gradient: 9.022603508768157e-06\n",
      "Quantum relative entropy: 3.4452973807219678e-09\n",
      "Max abs gradient: 8.473663104080487e-06\n",
      "Quantum relative entropy: 3.0389344374270877e-09\n",
      "Max abs gradient: 7.958143926067862e-06\n",
      "Quantum relative entropy: 2.6805153652276204e-09\n",
      "Max abs gradient: 7.474008411278987e-06\n",
      "Quantum relative entropy: 2.3643629276648426e-09\n",
      "Max abs gradient: 7.0193435641741075e-06\n",
      "Quantum relative entropy: 2.0854749038790033e-09\n",
      "Max abs gradient: 6.592353284595731e-06\n",
      "Quantum relative entropy: 1.8394992196135718e-09\n",
      "Max abs gradient: 6.19135118462566e-06\n",
      "Quantum relative entropy: 1.6225705223860132e-09\n",
      "Max abs gradient: 5.81475386596253e-06\n",
      "Quantum relative entropy: 1.4312568907826062e-09\n",
      "Max abs gradient: 5.461074571222468e-06\n",
      "Quantum relative entropy: 1.2624461476207216e-09\n",
      "Max abs gradient: 5.128917346830519e-06\n",
      "Quantum relative entropy: 1.113598102620017e-09\n",
      "Max abs gradient: 4.81697136223147e-06\n",
      "Quantum relative entropy: 9.822294089190109e-10\n",
      "Max abs gradient: 4.524005808637099e-06\n",
      "Quantum relative entropy: 8.66403837562757e-10\n",
      "Max abs gradient: 4.248864901246208e-06\n",
      "Quantum relative entropy: 7.642348975878122e-10\n",
      "Max abs gradient: 3.9904634001608486e-06\n",
      "Quantum relative entropy: 6.741593949755043e-10\n",
      "Max abs gradient: 3.747782164609248e-06\n",
      "Quantum relative entropy: 5.94649662843949e-10\n",
      "Max abs gradient: 3.519864231193992e-06\n",
      "Quantum relative entropy: 5.244764622602816e-10\n",
      "Max abs gradient: 3.305810953424526e-06\n",
      "Quantum relative entropy: 4.6263437525340123e-10\n",
      "Max abs gradient: 3.104778430351729e-06\n",
      "Quantum relative entropy: 4.0812864199324395e-10\n",
      "Max abs gradient: 2.9159742189754922e-06\n",
      "Quantum relative entropy: 3.6000358250021236e-10\n",
      "Max abs gradient: 2.738654095058024e-06\n",
      "Quantum relative entropy: 3.175699703206192e-10\n",
      "Max abs gradient: 2.5721192504768453e-06\n",
      "Quantum relative entropy: 2.801421317144559e-10\n",
      "Max abs gradient: 2.415713368453254e-06\n",
      "Quantum relative entropy: 2.4703439294171403e-10\n",
      "Max abs gradient: 2.2688201433140875e-06\n",
      "Quantum relative entropy: 2.1796608962176833e-10\n",
      "Max abs gradient: 2.130860774940402e-06\n",
      "Quantum relative entropy: 1.921947045957495e-10\n",
      "Max abs gradient: 2.0012917478773318e-06\n",
      "Quantum relative entropy: 1.695887874575419e-10\n",
      "Max abs gradient: 1.879602573584549e-06\n",
      "Quantum relative entropy: 1.496118784416467e-10\n",
      "Max abs gradient: 1.7653139128270823e-06\n",
      "Quantum relative entropy: 1.320010767358326e-10\n",
      "Max abs gradient: 1.6579755439671828e-06\n",
      "Quantum relative entropy: 1.1643663810900762e-10\n",
      "Max abs gradient: 1.5571646883039136e-06\n",
      "Quantum relative entropy: 1.0269474159940728e-10\n",
      "Max abs gradient: 1.4624842794574988e-06\n",
      "Quantum relative entropy: 9.055867167262477e-11\n",
      "Max abs gradient: 1.3735614210474978e-06\n",
      "Quantum relative entropy: 7.993250505933247e-11\n",
      "Max abs gradient: 1.2900459327447322e-06\n",
      "Quantum relative entropy: 7.049649752843834e-11\n",
      "Max abs gradient: 1.2116088936586777e-06\n",
      "Quantum relative entropy: 6.215472581061476e-11\n",
      "Max abs gradient: 1.1379414535106491e-06\n",
      "Quantum relative entropy: 5.4846793773322133e-11\n",
      "Max abs gradient: 1.0687535043629737e-06\n",
      "Quantum relative entropy: 4.8412829301014426e-11\n",
      "Max abs gradient: 1.0037726227984933e-06\n",
      "Quantum relative entropy: 4.2660985855036415e-11\n",
      "Max abs gradient: 9.427429463748638e-07\n",
      "Quantum relative entropy: 3.764100142689131e-11\n",
      "Max abs gradient: 8.854241722033862e-07\n",
      "Quantum relative entropy: 3.321432018310588e-11\n",
      "Max abs gradient: 8.315906523392869e-07\n",
      "Quantum relative entropy: 2.929567699538893e-11\n",
      "Max abs gradient: 7.810304163413662e-07\n",
      "Quantum relative entropy: 2.5874413722704048e-11\n",
      "Max abs gradient: 7.335444052181117e-07\n",
      "Quantum relative entropy: 2.2822632672614418e-11\n",
      "Max abs gradient: 6.889456876102429e-07\n",
      "Quantum relative entropy: 2.014033384512004e-11\n",
      "Max abs gradient: 6.470586657592037e-07\n",
      "Quantum relative entropy: 1.77280412572145e-11\n",
      "Max abs gradient: 6.077184648844991e-07\n",
      "Quantum relative entropy: 1.566746732351021e-11\n",
      "Max abs gradient: 5.707702013246774e-07\n",
      "Quantum relative entropy: 1.3798739928461146e-11\n",
      "Max abs gradient: 5.360684509625457e-07\n",
      "Quantum relative entropy: 1.2214229627716122e-11\n",
      "Max abs gradient: 5.034765924172291e-07\n",
      "Quantum relative entropy: 1.077893330148072e-11\n",
      "Max abs gradient: 4.728663216546636e-07\n",
      "Quantum relative entropy: 9.478640095039736e-12\n",
      "Max abs gradient: 4.4411717325942845e-07\n",
      "Quantum relative entropy: 8.398615136684384e-12\n",
      "Max abs gradient: 4.1711595955007397e-07\n",
      "Quantum relative entropy: 7.389644451905042e-12\n",
      "Max abs gradient: 3.917564201927348e-07\n",
      "Quantum relative entropy: 6.515676886920119e-12\n",
      "Max abs gradient: 3.679387132748957e-07\n",
      "Quantum relative entropy: 5.7482907322992105e-12\n",
      "Max abs gradient: 3.455691035547659e-07\n",
      "Quantum relative entropy: 5.115907697472721e-12\n",
      "Max abs gradient: 3.2455952769794294e-07\n",
      "Quantum relative entropy: 4.504840944719035e-12\n",
      "Max abs gradient: 3.048273384820277e-07\n",
      "Quantum relative entropy: 3.964828465541359e-12\n",
      "Max abs gradient: 2.8629480786079853e-07\n",
      "Quantum relative entropy: 3.488764832582092e-12\n",
      "Max abs gradient: 2.688890283764067e-07\n",
      "Quantum relative entropy: 3.0944136142352363e-12\n",
      "Max abs gradient: 2.525414863896458e-07\n",
      "Quantum relative entropy: 2.7249313916399842e-12\n",
      "Max abs gradient: 2.3718784802895243e-07\n",
      "Quantum relative entropy: 2.3874235921539366e-12\n",
      "Max abs gradient: 2.2276766165063577e-07\n",
      "Quantum relative entropy: 2.1280754936015e-12\n",
      "Max abs gradient: 2.0922419752267274e-07\n",
      "Quantum relative entropy: 1.8900436771218665e-12\n",
      "Max abs gradient: 1.9650414451177767e-07\n",
      "Quantum relative entropy: 1.666222715357435e-12\n",
      "Max abs gradient: 1.8455742623046945e-07\n",
      "Quantum relative entropy: 1.4850343177386094e-12\n",
      "Max abs gradient: 1.7333704160904517e-07\n",
      "Quantum relative entropy: 1.2576606422953773e-12\n",
      "Max abs gradient: 1.627988193142471e-07\n",
      "Quantum relative entropy: 1.1297629498585593e-12\n",
      "Max abs gradient: 1.5290128185796448e-07\n",
      "Quantum relative entropy: 1.0409451078885468e-12\n",
      "Max abs gradient: 1.4360548483693947e-07\n",
      "Quantum relative entropy: 9.166001291305292e-13\n",
      "Max abs gradient: 1.3487485928109777e-07\n",
      "Quantum relative entropy: 7.744915819785092e-13\n",
      "Max abs gradient: 1.2667503002106173e-07\n",
      "Quantum relative entropy: 7.496225862269057e-13\n",
      "Max abs gradient: 1.1897369978086658e-07\n",
      "Quantum relative entropy: 5.933031843596837e-13\n",
      "Max abs gradient: 1.1174059100227396e-07\n",
      "Quantum relative entropy: 5.400124791776761e-13\n",
      "Max abs gradient: 1.0494722024745329e-07\n",
      "Quantum relative entropy: 4.831690603168681e-13\n",
      "Max abs gradient: 9.856688221177023e-08\n",
      "Quantum relative entropy: 5.009326287108706e-13\n",
      "Max abs gradient: 9.257443167598467e-08\n",
      "Quantum relative entropy: 3.979039320256561e-13\n",
      "Max abs gradient: 8.694630926342484e-08\n",
      "Quantum relative entropy: 3.694822225952521e-13\n",
      "Max abs gradient: 8.166034115575371e-08\n",
      "Quantum relative entropy: 3.055333763768431e-13\n",
      "Max abs gradient: 7.66957479747532e-08\n",
      "Quantum relative entropy: 2.7711166694643907e-13\n",
      "Max abs gradient: 7.203298180158413e-08\n",
      "Quantum relative entropy: 2.5579538487363607e-13\n",
      "Max abs gradient: 6.765370041961205e-08\n",
      "Quantum relative entropy: 2.3447910280083306e-13\n",
      "Max abs gradient: 6.354065051894509e-08\n",
      "Quantum relative entropy: 1.9895196601282805e-13\n",
      "Max abs gradient: 5.96776499328655e-08\n",
      "Quantum relative entropy: 1.4566126083082054e-13\n",
      "Max abs gradient: 5.60495179158238e-08\n",
      "Quantum relative entropy: 1.6342482922482304e-13\n",
      "Max abs gradient: 5.264195745979805e-08\n",
      "Quantum relative entropy: 1.5987211554602254e-13\n",
      "Max abs gradient: 4.944155485020474e-08\n",
      "Quantum relative entropy: 9.947598300641403e-14\n",
      "Max abs gradient: 4.643573259244249e-08\n",
      "Quantum relative entropy: 1.3145040611561853e-13\n",
      "Max abs gradient: 4.3612649491819866e-08\n",
      "Quantum relative entropy: 1.0302869668521453e-13\n",
      "Max abs gradient: 4.0961196212663253e-08\n",
      "Final parameters: [-1.99999877e+00+0.00000000e+00j -1.99999877e+00+0.00000000e+00j\n",
      " -1.99999877e+00+0.00000000e+00j -3.40640871e-08-9.25669089e-20j\n",
      "  1.18852483e-09+1.62061867e-18j  8.56620133e-09+7.76329248e-22j]\n"
     ]
    }
   ],
   "source": [
    "# stop when gradient is smaller than epsilon, at the final number of epochs\n",
    "eps = 1e-10\n",
    "# keep track of loss and gradients\n",
    "qre_hist = []\n",
    "grad_hist = []\n",
    "# init params\n",
    "p = j+b\n",
    "# operators\n",
    "o = ss+s\n",
    "for i in range(epochs):\n",
    "    # create qbm hamiltonians\n",
    "    qbm_h = build_qbm_hamiltonian(p,o)\n",
    "    # qbm_h = qbm_h.real\n",
    "    qre_hist.append(qre(target_eta, qbm_h))\n",
    "    # create qbm state\n",
    "    rho = qu.thermal_state(qbm_h, -1.0)\n",
    "    # grad and update\n",
    "    grads = compute_grads(o, target_eta, rho)\n",
    "    grad_hist.append(np.abs(grads))\n",
    "    p = update_params(p, grads, gamma)\n",
    "    # print diagnostic\n",
    "    if (i % 10)==0:\n",
    "        print(f\"Quantum relative entropy: {qre_hist[-1]}\")\n",
    "        print(f\"Max abs gradient: {np.max(grad_hist[-1])}\")\n",
    "    if np.max(grad_hist[-1]) < eps:\n",
    "        print(f\"Max gradient smaller than precision\")\n",
    "        break\n",
    "print(f\"Final parameters: {p}\")"
   ]
  },
  {
   "cell_type": "code",
   "execution_count": 108,
   "metadata": {},
   "outputs": [],
   "source": [
    "beta2_qre = qre_hist\n",
    "beta2_grads = grad_hist\n",
    "beta2_params = p"
   ]
  },
  {
   "cell_type": "code",
   "execution_count": 109,
   "metadata": {},
   "outputs": [
    {
     "data": {
      "text/plain": [
       "Text(0.5, 0.98, '$\\\\beta=2$')"
      ]
     },
     "execution_count": 109,
     "metadata": {},
     "output_type": "execute_result"
    },
    {
     "data": {
      "image/png": "[encoded data removed]",
      "text/plain": [
       "<Figure size 1000x600 with 2 Axes>"
      ]
     },
     "metadata": {},
     "output_type": "display_data"
    }
   ],
   "source": [
    "fig, ax = plt.subplots(ncols=2,figsize=(10,6))\n",
    "ax[0].plot(qre_hist)\n",
    "ax[0].set_xlabel(\"epoch number\")\n",
    "ax[0].set_ylabel(\"quantum relative entropy\")\n",
    "ax[0].set_yscale('log')\n",
    "ax[1].plot(np.max(grad_hist,axis=1))\n",
    "ax[1].set_xlabel(\"epoch number\")\n",
    "ax[1].set_ylabel(\"Max. of gradients\")\n",
    "ax[1].set_yscale('log')\n",
    "fig.suptitle(r\"$\\beta=2$\")"
   ]
  },
  {
   "cell_type": "code",
   "execution_count": 110,
   "metadata": {},
   "outputs": [
    {
     "name": "stdout",
     "output_type": "stream",
     "text": [
      "Learned interaction terms: [-1.99999877+0.j -1.99999877+0.j -1.99999877+0.j]\n",
      "Learned fields terms: [-3.40640871e-08-9.25669089e-20j  1.18852483e-09+1.62061867e-18j\n",
      "  8.56620133e-09+7.76329248e-22j]\n"
     ]
    }
   ],
   "source": [
    "print(f\"Learned interaction terms: {beta2_params[:3]}\")\n",
    "print(f\"Learned fields terms: {beta2_params[3:]}\")"
   ]
  },
  {
   "attachments": {},
   "cell_type": "markdown",
   "metadata": {},
   "source": [
    "They match the target Hamiltonian up to the rescaling of the target $\\beta=2$ and the QBM Gibbs state definition ($\\beta=-1$)."
   ]
  },
  {
   "attachments": {},
   "cell_type": "markdown",
   "metadata": {},
   "source": [
    "### Target $\\beta=\\infty$"
   ]
  },
  {
   "cell_type": "code",
   "execution_count": 111,
   "metadata": {},
   "outputs": [],
   "source": [
    "target_eta = target_eta_betainfty"
   ]
  },
  {
   "cell_type": "code",
   "execution_count": 112,
   "metadata": {},
   "outputs": [
    {
     "name": "stdout",
     "output_type": "stream",
     "text": [
      "--- 0 ---\n",
      "Quantum relative entropy: 18.899473222176674\n",
      "Max abs gradient: 7.19654494743911\n",
      "--- 100 ---\n",
      "Quantum relative entropy: 0.018517862907174276\n",
      "Max abs gradient: 0.016898746372596918\n",
      "--- 200 ---\n",
      "Quantum relative entropy: 0.009599091616628641\n",
      "Max abs gradient: 0.008758136527083682\n",
      "--- 300 ---\n",
      "Quantum relative entropy: 0.0064831117316188624\n",
      "Max abs gradient: 0.0059156646700344595\n",
      "--- 400 ---\n",
      "Quantum relative entropy: 0.004895050190459216\n",
      "Max abs gradient: 0.004466970576183726\n",
      "--- 500 ---\n",
      "Quantum relative entropy: 0.00393210371812458\n",
      "Max abs gradient: 0.0035884663040253173\n",
      "--- 600 ---\n",
      "Quantum relative entropy: 0.003285805923344043\n",
      "Max abs gradient: 0.00299880014605991\n",
      "--- 700 ---\n",
      "Quantum relative entropy: 0.0028220023230893787\n",
      "Max abs gradient: 0.0025756103134608743\n",
      "--- 800 ---\n",
      "Quantum relative entropy: 0.002472951465495754\n",
      "Max abs gradient: 0.0022571075635564597\n",
      "--- 900 ---\n",
      "Quantum relative entropy: 0.0022007504681127443\n",
      "Max abs gradient: 0.0020087176303857923\n",
      "--- 1000 ---\n",
      "Quantum relative entropy: 0.0019825345383921444\n",
      "Max abs gradient: 0.001809582617754213\n",
      "--- 1100 ---\n",
      "Quantum relative entropy: 0.0018036915100623219\n",
      "Max abs gradient: 0.0016463722529023173\n",
      "--- 1200 ---\n",
      "Quantum relative entropy: 0.0016544465176835388\n",
      "Max abs gradient: 0.0015101687988021695\n",
      "--- 1300 ---\n",
      "Quantum relative entropy: 0.0015280131982677858\n",
      "Max abs gradient: 0.0013947807159313541\n",
      "--- 1400 ---\n",
      "Quantum relative entropy: 0.0014195326375379125\n",
      "Max abs gradient: 0.0012957748092601307\n",
      "--- 1500 ---\n",
      "Quantum relative entropy: 0.001325434425503147\n",
      "Max abs gradient: 0.0012098933852935367\n",
      "--- 1600 ---\n",
      "Quantum relative entropy: 0.001243036086382432\n",
      "Max abs gradient: 0.0011346888399628163\n",
      "--- 1700 ---\n",
      "Quantum relative entropy: 0.0011702831998405827\n",
      "Max abs gradient: 0.0010682865817157605\n",
      "--- 1800 ---\n",
      "Quantum relative entropy: 0.001105575750379728\n",
      "Max abs gradient: 0.001009226611599967\n",
      "--- 1900 ---\n",
      "Quantum relative entropy: 0.0010476490742092892\n",
      "Max abs gradient: 0.0009563549088347223\n",
      "Final parameters: [-2.92473413e+00+0.00000000e+00j -2.92473413e+00+0.00000000e+00j\n",
      " -2.92473413e+00+0.00000000e+00j -1.31837724e-03+0.00000000e+00j\n",
      "  4.60692452e-05-4.35228846e-30j  3.32365365e-04+0.00000000e+00j]\n"
     ]
    }
   ],
   "source": [
    "# stop when gradient is smaller than epsilon or at the final number of epochs\n",
    "eps = 1e-10\n",
    "# keep track of loss and gradients\n",
    "qre_hist = []\n",
    "grad_hist = []\n",
    "# init params\n",
    "p = j+b\n",
    "# operators\n",
    "o = ss+s\n",
    "for i in range(epochs):\n",
    "    # create qbm hamiltonians\n",
    "    qbm_h = build_qbm_hamiltonian(p,o)\n",
    "    # qbm_h = qbm_h.real\n",
    "    qre_hist.append(qre(target_eta, qbm_h))\n",
    "    # create qbm state\n",
    "    rho = qu.thermal_state(qbm_h, -1.0)\n",
    "    # grad and update\n",
    "    grads = compute_grads(o, target_eta, rho)\n",
    "    grad_hist.append(np.abs(grads))\n",
    "    p = update_params(p, grads, gamma)\n",
    "    # print diagnostic\n",
    "    if (i % 100)==0:\n",
    "        print(f\"--- {i} ---\")\n",
    "        print(f\"Quantum relative entropy: {qre_hist[-1]}\")\n",
    "        print(f\"Max abs gradient: {np.max(grad_hist[-1])}\")\n",
    "    if np.max(grad_hist[-1]) < eps:\n",
    "        print(f\"Max gradient smaller than precision\")\n",
    "        break\n",
    "print(f\"Final parameters: {p}\")"
   ]
  },
  {
   "cell_type": "code",
   "execution_count": 113,
   "metadata": {},
   "outputs": [],
   "source": [
    "betainfty_qre = qre_hist\n",
    "betainfty_grads = grad_hist\n",
    "betainfty_params = p"
   ]
  },
  {
   "cell_type": "code",
   "execution_count": 114,
   "metadata": {},
   "outputs": [
    {
     "data": {
      "text/plain": [
       "Text(0.5, 0.98, '$\\\\beta=\\\\infty$')"
      ]
     },
     "execution_count": 114,
     "metadata": {},
     "output_type": "execute_result"
    },
    {
     "data": {
      "image/png": "[encoded data removed]",
      "text/plain": [
       "<Figure size 1000x600 with 2 Axes>"
      ]
     },
     "metadata": {},
     "output_type": "display_data"
    }
   ],
   "source": [
    "fig, ax = plt.subplots(ncols=2,figsize=(10,6))\n",
    "ax[0].plot(qre_hist)\n",
    "ax[0].set_xlabel(\"epoch number\")\n",
    "ax[0].set_ylabel(\"quantum relative entropy\")\n",
    "ax[0].set_yscale('log')\n",
    "ax[1].plot(np.max(grad_hist,axis=1))\n",
    "ax[1].set_xlabel(\"epoch number\")\n",
    "ax[1].set_ylabel(\"Max. of gradients\")\n",
    "ax[1].set_yscale('log')\n",
    "fig.suptitle(r\"$\\beta=\\infty$\")"
   ]
  },
  {
   "cell_type": "code",
   "execution_count": 115,
   "metadata": {},
   "outputs": [
    {
     "name": "stdout",
     "output_type": "stream",
     "text": [
      "Learned interaction terms: [-2.92473413+0.j -2.92473413+0.j -2.92473413+0.j]\n",
      "Learned fields terms: [-1.31837724e-03+0.00000000e+00j  4.60692452e-05-4.35228846e-30j\n",
      "  3.32365365e-04+0.00000000e+00j]\n"
     ]
    }
   ],
   "source": [
    "print(f\"Learned interaction terms: {betainfty_params[:3]}\")\n",
    "print(f\"Learned fields terms: {betainfty_params[3:]}\")"
   ]
  },
  {
   "attachments": {},
   "cell_type": "markdown",
   "metadata": {},
   "source": [
    "The parameters are not learned correctly because of the infinite $\\beta$ value, but the gradients are still very small, meaning that we can reconstruct the quantum statistics accurately."
   ]
  },
  {
   "attachments": {},
   "cell_type": "markdown",
   "metadata": {},
   "source": [
    "### Figure 1: learning curves"
   ]
  },
  {
   "attachments": {},
   "cell_type": "markdown",
   "metadata": {},
   "source": [
    "Reproduce Fig. 1(b) in the paper"
   ]
  },
  {
   "cell_type": "code",
   "execution_count": 116,
   "metadata": {},
   "outputs": [
    {
     "data": {
      "image/png": "[encoded data removed]",
      "text/plain": [
       "<Figure size 640x480 with 1 Axes>"
      ]
     },
     "metadata": {},
     "output_type": "display_data"
    }
   ],
   "source": [
    "fig, ax = plt.subplots()\n",
    "ax.plot(beta1_qre, 'b')\n",
    "ax.plot(beta2_qre, 'k')\n",
    "ax.plot(betainfty_qre, 'r')\n",
    "ax.set_xlabel(\"iter\")\n",
    "ax.set_ylabel(\"S\")\n",
    "ax.set_yscale('log')"
   ]
  },
  {
   "cell_type": "code",
   "execution_count": null,
   "metadata": {},
   "outputs": [],
   "source": []
  }
 ],
 "metadata": {
  "kernelspec": {
   "display_name": ".venv",
   "language": "python",
   "name": "python3"
  },
  "language_info": {
   "codemirror_mode": {
    "name": "ipython",
    "version": 3
   },
   "file_extension": ".py",
   "mimetype": "text/x-python",
   "name": "python",
   "nbconvert_exporter": "python",
   "pygments_lexer": "ipython3",
   "version": "3.10.9"
  },
  "orig_nbformat": 4
 },
 "nbformat": 4,
 "nbformat_minor": 2
}
