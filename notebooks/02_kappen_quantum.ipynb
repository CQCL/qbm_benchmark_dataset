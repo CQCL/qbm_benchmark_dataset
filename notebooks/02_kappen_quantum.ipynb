{
 "cells": [
  {
   "attachments": {},
   "cell_type": "markdown",
   "metadata": {},
   "source": [
    "# Quantum data example in Kappen (2018)\n",
    "\n",
    "This notebook reproduces the example in Section 4 of [Kappen (2018)](https://arxiv.org/abs/1803.11278)"
   ]
  },
  {
   "attachments": {},
   "cell_type": "markdown",
   "metadata": {},
   "source": [
    "## Setup"
   ]
  },
  {
   "cell_type": "code",
   "execution_count": 1,
   "metadata": {},
   "outputs": [
    {
     "name": "stderr",
     "output_type": "stream",
     "text": [
      "OMP: Info #276: omp_set_nested routine deprecated, please use omp_set_max_active_levels instead.\n"
     ]
    }
   ],
   "source": [
    "import quimb as qu\n",
    "import matplotlib.pyplot as plt\n",
    "import numpy as np"
   ]
  },
  {
   "cell_type": "code",
   "execution_count": 2,
   "metadata": {},
   "outputs": [],
   "source": [
    "rng = np.random.default_rng(seed=1)"
   ]
  },
  {
   "cell_type": "code",
   "execution_count": 3,
   "metadata": {},
   "outputs": [],
   "source": [
    "# define number of sites == number of qubits (each site is a 2-level system)\n",
    "n = 6 ## change this to 10 to reproduce the paper results"
   ]
  },
  {
   "attachments": {},
   "cell_type": "markdown",
   "metadata": {},
   "source": [
    "## Target state"
   ]
  },
  {
   "attachments": {},
   "cell_type": "markdown",
   "metadata": {},
   "source": [
    "The quantum state we set up to learn using a QBM is a thermal state (for three different temperatures) from the Hamiltonian of the 1D Heisenberg model with nearest-neighbors interactions, isotropic couplings and zero single-site fields. We report here the full Eq. (13) of the paper:\n",
    "\n",
    "$$\n",
    "H=\\sum_{i=1}^n \\sum_{k=x, y, z} w_i^k \\sigma_i^k+\\sum_{i=1, j>i}^n \\sum_{k=x, y, z} w_{i j}^k \\sigma_i^k \\sigma_j^k\n",
    "$$\n",
    "\n",
    "where $ \\sigma_j^k$ are Pauli operators on site $j$ and $n$ is the total number of sites.\n",
    "\n",
    "The target state is generated with the Hamiltonian where\n",
    "$$\n",
    "w_{i j}^{x, y, z}=1 \\text { for nearest neighbors and } w_{i j}^{x, y, z}=0 \\text { otherwise and }  w_i^k = 0\n",
    "$$"
   ]
  },
  {
   "attachments": {},
   "cell_type": "markdown",
   "metadata": {},
   "source": [
    "### Hamiltonian"
   ]
  },
  {
   "attachments": {},
   "cell_type": "markdown",
   "metadata": {},
   "source": [
    "For this example, we work under the (simplifying) assumption that each _spin direction_ will have a separate parameter, but that the interaction in a fixed _spin direction_ is isotropic along the spin chain of $n$ sites (we also include periodic boundary conditions). This amounts to the Hamiltonian of the `XYZ` Heisenberg model, but when the `x`, `y`, and `z` couplings are the same, then it is the `XXX` Heisenberg model:"
   ]
  },
  {
   "cell_type": "code",
   "execution_count": 157,
   "metadata": {},
   "outputs": [
    {
     "name": "stdout",
     "output_type": "stream",
     "text": [
      "Spin interaction used to create target state: (1.0, 1.0, 1.0)\n",
      "Field value used to create target state: (0.0, 0.0, 0.0)\n"
     ]
    }
   ],
   "source": [
    "# Fix the parameters of the hamiltonian:\n",
    "# - 3 parameters for the nearest-neighbors terms\n",
    "# - 3 parameters for the single-site fields\n",
    "target_wij_xyz = (1.0, 1.0, 1.0)\n",
    "target_wi_xyz = (0.0, 0.0, 0.0)\n",
    "print(f\"Spin interaction used to create target state: {target_wij_xyz}\")\n",
    "print(f\"Field value used to create target state: {target_wi_xyz}\")"
   ]
  },
  {
   "cell_type": "code",
   "execution_count": 158,
   "metadata": {},
   "outputs": [],
   "source": [
    "# quimb uses spin_operator instead of pauli operator in the Hamiltonian construction: we need a factor of 2*2 in the couplings and 2 in the fields\n",
    "j = (4*j for j in target_wij_xyz)\n",
    "b = (2*j for j in target_wi_xyz)\n",
    "target_xxx = qu.ham_heis(n, j, b, cyclic=True, sparse=False)  # positive couplings in quimb means anti-ferromagnetic"
   ]
  },
  {
   "cell_type": "code",
   "execution_count": 159,
   "metadata": {},
   "outputs": [
    {
     "data": {
      "image/png": "[encoded data removed]",
      "text/plain": [
       "<Figure size 640x480 with 1 Axes>"
      ]
     },
     "metadata": {},
     "output_type": "display_data"
    }
   ],
   "source": [
    "_ = plt.spy(target_xxx.A)"
   ]
  },
  {
   "cell_type": "code",
   "execution_count": 160,
   "metadata": {},
   "outputs": [
    {
     "data": {
      "image/png": "[encoded data removed]",
      "text/plain": [
       "<Figure size 640x480 with 2 Axes>"
      ]
     },
     "metadata": {},
     "output_type": "display_data"
    }
   ],
   "source": [
    "_ = plt.imshow(target_xxx.A, interpolation='nearest')\n",
    "_ = plt.colorbar()"
   ]
  },
  {
   "attachments": {},
   "cell_type": "markdown",
   "metadata": {},
   "source": [
    "### Density matrix"
   ]
  },
  {
   "attachments": {},
   "cell_type": "markdown",
   "metadata": {},
   "source": [
    "The paper generates a density matrix from the `XXX` Hamiltonian at 3 different temperatures $T=1/\\beta$, with $\\beta = 1, 2, \\infty$"
   ]
  },
  {
   "cell_type": "code",
   "execution_count": 161,
   "metadata": {},
   "outputs": [],
   "source": [
    "target_beta = 1.0\n",
    "target_eta = qu.thermal_state(target_xxx, target_beta, precomp_func=True)"
   ]
  },
  {
   "cell_type": "code",
   "execution_count": 162,
   "metadata": {},
   "outputs": [],
   "source": [
    "target_eta_beta1 = target_eta(1.0)"
   ]
  },
  {
   "cell_type": "code",
   "execution_count": 163,
   "metadata": {},
   "outputs": [],
   "source": [
    "target_eta_beta2 = target_eta(2.0)"
   ]
  },
  {
   "attachments": {},
   "cell_type": "markdown",
   "metadata": {},
   "source": [
    "The $\\beta=\\infty$ thermal state is the ground state"
   ]
  },
  {
   "cell_type": "code",
   "execution_count": 164,
   "metadata": {},
   "outputs": [],
   "source": [
    "# for the anti-ferromagnetic case the groundstate should be unique\n",
    "gs = qu.groundstate(target_xxx)\n",
    "target_eta_betainfty = qu.dop(gs)  # equivalent to (gs @ gs.H)"
   ]
  },
  {
   "attachments": {},
   "cell_type": "markdown",
   "metadata": {},
   "source": [
    "**Note** this target state is a pure state $\\eta (\\beta = \\infty) = \\psi_{\\mathrm{g.s.}}\\psi^{\\dag}_{\\mathrm{g.s.}}$ and a QBM would need to have diverging parameters in order to _exactly_ reproduce it"
   ]
  },
  {
   "attachments": {},
   "cell_type": "markdown",
   "metadata": {},
   "source": [
    "The ground state density matrix has rank 1 as expected:"
   ]
  },
  {
   "cell_type": "code",
   "execution_count": 165,
   "metadata": {},
   "outputs": [
    {
     "data": {
      "text/plain": [
       "1"
      ]
     },
     "execution_count": 165,
     "metadata": {},
     "output_type": "execute_result"
    }
   ],
   "source": [
    "np.linalg.matrix_rank(target_eta_betainfty.A)"
   ]
  },
  {
   "attachments": {},
   "cell_type": "markdown",
   "metadata": {},
   "source": [
    "in contrast to the finite-temperature states"
   ]
  },
  {
   "cell_type": "code",
   "execution_count": 166,
   "metadata": {},
   "outputs": [
    {
     "data": {
      "text/plain": [
       "64"
      ]
     },
     "execution_count": 166,
     "metadata": {},
     "output_type": "execute_result"
    }
   ],
   "source": [
    "np.linalg.matrix_rank(target_eta_beta1.A)"
   ]
  },
  {
   "attachments": {},
   "cell_type": "markdown",
   "metadata": {},
   "source": [
    "Plot of the ground state wavefunction (amplitudes) $\\langle s | \\psi_\\mathrm{g.s.}\\rangle$ where $s$ are the $2^n$ computational states"
   ]
  },
  {
   "cell_type": "code",
   "execution_count": 167,
   "metadata": {},
   "outputs": [
    {
     "data": {
      "image/png": "[encoded data removed]",
      "text/plain": [
       "<Figure size 640x480 with 1 Axes>"
      ]
     },
     "metadata": {},
     "output_type": "display_data"
    }
   ],
   "source": [
    "_ = plt.plot(gs.A.flatten(),'o')\n",
    "_ = plt.xlabel('s')\n",
    "_ = plt.ylabel('<s|gs>')"
   ]
  },
  {
   "attachments": {},
   "cell_type": "markdown",
   "metadata": {},
   "source": [
    "## Quantum Boltzmann Machine model"
   ]
  },
  {
   "attachments": {},
   "cell_type": "markdown",
   "metadata": {},
   "source": [
    "Following the paper we now define the QBM based on the same `XYZ` Heisenberg Hamiltonian used to define the target state. We let the 3 parameters for each _spin direction_ to have arbitrary values.\n"
   ]
  },
  {
   "cell_type": "code",
   "execution_count": 168,
   "metadata": {},
   "outputs": [
    {
     "name": "stdout",
     "output_type": "stream",
     "text": [
      "Spin interaction: (-0.7364540870016669, -0.16290994799305278, -0.48211931267997826)\n",
      "Field value: (0.5988462126346276, 0.03972210748165899, -0.2924567509650886)\n"
     ]
    }
   ],
   "source": [
    "# parameters to learn. Set initial values at random\n",
    "j = tuple(rng.normal(size=3))\n",
    "b = tuple(rng.normal(size=3))\n",
    "print(f\"Spin interaction: {j}\")\n",
    "print(f\"Field value: {b}\")"
   ]
  },
  {
   "cell_type": "code",
   "execution_count": 201,
   "metadata": {},
   "outputs": [],
   "source": [
    "qbm_xyz = qu.ham_heis(n, j, b, cyclic=True)"
   ]
  },
  {
   "cell_type": "code",
   "execution_count": 202,
   "metadata": {},
   "outputs": [
    {
     "data": {
      "image/png": "[encoded data removed]",
      "text/plain": [
       "<Figure size 640x480 with 2 Axes>"
      ]
     },
     "metadata": {},
     "output_type": "display_data"
    }
   ],
   "source": [
    "# plot only the real part\n",
    "_ = plt.imshow(qbm_xyz.A.real, interpolation='nearest')\n",
    "_ = plt.colorbar()"
   ]
  },
  {
   "attachments": {},
   "cell_type": "markdown",
   "metadata": {},
   "source": [
    "### Gibbs state"
   ]
  },
  {
   "attachments": {},
   "cell_type": "markdown",
   "metadata": {},
   "source": [
    "The corresponding Gibbs state for this initial Hamiltonian is  \n",
    "\n",
    "$$\n",
    "\\rho_{\\theta} = \\frac{e^{\\mathcal{H}_\\theta}}{Z}\n",
    "$$"
   ]
  },
  {
   "cell_type": "code",
   "execution_count": 203,
   "metadata": {},
   "outputs": [],
   "source": [
    "rho_qbm = qu.thermal_state(qbm_xyz, -1.0)"
   ]
  },
  {
   "cell_type": "code",
   "execution_count": 204,
   "metadata": {},
   "outputs": [
    {
     "data": {
      "image/png": "[encoded data removed]",
      "text/plain": [
       "<Figure size 640x480 with 2 Axes>"
      ]
     },
     "metadata": {},
     "output_type": "display_data"
    }
   ],
   "source": [
    "_ = plt.imshow(rho_qbm.A.real, interpolation='nearest')\n",
    "_ = plt.colorbar()"
   ]
  },
  {
   "attachments": {},
   "cell_type": "markdown",
   "metadata": {},
   "source": [
    "## Quantum statistics"
   ]
  },
  {
   "attachments": {},
   "cell_type": "markdown",
   "metadata": {},
   "source": [
    "To perform training of the QBM parameters we need to be able to compute the expectation values of various terms in the QBM Hamiltonian. \n",
    "\n",
    "These are called **quantum statistics** and they are \n",
    "\n",
    "$$\n",
    "\\left\\langle\\sigma_i^k\\right\\rangle_{\\eta_\\beta}=0 \\text { and }\\left\\langle\\sigma_i^k \\sigma_j^k\\right\\rangle_{\\eta_\\beta}\n",
    "$$\n",
    "\n",
    "for the target $\\eta_\\beta$ state"
   ]
  },
  {
   "attachments": {},
   "cell_type": "markdown",
   "metadata": {},
   "source": [
    "We have simplified our model to only require 6 quantum statistics, one for each parameter:\n",
    "\n",
    "$$\n",
    "\\left\\langle \\sum_i^n \\sigma_i^k\\right\\rangle \\text {for each } k \\in \\{ x,y,z\\}\n",
    "$$\n",
    "\n",
    "$$\n",
    "\\left\\langle \\sum_{\\langle i, j\\rangle} \\sigma_i^k\\sigma_j^k\\right\\rangle \\text {for each } k \\in \\{ x,y,z\\}\n",
    "$$"
   ]
  },
  {
   "cell_type": "code",
   "execution_count": 173,
   "metadata": {},
   "outputs": [],
   "source": [
    "# function to create the two-site operators for a fixed spin direction\n",
    "def h_two_sites(n, direction):\n",
    "    assert direction in \"xyz\", \"Wrong direction. Must be one of x,y, or z\"\n",
    "    dims = (2,) * n\n",
    "    two_site_term = qu.kron(qu.pauli(direction), qu.pauli(direction))\n",
    "\n",
    "    def gen_term(i):\n",
    "        if i == (n - 1):\n",
    "            return qu.ikron(qu.pauli(direction), dims, [0, n - 1])\n",
    "        return qu.ikron(two_site_term, dims, [i, i + 1])\n",
    "\n",
    "    return sum(map(gen_term, range(0, n)))\n"
   ]
  },
  {
   "attachments": {},
   "cell_type": "markdown",
   "metadata": {},
   "source": [
    "Test that the function above reproduces the correct terms in the Heisenberg Hamiltonian:"
   ]
  },
  {
   "cell_type": "code",
   "execution_count": 174,
   "metadata": {},
   "outputs": [],
   "source": [
    "# generate only the terms with the Pauli Z operators\n",
    "h0 = h_two_sites(n,'z')"
   ]
  },
  {
   "cell_type": "code",
   "execution_count": 175,
   "metadata": {},
   "outputs": [],
   "source": [
    "# compare with quimb by generating the Heis hamiltonian with only couplings between Pauli Z terms (rescaling the coupling due to Spin Z being 1/2 Pauli Z)\n",
    "test_h0 = qu.ham_heis(n,j=(0,0,4), b=0.0, cyclic=True, sparse=False)"
   ]
  },
  {
   "cell_type": "code",
   "execution_count": 176,
   "metadata": {},
   "outputs": [
    {
     "data": {
      "text/plain": [
       "True"
      ]
     },
     "execution_count": 176,
     "metadata": {},
     "output_type": "execute_result"
    }
   ],
   "source": [
    "np.allclose(h0.A.real, test_h0.A.real)"
   ]
  },
  {
   "cell_type": "code",
   "execution_count": 224,
   "metadata": {},
   "outputs": [],
   "source": [
    "# function to create the single-site operators for a fixed spin direction\n",
    "def h_single_site(n, direction):\n",
    "    assert direction in \"xyz\", \"Wrong direction. Must be one of x,y, or z\"\n",
    "    dims = (2,) * n\n",
    "    single_site_term = qu.pauli(direction)\n",
    "    def gen_term(i):\n",
    "        return qu.ikron(single_site_term, dims, [i])\n",
    "    return sum(map(gen_term, range(0,n)))"
   ]
  },
  {
   "cell_type": "code",
   "execution_count": 225,
   "metadata": {},
   "outputs": [
    {
     "data": {
      "text/plain": [
       "True"
      ]
     },
     "execution_count": 225,
     "metadata": {},
     "output_type": "execute_result"
    }
   ],
   "source": [
    "# test\n",
    "h1 = h_single_site(n,'x')\n",
    "test_h1 = qu.ham_heis(n, j=0.0, b=(-2,0,0), cyclic=True, sparse=False)\n",
    "np.allclose(h1.A.real, test_h1.A.real)"
   ]
  },
  {
   "attachments": {},
   "cell_type": "markdown",
   "metadata": {},
   "source": [
    "Another approach is to cleverly manipulate the `quimb` function `ham_heis` for the 1D Heisenberg model Hamiltonian"
   ]
  },
  {
   "cell_type": "code",
   "execution_count": 226,
   "metadata": {},
   "outputs": [],
   "source": [
    "PauliX = qu.ham_heis(n, j=0, b=(-2,0,0), cyclic=True, sparse=False)  # sum Pauli_X over all sites\n",
    "PauliY = qu.ham_heis(n, j=0, b=(0,-2,0), cyclic=True, sparse=False)  # sum Pauli_Y over all sites\n",
    "PauliZ = qu.ham_heis(n, j=0, b=(0,0,-2), cyclic=True, sparse=False)  # sum Pauli_Z over all sites"
   ]
  },
  {
   "cell_type": "code",
   "execution_count": 227,
   "metadata": {},
   "outputs": [
    {
     "data": {
      "text/plain": [
       "True"
      ]
     },
     "execution_count": 227,
     "metadata": {},
     "output_type": "execute_result"
    }
   ],
   "source": [
    "np.allclose(h1,PauliX)"
   ]
  },
  {
   "cell_type": "code",
   "execution_count": 181,
   "metadata": {},
   "outputs": [],
   "source": [
    "PauliXX = qu.ham_heis(n, j=(4,0,0), b=0, cyclic=True, sparse=False)  # sum Pauli_X x Pauli_X over all sites\n",
    "PauliYY = qu.ham_heis(n, j=(0,4,0), b=0, cyclic=True, sparse=False)  # sum Pauli_Y x Pauli_Y over all sites\n",
    "PauliZZ = qu.ham_heis(n, j=(0,0,4), b=0, cyclic=True, sparse=False)  # sum Pauli_Z x Pauli_Z over all sites"
   ]
  },
  {
   "cell_type": "code",
   "execution_count": 182,
   "metadata": {},
   "outputs": [
    {
     "data": {
      "text/plain": [
       "True"
      ]
     },
     "execution_count": 182,
     "metadata": {},
     "output_type": "execute_result"
    }
   ],
   "source": [
    "np.allclose(h0,PauliZZ)"
   ]
  },
  {
   "attachments": {},
   "cell_type": "markdown",
   "metadata": {},
   "source": [
    "### Generate all terms "
   ]
  },
  {
   "cell_type": "code",
   "execution_count": 228,
   "metadata": {},
   "outputs": [],
   "source": [
    "s = [h_single_site(n,d) for d in 'xyz']\n",
    "ss = [h_two_sites(n,d) for d in 'xyz']"
   ]
  },
  {
   "attachments": {},
   "cell_type": "markdown",
   "metadata": {},
   "source": [
    "We can have a look at the quantum statistics. The single-site operators should all have zero expectation values on the target density matrices because we do not include any external field in the original Hamiltonian"
   ]
  },
  {
   "cell_type": "code",
   "execution_count": 229,
   "metadata": {},
   "outputs": [
    {
     "data": {
      "text/plain": [
       "[1.102302932309248e-17, 1.222912463348638e-19j, -2.459701622509723e-17]"
      ]
     },
     "execution_count": 229,
     "metadata": {},
     "output_type": "execute_result"
    }
   ],
   "source": [
    "# single site\n",
    "[qu.expec(target_eta_beta1, i) for i in s]"
   ]
  },
  {
   "attachments": {},
   "cell_type": "markdown",
   "metadata": {},
   "source": [
    "The two-sites operators should have all the same expectation value because the three spin directions have the same interaction couplings"
   ]
  },
  {
   "cell_type": "code",
   "execution_count": 230,
   "metadata": {},
   "outputs": [
    {
     "data": {
      "text/plain": [
       "[-3.5502047332219147, -3.5502047332219147, -3.5502047332219164]"
      ]
     },
     "execution_count": 230,
     "metadata": {},
     "output_type": "execute_result"
    }
   ],
   "source": [
    "# two sites\n",
    "[qu.expec(target_eta_beta1, i) for i in ss]"
   ]
  },
  {
   "cell_type": "code",
   "execution_count": 231,
   "metadata": {},
   "outputs": [
    {
     "data": {
      "text/plain": [
       "[-3.737034183642661, -3.737034183642661, -3.7370341836426615]"
      ]
     },
     "execution_count": 231,
     "metadata": {},
     "output_type": "execute_result"
    }
   ],
   "source": [
    "# two sites on the ground state\n",
    "[qu.expec(target_eta_betainfty, i) for i in ss]"
   ]
  },
  {
   "cell_type": "code",
   "execution_count": 232,
   "metadata": {},
   "outputs": [
    {
     "data": {
      "text/plain": [
       "[-5.596678660439725e-31, -9.712365220110265e-32j, 2.691900682732661e-31]"
      ]
     },
     "execution_count": 232,
     "metadata": {},
     "output_type": "execute_result"
    }
   ],
   "source": [
    "# single site on the ground state\n",
    "[qu.expec(target_eta_betainfty, i) for i in s]"
   ]
  },
  {
   "attachments": {},
   "cell_type": "markdown",
   "metadata": {},
   "source": [
    "## Training of the QBM"
   ]
  },
  {
   "attachments": {},
   "cell_type": "markdown",
   "metadata": {},
   "source": [
    "We use the `compute_grads` function from the [01_trainng.ipynb notebook](./01_training.ipynb):"
   ]
  },
  {
   "cell_type": "code",
   "execution_count": 190,
   "metadata": {},
   "outputs": [],
   "source": [
    "def compute_grads(hi, eta, rho):\n",
    "    \"\"\"Compute gradients given a list of hamiltonian terms (operators)\n",
    "\n",
    "    Args:\n",
    "        hi (List, Tuple): A list of hamiltonian terms\n",
    "        eta (Any): The target density matrix\n",
    "        rho (Any): The QBM density matrix\n",
    "\n",
    "    Returns:\n",
    "        np.ndarray: The array of the gradients\n",
    "    \"\"\"\n",
    "    grads = []\n",
    "    for h in hi:\n",
    "        rho_expect = qu.expec(rho,h)\n",
    "        eta_expect = qu.expec(eta,h)\n",
    "        grads.append(rho_expect-eta_expect)\n",
    "    return np.array(grads)"
   ]
  },
  {
   "cell_type": "code",
   "execution_count": 192,
   "metadata": {},
   "outputs": [
    {
     "name": "stdout",
     "output_type": "stream",
     "text": [
      "Gradients: [-1.29092633+0.00000000e+00j -0.10532545-1.22291246e-19j\n",
      "  0.69155129+0.00000000e+00j  3.00923405+0.00000000e+00j\n",
      "  3.27844989+0.00000000e+00j  3.04999998+0.00000000e+00j]\n"
     ]
    }
   ],
   "source": [
    "print(f\"Gradients: {compute_grads(s+ss, target_eta_beta1, rho_qbm)}\")"
   ]
  },
  {
   "cell_type": "code",
   "execution_count": 193,
   "metadata": {},
   "outputs": [],
   "source": [
    "# gradient descent!\n",
    "def update_params(params, grads, gamma):\n",
    "    return params - gamma * grads"
   ]
  },
  {
   "attachments": {},
   "cell_type": "markdown",
   "metadata": {},
   "source": [
    "We also need a way to reconstruct the QBM given the new parameters"
   ]
  },
  {
   "cell_type": "code",
   "execution_count": 221,
   "metadata": {},
   "outputs": [],
   "source": [
    "def build_qbm_hamiltonian(params, operators):\n",
    "    return sum([p*o for p,o in zip(params,operators)])"
   ]
  },
  {
   "attachments": {},
   "cell_type": "markdown",
   "metadata": {},
   "source": [
    "Test by comparing the constructed Hamiltonian from the parameters with the Hamiltonian build using `quimb.ham_heis` (remember to rescale the parameters due to the normalization difference between `spin_operator()` and `pauli()`)"
   ]
  },
  {
   "cell_type": "code",
   "execution_count": 254,
   "metadata": {},
   "outputs": [],
   "source": [
    "jnew = [i/4 for i in j]\n",
    "bnew = [-i/2 for i in b]\n",
    "p = jnew+bnew\n",
    "o = ss+s\n",
    "qbm_h = build_qbm_hamiltonian(p,o)"
   ]
  },
  {
   "cell_type": "code",
   "execution_count": 256,
   "metadata": {},
   "outputs": [
    {
     "data": {
      "text/plain": [
       "True"
      ]
     },
     "execution_count": 256,
     "metadata": {},
     "output_type": "execute_result"
    }
   ],
   "source": [
    "np.allclose(qbm_h,qbm_xyz)"
   ]
  },
  {
   "attachments": {},
   "cell_type": "markdown",
   "metadata": {},
   "source": [
    "The paper does not specify the learning rate, but figure 1 shows training curves of up to 2000 iterations"
   ]
  },
  {
   "cell_type": "code",
   "execution_count": 251,
   "metadata": {},
   "outputs": [],
   "source": [
    "# learning rate\n",
    "gamma = 0.2\n",
    "# number of epochs\n",
    "epochs = 2000"
   ]
  },
  {
   "cell_type": "code",
   "execution_count": 276,
   "metadata": {},
   "outputs": [],
   "source": [
    "# function to compute the quantum relative entropy between the target density and the QBM\n",
    "# since we will deal with a pure state later, which has zero eigenvalues and its log goes ton NAN, we implement a fix\n",
    "def qre(eta, h_qbm):\n",
    "    \"\"\"Quantum relative entropy\n",
    "\n",
    "    Args:\n",
    "        eta (Any): Target density matrix\n",
    "        h_qbm (Any): Hamiltonian of the QBM\n",
    "    \"\"\"\n",
    "    # check if rank<nqubits\n",
    "    if np.linalg.matrix_rank(eta.A) < eta.A.shape[0]:\n",
    "        h = 0\n",
    "    else:\n",
    "        evals = qu.eigvalsh(eta)\n",
    "        h = np.sum(evals * np.log(evals))\n",
    "    # use log base e all the way\n",
    "    evals = qu.eigvalsh(h_qbm)\n",
    "    z = np.sum(np.exp(evals))\n",
    "    eta_stat = qu.expec(eta, h_qbm)\n",
    "    return h-eta_stat+qu.log(z)\n"
   ]
  },
  {
   "attachments": {},
   "cell_type": "markdown",
   "metadata": {},
   "source": [
    "### Train for $\\beta=1$"
   ]
  },
  {
   "cell_type": "code",
   "execution_count": 253,
   "metadata": {},
   "outputs": [],
   "source": [
    "target_eta = target_eta_beta1"
   ]
  },
  {
   "cell_type": "code",
   "execution_count": 258,
   "metadata": {},
   "outputs": [
    {
     "name": "stdout",
     "output_type": "stream",
     "text": [
      "Quantum relative entropy: 1.0848793132867263\n",
      "Max abs gradient: 1.9312734231021342\n",
      "Quantum relative entropy: 0.006980197210781469\n",
      "Max abs gradient: 0.06615998384338671\n",
      "Quantum relative entropy: 0.0006495806458310938\n",
      "Max abs gradient: 0.020744508592867025\n",
      "Quantum relative entropy: 7.81729315963986e-05\n",
      "Max abs gradient: 0.007424662564223743\n",
      "Quantum relative entropy: 1.0189836865848179e-05\n",
      "Max abs gradient: 0.0027430219302647905\n",
      "Quantum relative entropy: 1.3711289508222535e-06\n",
      "Max abs gradient: 0.001022371281187576\n",
      "Quantum relative entropy: 1.8733806506077144e-07\n",
      "Max abs gradient: 0.00038204350404464043\n",
      "Quantum relative entropy: 2.581541380664021e-08\n",
      "Max abs gradient: 0.00014287478046742225\n",
      "Quantum relative entropy: 3.5760994165912052e-09\n",
      "Max abs gradient: 5.344428865065791e-05\n",
      "Quantum relative entropy: 4.970797107262115e-10\n",
      "Max abs gradient: 1.999302376986883e-05\n",
      "Quantum relative entropy: 6.925482409769756e-11\n",
      "Max abs gradient: 7.479374732885201e-06\n",
      "Quantum relative entropy: 9.682921131570765e-12\n",
      "Max abs gradient: 2.7980473114952156e-06\n",
      "Quantum relative entropy: 1.3464784842653899e-12\n",
      "Max abs gradient: 1.0467566260916552e-06\n",
      "Quantum relative entropy: 2.007283228522283e-13\n",
      "Max abs gradient: 3.915945703255525e-07\n",
      "Quantum relative entropy: 3.019806626980426e-14\n",
      "Max abs gradient: 1.4649664855374296e-07\n",
      "Quantum relative entropy: 8.881784197001252e-15\n",
      "Max abs gradient: 5.4804818287822975e-08\n",
      "Quantum relative entropy: 1.9539925233402755e-14\n",
      "Max abs gradient: 2.050264073621869e-08\n",
      "Quantum relative entropy: 1.7763568394002505e-15\n",
      "Max abs gradient: 7.67009699892223e-09\n",
      "Quantum relative entropy: 7.105427357601002e-15\n",
      "Max abs gradient: 2.869405752336206e-09\n",
      "Quantum relative entropy: 2.4868995751603507e-14\n",
      "Max abs gradient: 1.073452723727739e-09\n",
      "Quantum relative entropy: 7.105427357601002e-15\n",
      "Max abs gradient: 4.015819691716449e-10\n",
      "Quantum relative entropy: 3.552713678800501e-15\n",
      "Max abs gradient: 1.5023349272465466e-10\n",
      "Max gradient smaller than precision\n",
      "Final parameters: [-1.00000000e+00+0.00000000e+00j -1.00000000e+00+0.00000000e+00j\n",
      " -1.00000000e+00+0.00000000e+00j  1.77874072e-10-1.54939997e-19j\n",
      "  6.06337355e-12+8.42913186e-18j -6.82240997e-11+2.11265800e-19j]\n"
     ]
    }
   ],
   "source": [
    "# stop when gradient is smaller than epsilon, at the final number of epochs\n",
    "eps = 1e-10\n",
    "# keep track of loss and gradients\n",
    "qre_hist = []\n",
    "grad_hist = []\n",
    "# init params\n",
    "p = j+b\n",
    "# operators\n",
    "o = ss+s\n",
    "for i in range(epochs):\n",
    "    # create qbm hamiltonians\n",
    "    qbm_h = build_qbm_hamiltonian(p,o)\n",
    "    # qbm_h = qbm_h.real\n",
    "    qre_hist.append(qre(target_eta, qbm_h))\n",
    "    # create qbm state\n",
    "    rho = qu.thermal_state(qbm_h, -1.0)\n",
    "    # grad and update\n",
    "    grads = compute_grads(o, target_eta, rho)\n",
    "    grad_hist.append(np.abs(grads))\n",
    "    p = update_params(p, grads, gamma)\n",
    "    # print diagnostic\n",
    "    if (i % 10)==0:\n",
    "        print(f\"Quantum relative entropy: {qre_hist[-1]}\")\n",
    "        print(f\"Max abs gradient: {np.max(grad_hist[-1])}\")\n",
    "    if np.max(grad_hist[-1]) < eps:\n",
    "        print(f\"Max gradient smaller than precision\")\n",
    "        break\n",
    "print(f\"Final parameters: {p}\")"
   ]
  },
  {
   "cell_type": "code",
   "execution_count": 259,
   "metadata": {},
   "outputs": [],
   "source": [
    "beta1_qre = qre_hist\n",
    "beta1_grads = grad_hist\n",
    "beta1_params = p"
   ]
  },
  {
   "cell_type": "code",
   "execution_count": 266,
   "metadata": {},
   "outputs": [
    {
     "data": {
      "text/plain": [
       "Text(0.5, 0.98, '$\\\\beta=1$')"
      ]
     },
     "execution_count": 266,
     "metadata": {},
     "output_type": "execute_result"
    },
    {
     "data": {
      "image/png": "[encoded data removed]",
      "text/plain": [
       "<Figure size 1000x600 with 2 Axes>"
      ]
     },
     "metadata": {},
     "output_type": "display_data"
    }
   ],
   "source": [
    "fig, ax = plt.subplots(ncols=2,figsize=(10,6))\n",
    "ax[0].plot(qre_hist)\n",
    "ax[0].set_xlabel(\"epoch number\")\n",
    "ax[0].set_ylabel(\"quantum relative entropy\")\n",
    "ax[0].set_yscale('log')\n",
    "ax[1].plot(np.max(grad_hist,axis=1))\n",
    "ax[1].set_xlabel(\"epoch number\")\n",
    "ax[1].set_ylabel(\"Max. of gradients\")\n",
    "ax[1].set_yscale('log')\n",
    "fig.suptitle(r\"$\\beta=1$\")\n"
   ]
  },
  {
   "attachments": {},
   "cell_type": "markdown",
   "metadata": {},
   "source": [
    "Here are the learned Hamiltonian parameters:"
   ]
  },
  {
   "cell_type": "code",
   "execution_count": 268,
   "metadata": {},
   "outputs": [
    {
     "name": "stdout",
     "output_type": "stream",
     "text": [
      "Learned interaction terms: [-1.+0.j -1.+0.j -1.+0.j]\n",
      "Learned fields terms: [ 1.77874072e-10-1.54939997e-19j  6.06337355e-12+8.42913186e-18j\n",
      " -6.82240997e-11+2.11265800e-19j]\n"
     ]
    }
   ],
   "source": [
    "print(f\"Learned interaction terms: {beta1_params[:3]}\")\n",
    "print(f\"Learned fields terms: {beta1_params[3:]}\")"
   ]
  },
  {
   "attachments": {},
   "cell_type": "markdown",
   "metadata": {},
   "source": [
    "They match with the target Hamiltonian up to the rescaling given by $\\beta=-1$ in the QBM Gibbs state definition."
   ]
  },
  {
   "attachments": {},
   "cell_type": "markdown",
   "metadata": {},
   "source": [
    "### Train for $\\beta=2$"
   ]
  },
  {
   "cell_type": "code",
   "execution_count": 269,
   "metadata": {},
   "outputs": [],
   "source": [
    "target_eta = target_eta_beta2"
   ]
  },
  {
   "cell_type": "code",
   "execution_count": 270,
   "metadata": {},
   "outputs": [
    {
     "name": "stdout",
     "output_type": "stream",
     "text": [
      "Quantum relative entropy: 1.519441859165659\n",
      "Max abs gradient: 2.1066809591794575\n",
      "Quantum relative entropy: 0.09104447451088582\n",
      "Max abs gradient: 0.11675327916687861\n",
      "Quantum relative entropy: 0.045039667064164846\n",
      "Max abs gradient: 0.06319364920274939\n",
      "Quantum relative entropy: 0.027832980348652114\n",
      "Max abs gradient: 0.0435066353110618\n",
      "Quantum relative entropy: 0.01898027099926125\n",
      "Max abs gradient: 0.032855154264760156\n",
      "Quantum relative entropy: 0.013702461230753471\n",
      "Max abs gradient: 0.026117065305538922\n",
      "Quantum relative entropy: 0.0102709004277024\n",
      "Max abs gradient: 0.02145793186016931\n",
      "Quantum relative entropy: 0.007907532590760269\n",
      "Max abs gradient: 0.018042644177236777\n",
      "Quantum relative entropy: 0.006211498654252523\n",
      "Max abs gradient: 0.01543312092148641\n",
      "Quantum relative entropy: 0.004956184423090093\n",
      "Max abs gradient: 0.013376397134509777\n",
      "Quantum relative entropy: 0.004004454686693748\n",
      "Max abs gradient: 0.011715803813265424\n",
      "Quantum relative entropy: 0.0032688746488780396\n",
      "Max abs gradient: 0.01034896565379384\n",
      "Quantum relative entropy: 0.0026913434794195723\n",
      "Max abs gradient: 0.009206080658220817\n",
      "Quantum relative entropy: 0.0022319339874030675\n",
      "Max abs gradient: 0.008237881032698624\n",
      "Quantum relative entropy: 0.001862433962021015\n",
      "Max abs gradient: 0.007408578625854201\n",
      "Quantum relative entropy: 0.0015624367869691014\n",
      "Max abs gradient: 0.006691537976280859\n",
      "Quantum relative entropy: 0.0013168843682755949\n",
      "Max abs gradient: 0.0060665188754400745\n",
      "Quantum relative entropy: 0.0011144726030742902\n",
      "Max abs gradient: 0.0055178610183053145\n",
      "Quantum relative entropy: 0.0009465876554770603\n",
      "Max abs gradient: 0.005033254885550953\n",
      "Quantum relative entropy: 0.0008065790857365585\n",
      "Max abs gradient: 0.004602888959685192\n",
      "Quantum relative entropy: 0.0006892525654720316\n",
      "Max abs gradient: 0.004218845193142418\n",
      "Quantum relative entropy: 0.0005905091642723903\n",
      "Max abs gradient: 0.003874662212928648\n",
      "Quantum relative entropy: 0.0005070845480226183\n",
      "Max abs gradient: 0.0035650143012317947\n",
      "Quantum relative entropy: 0.000436357576653279\n",
      "Max abs gradient: 0.00328547182587835\n",
      "Quantum relative entropy: 0.00037620792891956967\n",
      "Max abs gradient: 0.0030323199638919718\n",
      "Quantum relative entropy: 0.0003249088954646595\n",
      "Max abs gradient: 0.002802419798902722\n",
      "Quantum relative entropy: 0.00028104575216758576\n",
      "Max abs gradient: 0.0025931006586863425\n",
      "Quantum relative entropy: 0.00024345297876848804\n",
      "Max abs gradient: 0.002402075784496027\n",
      "Quantum relative entropy: 0.00021116551931044114\n",
      "Max abs gradient: 0.0022273756331596672\n",
      "Quantum relative entropy: 0.0001833806225839396\n",
      "Max abs gradient: 0.002067294651585616\n",
      "Quantum relative entropy: 0.00015942772813914985\n",
      "Max abs gradient: 0.0019203484491066014\n",
      "Quantum relative entropy: 0.00013874453075857218\n",
      "Max abs gradient: 0.0017852390702084442\n",
      "Quantum relative entropy: 0.0001208578263849347\n",
      "Max abs gradient: 0.0016608266327806653\n",
      "Quantum relative entropy: 0.00010536808909122897\n",
      "Max abs gradient: 0.001546106009402859\n",
      "Quantum relative entropy: 9.193698129195127e-05\n",
      "Max abs gradient: 0.0014401875342433534\n",
      "Quantum relative entropy: 8.027718332215272e-05\n",
      "Max abs gradient: 0.001342280946163843\n",
      "Quantum relative entropy: 7.014407229277708e-05\n",
      "Max abs gradient: 0.001251681950857897\n",
      "Quantum relative entropy: 6.132888019294569e-05\n",
      "Max abs gradient: 0.0011677609160218871\n",
      "Quantum relative entropy: 5.365304487625622e-05\n",
      "Max abs gradient: 0.0010899533135977357\n",
      "Quantum relative entropy: 4.696352671729187e-05\n",
      "Max abs gradient: 0.001017751601384731\n",
      "Quantum relative entropy: 4.1128911597354545e-05\n",
      "Max abs gradient: 0.0009506982965192812\n",
      "Quantum relative entropy: 3.6036155002250325e-05\n",
      "Max abs gradient: 0.0008883800408718834\n",
      "Quantum relative entropy: 3.1587855200854165e-05\n",
      "Max abs gradient: 0.0008304224959054807\n",
      "Quantum relative entropy: 2.7699959950666653e-05\n",
      "Max abs gradient: 0.0007764859342760388\n",
      "Quantum relative entropy: 2.429983403828828e-05\n",
      "Max abs gradient: 0.000726261419083496\n",
      "Quantum relative entropy: 2.1324624999152775e-05\n",
      "Max abs gradient: 0.000679467481031093\n",
      "Quantum relative entropy: 1.8719878653428168e-05\n",
      "Max abs gradient: 0.0006358472188128239\n",
      "Quantum relative entropy: 1.6438362631987502e-05\n",
      "Max abs gradient: 0.0005951657608576078\n",
      "Quantum relative entropy: 1.4439064379700994e-05\n",
      "Max abs gradient: 0.0005572080365938703\n",
      "Quantum relative entropy: 1.2686336532397036e-05\n",
      "Max abs gradient: 0.0005217768136045464\n",
      "Quantum relative entropy: 1.114916604549876e-05\n",
      "Max abs gradient: 0.0004886909643193604\n",
      "Quantum relative entropy: 9.800548166793988e-06\n",
      "Max abs gradient: 0.0004577839309884979\n",
      "Quantum relative entropy: 8.61694904941146e-06\n",
      "Max abs gradient: 0.0004289023629810984\n",
      "Quantum relative entropy: 7.5778441050999845e-06\n",
      "Max abs gradient: 0.0004019049038803679\n",
      "Quantum relative entropy: 6.665320274379383e-06\n",
      "Max abs gradient: 0.00037666110928658014\n",
      "Quantum relative entropy: 5.863733591127129e-06\n",
      "Max abs gradient: 0.00035305047922662425\n",
      "Quantum relative entropy: 5.159412825861409e-06\n",
      "Max abs gradient: 0.0003309615908393404\n",
      "Quantum relative entropy: 4.540404088260175e-06\n",
      "Max abs gradient: 0.00031029131942261756\n",
      "Quantum relative entropy: 3.9962491200640216e-06\n",
      "Max abs gradient: 0.0002909441374523425\n",
      "Quantum relative entropy: 3.517793654594925e-06\n",
      "Max abs gradient: 0.00027283148237611243\n",
      "Quantum relative entropy: 3.0970207767211377e-06\n",
      "Max abs gradient: 0.00025587118549008636\n",
      "Quantum relative entropy: 2.7269068887392223e-06\n",
      "Max abs gradient: 0.00023998695490945465\n",
      "Quantum relative entropy: 2.4012955002206127e-06\n",
      "Max abs gradient: 0.0002251079068820161\n",
      "Quantum relative entropy: 2.114788358653641e-06\n",
      "Max abs gradient: 0.0002111681399368237\n",
      "Quantum relative entropy: 1.862650382378206e-06\n",
      "Max abs gradient: 0.00019810634760153434\n",
      "Quantum relative entropy: 1.6407264880058392e-06\n",
      "Max abs gradient: 0.00018586546551979666\n",
      "Quantum relative entropy: 1.4453695555971535e-06\n",
      "Max abs gradient: 0.00017439234933247505\n",
      "Quantum relative entropy: 1.2733774319428903e-06\n",
      "Max abs gradient: 0.00016363748045078452\n",
      "Quantum relative entropy: 1.121937568626663e-06\n",
      "Max abs gradient: 0.00015355469671840538\n",
      "Quantum relative entropy: 9.885791563135626e-07\n",
      "Max abs gradient: 0.00014410094566708054\n",
      "Quantum relative entropy: 8.711310677256279e-07\n",
      "Max abs gradient: 0.00013523605815102258\n",
      "Quantum relative entropy: 7.676848987614449e-07\n",
      "Max abs gradient: 0.00012692254041946072\n",
      "Quantum relative entropy: 6.765630757854524e-07\n",
      "Max abs gradient: 0.00011912538282121687\n",
      "Quantum relative entropy: 5.96290263388255e-07\n",
      "Max abs gradient: 0.00011181188387388019\n",
      "Quantum relative entropy: 5.255690780359146e-07\n",
      "Max abs gradient: 0.00010495148793898679\n",
      "Quantum relative entropy: 4.6325825664439435e-07\n",
      "Max abs gradient: 9.851563561724674e-05\n",
      "Quantum relative entropy: 4.0835374193193275e-07\n",
      "Max abs gradient: 9.247762554309702e-05\n",
      "Quantum relative entropy: 3.59971853214347e-07\n",
      "Max abs gradient: 8.681248664865748e-05\n",
      "Quantum relative entropy: 3.173351288410231e-07\n",
      "Max abs gradient: 8.149686003866563e-05\n",
      "Quantum relative entropy: 2.797591349690265e-07\n",
      "Max abs gradient: 7.650888961618918e-05\n",
      "Quantum relative entropy: 2.466412958312958e-07\n",
      "Max abs gradient: 7.182812070505307e-05\n",
      "Quantum relative entropy: 2.1745122680272289e-07\n",
      "Max abs gradient: 6.743540615339327e-05\n",
      "Quantum relative entropy: 1.9172186682681058e-07\n",
      "Max abs gradient: 6.33128190736798e-05\n",
      "Quantum relative entropy: 1.6904179034327171e-07\n",
      "Max abs gradient: 5.94435719771802e-05\n",
      "Quantum relative entropy: 1.4904887990496718e-07\n",
      "Max abs gradient: 5.5811941485295335e-05\n",
      "Quantum relative entropy: 1.3142395260956619e-07\n",
      "Max abs gradient: 5.240319846810948e-05\n",
      "Quantum relative entropy: 1.1588598880507561e-07\n",
      "Max abs gradient: 4.920354299020602e-05\n",
      "Quantum relative entropy: 1.0218735368994203e-07\n",
      "Max abs gradient: 4.6200043774646815e-05\n",
      "Quantum relative entropy: 9.01099745931333e-08\n",
      "Max abs gradient: 4.3380581856933276e-05\n",
      "Quantum relative entropy: 7.946157154492539e-08\n",
      "Max abs gradient: 4.07337980661282e-05\n",
      "Quantum relative entropy: 7.007286839666449e-08\n",
      "Max abs gradient: 3.824904409865937e-05\n",
      "Quantum relative entropy: 6.179454814514429e-08\n",
      "Max abs gradient: 3.591633683797113e-05\n",
      "Quantum relative entropy: 5.4495163936962854e-08\n",
      "Max abs gradient: 3.3726315875171053e-05\n",
      "Quantum relative entropy: 4.8058744539503095e-08\n",
      "Max abs gradient: 3.167020367111917e-05\n",
      "Quantum relative entropy: 4.2383099696508e-08\n",
      "Max abs gradient: 2.9739768558467716e-05\n",
      "Quantum relative entropy: 3.7378327988335514e-08\n",
      "Max abs gradient: 2.792729004363892e-05\n",
      "Quantum relative entropy: 3.2964962315418234e-08\n",
      "Max abs gradient: 2.6225526509104924e-05\n",
      "Quantum relative entropy: 2.9072992902001715e-08\n",
      "Max abs gradient: 2.4627684894529267e-05\n",
      "Quantum relative entropy: 2.564083700917763e-08\n",
      "Max abs gradient: 2.312739250953655e-05\n",
      "Quantum relative entropy: 2.2614162986656083e-08\n",
      "Max abs gradient: 2.1718670597969947e-05\n",
      "Quantum relative entropy: 1.9944923934644976e-08\n",
      "Max abs gradient: 2.0395909547499258e-05\n",
      "Quantum relative entropy: 1.7590870982076012e-08\n",
      "Max abs gradient: 1.9153845856489937e-05\n",
      "Quantum relative entropy: 1.551486761286469e-08\n",
      "Max abs gradient: 1.798754043891293e-05\n",
      "Quantum relative entropy: 1.3683941091358065e-08\n",
      "Max abs gradient: 1.6892358390308004e-05\n",
      "Quantum relative entropy: 1.2069172328210698e-08\n",
      "Max abs gradient: 1.5863950076688837e-05\n",
      "Quantum relative entropy: 1.0645049286495123e-08\n",
      "Max abs gradient: 1.4898233256399607e-05\n",
      "Quantum relative entropy: 9.389022892491994e-09\n",
      "Max abs gradient: 1.3991376643485154e-05\n",
      "Quantum relative entropy: 8.281229924023137e-09\n",
      "Max abs gradient: 1.3139784194038384e-05\n",
      "Quantum relative entropy: 7.3042087933572475e-09\n",
      "Max abs gradient: 1.2340080552064592e-05\n",
      "Quantum relative entropy: 6.442533617700974e-09\n",
      "Max abs gradient: 1.1589097423048145e-05\n",
      "Quantum relative entropy: 5.682487369540468e-09\n",
      "Max abs gradient: 1.088386075664971e-05\n",
      "Quantum relative entropy: 5.01215779991071e-09\n",
      "Max abs gradient: 1.0221578741642645e-05\n",
      "Quantum relative entropy: 4.420890320488979e-09\n",
      "Max abs gradient: 9.599630518941638e-06\n",
      "Quantum relative entropy: 3.899405243146248e-09\n",
      "Max abs gradient: 9.015555703317801e-06\n",
      "Quantum relative entropy: 3.43948514114345e-09\n",
      "Max abs gradient: 8.467044486426545e-06\n",
      "Quantum relative entropy: 3.0338256351569726e-09\n",
      "Max abs gradient: 7.951928280736098e-06\n",
      "Quantum relative entropy: 2.6759749971461133e-09\n",
      "Max abs gradient: 7.468171188129702e-06\n",
      "Quantum relative entropy: 2.3603554666351556e-09\n",
      "Max abs gradient: 7.013861707871882e-06\n",
      "Quantum relative entropy: 2.0819790336190636e-09\n",
      "Max abs gradient: 6.587205117813966e-06\n",
      "Quantum relative entropy: 1.8364438858498033e-09\n",
      "Max abs gradient: 6.186516365414008e-06\n",
      "Quantum relative entropy: 1.619849143708052e-09\n",
      "Max abs gradient: 5.810213318024893e-06\n",
      "Quantum relative entropy: 1.4287913074895187e-09\n",
      "Max abs gradient: 5.4568103555752145e-06\n",
      "Quantum relative entropy: 1.2603535992639081e-09\n",
      "Max abs gradient: 5.124912611176313e-06\n",
      "Quantum relative entropy: 1.1116867426608223e-09\n",
      "Max abs gradient: 4.813210329857043e-06\n",
      "Quantum relative entropy: 9.805667389173323e-10\n",
      "Max abs gradient: 4.520473622982024e-06\n",
      "Quantum relative entropy: 8.649720939502004e-10\n",
      "Max abs gradient: 4.245547627679258e-06\n",
      "Quantum relative entropy: 7.629701315181592e-10\n",
      "Max abs gradient: 3.987347954481635e-06\n",
      "Quantum relative entropy: 6.729905521751789e-10\n",
      "Max abs gradient: 3.7448562721920098e-06\n",
      "Quantum relative entropy: 5.936406921591697e-10\n",
      "Max abs gradient: 3.51711633062024e-06\n",
      "Quantum relative entropy: 5.236273636910482e-10\n",
      "Max abs gradient: 3.3032302146907e-06\n",
      "Quantum relative entropy: 4.618598836714227e-10\n",
      "Max abs gradient: 3.102354692252618e-06\n",
      "Quantum relative entropy: 4.0741454654380505e-10\n",
      "Max abs gradient: 2.9136979011745723e-06\n",
      "Quantum relative entropy: 3.594067266021739e-10\n",
      "Max abs gradient: 2.736516250045895e-06\n",
      "Quantum relative entropy: 3.169979834183323e-10\n",
      "Max abs gradient: 2.5701114410026094e-06\n",
      "Quantum relative entropy: 2.7963409365838743e-10\n",
      "Max abs gradient: 2.4138276750740317e-06\n",
      "Quantum relative entropy: 2.466400417233672e-10\n",
      "Max abs gradient: 2.267049138193755e-06\n",
      "Quantum relative entropy: 2.1756463297606388e-10\n",
      "Max abs gradient: 2.1291974920956136e-06\n",
      "Quantum relative entropy: 1.9193890921087586e-10\n",
      "Max abs gradient: 1.9997296094587114e-06\n",
      "Quantum relative entropy: 1.6928325408116507e-10\n",
      "Max abs gradient: 1.8781354529373573e-06\n",
      "Quantum relative entropy: 1.4937029391148826e-10\n",
      "Max abs gradient: 1.7639360119225955e-06\n",
      "Quantum relative entropy: 1.3175949220567418e-10\n",
      "Max abs gradient: 1.6566814320384537e-06\n",
      "Quantum relative entropy: 1.1620926443356439e-10\n",
      "Max abs gradient: 1.555949273424062e-06\n",
      "Quantum relative entropy: 1.0250289506075205e-10\n",
      "Max abs gradient: 1.461342787667519e-06\n",
      "Quantum relative entropy: 9.044853754858195e-11\n",
      "Max abs gradient: 1.3724893555000506e-06\n",
      "Quantum relative entropy: 7.974776394803484e-11\n",
      "Max abs gradient: 1.2890390492792392e-06\n",
      "Quantum relative entropy: 7.035794169496512e-11\n",
      "Max abs gradient: 1.2106632434338849e-06\n",
      "Quantum relative entropy: 6.210854053279036e-11\n",
      "Max abs gradient: 1.1370532968513203e-06\n",
      "Quantum relative entropy: 5.4782844927103724e-11\n",
      "Max abs gradient: 1.0679193493956518e-06\n",
      "Quantum relative entropy: 4.829558974961401e-11\n",
      "Max abs gradient: 1.0029891859275608e-06\n",
      "Quantum relative entropy: 4.2600589722496807e-11\n",
      "Max abs gradient: 9.420071518384532e-07\n",
      "Quantum relative entropy: 3.7545078157563694e-11\n",
      "Max abs gradient: 8.847331298689198e-07\n",
      "Quantum relative entropy: 3.3150371336887474e-11\n",
      "Max abs gradient: 8.309416186236263e-07\n",
      "Quantum relative entropy: 2.9249491717564524e-11\n",
      "Max abs gradient: 7.80420842616536e-07\n",
      "Quantum relative entropy: 2.581757030384324e-11\n",
      "Max abs gradient: 7.329718880733083e-07\n",
      "Quantum relative entropy: 2.2804869104220415e-11\n",
      "Max abs gradient: 6.884079875035809e-07\n",
      "Quantum relative entropy: 2.0083490426259232e-11\n",
      "Max abs gradient: 6.465536630528845e-07\n",
      "Quantum relative entropy: 1.7696066834105295e-11\n",
      "Max abs gradient: 6.072441518512051e-07\n",
      "Quantum relative entropy: 1.5617729332007002e-11\n",
      "Max abs gradient: 5.703247483168639e-07\n",
      "Quantum relative entropy: 1.3752554650636739e-11\n",
      "Max abs gradient: 5.356500740738568e-07\n",
      "Quantum relative entropy: 1.2168044349891716e-11\n",
      "Max abs gradient: 5.030836467412314e-07\n",
      "Quantum relative entropy: 1.0746958878371515e-11\n",
      "Max abs gradient: 4.7249726842224504e-07\n",
      "Quantum relative entropy: 9.514167231827741e-12\n",
      "Max abs gradient: 4.4377056029887285e-07\n",
      "Quantum relative entropy: 8.341771717823576e-12\n",
      "Max abs gradient: 4.1679042706022074e-07\n",
      "Quantum relative entropy: 7.354117315117037e-12\n",
      "Max abs gradient: 3.9145067320944804e-07\n",
      "Quantum relative entropy: 6.473044322774513e-12\n",
      "Max abs gradient: 3.6765155631002244e-07\n",
      "Quantum relative entropy: 5.7838178690872155e-12\n",
      "Max abs gradient: 3.4529940418082106e-07\n",
      "Quantum relative entropy: 5.073275133327115e-12\n",
      "Max abs gradient: 3.243062471902647e-07\n",
      "Quantum relative entropy: 4.490630090003833e-12\n",
      "Max abs gradient: 3.045894390041326e-07\n",
      "Quantum relative entropy: 3.915090474038152e-12\n",
      "Max abs gradient: 2.860713701480222e-07\n",
      "Quantum relative entropy: 3.47455397786689e-12\n",
      "Max abs gradient: 2.6867918201389784e-07\n",
      "Quantum relative entropy: 3.055333763768431e-12\n",
      "Max abs gradient: 2.5234440048649276e-07\n",
      "Quantum relative entropy: 2.7071678232459817e-12\n",
      "Max abs gradient: 2.3700273033000485e-07\n",
      "Quantum relative entropy: 2.3732127374387346e-12\n",
      "Max abs gradient: 2.225938198208155e-07\n",
      "Quantum relative entropy: 2.156497203031904e-12\n",
      "Max abs gradient: 2.0906091791061954e-07\n",
      "Quantum relative entropy: 1.850963826655061e-12\n",
      "Max abs gradient: 1.9635078762902936e-07\n",
      "Quantum relative entropy: 1.644906433284632e-12\n",
      "Max abs gradient: 1.8441339433294957e-07\n",
      "Quantum relative entropy: 1.4672707493446069e-12\n",
      "Max abs gradient: 1.7320176759483275e-07\n",
      "Quantum relative entropy: 1.2896350654045818e-12\n",
      "Max abs gradient: 1.6267176583539822e-07\n",
      "Quantum relative entropy: 1.1475265182525618e-12\n",
      "Max abs gradient: 1.5278196263679433e-07\n",
      "Quantum relative entropy: 1.0054179711005418e-12\n",
      "Max abs gradient: 1.4349343313568852e-07\n",
      "Quantum relative entropy: 8.988365607365267e-13\n",
      "Max abs gradient: 1.347696012565791e-07\n",
      "Quantum relative entropy: 7.460698725481052e-13\n",
      "Max abs gradient: 1.2657615844346992e-07\n",
      "Quantum relative entropy: 6.643574579356937e-13\n",
      "Max abs gradient: 1.1888084472388982e-07\n",
      "Quantum relative entropy: 6.359357485052897e-13\n",
      "Max abs gradient: 1.1165338253960044e-07\n",
      "Quantum relative entropy: 5.364597654988756e-13\n",
      "Max abs gradient: 1.0486532309172958e-07\n",
      "Quantum relative entropy: 5.009326287108706e-13\n",
      "Max abs gradient: 9.848995485839396e-08\n",
      "Quantum relative entropy: 4.121147867408581e-13\n",
      "Max abs gradient: 9.250218502288021e-08\n",
      "Quantum relative entropy: 3.979039320256561e-13\n",
      "Max abs gradient: 8.687844799126765e-08\n",
      "Quantum relative entropy: 3.588240815588506e-13\n",
      "Max abs gradient: 8.159661479822944e-08\n",
      "Quantum relative entropy: 3.339550858072471e-13\n",
      "Max abs gradient: 7.663589185469277e-08\n",
      "Quantum relative entropy: 2.7355895326763857e-13\n",
      "Max abs gradient: 7.197676632486605e-08\n",
      "Quantum relative entropy: 2.4158453015843406e-13\n",
      "Max abs gradient: 6.760089199531194e-08\n",
      "Quantum relative entropy: 1.9184653865522705e-13\n",
      "Max abs gradient: 6.349106440595165e-08\n",
      "Quantum relative entropy: 1.9539925233402755e-13\n",
      "Max abs gradient: 5.963107518880406e-08\n",
      "Quantum relative entropy: 1.3855583347321954e-13\n",
      "Max abs gradient: 5.600577335229673e-08\n",
      "Quantum relative entropy: 1.5276668818842154e-13\n",
      "Max abs gradient: 5.260086854974588e-08\n",
      "Quantum relative entropy: 1.4566126083082054e-13\n",
      "Max abs gradient: 4.940296660649324e-08\n",
      "Quantum relative entropy: 1.3855583347321954e-13\n",
      "Max abs gradient: 4.6399498909721615e-08\n",
      "Quantum relative entropy: 1.1368683772161603e-13\n",
      "Max abs gradient: 4.3578616271133797e-08\n",
      "Quantum relative entropy: 9.237055564881302e-14\n",
      "Max abs gradient: 4.0929234668141135e-08\n",
      "Final parameters: [-1.99999877e+00+0.00000000e+00j -1.99999877e+00+0.00000000e+00j\n",
      " -1.99999877e+00+0.00000000e+00j  2.84744106e-08-1.04369200e-22j\n",
      "  9.91883012e-10-1.10374280e-18j -1.10067588e-08+3.96227293e-21j]\n"
     ]
    }
   ],
   "source": [
    "# stop when gradient is smaller than epsilon, at the final number of epochs\n",
    "eps = 1e-10\n",
    "# keep track of loss and gradients\n",
    "qre_hist = []\n",
    "grad_hist = []\n",
    "# init params\n",
    "p = j+b\n",
    "# operators\n",
    "o = ss+s\n",
    "for i in range(epochs):\n",
    "    # create qbm hamiltonians\n",
    "    qbm_h = build_qbm_hamiltonian(p,o)\n",
    "    # qbm_h = qbm_h.real\n",
    "    qre_hist.append(qre(target_eta, qbm_h))\n",
    "    # create qbm state\n",
    "    rho = qu.thermal_state(qbm_h, -1.0)\n",
    "    # grad and update\n",
    "    grads = compute_grads(o, target_eta, rho)\n",
    "    grad_hist.append(np.abs(grads))\n",
    "    p = update_params(p, grads, gamma)\n",
    "    # print diagnostic\n",
    "    if (i % 10)==0:\n",
    "        print(f\"Quantum relative entropy: {qre_hist[-1]}\")\n",
    "        print(f\"Max abs gradient: {np.max(grad_hist[-1])}\")\n",
    "    if np.max(grad_hist[-1]) < eps:\n",
    "        print(f\"Max gradient smaller than precision\")\n",
    "        break\n",
    "print(f\"Final parameters: {p}\")"
   ]
  },
  {
   "cell_type": "code",
   "execution_count": 271,
   "metadata": {},
   "outputs": [],
   "source": [
    "beta2_qre = qre_hist\n",
    "beta2_grads = grad_hist\n",
    "beta2_params = p"
   ]
  },
  {
   "cell_type": "code",
   "execution_count": 272,
   "metadata": {},
   "outputs": [
    {
     "data": {
      "text/plain": [
       "Text(0.5, 0.98, '$\\\\beta=2$')"
      ]
     },
     "execution_count": 272,
     "metadata": {},
     "output_type": "execute_result"
    },
    {
     "data": {
      "image/png": "[encoded data removed]",
      "text/plain": [
       "<Figure size 1000x600 with 2 Axes>"
      ]
     },
     "metadata": {},
     "output_type": "display_data"
    }
   ],
   "source": [
    "fig, ax = plt.subplots(ncols=2,figsize=(10,6))\n",
    "ax[0].plot(qre_hist)\n",
    "ax[0].set_xlabel(\"epoch number\")\n",
    "ax[0].set_ylabel(\"quantum relative entropy\")\n",
    "ax[0].set_yscale('log')\n",
    "ax[1].plot(np.max(grad_hist,axis=1))\n",
    "ax[1].set_xlabel(\"epoch number\")\n",
    "ax[1].set_ylabel(\"Max. of gradients\")\n",
    "ax[1].set_yscale('log')\n",
    "fig.suptitle(r\"$\\beta=2$\")"
   ]
  },
  {
   "cell_type": "code",
   "execution_count": 273,
   "metadata": {},
   "outputs": [
    {
     "name": "stdout",
     "output_type": "stream",
     "text": [
      "Learned interaction terms: [-1.99999877+0.j -1.99999877+0.j -1.99999877+0.j]\n",
      "Learned fields terms: [ 2.84744106e-08-1.04369200e-22j  9.91883012e-10-1.10374280e-18j\n",
      " -1.10067588e-08+3.96227293e-21j]\n"
     ]
    }
   ],
   "source": [
    "print(f\"Learned interaction terms: {beta2_params[:3]}\")\n",
    "print(f\"Learned fields terms: {beta2_params[3:]}\")"
   ]
  },
  {
   "attachments": {},
   "cell_type": "markdown",
   "metadata": {},
   "source": [
    "They match the target Hamiltonian up to the rescaling of the target $\\beta=2$ and the QBM Gibbs state definition ($\\beta=-1$)."
   ]
  },
  {
   "attachments": {},
   "cell_type": "markdown",
   "metadata": {},
   "source": [
    "### Target $\\beta=\\infty$"
   ]
  },
  {
   "cell_type": "code",
   "execution_count": 274,
   "metadata": {},
   "outputs": [],
   "source": [
    "target_eta = target_eta_betainfty"
   ]
  },
  {
   "cell_type": "code",
   "execution_count": 277,
   "metadata": {},
   "outputs": [
    {
     "name": "stdout",
     "output_type": "stream",
     "text": [
      "--- 0 ---\n",
      "Quantum relative entropy: 1.584713358096982\n",
      "Max abs gradient: 2.1181028735228806\n",
      "--- 100 ---\n",
      "Quantum relative entropy: 0.018484688990611176\n",
      "Max abs gradient: 0.01686795020337417\n",
      "--- 200 ---\n",
      "Quantum relative entropy: 0.009591650981391808\n",
      "Max abs gradient: 0.008751311581498111\n",
      "--- 300 ---\n",
      "Quantum relative entropy: 0.006479938301826138\n",
      "Max abs gradient: 0.005912761964479429\n",
      "--- 400 ---\n",
      "Quantum relative entropy: 0.004893302446173919\n",
      "Max abs gradient: 0.00446537357338217\n",
      "--- 500 ---\n",
      "Quantum relative entropy: 0.003930999227456766\n",
      "Max abs gradient: 0.0035874575469456715\n",
      "--- 600 ---\n",
      "Quantum relative entropy: 0.0032850452922268403\n",
      "Max abs gradient: 0.0029981056115762073\n",
      "--- 700 ---\n",
      "Quantum relative entropy: 0.002821446768535907\n",
      "Max abs gradient: 0.0025751031032181793\n",
      "--- 800 ---\n",
      "Quantum relative entropy: 0.0024725279627837438\n",
      "Max abs gradient: 0.002256720944442847\n",
      "--- 900 ---\n",
      "Quantum relative entropy: 0.0022004169601359536\n",
      "Max abs gradient: 0.002008413182671198\n",
      "--- 1000 ---\n",
      "Quantum relative entropy: 0.001982265104288672\n",
      "Max abs gradient: 0.0018093366678852973\n",
      "--- 1100 ---\n",
      "Quantum relative entropy: 0.00180346930735098\n",
      "Max abs gradient: 0.0016461694212650535\n",
      "--- 1200 ---\n",
      "Quantum relative entropy: 0.001654260129654972\n",
      "Max abs gradient: 0.0015099986613447136\n",
      "--- 1300 ---\n",
      "Quantum relative entropy: 0.0015278546125045978\n",
      "Max abs gradient: 0.0013946359574918965\n",
      "--- 1400 ---\n",
      "Quantum relative entropy: 0.0014193960653550164\n",
      "Max abs gradient: 0.0012956501452618951\n",
      "--- 1500 ---\n",
      "Quantum relative entropy: 0.0013253155807966266\n",
      "Max abs gradient: 0.0012097849030214824\n",
      "--- 1600 ---\n",
      "Quantum relative entropy: 0.0012429317277558027\n",
      "Max abs gradient: 0.0011345935805571195\n",
      "--- 1700 ---\n",
      "Quantum relative entropy: 0.001170190830634965\n",
      "Max abs gradient: 0.0010682022662220625\n",
      "--- 1800 ---\n",
      "Quantum relative entropy: 0.0011054934167518127\n",
      "Max abs gradient: 0.0010091514563326243\n",
      "--- 1900 ---\n",
      "Quantum relative entropy: 0.0010475752245753256\n",
      "Max abs gradient: 0.0009562874977433466\n",
      "Final parameters: [-2.92475835e+00+0.00000000e+00j -2.92475834e+00+0.00000000e+00j\n",
      " -2.92475834e+00+0.00000000e+00j  1.10362722e-03+0.00000000e+00j\n",
      "  3.85019306e-05-3.88494609e-29j -4.26864824e-04+0.00000000e+00j]\n"
     ]
    }
   ],
   "source": [
    "# stop when gradient is smaller than epsilon or at the final number of epochs\n",
    "eps = 1e-10\n",
    "# keep track of loss and gradients\n",
    "qre_hist = []\n",
    "grad_hist = []\n",
    "# init params\n",
    "p = j+b\n",
    "# operators\n",
    "o = ss+s\n",
    "for i in range(epochs):\n",
    "    # create qbm hamiltonians\n",
    "    qbm_h = build_qbm_hamiltonian(p,o)\n",
    "    # qbm_h = qbm_h.real\n",
    "    qre_hist.append(qre(target_eta, qbm_h))\n",
    "    # create qbm state\n",
    "    rho = qu.thermal_state(qbm_h, -1.0)\n",
    "    # grad and update\n",
    "    grads = compute_grads(o, target_eta, rho)\n",
    "    grad_hist.append(np.abs(grads))\n",
    "    p = update_params(p, grads, gamma)\n",
    "    # print diagnostic\n",
    "    if (i % 100)==0:\n",
    "        print(f\"--- {i} ---\")\n",
    "        print(f\"Quantum relative entropy: {qre_hist[-1]}\")\n",
    "        print(f\"Max abs gradient: {np.max(grad_hist[-1])}\")\n",
    "    if np.max(grad_hist[-1]) < eps:\n",
    "        print(f\"Max gradient smaller than precision\")\n",
    "        break\n",
    "print(f\"Final parameters: {p}\")"
   ]
  },
  {
   "cell_type": "code",
   "execution_count": 278,
   "metadata": {},
   "outputs": [],
   "source": [
    "betainfty_qre = qre_hist\n",
    "betainfty_grads = grad_hist\n",
    "betainfty_params = p"
   ]
  },
  {
   "cell_type": "code",
   "execution_count": 279,
   "metadata": {},
   "outputs": [
    {
     "data": {
      "text/plain": [
       "Text(0.5, 0.98, '$\\\\beta=\\\\infty$')"
      ]
     },
     "execution_count": 279,
     "metadata": {},
     "output_type": "execute_result"
    },
    {
     "data": {
      "image/png": "[encoded data removed]",
      "text/plain": [
       "<Figure size 1000x600 with 2 Axes>"
      ]
     },
     "metadata": {},
     "output_type": "display_data"
    }
   ],
   "source": [
    "fig, ax = plt.subplots(ncols=2,figsize=(10,6))\n",
    "ax[0].plot(qre_hist)\n",
    "ax[0].set_xlabel(\"epoch number\")\n",
    "ax[0].set_ylabel(\"quantum relative entropy\")\n",
    "ax[0].set_yscale('log')\n",
    "ax[1].plot(np.max(grad_hist,axis=1))\n",
    "ax[1].set_xlabel(\"epoch number\")\n",
    "ax[1].set_ylabel(\"Max. of gradients\")\n",
    "ax[1].set_yscale('log')\n",
    "fig.suptitle(r\"$\\beta=\\infty$\")"
   ]
  },
  {
   "cell_type": "code",
   "execution_count": 280,
   "metadata": {},
   "outputs": [
    {
     "name": "stdout",
     "output_type": "stream",
     "text": [
      "Learned interaction terms: [-2.92475835+0.j -2.92475834+0.j -2.92475834+0.j]\n",
      "Learned fields terms: [ 1.10362722e-03+0.00000000e+00j  3.85019306e-05-3.88494609e-29j\n",
      " -4.26864824e-04+0.00000000e+00j]\n"
     ]
    }
   ],
   "source": [
    "print(f\"Learned interaction terms: {betainfty_params[:3]}\")\n",
    "print(f\"Learned fields terms: {betainfty_params[3:]}\")"
   ]
  },
  {
   "attachments": {},
   "cell_type": "markdown",
   "metadata": {},
   "source": [
    "The parameters are not learned correctly because of the infinite $\\beta$ value, but the gradients are still very small, meaning that we can reconstruct the quantum statistics accurately."
   ]
  },
  {
   "attachments": {},
   "cell_type": "markdown",
   "metadata": {},
   "source": [
    "### Figure 1: learning curves"
   ]
  },
  {
   "attachments": {},
   "cell_type": "markdown",
   "metadata": {},
   "source": [
    "Reproduce Fig. 1(b) in the paper"
   ]
  },
  {
   "cell_type": "code",
   "execution_count": 283,
   "metadata": {},
   "outputs": [
    {
     "data": {
      "image/png": "[encoded data removed]",
      "text/plain": [
       "<Figure size 640x480 with 1 Axes>"
      ]
     },
     "metadata": {},
     "output_type": "display_data"
    }
   ],
   "source": [
    "fig, ax = plt.subplots()\n",
    "ax.plot(beta1_qre, 'b')\n",
    "ax.plot(beta2_qre, 'k')\n",
    "ax.plot(betainfty_qre, 'r')\n",
    "ax.set_xlabel(\"iter\")\n",
    "ax.set_ylabel(\"S\")\n",
    "ax.set_yscale('log')"
   ]
  },
  {
   "cell_type": "code",
   "execution_count": null,
   "metadata": {},
   "outputs": [],
   "source": []
  }
 ],
 "metadata": {
  "kernelspec": {
   "display_name": ".venv",
   "language": "python",
   "name": "python3"
  },
  "language_info": {
   "codemirror_mode": {
    "name": "ipython",
    "version": 3
   },
   "file_extension": ".py",
   "mimetype": "text/x-python",
   "name": "python",
   "nbconvert_exporter": "python",
   "pygments_lexer": "ipython3",
   "version": "3.10.9"
  },
  "orig_nbformat": 4
 },
 "nbformat": 4,
 "nbformat_minor": 2
}
