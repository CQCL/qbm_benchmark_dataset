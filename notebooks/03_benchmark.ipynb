{
 "cells": [
  {
   "cell_type": "markdown",
   "metadata": {},
   "source": [
    "# Benchmark different QBMs"
   ]
  },
  {
   "cell_type": "markdown",
   "metadata": {},
   "source": [
    "This notebook goes through the steps that we implemented in the `scripts/benchmark.py` file."
   ]
  },
  {
   "cell_type": "markdown",
   "metadata": {},
   "source": [
    "## Define the parameters of the model: QBM\n",
    "\n",
    "Here we select the number of qubits of the Gibbs state, the model Hamiltonian to use in the definition of the QBM, the depolarizing noise strength to compute expectation values and the training hyperparameters."
   ]
  },
  {
   "cell_type": "code",
   "execution_count": 26,
   "metadata": {},
   "outputs": [],
   "source": [
    "\"\"\"\n",
    "Benchmark a QBM on the Hamiltonian dataset\n",
    "\"\"\"\n",
    "import numpy as np\n",
    "\n",
    "##########\n",
    "# CONFIG #\n",
    "##########\n",
    "\n",
    "rng = np.random.default_rng(seed=1)\n",
    "\n",
    "n_qubits = 4\n",
    "model_label = 8 # 0: 1D TFIM 1: 1D Heisenberg\n",
    "depolarizing_noise = 0.0 # if noisy expectation values\n",
    "learning_rate = 0.2\n",
    "epochs = 1000\n",
    "eps = 1e-6\n",
    "compute_qre = True\n",
    "\n"
   ]
  },
  {
   "cell_type": "markdown",
   "metadata": {},
   "source": [
    "The model Hamiltonian is defined as a list of operators $H = \\sum_{i=0}^m \\theta_i H_i $"
   ]
  },
  {
   "cell_type": "code",
   "execution_count": 3,
   "metadata": {},
   "outputs": [],
   "source": [
    "from qbm_quimb import hamiltonians\n",
    "# A list of operators in the model Hamiltonian\n",
    "model_ham_ops, model_ham_names = hamiltonians.hamiltonian_operators(n_qubits, model_label, return_names=True)"
   ]
  },
  {
   "cell_type": "code",
   "execution_count": 5,
   "metadata": {},
   "outputs": [
    {
     "data": {
      "text/plain": [
       "['sum(Z_i_i+1)', 'sum(X_i)']"
      ]
     },
     "execution_count": 5,
     "metadata": {},
     "output_type": "execute_result"
    }
   ],
   "source": [
    "model_ham_names"
   ]
  },
  {
   "cell_type": "code",
   "execution_count": 4,
   "metadata": {},
   "outputs": [
    {
     "data": {
      "text/plain": [
       "(16, 16)"
      ]
     },
     "execution_count": 4,
     "metadata": {},
     "output_type": "execute_result"
    }
   ],
   "source": [
    "model_ham_ops[0].shape  # 2^n_qubits x 2^n_qubits"
   ]
  },
  {
   "cell_type": "markdown",
   "metadata": {},
   "source": [
    "## Define the data\n",
    "\n",
    "Here we work with _quantum_ data in the form of the Gibbs state of a target Hamiltonian at a fixed inverse temperature $\\beta$.\n"
   ]
  },
  {
   "cell_type": "code",
   "execution_count": 30,
   "metadata": {},
   "outputs": [],
   "source": [
    "from qbm_quimb import data\n",
    "\n",
    "########\n",
    "# DATA #\n",
    "########\n",
    "\n",
    "# As an example, the Gibbs state of TF-Ising model (label=0)\n",
    "# is taken to generate data (expectation values)\n",
    "target_label = 0\n",
    "target_params = np.array([4.0, 4.0])\n",
    "target_beta = 1.0\n",
    "\n",
    "# generate expectation values: quantum data\n",
    "target_expects, target_state = data.generate_data(\n",
    "    n_qubits,\n",
    "    target_label,\n",
    "    target_params,\n",
    "    target_beta,\n",
    "    model_ham_ops,\n",
    "    depolarizing_noise,\n",
    ")\n"
   ]
  },
  {
   "cell_type": "markdown",
   "metadata": {},
   "source": [
    "The expectation values of the model Hamiltonian operators are computed with respect to the target Gibbs state."
   ]
  },
  {
   "cell_type": "code",
   "execution_count": 31,
   "metadata": {},
   "outputs": [
    {
     "data": {
      "text/plain": [
       "[0.7861337268346815,\n",
       " 0.6408759914547504,\n",
       " 0.7200447841441626,\n",
       " 0.6935516721563451,\n",
       " 0.6408759914547504,\n",
       " 0.7861337268346813,\n",
       " -0.8443431919603764,\n",
       " -0.7291549338295986,\n",
       " -0.7291549338295986,\n",
       " -0.8443431919603762,\n",
       " 0.3341253928756893,\n",
       " -0.06129678598265016,\n",
       " 0.02405790566566393,\n",
       " 0.2943275432277775,\n",
       " -0.06129678598265017,\n",
       " 0.33412539287568926,\n",
       " 3.469446951953614e-18j,\n",
       " 4.163336342344337e-17j,\n",
       " 1.734723475976807e-17j,\n",
       " 6.938893903907228e-18j,\n",
       " -0.510217799084687,\n",
       " 0.3646178604937771,\n",
       " -0.2525843882709479,\n",
       " -0.5500156487325993,\n",
       " 0.36461786049377715,\n",
       " -0.5102177990846871,\n",
       " 1.6132928326584306e-16,\n",
       " 1.8908485888147197e-16,\n",
       " -8.847089727481716e-17,\n",
       " 4.597017211338539e-16]"
      ]
     },
     "execution_count": 31,
     "metadata": {},
     "output_type": "execute_result"
    }
   ],
   "source": [
    "target_expects  # expectation values w.r.t. target density matrix"
   ]
  },
  {
   "cell_type": "markdown",
   "metadata": {},
   "source": [
    "## Start the training by minimizing the relative entropy\n",
    "\n",
    "We initialize the parameters of the model QBM and then train with stochastic gradient descent (SGD)"
   ]
  },
  {
   "cell_type": "code",
   "execution_count": 32,
   "metadata": {},
   "outputs": [
    {
     "name": "stdout",
     "output_type": "stream",
     "text": [
      "Initial parameters: [0. 0. 0. 0. 0. 0. 0. 0. 0. 0. 0. 0. 0. 0. 0. 0. 0. 0. 0. 0. 0. 0. 0. 0.\n",
      " 0. 0. 0. 0. 0. 0.]\n",
      "Target parameters: [4. 4.]\n",
      "Target beta: 1.0\n"
     ]
    }
   ],
   "source": [
    "from qbm_quimb.training import QBM, train_qbm\n",
    "\n",
    "\n",
    "#############\n",
    "# QBM Model #\n",
    "#############\n",
    "\n",
    "# start from the maximally-mixed state in the model \n",
    "initial_params = np.zeros(shape=(len(model_ham_ops)))\n",
    "qbm_state = QBM(model_ham_ops, initial_params)\n",
    "print(f\"Initial parameters: {qbm_state.get_coeffs()}\")\n",
    "print(f\"Target parameters: {target_params}\")\n",
    "print(f\"Target beta: {target_beta}\")"
   ]
  },
  {
   "cell_type": "code",
   "execution_count": 33,
   "metadata": {},
   "outputs": [
    {
     "name": "stdout",
     "output_type": "stream",
     "text": [
      "Trained parameters: [ 1.08064084e+00 -1.13081541e-01  5.91249505e-01  1.54017154e-01\n",
      " -1.13081541e-01  1.08064084e+00 -1.90960427e+00 -1.51591306e+00\n",
      " -1.51591306e+00 -1.90960427e+00  3.11363450e-01  3.12081413e-01\n",
      " -4.81617548e-01  2.81066963e-01  3.12081413e-01  3.11363450e-01\n",
      "  0.00000000e+00  0.00000000e+00  0.00000000e+00  0.00000000e+00\n",
      " -1.17267053e+00  1.10340718e+00 -2.62840241e-01 -1.76477283e+00\n",
      "  1.10340718e+00 -1.17267053e+00  1.50782165e-15  1.15255028e-15\n",
      "  8.02830025e-16  2.39600007e-15]\n",
      "Max. gradients: 0.0018886343265863692\n",
      "Initial relative entropy: 2.546670907771427\n",
      "Trained relative entropy: 0.004235546798398104\n"
     ]
    }
   ],
   "source": [
    "import quimb as qu\n",
    "\n",
    "################\n",
    "# QBM Taininig #\n",
    "################\n",
    "\n",
    "target_eta = target_state\n",
    "target_evals = qu.eigvalsh(target_eta).clip(\n",
    "    1e-300\n",
    ")  # clip near zero for numerical reasons\n",
    "\n",
    "qbm_state, max_grads_hist, qre_hist = train_qbm(\n",
    "    qbm=qbm_state,\n",
    "    target_expects=target_expects,\n",
    "    learning_rate=learning_rate,\n",
    "    epochs=epochs,\n",
    "    eps=eps,\n",
    "    compute_qre=compute_qre,\n",
    "    target_eta=target_eta,\n",
    "    target_eta_ev=target_evals,\n",
    ")\n",
    "\n",
    "print(f\"Trained parameters: {qbm_state.get_coeffs()}\")\n",
    "print(f\"Max. gradients: {max_grads_hist[-1]}\")\n",
    "\n",
    "print(f\"Initial relative entropy: {qre_hist[0]}\")\n",
    "print(f\"Trained relative entropy: {qre_hist[-1]}\")"
   ]
  },
  {
   "cell_type": "markdown",
   "metadata": {},
   "source": [
    "## Plot training history"
   ]
  },
  {
   "cell_type": "code",
   "execution_count": 34,
   "metadata": {},
   "outputs": [
    {
     "data": {
      "image/png": "[encoded data removed]",
      "text/plain": [
       "<Figure size 640x480 with 1 Axes>"
      ]
     },
     "metadata": {},
     "output_type": "display_data"
    }
   ],
   "source": [
    "import matplotlib.pyplot as plt\n",
    "\n",
    "\n",
    "plt.plot(qre_hist[1:], \"-\")\n",
    "plt.xlabel(\"Epoch\")\n",
    "plt.ylabel(\"Relative entropy\")\n",
    "plt.yscale('log')\n",
    "plt.show()\n"
   ]
  },
  {
   "cell_type": "code",
   "execution_count": 35,
   "metadata": {},
   "outputs": [
    {
     "data": {
      "image/png": "[encoded data removed]",
      "text/plain": [
       "<Figure size 640x480 with 1 Axes>"
      ]
     },
     "metadata": {},
     "output_type": "display_data"
    }
   ],
   "source": [
    "plt.plot(max_grads_hist[1:], \"-\")\n",
    "plt.xlabel(\"Epoch\")\n",
    "plt.ylabel(\"Max absolute value of gradients\")\n",
    "plt.yscale('log')\n",
    "plt.show()"
   ]
  },
  {
   "cell_type": "markdown",
   "metadata": {},
   "source": [
    "## Check fidelity with the Gibbs state"
   ]
  },
  {
   "cell_type": "code",
   "execution_count": 36,
   "metadata": {},
   "outputs": [
    {
     "data": {
      "text/plain": [
       "0.9990492847867068"
      ]
     },
     "execution_count": 36,
     "metadata": {},
     "output_type": "execute_result"
    }
   ],
   "source": [
    "from quimb import fidelity\n",
    "\n",
    "fidelity(target_eta, qbm_state.get_density_matrix())"
   ]
  },
  {
   "cell_type": "markdown",
   "metadata": {},
   "source": [
    "# Compare to a classical BM "
   ]
  },
  {
   "cell_type": "markdown",
   "metadata": {},
   "source": [
    "The model Hamiltonian for a classical BM is defined as a list of operators $H = \\sum_{i=0}^m \\theta_i H_i $ where all $H_i$ are diagonal. We choose a fully-connected _ZZ_ Hamiltonian."
   ]
  },
  {
   "cell_type": "code",
   "execution_count": 37,
   "metadata": {},
   "outputs": [],
   "source": [
    "model_label = 9  # 9: classical BM"
   ]
  },
  {
   "cell_type": "code",
   "execution_count": 38,
   "metadata": {},
   "outputs": [],
   "source": [
    "model_ham_ops, op_names = hamiltonians.hamiltonian_operators(n_qubits, model_label, return_names=True)"
   ]
  },
  {
   "cell_type": "code",
   "execution_count": 39,
   "metadata": {},
   "outputs": [
    {
     "data": {
      "text/plain": [
       "['Z_0_1',\n",
       " 'Z_0_2',\n",
       " 'Z_0_3',\n",
       " 'Z_1_2',\n",
       " 'Z_1_3',\n",
       " 'Z_2_3',\n",
       " 'Z_0',\n",
       " 'Z_1',\n",
       " 'Z_2',\n",
       " 'Z_3']"
      ]
     },
     "execution_count": 39,
     "metadata": {},
     "output_type": "execute_result"
    }
   ],
   "source": [
    "op_names"
   ]
  },
  {
   "cell_type": "code",
   "execution_count": 40,
   "metadata": {},
   "outputs": [],
   "source": [
    "# generate expectation values: quantum data\n",
    "target_expects, target_state = data.generate_data(\n",
    "    n_qubits,\n",
    "    target_label,\n",
    "    target_params,\n",
    "    target_beta,\n",
    "    model_ham_ops,\n",
    "    depolarizing_noise,\n",
    ")"
   ]
  },
  {
   "cell_type": "code",
   "execution_count": 41,
   "metadata": {},
   "outputs": [
    {
     "data": {
      "text/plain": [
       "[-0.510217799084687,\n",
       " 0.3646178604937771,\n",
       " -0.2525843882709479,\n",
       " -0.5500156487325993,\n",
       " 0.36461786049377715,\n",
       " -0.5102177990846871,\n",
       " 1.6132928326584306e-16,\n",
       " 1.8908485888147197e-16,\n",
       " -8.847089727481716e-17,\n",
       " 4.597017211338539e-16]"
      ]
     },
     "execution_count": 41,
     "metadata": {},
     "output_type": "execute_result"
    }
   ],
   "source": [
    "target_expects  # expectation values w.r.t. target density matrix"
   ]
  },
  {
   "cell_type": "markdown",
   "metadata": {},
   "source": [
    "Train the classical BM in the same way as we trained the QBM"
   ]
  },
  {
   "cell_type": "code",
   "execution_count": 43,
   "metadata": {},
   "outputs": [
    {
     "name": "stdout",
     "output_type": "stream",
     "text": [
      "Initial parameters: [0. 0. 0. 0. 0. 0. 0. 0. 0. 0.]\n",
      "Target parameters: [4. 4.]\n",
      "Target beta: 1.0\n"
     ]
    }
   ],
   "source": [
    "initial_params = np.zeros(shape=(len(model_ham_ops)))\n",
    "qbm_state = QBM(model_ham_ops, initial_params)\n",
    "print(f\"Initial parameters: {qbm_state.get_coeffs()}\")\n",
    "print(f\"Target parameters: {target_params}\")\n",
    "print(f\"Target beta: {target_beta}\")"
   ]
  },
  {
   "cell_type": "code",
   "execution_count": 44,
   "metadata": {},
   "outputs": [
    {
     "name": "stdout",
     "output_type": "stream",
     "text": [
      "Trained parameters: [-4.82002093e-01  1.28317343e-01 -5.32265908e-02 -4.93078000e-01\n",
      "  1.28317343e-01 -4.82002093e-01  3.89618893e-16  3.06352166e-16\n",
      "  2.17534324e-16  5.57540125e-16]\n",
      "Max. gradients: 9.741542476016107e-07\n",
      "Initial relative entropy: 2.546670907771427\n",
      "Trained relative entropy: 2.0998943238691767\n"
     ]
    }
   ],
   "source": [
    "import quimb as qu\n",
    "\n",
    "################\n",
    "# QBM Taininig #\n",
    "################\n",
    "\n",
    "target_eta = target_state\n",
    "target_evals = qu.eigvalsh(target_eta).clip(\n",
    "    1e-300\n",
    ")  # clip near zero for numerical reasons\n",
    "\n",
    "qbm_state, max_grads_hist, qre_hist = train_qbm(\n",
    "    qbm=qbm_state,\n",
    "    target_expects=target_expects,\n",
    "    learning_rate=learning_rate,\n",
    "    epochs=epochs,\n",
    "    eps=eps,\n",
    "    compute_qre=compute_qre,\n",
    "    target_eta=target_eta,\n",
    "    target_eta_ev=target_evals,\n",
    ")\n",
    "\n",
    "print(f\"Trained parameters: {qbm_state.get_coeffs()}\")\n",
    "print(f\"Max. gradients: {max_grads_hist[-1]}\")\n",
    "\n",
    "print(f\"Initial relative entropy: {qre_hist[0]}\")\n",
    "print(f\"Trained relative entropy: {qre_hist[-1]}\")"
   ]
  },
  {
   "cell_type": "code",
   "execution_count": 45,
   "metadata": {},
   "outputs": [
    {
     "data": {
      "image/png": "[encoded data removed]",
      "text/plain": [
       "<Figure size 640x480 with 1 Axes>"
      ]
     },
     "metadata": {},
     "output_type": "display_data"
    }
   ],
   "source": [
    "plt.plot(qre_hist[1:], \"-\")\n",
    "plt.xlabel(\"Epoch\")\n",
    "plt.ylabel(\"Relative entropy\")\n",
    "plt.yscale(\"log\")\n",
    "plt.show()"
   ]
  },
  {
   "cell_type": "markdown",
   "metadata": {},
   "source": [
    "We already see a much larger relative entropy."
   ]
  },
  {
   "cell_type": "code",
   "execution_count": 46,
   "metadata": {},
   "outputs": [
    {
     "data": {
      "text/plain": [
       "0.4705952759818743"
      ]
     },
     "execution_count": 46,
     "metadata": {},
     "output_type": "execute_result"
    }
   ],
   "source": [
    "fidelity(target_eta, qbm_state.get_density_matrix())"
   ]
  },
  {
   "cell_type": "markdown",
   "metadata": {},
   "source": [
    "And a bad fidelity, because we are missing all the off-diagonal terms in the Hamiltonian of the model."
   ]
  }
 ],
 "metadata": {
  "kernelspec": {
   "display_name": ".venv",
   "language": "python",
   "name": "python3"
  },
  "language_info": {
   "codemirror_mode": {
    "name": "ipython",
    "version": 3
   },
   "file_extension": ".py",
   "mimetype": "text/x-python",
   "name": "python",
   "nbconvert_exporter": "python",
   "pygments_lexer": "ipython3",
   "version": "3.11.6"
  }
 },
 "nbformat": 4,
 "nbformat_minor": 2
}
