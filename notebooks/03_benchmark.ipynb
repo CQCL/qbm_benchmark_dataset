{
 "cells": [
  {
   "cell_type": "markdown",
   "metadata": {},
   "source": [
    "# Benchmark different QBMs"
   ]
  },
  {
   "cell_type": "markdown",
   "metadata": {},
   "source": [
    "This notebook goes through the steps that we implemented in the `scripts/benchmark.py` file."
   ]
  },
  {
   "cell_type": "markdown",
   "metadata": {},
   "source": [
    "## Define the parameters of the model: QBM\n",
    "\n",
    "Here we select the number of qubits of the Gibbs state, the model Hamiltonian to use in the definition of the QBM, the depolarizing noise strength to compute expectation values and the training hyperparameters."
   ]
  },
  {
   "cell_type": "code",
   "execution_count": 1,
   "metadata": {},
   "outputs": [],
   "source": [
    "\"\"\"\n",
    "Benchmark a QBM on the Hamiltonian dataset\n",
    "\"\"\"\n",
    "import numpy as np\n",
    "\n",
    "##########\n",
    "# CONFIG #\n",
    "##########\n",
    "\n",
    "rng = np.random.default_rng(seed=1)\n",
    "\n",
    "n_qubits = 4\n",
    "model_label = 0 # 0: 1D TFIM 1: 1D Heisenberg\n",
    "depolarizing_noise = 0.0 # if noisy expectation values\n",
    "learning_rate = 0.2\n",
    "epochs = 1000\n",
    "eps = 1e-6\n",
    "compute_qre = True\n",
    "\n"
   ]
  },
  {
   "cell_type": "markdown",
   "metadata": {},
   "source": [
    "The model Hamiltonian is defined as a list of operators $H = \\sum_{i=0}^m \\theta_i H_i $"
   ]
  },
  {
   "cell_type": "code",
   "execution_count": 2,
   "metadata": {},
   "outputs": [
    {
     "name": "stderr",
     "output_type": "stream",
     "text": [
      "OMP: Info #276: omp_set_nested routine deprecated, please use omp_set_max_active_levels instead.\n"
     ]
    }
   ],
   "source": [
    "from qbm_quimb import hamiltonians\n",
    "# A list of operators in the model Hamiltonian\n",
    "model_ham_ops = hamiltonians.hamiltonian_operators(n_qubits, model_label)"
   ]
  },
  {
   "cell_type": "code",
   "execution_count": 3,
   "metadata": {},
   "outputs": [
    {
     "data": {
      "text/plain": [
       "(16, 16)"
      ]
     },
     "execution_count": 3,
     "metadata": {},
     "output_type": "execute_result"
    }
   ],
   "source": [
    "model_ham_ops[0].shape  # 2^n_qubits x 2^n_qubits"
   ]
  },
  {
   "cell_type": "markdown",
   "metadata": {},
   "source": [
    "## Define the data\n",
    "\n",
    "Here we work with _quantum_ data in the form of the Gibbs state of a target Hamiltonian at a fixed inverse temperature $\\beta$.\n"
   ]
  },
  {
   "cell_type": "code",
   "execution_count": 4,
   "metadata": {},
   "outputs": [],
   "source": [
    "from qbm_quimb import data\n",
    "\n",
    "########\n",
    "# DATA #\n",
    "########\n",
    "\n",
    "# As an example, the Gibbs state of TF-Ising model (label=0)\n",
    "# is taken to generate data (expectation values)\n",
    "target_label = 0\n",
    "target_params = np.array([4.0, 4.0])\n",
    "target_beta = 1.0\n",
    "\n",
    "# generate expectation values: quantum data\n",
    "target_expects, target_state = data.generate_data(\n",
    "    n_qubits,\n",
    "    target_label,\n",
    "    target_params,\n",
    "    target_beta,\n",
    "    model_ham_ops,\n",
    "    depolarizing_noise,\n",
    ")\n"
   ]
  },
  {
   "cell_type": "markdown",
   "metadata": {},
   "source": [
    "The expectation values of the model Hamiltonian operators are computed with respect to the target Gibbs state."
   ]
  },
  {
   "cell_type": "code",
   "execution_count": 5,
   "metadata": {},
   "outputs": [
    {
     "data": {
      "text/plain": [
       "[-1.5704512469019736, -3.146996251579949]"
      ]
     },
     "execution_count": 5,
     "metadata": {},
     "output_type": "execute_result"
    }
   ],
   "source": [
    "target_expects  # expectation values w.r.t. target density matrix"
   ]
  },
  {
   "cell_type": "markdown",
   "metadata": {},
   "source": [
    "## Start the training by minimizing the relative entropy\n",
    "\n",
    "We initialize the parameters of the model QBM and then train with stochastic gradient descent (SGD)"
   ]
  },
  {
   "cell_type": "code",
   "execution_count": 6,
   "metadata": {},
   "outputs": [
    {
     "name": "stdout",
     "output_type": "stream",
     "text": [
      "Initial parameters: [0.34558419 0.82161814]\n",
      "Target parameters: [4. 4.]\n",
      "Target beta: 1.0\n"
     ]
    }
   ],
   "source": [
    "from qbm_quimb.training import QBM, train_qbm\n",
    "\n",
    "\n",
    "#############\n",
    "# QBM Model #\n",
    "#############\n",
    "\n",
    "initial_params = rng.normal(size=len(model_ham_ops))\n",
    "qbm_state = QBM(model_ham_ops, initial_params)\n",
    "print(f\"Initial parameters: {qbm_state.get_coeffs()}\")\n",
    "print(f\"Target parameters: {target_params}\")\n",
    "print(f\"Target beta: {target_beta}\")\n",
    "\n",
    "\n"
   ]
  },
  {
   "cell_type": "code",
   "execution_count": 7,
   "metadata": {},
   "outputs": [
    {
     "name": "stdout",
     "output_type": "stream",
     "text": [
      "Trained parameters: [-3.86103966 -3.87574421]\n",
      "Max. gradients: 0.0016439366283633738\n",
      "Initial relative entropy: 7.096519673662146\n",
      "Trained relative entropy: 0.00020229007839844826\n"
     ]
    }
   ],
   "source": [
    "################\n",
    "# QBM Taininig #\n",
    "################\n",
    "\n",
    "target_eta = None\n",
    "if compute_qre:\n",
    "    target_eta = target_state\n",
    "\n",
    "qbm_state, max_grads_hist, qre_hist = train_qbm(\n",
    "    qbm=qbm_state,\n",
    "    target_expects=target_expects,\n",
    "    learning_rate=learning_rate,\n",
    "    epochs=epochs,\n",
    "    eps=eps,\n",
    "    compute_qre=compute_qre,\n",
    "    target_eta=target_eta,\n",
    ")\n",
    "\n",
    "print(f\"Trained parameters: {qbm_state.get_coeffs()}\")\n",
    "print(f\"Max. gradients: {max_grads_hist[-1]}\")\n",
    "if compute_qre:\n",
    "    print(f\"Initial relative entropy: {qre_hist[0]}\")\n",
    "    print(f\"Trained relative entropy: {qre_hist[-1]}\")\n"
   ]
  },
  {
   "cell_type": "markdown",
   "metadata": {},
   "source": [
    "## Plot training history"
   ]
  },
  {
   "cell_type": "code",
   "execution_count": 8,
   "metadata": {},
   "outputs": [
    {
     "data": {
      "image/png": "[encoded data removed]",
      "text/plain": [
       "<Figure size 640x480 with 1 Axes>"
      ]
     },
     "metadata": {},
     "output_type": "display_data"
    }
   ],
   "source": [
    "import matplotlib.pyplot as plt\n",
    "\n",
    "if compute_qre:\n",
    "    plt.plot(qre_hist[1:], \"-\")\n",
    "    plt.xlabel(\"Epoch\")\n",
    "    plt.ylabel(\"Relative entropy\")\n",
    "    plt.yscale('log')\n",
    "    plt.show()\n"
   ]
  },
  {
   "cell_type": "code",
   "execution_count": 9,
   "metadata": {},
   "outputs": [
    {
     "data": {
      "image/png": "[encoded data removed]",
      "text/plain": [
       "<Figure size 640x480 with 1 Axes>"
      ]
     },
     "metadata": {},
     "output_type": "display_data"
    }
   ],
   "source": [
    "plt.plot(max_grads_hist[1:], \"-\")\n",
    "plt.xlabel(\"Epoch\")\n",
    "plt.ylabel(\"Max absolute value of gradients\")\n",
    "plt.yscale('log')\n",
    "plt.show()"
   ]
  },
  {
   "cell_type": "markdown",
   "metadata": {},
   "source": [
    "## Check fidelity with the Gibbs state"
   ]
  },
  {
   "cell_type": "code",
   "execution_count": 10,
   "metadata": {},
   "outputs": [
    {
     "data": {
      "text/plain": [
       "[[ 0.01114 +0.j -0.017062+0.j -0.026152+0.j  0.015006+0.j -0.026152+0.j  0.049133+0.j  0.023003+0.j -0.017067+0.j\n",
       "  -0.017062+0.j  0.022979+0.j  0.049133+0.j -0.026136+0.j  0.015006+0.j -0.026136+0.j -0.017067+0.j  0.011136+0.j]\n",
       " [-0.017062+0.j  0.026908+0.j  0.038615+0.j -0.022727+0.j  0.041471+0.j -0.079391+0.j -0.035206+0.j  0.0269  +0.j\n",
       "   0.025388+0.j -0.035242+0.j -0.071164+0.j  0.038638+0.j -0.023254+0.j  0.041495+0.j  0.025379+0.j -0.017067+0.j]\n",
       " [-0.026152+0.j  0.038615+0.j  0.064087+0.j -0.035721+0.j  0.058716+0.j -0.1076  +0.j -0.054019+0.j  0.038638+0.j\n",
       "   0.041471+0.j -0.053915+0.j -0.123062+0.j  0.064019+0.j -0.034727+0.j  0.058648+0.j  0.041495+0.j -0.026136+0.j]\n",
       " [ 0.015006+0.j -0.022727+0.j -0.035721+0.j  0.02031 +0.j -0.034727+0.j  0.064769+0.j  0.030976+0.j -0.022727+0.j\n",
       "  -0.023254+0.j  0.030976+0.j  0.067625+0.j -0.035721+0.j  0.020125+0.j -0.034727+0.j -0.023254+0.j  0.015006+0.j]\n",
       " [-0.026152+0.j  0.041471+0.j  0.058716+0.j -0.034727+0.j  0.064087+0.j -0.123062+0.j -0.054019+0.j  0.041495+0.j\n",
       "   0.038615+0.j -0.053915+0.j -0.1076  +0.j  0.058648+0.j -0.035721+0.j  0.064019+0.j  0.038638+0.j -0.026136+0.j]\n",
       " [ 0.049133+0.j -0.079391+0.j -0.1076  +0.j  0.064769+0.j -0.123062+0.j  0.239019+0.j  0.101418+0.j -0.079391+0.j\n",
       "  -0.071164+0.j  0.101418+0.j  0.194498+0.j -0.1076  +0.j  0.067625+0.j -0.123062+0.j -0.071164+0.j  0.049133+0.j]\n",
       " [ 0.023003+0.j -0.035206+0.j -0.054019+0.j  0.030976+0.j -0.054019+0.j  0.101418+0.j  0.04754 +0.j -0.035242+0.j\n",
       "  -0.035206+0.j  0.04738 +0.j  0.101418+0.j -0.053915+0.j  0.030976+0.j -0.053915+0.j -0.035242+0.j  0.022979+0.j]\n",
       " [-0.017067+0.j  0.0269  +0.j  0.038638+0.j -0.022727+0.j  0.041495+0.j -0.079391+0.j -0.035242+0.j  0.026908+0.j\n",
       "   0.025379+0.j -0.035206+0.j -0.071164+0.j  0.038615+0.j -0.023254+0.j  0.041471+0.j  0.025388+0.j -0.017062+0.j]\n",
       " [-0.017062+0.j  0.025388+0.j  0.041471+0.j -0.023254+0.j  0.038615+0.j -0.071164+0.j -0.035206+0.j  0.025379+0.j\n",
       "   0.026908+0.j -0.035242+0.j -0.079391+0.j  0.041495+0.j -0.022727+0.j  0.038638+0.j  0.0269  +0.j -0.017067+0.j]\n",
       " [ 0.022979+0.j -0.035242+0.j -0.053915+0.j  0.030976+0.j -0.053915+0.j  0.101418+0.j  0.04738 +0.j -0.035206+0.j\n",
       "  -0.035242+0.j  0.04754 +0.j  0.101418+0.j -0.054019+0.j  0.030976+0.j -0.054019+0.j -0.035206+0.j  0.023003+0.j]\n",
       " [ 0.049133+0.j -0.071164+0.j -0.123062+0.j  0.067625+0.j -0.1076  +0.j  0.194498+0.j  0.101418+0.j -0.071164+0.j\n",
       "  -0.079391+0.j  0.101418+0.j  0.239019+0.j -0.123062+0.j  0.064769+0.j -0.1076  +0.j -0.079391+0.j  0.049133+0.j]\n",
       " [-0.026136+0.j  0.038638+0.j  0.064019+0.j -0.035721+0.j  0.058648+0.j -0.1076  +0.j -0.053915+0.j  0.038615+0.j\n",
       "   0.041495+0.j -0.054019+0.j -0.123062+0.j  0.064087+0.j -0.034727+0.j  0.058716+0.j  0.041471+0.j -0.026152+0.j]\n",
       " [ 0.015006+0.j -0.023254+0.j -0.034727+0.j  0.020125+0.j -0.035721+0.j  0.067625+0.j  0.030976+0.j -0.023254+0.j\n",
       "  -0.022727+0.j  0.030976+0.j  0.064769+0.j -0.034727+0.j  0.02031 +0.j -0.035721+0.j -0.022727+0.j  0.015006+0.j]\n",
       " [-0.026136+0.j  0.041495+0.j  0.058648+0.j -0.034727+0.j  0.064019+0.j -0.123062+0.j -0.053915+0.j  0.041471+0.j\n",
       "   0.038638+0.j -0.054019+0.j -0.1076  +0.j  0.058716+0.j -0.035721+0.j  0.064087+0.j  0.038615+0.j -0.026152+0.j]\n",
       " [-0.017067+0.j  0.025379+0.j  0.041495+0.j -0.023254+0.j  0.038638+0.j -0.071164+0.j -0.035242+0.j  0.025388+0.j\n",
       "   0.0269  +0.j -0.035206+0.j -0.079391+0.j  0.041471+0.j -0.022727+0.j  0.038615+0.j  0.026908+0.j -0.017062+0.j]\n",
       " [ 0.011136+0.j -0.017067+0.j -0.026136+0.j  0.015006+0.j -0.026136+0.j  0.049133+0.j  0.022979+0.j -0.017062+0.j\n",
       "  -0.017067+0.j  0.023003+0.j  0.049133+0.j -0.026152+0.j  0.015006+0.j -0.026152+0.j -0.017062+0.j  0.01114 +0.j]]"
      ]
     },
     "execution_count": 10,
     "metadata": {},
     "output_type": "execute_result"
    }
   ],
   "source": [
    "target_eta"
   ]
  },
  {
   "cell_type": "code",
   "execution_count": 11,
   "metadata": {},
   "outputs": [
    {
     "data": {
      "text/plain": [
       "[[ 0.011169+0.j -0.017079+0.j -0.026151+0.j  0.015036+0.j -0.026151+0.j  0.048993+0.j  0.023027+0.j -0.017085+0.j\n",
       "  -0.017079+0.j  0.022996+0.j  0.048993+0.j -0.026132+0.j  0.015036+0.j -0.026132+0.j -0.017085+0.j  0.011164+0.j]\n",
       " [-0.017079+0.j  0.026954+0.j  0.03844 +0.j -0.022718+0.j  0.041509+0.j -0.07936 +0.j -0.035178+0.j  0.026943+0.j\n",
       "   0.025319+0.j -0.035224+0.j -0.070537+0.j  0.03847 +0.j -0.023286+0.j  0.04154 +0.j  0.025308+0.j -0.017085+0.j]\n",
       " [-0.026151+0.j  0.03844 +0.j  0.064128+0.j -0.035736+0.j  0.058357+0.j -0.106409+0.j -0.053938+0.j  0.03847 +0.j\n",
       "   0.041509+0.j -0.053804+0.j -0.122985+0.j  0.06404 +0.j -0.034666+0.j  0.05827 +0.j  0.04154 +0.j -0.026132+0.j]\n",
       " [ 0.015036+0.j -0.022718+0.j -0.035736+0.j  0.020347+0.j -0.034666+0.j  0.064437+0.j  0.030986+0.j -0.022718+0.j\n",
       "  -0.023286+0.j  0.030986+0.j  0.067506+0.j -0.035736+0.j  0.020147+0.j -0.034666+0.j -0.023286+0.j  0.015036+0.j]\n",
       " [-0.026151+0.j  0.041509+0.j  0.058357+0.j -0.034666+0.j  0.064128+0.j -0.122985+0.j -0.053938+0.j  0.04154 +0.j\n",
       "   0.03844 +0.j -0.053804+0.j -0.106409+0.j  0.05827 +0.j -0.035736+0.j  0.06404 +0.j  0.03847 +0.j -0.026132+0.j]\n",
       " [ 0.048993+0.j -0.07936 +0.j -0.106409+0.j  0.064437+0.j -0.122985+0.j  0.238796+0.j  0.100957+0.j -0.07936 +0.j\n",
       "  -0.070537+0.j  0.100957+0.j  0.191161+0.j -0.106409+0.j  0.067506+0.j -0.122985+0.j -0.070537+0.j  0.048993+0.j]\n",
       " [ 0.023027+0.j -0.035178+0.j -0.053938+0.j  0.030986+0.j -0.053938+0.j  0.100957+0.j  0.047525+0.j -0.035224+0.j\n",
       "  -0.035178+0.j  0.047319+0.j  0.100957+0.j -0.053804+0.j  0.030986+0.j -0.053804+0.j -0.035224+0.j  0.022996+0.j]\n",
       " [-0.017085+0.j  0.026943+0.j  0.03847 +0.j -0.022718+0.j  0.04154 +0.j -0.07936 +0.j -0.035224+0.j  0.026954+0.j\n",
       "   0.025308+0.j -0.035178+0.j -0.070537+0.j  0.03844 +0.j -0.023286+0.j  0.041509+0.j  0.025319+0.j -0.017079+0.j]\n",
       " [-0.017079+0.j  0.025319+0.j  0.041509+0.j -0.023286+0.j  0.03844 +0.j -0.070537+0.j -0.035178+0.j  0.025308+0.j\n",
       "   0.026954+0.j -0.035224+0.j -0.07936 +0.j  0.04154 +0.j -0.022718+0.j  0.03847 +0.j  0.026943+0.j -0.017085+0.j]\n",
       " [ 0.022996+0.j -0.035224+0.j -0.053804+0.j  0.030986+0.j -0.053804+0.j  0.100957+0.j  0.047319+0.j -0.035178+0.j\n",
       "  -0.035224+0.j  0.047525+0.j  0.100957+0.j -0.053938+0.j  0.030986+0.j -0.053938+0.j -0.035178+0.j  0.023027+0.j]\n",
       " [ 0.048993+0.j -0.070537+0.j -0.122985+0.j  0.067506+0.j -0.106409+0.j  0.191161+0.j  0.100957+0.j -0.070537+0.j\n",
       "  -0.07936 +0.j  0.100957+0.j  0.238796+0.j -0.122985+0.j  0.064437+0.j -0.106409+0.j -0.07936 +0.j  0.048993+0.j]\n",
       " [-0.026132+0.j  0.03847 +0.j  0.06404 +0.j -0.035736+0.j  0.05827 +0.j -0.106409+0.j -0.053804+0.j  0.03844 +0.j\n",
       "   0.04154 +0.j -0.053938+0.j -0.122985+0.j  0.064128+0.j -0.034666+0.j  0.058357+0.j  0.041509+0.j -0.026151+0.j]\n",
       " [ 0.015036+0.j -0.023286+0.j -0.034666+0.j  0.020147+0.j -0.035736+0.j  0.067506+0.j  0.030986+0.j -0.023286+0.j\n",
       "  -0.022718+0.j  0.030986+0.j  0.064437+0.j -0.034666+0.j  0.020347+0.j -0.035736+0.j -0.022718+0.j  0.015036+0.j]\n",
       " [-0.026132+0.j  0.04154 +0.j  0.05827 +0.j -0.034666+0.j  0.06404 +0.j -0.122985+0.j -0.053804+0.j  0.041509+0.j\n",
       "   0.03847 +0.j -0.053938+0.j -0.106409+0.j  0.058357+0.j -0.035736+0.j  0.064128+0.j  0.03844 +0.j -0.026151+0.j]\n",
       " [-0.017085+0.j  0.025308+0.j  0.04154 +0.j -0.023286+0.j  0.03847 +0.j -0.070537+0.j -0.035224+0.j  0.025319+0.j\n",
       "   0.026943+0.j -0.035178+0.j -0.07936 +0.j  0.041509+0.j -0.022718+0.j  0.03844 +0.j  0.026954+0.j -0.017079+0.j]\n",
       " [ 0.011164+0.j -0.017085+0.j -0.026132+0.j  0.015036+0.j -0.026132+0.j  0.048993+0.j  0.022996+0.j -0.017079+0.j\n",
       "  -0.017085+0.j  0.023027+0.j  0.048993+0.j -0.026151+0.j  0.015036+0.j -0.026151+0.j -0.017079+0.j  0.011169+0.j]]"
      ]
     },
     "execution_count": 11,
     "metadata": {},
     "output_type": "execute_result"
    }
   ],
   "source": [
    "qbm_state.get_density_matrix()"
   ]
  },
  {
   "cell_type": "code",
   "execution_count": 12,
   "metadata": {},
   "outputs": [
    {
     "data": {
      "text/plain": [
       "0.9999571176997393"
      ]
     },
     "execution_count": 12,
     "metadata": {},
     "output_type": "execute_result"
    }
   ],
   "source": [
    "from quimb import fidelity\n",
    "\n",
    "fidelity(target_eta, qbm_state.get_density_matrix())"
   ]
  },
  {
   "cell_type": "markdown",
   "metadata": {},
   "source": [
    "# Compare to a classical BM "
   ]
  },
  {
   "cell_type": "markdown",
   "metadata": {},
   "source": [
    "The model Hamiltonian for a classical BM is defined as a list of operators $H = \\sum_{i=0}^m \\theta_i H_i $ where all $H_i$ are diagonal. We choose a fully-connected _ZZ_ Hamiltonian."
   ]
  },
  {
   "cell_type": "code",
   "execution_count": 13,
   "metadata": {},
   "outputs": [],
   "source": [
    "model_label = 9  # 9: classical BM"
   ]
  },
  {
   "cell_type": "code",
   "execution_count": 17,
   "metadata": {},
   "outputs": [],
   "source": [
    "model_ham_ops, op_names = hamiltonians.hamiltonian_operators(n_qubits, model_label, return_names=True)"
   ]
  },
  {
   "cell_type": "code",
   "execution_count": 19,
   "metadata": {},
   "outputs": [
    {
     "data": {
      "text/plain": [
       "['Z_0_1',\n",
       " 'Z_0_2',\n",
       " 'Z_0_3',\n",
       " 'Z_1_2',\n",
       " 'Z_1_3',\n",
       " 'Z_2_3',\n",
       " 'Z_0',\n",
       " 'Z_1',\n",
       " 'Z_2',\n",
       " 'Z_3']"
      ]
     },
     "execution_count": 19,
     "metadata": {},
     "output_type": "execute_result"
    }
   ],
   "source": [
    "op_names"
   ]
  },
  {
   "cell_type": "code",
   "execution_count": 20,
   "metadata": {},
   "outputs": [],
   "source": [
    "# generate expectation values: quantum data\n",
    "target_expects, target_state = data.generate_data(\n",
    "    n_qubits,\n",
    "    target_label,\n",
    "    target_params,\n",
    "    target_beta,\n",
    "    model_ham_ops,\n",
    "    depolarizing_noise,\n",
    ")"
   ]
  },
  {
   "cell_type": "code",
   "execution_count": 21,
   "metadata": {},
   "outputs": [
    {
     "data": {
      "text/plain": [
       "[-0.510217799084687,\n",
       " 0.3646178604937771,\n",
       " -0.2525843882709479,\n",
       " -0.5500156487325993,\n",
       " 0.36461786049377715,\n",
       " -0.5102177990846871,\n",
       " 1.6132928326584306e-16,\n",
       " 1.8908485888147197e-16,\n",
       " -8.847089727481716e-17,\n",
       " 4.597017211338539e-16]"
      ]
     },
     "execution_count": 21,
     "metadata": {},
     "output_type": "execute_result"
    }
   ],
   "source": [
    "target_expects  # expectation values w.r.t. target density matrix"
   ]
  },
  {
   "cell_type": "markdown",
   "metadata": {},
   "source": [
    "Train the classical BM in the same way as we trained the QBM"
   ]
  },
  {
   "cell_type": "code",
   "execution_count": 22,
   "metadata": {},
   "outputs": [
    {
     "name": "stdout",
     "output_type": "stream",
     "text": [
      "Initial parameters: [ 0.33043708 -1.30315723  0.90535587  0.44637457 -0.53695324  0.5811181\n",
      "  0.3645724   0.2941325   0.02842224  0.54671299]\n",
      "Target parameters: [4. 4.]\n",
      "Target beta: 1.0\n"
     ]
    }
   ],
   "source": [
    "initial_params = rng.normal(size=len(model_ham_ops))\n",
    "qbm_state = QBM(model_ham_ops, initial_params)\n",
    "print(f\"Initial parameters: {qbm_state.get_coeffs()}\")\n",
    "print(f\"Target parameters: {target_params}\")\n",
    "print(f\"Target beta: {target_beta}\")"
   ]
  },
  {
   "cell_type": "code",
   "execution_count": 23,
   "metadata": {},
   "outputs": [
    {
     "name": "stdout",
     "output_type": "stream",
     "text": [
      "Trained parameters: [-4.82002095e-01  1.28317356e-01 -5.32265729e-02 -4.93077977e-01\n",
      "  1.28317375e-01 -4.82002076e-01  1.12793489e-08  2.76002792e-08\n",
      "  2.75542928e-08  1.12248854e-08]\n",
      "Max. gradients: 9.844054280616632e-07\n",
      "Initial relative entropy: 5.440910191791278\n",
      "Trained relative entropy: 2.2456466219684295\n"
     ]
    }
   ],
   "source": [
    "target_eta = None\n",
    "if compute_qre:\n",
    "    target_eta = target_state\n",
    "\n",
    "qbm_state, max_grads_hist, qre_hist = train_qbm(\n",
    "    qbm=qbm_state,\n",
    "    target_expects=target_expects,\n",
    "    learning_rate=learning_rate,\n",
    "    epochs=epochs,\n",
    "    eps=eps,\n",
    "    compute_qre=compute_qre,\n",
    "    target_eta=target_eta,\n",
    ")\n",
    "\n",
    "print(f\"Trained parameters: {qbm_state.get_coeffs()}\")\n",
    "print(f\"Max. gradients: {max_grads_hist[-1]}\")\n",
    "if compute_qre:\n",
    "    print(f\"Initial relative entropy: {qre_hist[0]}\")\n",
    "    print(f\"Trained relative entropy: {qre_hist[-1]}\")"
   ]
  },
  {
   "cell_type": "code",
   "execution_count": 25,
   "metadata": {},
   "outputs": [
    {
     "data": {
      "image/png": "[encoded data removed]",
      "text/plain": [
       "<Figure size 640x480 with 1 Axes>"
      ]
     },
     "metadata": {},
     "output_type": "display_data"
    }
   ],
   "source": [
    "if compute_qre:\n",
    "    plt.plot(qre_hist[1:], \"-\")\n",
    "    plt.xlabel(\"Epoch\")\n",
    "    plt.ylabel(\"Relative entropy\")\n",
    "    plt.yscale(\"log\")\n",
    "    plt.show()"
   ]
  },
  {
   "cell_type": "markdown",
   "metadata": {},
   "source": [
    "We already see a much larger relative entropy."
   ]
  },
  {
   "cell_type": "code",
   "execution_count": 24,
   "metadata": {},
   "outputs": [
    {
     "data": {
      "text/plain": [
       "0.4705952756663144"
      ]
     },
     "execution_count": 24,
     "metadata": {},
     "output_type": "execute_result"
    }
   ],
   "source": [
    "fidelity(target_eta, qbm_state.get_density_matrix())"
   ]
  },
  {
   "cell_type": "markdown",
   "metadata": {},
   "source": [
    "And a bad fidelity, because we are missing all the off-diagonal terms in the Hamiltonian of the model."
   ]
  }
 ],
 "metadata": {
  "kernelspec": {
   "display_name": ".venv",
   "language": "python",
   "name": "python3"
  },
  "language_info": {
   "codemirror_mode": {
    "name": "ipython",
    "version": 3
   },
   "file_extension": ".py",
   "mimetype": "text/x-python",
   "name": "python",
   "nbconvert_exporter": "python",
   "pygments_lexer": "ipython3",
   "version": "3.11.6"
  }
 },
 "nbformat": 4,
 "nbformat_minor": 2
}
